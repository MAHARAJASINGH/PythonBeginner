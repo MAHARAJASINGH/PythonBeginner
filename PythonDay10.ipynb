{
  "nbformat": 4,
  "nbformat_minor": 0,
  "metadata": {
    "colab": {
      "name": "PythonDay10.ipynb",
      "provenance": [],
      "collapsed_sections": [],
      "authorship_tag": "ABX9TyMKh4OUKSIlRL5DZsYAa/50",
      "include_colab_link": true
    },
    "kernelspec": {
      "name": "python3",
      "display_name": "Python 3"
    }
  },
  "cells": [
    {
      "cell_type": "markdown",
      "metadata": {
        "id": "view-in-github",
        "colab_type": "text"
      },
      "source": [
        "<a href=\"https://colab.research.google.com/github/MAHARAJASINGH/PythonBeginner/blob/master/PythonDay10.ipynb\" target=\"_parent\"><img src=\"https://colab.research.google.com/assets/colab-badge.svg\" alt=\"Open In Colab\"/></a>"
      ]
    },
    {
      "cell_type": "code",
      "metadata": {
        "id": "OctR5uswVbR3",
        "colab_type": "code",
        "colab": {}
      },
      "source": [
        "##input\n",
        "##assignment\n",
        "##pycharm he is using----how many ides this python can work\n",
        "import pandas as pd\n",
        "temp_c = [ 8.0,  7.1,  6.8,  6.4,  6.0,  5.4,  4.8,  5.0,\n",
        "          9.1, 12.8, 15.3, 19.1, 21.2, 22.1, 22.4, 23.1,\n",
        "          21.0, 17.9, 15.5, 14.4, 11.9, 11.0, 10.2,  9.1]\n",
        "dt = pd.date_range(start='2019-10-27 00:00:00.0', periods=24,\n",
        "                    freq='H')\n",
        "temp = pd.DataFrame(data={'temp_c': temp_c}, index=dt)\n",
        "print(temp)\n",
        "##giving condition here\n",
        "temp['2019-10-27 05':'2019-10-27 14']\n",
        "#resampling\n",
        "print(temp.resample(rule='6h').mean())\n",
        "print(temp[(temp['temp_c'] >= 6.0) & (temp['temp_c'] <= 10.0)])"
      ],
      "execution_count": null,
      "outputs": []
    },
    {
      "cell_type": "code",
      "metadata": {
        "id": "ztj6WVxdX8Kc",
        "colab_type": "code",
        "colab": {
          "base_uri": "https://localhost:8080/",
          "height": 131
        },
        "outputId": "ac871115-f38b-42da-c309-31ab68c4a41f"
      },
      "source": [
        "##input\n",
        "import pandas as pd\n",
        "# Assignment to get covid patient temp every 1hr\n",
        "patient_temperature = [\n",
        "    ['John', 'Peter', 'Christy', 'James', 'Emily', 'Michael', 'Matthew', 'Laurens', 'Kevin', 'Jones'],\n",
        "    [98.5, 98.8, 96.5, 94.5, 99.2, 99.8, 100.5, 99.5, 98.0, 99.1]]\n",
        "df = pd.DataFrame(patient_temperature)\n",
        "print(df)\n",
        "#date_range = pd.date_range(start='2019-07-01 00:00:00.0', periods=24, freq='H')\n",
        "# temper = pd.DataFrame(patient_temperature, index=date_range, columns=['A', 'B'])\n",
        "#temper = pd.DataFrame(data={'temp_c': patient_temperature}, index=date_range, columns=['name', 'temperature'])\n",
        "#print(temper)\n",
        "#temper['2019-07-01 05':'2019-07-01 14']\n",
        "# print(temper.resample(rule='6h').mean())"
      ],
      "execution_count": 46,
      "outputs": [
        {
          "output_type": "error",
          "ename": "IndentationError",
          "evalue": "ignored",
          "traceback": [
            "\u001b[0;36m  File \u001b[0;32m\"<ipython-input-46-fec8a55c4d36>\"\u001b[0;36m, line \u001b[0;32m7\u001b[0m\n\u001b[0;31m    df = pd.DataFrame(patient_temperature)\u001b[0m\n\u001b[0m    ^\u001b[0m\n\u001b[0;31mIndentationError\u001b[0m\u001b[0;31m:\u001b[0m unexpected indent\n"
          ]
        }
      ]
    },
    {
      "cell_type": "code",
      "metadata": {
        "id": "4GziXp5qZ0WX",
        "colab_type": "code",
        "colab": {}
      },
      "source": [
        "##input\n",
        "import pandas as pd\n",
        "temp_c = [ 8.0,  7.1,  6.8,  6.4,  6.0,  5.4,  4.8,  5.0,\n",
        "          9.1, 12.8, 15.3, 19.1, 21.2, 22.1, 22.4, 23.1,\n",
        "          21.0, 17.9, 15.5, 14.4, 11.9, 11.0, 10.2,  9.1]\n",
        "data = {'Name':['Tom', 'Jack', 'Steve', 'Ricky'],'temper':[98,104,99,102]}\n",
        "dt = pd.date_range(start='2019-10-27 00:00:00.0', periods=24,\n",
        "                    freq='H')\n",
        "#temp = pd.DataFrame(data={'temp_c': temp_c}, index=dt)\n",
        "temp = pd.DataFrame(data,columns=['Name','temper'])\n",
        "print(temp)\n",
        "#temp['2019-10-27 05':'2019-10-27 14']\n",
        "#resampling\n",
        "#print(temp.resample(rule='6h').mean())\n",
        "#print(\"suspected patients\")\n",
        "print(temp[(temp['temper'] >= 98) & (temp['temper'] <= 104.0)])\n",
        "print(\"normal patients\")\n",
        "print(temp[(temp['temper'] == 98)])\n"
      ],
      "execution_count": null,
      "outputs": []
    },
    {
      "cell_type": "markdown",
      "metadata": {
        "id": "MP3zrangbcp5",
        "colab_type": "text"
      },
      "source": [
        "##df = sns.load_dataset('tips') -> github not required\n",
        "tips is inbuilt\n",
        "can also be used instead of github"
      ]
    },
    {
      "cell_type": "code",
      "metadata": {
        "id": "PC9xPMoycAlc",
        "colab_type": "code",
        "colab": {
          "base_uri": "https://localhost:8080/",
          "height": 468
        },
        "outputId": "1413fd5b-68b2-4515-ce3d-ca6908394d8a"
      },
      "source": [
        "##input\n",
        "##use of group by in it and use of github as well\n",
        "##i thought .first() prints the first row in each group-by-set?\n",
        "##for example, Sunday has 5 rows but when first() is given it is printing only the first row of 16.99 total bill\n",
        "import pandas as pd\n",
        "df = pd.read_csv(\n",
        "   \"https://raw.githubusercontent.com/mwaskom/seaborn-data/master/tips.csv\"\n",
        "   )\n",
        "pd.options.display.max_rows = 10\n",
        "print(df)\n",
        "gfk=df.groupby('day')\n",
        "print(gfk.first())\n",
        "mfk=df.groupby('day').mean()\n",
        "print(mfk)\n",
        "##i thought .first() prints the first row in each group-by-set?"
      ],
      "execution_count": 47,
      "outputs": [
        {
          "output_type": "stream",
          "text": [
            "     total_bill   tip     sex smoker   day    time  size\n",
            "0         16.99  1.01  Female     No   Sun  Dinner     2\n",
            "1         10.34  1.66    Male     No   Sun  Dinner     3\n",
            "2         21.01  3.50    Male     No   Sun  Dinner     3\n",
            "3         23.68  3.31    Male     No   Sun  Dinner     2\n",
            "4         24.59  3.61  Female     No   Sun  Dinner     4\n",
            "..          ...   ...     ...    ...   ...     ...   ...\n",
            "239       29.03  5.92    Male     No   Sat  Dinner     3\n",
            "240       27.18  2.00  Female    Yes   Sat  Dinner     2\n",
            "241       22.67  2.00    Male    Yes   Sat  Dinner     2\n",
            "242       17.82  1.75    Male     No   Sat  Dinner     2\n",
            "243       18.78  3.00  Female     No  Thur  Dinner     2\n",
            "\n",
            "[244 rows x 7 columns]\n",
            "      total_bill   tip     sex smoker    time  size\n",
            "day                                                \n",
            "Fri        28.97  3.00    Male    Yes  Dinner     2\n",
            "Sat        20.65  3.35    Male     No  Dinner     3\n",
            "Sun        16.99  1.01  Female     No  Dinner     2\n",
            "Thur       27.20  4.00    Male     No   Lunch     4\n",
            "      total_bill       tip      size\n",
            "day                                 \n",
            "Fri    17.151579  2.734737  2.105263\n",
            "Sat    20.441379  2.993103  2.517241\n",
            "Sun    21.410000  3.255132  2.842105\n",
            "Thur   17.682742  2.771452  2.451613\n"
          ],
          "name": "stdout"
        }
      ]
    },
    {
      "cell_type": "code",
      "metadata": {
        "id": "UdoFdLVpevJf",
        "colab_type": "code",
        "colab": {}
      },
      "source": [
        "##input\n",
        "##grouping examples\n",
        "import pandas as pd\n",
        "import pandasql\n",
        "df = pd.read_csv(\n",
        "   \"https://raw.githubusercontent.com/mwaskom/seaborn-data/master/tips.csv\"\n",
        "   )\n",
        "pd.options.display.max_rows = 10\n",
        "print(df)\n",
        "gfk=df.groupby('day')\n",
        "print(gfk.first())\n",
        "mfk=df.groupby('day').mean()\n",
        "print(mfk)\n",
        "ps = pandasql.sqldf(\"SELECT day,sum(tip) FROM df group by day;\", globals())"
      ],
      "execution_count": null,
      "outputs": []
    },
    {
      "cell_type": "code",
      "metadata": {
        "id": "AOFXY_WjgxRr",
        "colab_type": "code",
        "colab": {}
      },
      "source": [
        "##input\n",
        "import pandas as pd\n",
        "import pandasql\n",
        "df = pd.read_csv(\n",
        "   \"https://raw.githubusercontent.com/mwaskom/seaborn-data/master/tips.csv\"\n",
        "   )\n",
        "print(df.groupby('day')['total_bill'].aggregate('mean'))\n",
        "print(df.groupby('day')['total_bill'].mean())"
      ],
      "execution_count": null,
      "outputs": []
    },
    {
      "cell_type": "markdown",
      "metadata": {
        "id": "WgAKC8TMcR3V",
        "colab_type": "text"
      },
      "source": [
        "If the data size is hugen as we see here 244 rows of data we will see first 5 and last 5 data... to see the X number of data... you can use head() to see the first X number of data and tail() to see the last x number of data.\n",
        "take the groupby object in a variable, then call max and min in the same print call."
      ]
    },
    {
      "cell_type": "code",
      "metadata": {
        "id": "eJ5LQiHnfdk0",
        "colab_type": "code",
        "colab": {}
      },
      "source": [
        "##input\n",
        "import pandas as pd\n",
        "import pandasql\n",
        "df = pd.read_csv(\n",
        "   \"https://raw.githubusercontent.com/mwaskom/seaborn-data/master/tips.csv\"\n",
        "   )\n",
        "pd.options.display.max_rows = 10\n",
        "#print(df)\n",
        "gfk=df.groupby('day')\n",
        "print(gfk.head(244))\n",
        "mfk=df.groupby('day').mean()\n",
        "print(mfk)\n",
        "ps = pandasql.sqldf(\"SELECT day,sum(tip) FROM df group by day;\", globals())"
      ],
      "execution_count": null,
      "outputs": []
    },
    {
      "cell_type": "code",
      "metadata": {
        "id": "o3plFx2Aidas",
        "colab_type": "code",
        "colab": {}
      },
      "source": [
        "##input\n",
        "import pandas as pd\n",
        "df = pd.read_csv(\n",
        "   \"https://raw.githubusercontent.com/mwaskom/seaborn-data/master/tips.csv\"\n",
        "   )\n",
        "pd.options.display.max_rows = 10\n",
        "print(df)\n",
        "gfk=df.groupby('day')\n",
        "print(gfk.first())\n",
        "mfk=df.groupby('day').mean()\n",
        "print(mfk)"
      ],
      "execution_count": null,
      "outputs": []
    },
    {
      "cell_type": "code",
      "metadata": {
        "id": "2GZOAql4inwT",
        "colab_type": "code",
        "colab": {}
      },
      "source": [
        "##input\n",
        "import pandas as pd\n",
        "import pandasql\n",
        "df = pd.read_csv(\n",
        "   \"https://raw.githubusercontent.com/mwaskom/seaborn-data/master/tips.csv\"\n",
        "   )\n",
        "pd.options.display.max_rows = 10\n",
        "print(df)\n",
        "gfk=df.groupby('day')\n",
        "print(gfk.first())\n",
        "mfk=df.groupby('day').mean()\n",
        "print(mfk)\n",
        "ps = pandasql.sqldf(\"SELECT day,sum(tip) FROM df group by day;\", globals())"
      ],
      "execution_count": null,
      "outputs": []
    },
    {
      "cell_type": "code",
      "metadata": {
        "id": "o_A69_oxi1-2",
        "colab_type": "code",
        "colab": {}
      },
      "source": [
        "##input\n",
        "import pandas as pd\n",
        "import pandasql\n",
        "df = pd.read_csv(\n",
        "   \"https://raw.githubusercontent.com/mwaskom/seaborn-data/master/tips.csv\"\n",
        "   )\n",
        "pd.options.display.max_rows = 10\n",
        "#print(df)\n",
        "gfk=df.groupby('day')\n",
        "print(gfk.head(244))\n",
        "mfk=df.groupby('day').mean()\n",
        "print(mfk)\n",
        "ps = pandasql.sqldf(\"SELECT day,sum(tip) FROM df group by day;\", globals())"
      ],
      "execution_count": null,
      "outputs": []
    },
    {
      "cell_type": "code",
      "metadata": {
        "id": "OonkuGivi-hU",
        "colab_type": "code",
        "colab": {
          "base_uri": "https://localhost:8080/",
          "height": 225
        },
        "outputId": "dc5fc194-8c0c-4032-bb84-ba9be952955b"
      },
      "source": [
        "##input\n",
        "import pandas as pd\n",
        "import pandasql\n",
        "df = pd.read_csv(\n",
        "   \"https://raw.githubusercontent.com/mwaskom/seaborn-data/master/tips.csv\"\n",
        "   )\n",
        "print(df.groupby('day')['total_bill'].aggregate('mean'))\n",
        "print(df.groupby('day')['total_bill'].mean())"
      ],
      "execution_count": 36,
      "outputs": [
        {
          "output_type": "stream",
          "text": [
            "day\n",
            "Fri     17.151579\n",
            "Sat     20.441379\n",
            "Sun     21.410000\n",
            "Thur    17.682742\n",
            "Name: total_bill, dtype: float64\n",
            "day\n",
            "Fri     17.151579\n",
            "Sat     20.441379\n",
            "Sun     21.410000\n",
            "Thur    17.682742\n",
            "Name: total_bill, dtype: float64\n"
          ],
          "name": "stdout"
        }
      ]
    },
    {
      "cell_type": "code",
      "metadata": {
        "id": "XJUOMQ5zjFOL",
        "colab_type": "code",
        "colab": {
          "base_uri": "https://localhost:8080/",
          "height": 156
        },
        "outputId": "2103f51e-7210-4714-c46a-745553b3e8e4"
      },
      "source": [
        "##input\n",
        "import pandas as pd\n",
        "import pandasql\n",
        "df = pd.read_csv(\n",
        "   \"https://raw.githubusercontent.com/mwaskom/seaborn-data/master/tips.csv\"\n",
        "   )\n",
        "mdf = df.groupby('day')['total_bill'].mean()\n",
        "print(mdf)\n",
        "print(df.groupby('day').filter(\n",
        "    lambda x : x['total_bill'].mean() > 20\n",
        ")['size'].mean())\n",
        "print(df.groupby('day').filter(\n",
        "    lambda x : x['total_bill'].mean() <= 20\n",
        ")['size'].mean())"
      ],
      "execution_count": 35,
      "outputs": [
        {
          "output_type": "stream",
          "text": [
            "day\n",
            "Fri     17.151579\n",
            "Sat     20.441379\n",
            "Sun     21.410000\n",
            "Thur    17.682742\n",
            "Name: total_bill, dtype: float64\n",
            "2.668711656441718\n",
            "2.3703703703703702\n"
          ],
          "name": "stdout"
        }
      ]
    },
    {
      "cell_type": "markdown",
      "metadata": {
        "id": "zLWtFN4cj0Qj",
        "colab_type": "text"
      },
      "source": [
        "##pip install pandasql for downloading sql ---code in the separate module\n",
        "##%pip install pandasql\n",
        "tf=df.groupby('day').transform(lambda x : x.mean())\n",
        "print(tf)\n",
        "from Shaunak Guha Thakurata (internal) to everyone:\n",
        "condition on an aggregate or iterable?\n",
        "from Joseph Cutler (internal) to everyone:\n",
        "pip install pandasql\n",
        "from Sandeep Kumar (internal) to everyone:\n",
        "import pandasql\n",
        "from Sharada Lakshmanan (internal) to everyone:\n",
        "pip install pandasql\n",
        "from Prasad Josyula (internal) to everyone:\n",
        "%pip install pandasql\n",
        "\n",
        "for index, row in df.head(n=2).iterrows():\n",
        "     print(index, row)"
      ]
    },
    {
      "cell_type": "code",
      "metadata": {
        "id": "UQL0GY3Cjp8A",
        "colab_type": "code",
        "colab": {}
      },
      "source": [
        "pip install pandasql"
      ],
      "execution_count": null,
      "outputs": []
    },
    {
      "cell_type": "code",
      "metadata": {
        "id": "Qw4OLwhalPtb",
        "colab_type": "code",
        "colab": {
          "base_uri": "https://localhost:8080/",
          "height": 433
        },
        "outputId": "0010cfcd-c0f5-4a8c-ae64-7daa47feb313"
      },
      "source": [
        "##input\n",
        "import pandas as pd\n",
        "import pandasql\n",
        "df = pd.read_csv(\n",
        "   \"https://raw.githubusercontent.com/mwaskom/seaborn-data/master/tips.csv\"\n",
        "   )\n",
        "mdf = df.groupby('day')['total_bill'].mean()\n",
        "#print(mdf)\n",
        "#print(df.groupby('day').filter(\n",
        "#    lambda x : x['total_bill'].mean() > 20\n",
        "#)['size'].mean())\n",
        "#print(df.groupby('day').filter(\n",
        "#    lambda x : x['total_bill'].mean() <= 20\n",
        "#)['size'].mean())\n",
        "#print(df)\n",
        "print(df.groupby('day')['total_bill'].head(5))\n",
        "tf=df.groupby('day')['tip'].transform(lambda x : x.mean())\n",
        "print(tf)"
      ],
      "execution_count": 42,
      "outputs": [
        {
          "output_type": "stream",
          "text": [
            "0     16.99\n",
            "1     10.34\n",
            "2     21.01\n",
            "3     23.68\n",
            "4     24.59\n",
            "      ...  \n",
            "90    28.97\n",
            "91    22.49\n",
            "92     5.75\n",
            "93    16.32\n",
            "94    22.75\n",
            "Name: total_bill, Length: 20, dtype: float64\n",
            "0      3.255132\n",
            "1      3.255132\n",
            "2      3.255132\n",
            "3      3.255132\n",
            "4      3.255132\n",
            "         ...   \n",
            "239    2.993103\n",
            "240    2.993103\n",
            "241    2.993103\n",
            "242    2.993103\n",
            "243    2.771452\n",
            "Name: tip, Length: 244, dtype: float64\n"
          ],
          "name": "stdout"
        }
      ]
    },
    {
      "cell_type": "markdown",
      "metadata": {
        "id": "44QxIBcvmA3L",
        "colab_type": "text"
      },
      "source": [
        "df['day_average'] = df.groupby('day')['total_bill'].transform(\n",
        "    lambda x : x.mean()\n",
        ")\n",
        "print(df['total_bill'] / df['day_average'])\n",
        "\n",
        "\n",
        "\n",
        "print(df['total_bill'] / df['day_average'])\n",
        "df['scaled bill'] = df.groupby('day')['total_bill'].transform(\n",
        "    lambda x : x/x.mean()\n",
        ")\n",
        "print(df)\n",
        "\n",
        "\n",
        "for day, group in df.groupby('day'):\n",
        "    df['day_mean'] = group['total_bill'].mean()\n",
        "    print('average bill for ' + day + ' is ' + str(df['day_mean']))"
      ]
    },
    {
      "cell_type": "code",
      "metadata": {
        "id": "1xhwZOIaqZ9E",
        "colab_type": "code",
        "colab": {
          "base_uri": "https://localhost:8080/",
          "height": 225
        },
        "outputId": "d5bc1996-d3a2-4e7e-ff5a-0be586985fb5"
      },
      "source": [
        "##input\n",
        "import pandas as pd \n",
        "  \n",
        "# Creating the DataFrame \n",
        "df = pd.DataFrame({\"A\":[12, 4, 5, None, 1],  \n",
        "                   \"B\":[7, 2, 54, 3, None],  \n",
        "                   \"C\":[20, 16, 11, 3, 8],  \n",
        "                   \"D\":[14, 3, None, 2, 6]})  \n",
        "  \n",
        "# Create the index \n",
        "index_ = ['Row_1', 'Row_2', 'Row_3', 'Row_4', 'Row_5'] \n",
        "  \n",
        "# Set the index \n",
        "df.index = index_ \n",
        "  \n",
        "# Print the DataFrame \n",
        "#print(df) \n",
        "#print(df.sort_values(by=['B','A'], ascending=True))\n",
        "filter_ = df['A'] >= 11\n",
        "print(df[filter_])\n",
        "#print(df[(df['A'] >= 11) | (df['B'] >= 10)])\n",
        "dfk=df['A'].where(cond=df['A'] >= 11)\n",
        "#print(dfk)\n",
        "for index, row in df.head(n=2).iterrows():\n",
        "     print(index, row)\n",
        "df.columns = ['A','B','C','E']\n",
        "#print(df)"
      ],
      "execution_count": 48,
      "outputs": [
        {
          "output_type": "stream",
          "text": [
            "          A    B   C     D\n",
            "Row_1  12.0  7.0  20  14.0\n",
            "Row_1 A    12.0\n",
            "B     7.0\n",
            "C    20.0\n",
            "D    14.0\n",
            "Name: Row_1, dtype: float64\n",
            "Row_2 A     4.0\n",
            "B     2.0\n",
            "C    16.0\n",
            "D     3.0\n",
            "Name: Row_2, dtype: float64\n"
          ],
          "name": "stdout"
        }
      ]
    },
    {
      "cell_type": "code",
      "metadata": {
        "id": "FkZixQo0rhgo",
        "colab_type": "code",
        "colab": {
          "base_uri": "https://localhost:8080/",
          "height": 225
        },
        "outputId": "8b87e0c8-036b-4bc3-90e7-ca76566861e9"
      },
      "source": [
        "##input\n",
        "import pandas as pd \n",
        "  \n",
        "# Creating the DataFrame \n",
        "df = pd.DataFrame({\"A\":[12, 4, 5, None, 1],  \n",
        "                   \"B\":[7, 2, 54, 3, None],  \n",
        "                   \"C\":[20, 16, 11, 3, 8],  \n",
        "                   \"D\":[14, 3, None, 2, 6]})  \n",
        "  \n",
        "# Create the index \n",
        "index_ = ['Row_1', 'Row_2', 'Row_3', 'Row_4', 'Row_5'] \n",
        "  \n",
        "# Set the index \n",
        "df.index = index_ \n",
        "  \n",
        "# Print the DataFrame \n",
        "#print(df) \n",
        "#print(df.sort_values(by=['B','A'], ascending=True))\n",
        "filter_ = df['A'] >= 11\n",
        "print(df[filter_])\n",
        "#print(df[(df['A'] >= 11) | (df['B'] >= 10)])\n",
        "dfk=df['A'].where(cond=df['A'] >= 11)\n",
        "#print(dfk)\n",
        "for index, row in df.head(n=2).iterrows():\n",
        "     print(index, row)\n",
        "df.columns = ['A','B','C','E']\n",
        "#print(df)"
      ],
      "execution_count": 49,
      "outputs": [
        {
          "output_type": "stream",
          "text": [
            "          A    B   C     D\n",
            "Row_1  12.0  7.0  20  14.0\n",
            "Row_1 A    12.0\n",
            "B     7.0\n",
            "C    20.0\n",
            "D    14.0\n",
            "Name: Row_1, dtype: float64\n",
            "Row_2 A     4.0\n",
            "B     2.0\n",
            "C    16.0\n",
            "D     3.0\n",
            "Name: Row_2, dtype: float64\n"
          ],
          "name": "stdout"
        }
      ]
    },
    {
      "cell_type": "markdown",
      "metadata": {
        "id": "epXKT_zWs9ax",
        "colab_type": "text"
      },
      "source": [
        "filter_ = df['A'] >= 11\n",
        "print(df[filter_])\n",
        "\n",
        "dfk=df['A'].where(cond=df['A'] >= 11)\n",
        "\n",
        "\n",
        "print(df.sort_values(by=['day','tip'], ascending=True))"
      ]
    },
    {
      "cell_type": "code",
      "metadata": {
        "id": "-fic7z1EtPr3",
        "colab_type": "code",
        "colab": {
          "base_uri": "https://localhost:8080/",
          "height": 243
        },
        "outputId": "159b0c57-5418-47ce-d45a-efa56c5e5a80"
      },
      "source": [
        "##input\n",
        "import pandas as pd\n",
        "import numpy as np\n",
        "exam_data  = {'name': ['Anastasia', 'Dima', 'Katherine', 'James', 'Emily', 'Michael', 'Matthew', 'Laura', 'Kevin', 'Jonas'],\n",
        "        'score': [12.5, 9, 16.5, np.nan, 9, 20, 14.5, np.nan, 8, 19],\n",
        "        'attempts': [1, 3, 2, 3, 2, 3, 1, 1, 2, 1],\n",
        "        'qualify': ['yes', 'no', 'yes', 'no', 'no', 'yes', 'yes', 'no', 'no', 'yes']}\n",
        "labels = ['a', 'b', 'c', 'd', 'e', 'f', 'g', 'h', 'i', 'j']\n",
        "df = pd.DataFrame(exam_data , index=labels)\n",
        "print(\"Summary of the basic information about this DataFrame and its data:\")\n",
        "print(df.info())"
      ],
      "execution_count": 50,
      "outputs": [
        {
          "output_type": "stream",
          "text": [
            "Summary of the basic information about this DataFrame and its data:\n",
            "<class 'pandas.core.frame.DataFrame'>\n",
            "Index: 10 entries, a to j\n",
            "Data columns (total 4 columns):\n",
            " #   Column    Non-Null Count  Dtype  \n",
            "---  ------    --------------  -----  \n",
            " 0   name      10 non-null     object \n",
            " 1   score     8 non-null      float64\n",
            " 2   attempts  10 non-null     int64  \n",
            " 3   qualify   10 non-null     object \n",
            "dtypes: float64(1), int64(1), object(2)\n",
            "memory usage: 400.0+ bytes\n",
            "None\n"
          ],
          "name": "stdout"
        }
      ]
    },
    {
      "cell_type": "code",
      "metadata": {
        "id": "4VMoRNdMt5kp",
        "colab_type": "code",
        "colab": {
          "base_uri": "https://localhost:8080/",
          "height": 243
        },
        "outputId": "8f46ef08-638a-4e36-e0cb-1e4d76deb75e"
      },
      "source": [
        "##input\n",
        "import pandas as pd\n",
        "import numpy as np\n",
        "exam_data  = {'name': ['Anastasia', 'Dima', 'Katherine', 'James', 'Emily', 'Michael', 'Matthew', 'Laura', 'Kevin', 'Jonas'],\n",
        "        'score': [12.5, 9, 16.5, np.nan, 9, 20, 14.5, np.nan, 8, 19],\n",
        "        'attempts': [1, 3, 2, 3, 2, 3, 1, 1, 2, 1],\n",
        "        'qualify': ['yes', 'no', 'yes', 'no', 'no', 'yes', 'yes', 'no', 'no', 'yes']}\n",
        "labels = ['a', 'b', 'c', 'd', 'e', 'f', 'g', 'h', 'i', 'j']\n",
        "df = pd.DataFrame(exam_data , index=labels)\n",
        "print(\"Summary of the basic information about this DataFrame and its data:\")\n",
        "print(df.info())"
      ],
      "execution_count": 51,
      "outputs": [
        {
          "output_type": "stream",
          "text": [
            "Summary of the basic information about this DataFrame and its data:\n",
            "<class 'pandas.core.frame.DataFrame'>\n",
            "Index: 10 entries, a to j\n",
            "Data columns (total 4 columns):\n",
            " #   Column    Non-Null Count  Dtype  \n",
            "---  ------    --------------  -----  \n",
            " 0   name      10 non-null     object \n",
            " 1   score     8 non-null      float64\n",
            " 2   attempts  10 non-null     int64  \n",
            " 3   qualify   10 non-null     object \n",
            "dtypes: float64(1), int64(1), object(2)\n",
            "memory usage: 400.0+ bytes\n",
            "None\n"
          ],
          "name": "stdout"
        }
      ]
    },
    {
      "cell_type": "markdown",
      "metadata": {
        "id": "_sgAHA-buG0j",
        "colab_type": "text"
      },
      "source": [
        "text\n",
        "for day, group in df['day'].where(cond = df['sex']='male'):\n",
        "    #df['day_mean'] = group['total_bill'].mean()\n",
        "    print('average bill for ' + day + ' is ' + str(group['total_bill'].mean()))"
      ]
    },
    {
      "cell_type": "code",
      "metadata": {
        "id": "ZtMVvEdYuJc9",
        "colab_type": "code",
        "colab": {}
      },
      "source": [
        ""
      ],
      "execution_count": null,
      "outputs": []
    }
  ]
}