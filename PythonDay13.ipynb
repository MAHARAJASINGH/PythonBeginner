{
  "nbformat": 4,
  "nbformat_minor": 0,
  "metadata": {
    "colab": {
      "name": "PythonDay13.ipynb",
      "provenance": [],
      "collapsed_sections": [],
      "authorship_tag": "ABX9TyOXcLo9EyUWnVbGgsdAQ238",
      "include_colab_link": true
    },
    "kernelspec": {
      "name": "python3",
      "display_name": "Python 3"
    }
  },
  "cells": [
    {
      "cell_type": "markdown",
      "metadata": {
        "id": "view-in-github",
        "colab_type": "text"
      },
      "source": [
        "<a href=\"https://colab.research.google.com/github/MAHARAJASINGH/PythonBeginner/blob/master/PythonDay13.ipynb\" target=\"_parent\"><img src=\"https://colab.research.google.com/assets/colab-badge.svg\" alt=\"Open In Colab\"/></a>"
      ]
    },
    {
      "cell_type": "code",
      "metadata": {
        "id": "9OcjrhobGUY5",
        "colab_type": "code",
        "colab": {
          "base_uri": "https://localhost:8080/",
          "height": 433
        },
        "outputId": "001fc825-ec79-453d-fa3b-a6889e7a615d"
      },
      "source": [
        "##input\n",
        "##number dataframe\n",
        "# Creating the Series \n",
        "import pandas as pd\n",
        "sr = pd.Series([11, 21, 8, 18, 65, 18, 32, 10, 5, 32, None]) \n",
        "  \n",
        "# Create the Index \n",
        "# apply yearly frequency \n",
        "index_ = pd.date_range('2010-10-09 08:45', periods = 11, freq ='Y') \n",
        "  \n",
        "# set the index \n",
        "sr.index = index_ \n",
        "  \n",
        "# Print the series \n",
        "print(sr) \n",
        "result = sr.apply(lambda x : True if x>30 else False) \n",
        "  \n",
        "# Print the result \n",
        "print(result)"
      ],
      "execution_count": null,
      "outputs": [
        {
          "output_type": "stream",
          "text": [
            "2010-12-31 08:45:00    11.0\n",
            "2011-12-31 08:45:00    21.0\n",
            "2012-12-31 08:45:00     8.0\n",
            "2013-12-31 08:45:00    18.0\n",
            "2014-12-31 08:45:00    65.0\n",
            "2015-12-31 08:45:00    18.0\n",
            "2016-12-31 08:45:00    32.0\n",
            "2017-12-31 08:45:00    10.0\n",
            "2018-12-31 08:45:00     5.0\n",
            "2019-12-31 08:45:00    32.0\n",
            "2020-12-31 08:45:00     NaN\n",
            "Freq: A-DEC, dtype: float64\n",
            "2010-12-31 08:45:00    False\n",
            "2011-12-31 08:45:00    False\n",
            "2012-12-31 08:45:00    False\n",
            "2013-12-31 08:45:00    False\n",
            "2014-12-31 08:45:00     True\n",
            "2015-12-31 08:45:00    False\n",
            "2016-12-31 08:45:00     True\n",
            "2017-12-31 08:45:00    False\n",
            "2018-12-31 08:45:00    False\n",
            "2019-12-31 08:45:00     True\n",
            "2020-12-31 08:45:00    False\n",
            "Freq: A-DEC, dtype: bool\n"
          ],
          "name": "stdout"
        }
      ]
    },
    {
      "cell_type": "code",
      "metadata": {
        "id": "Lkyfan8HHNQO",
        "colab_type": "code",
        "colab": {
          "base_uri": "https://localhost:8080/",
          "height": 208
        },
        "outputId": "6204df8f-c07c-4324-93cb-151d58334f58"
      },
      "source": [
        "##input\n",
        "##way of defininng a function in python\n",
        "#for main method\n",
        "def add(a, b, c): \n",
        "    return a + b + c \n",
        "  \n",
        "def main(): \n",
        "      \n",
        "    # create a dictionary with \n",
        "    # three fields each \n",
        "    data = { \n",
        "            'A':[1, 2, 3],  \n",
        "            'B':[4, 5, 6],  \n",
        "            'C':[7, 8, 9] } \n",
        "      \n",
        "    # Convert the dictionary into DataFrame  \n",
        "    df = pd.DataFrame(data) \n",
        "    print(\"Original DataFrame:\\n\", df) \n",
        "      \n",
        "    df['add'] = df.apply(lambda row : add(row['A'], \n",
        "                     row['B'], row['C']), axis = 1) \n",
        "   \n",
        "    print('\\nAfter Applying Function: ') \n",
        "    # printing the new dataframe \n",
        "    print(df) \n",
        "   \n",
        "if __name__ == '__main__': \n",
        "  main()"
      ],
      "execution_count": null,
      "outputs": [
        {
          "output_type": "stream",
          "text": [
            "Original DataFrame:\n",
            "    A  B  C\n",
            "0  1  4  7\n",
            "1  2  5  8\n",
            "2  3  6  9\n",
            "\n",
            "After Applying Function: \n",
            "   A  B  C  add\n",
            "0  1  4  7   12\n",
            "1  2  5  8   15\n",
            "2  3  6  9   18\n"
          ],
          "name": "stdout"
        }
      ]
    },
    {
      "cell_type": "code",
      "metadata": {
        "id": "Hry3xeV2IjgC",
        "colab_type": "code",
        "colab": {
          "base_uri": "https://localhost:8080/",
          "height": 208
        },
        "outputId": "3d0e4fe9-d0e4-4536-8742-b403073d53a6"
      },
      "source": [
        "##input\n",
        "##normalising in Python\n",
        "import numpy as np\n",
        "import pandas as pd \n",
        "  \n",
        "def normalize(x, y): \n",
        "    x_new = ((x - np.mean([x, y])) /\n",
        "             (max(x, y) - min(x, y))) \n",
        "      \n",
        "    # print(x_new) \n",
        "    return x_new \n",
        "  \n",
        "def main(): \n",
        "      \n",
        "    # create a dictionary with three fields each \n",
        "    data = { \n",
        "        'X':[1, 2, 3],  \n",
        "        'Y':[45, 65, 89] } \n",
        "      \n",
        "    # Convert the dictionary into DataFrame  \n",
        "    df = pd.DataFrame(data) \n",
        "    print(\"Original DataFrame:\\n\", df) \n",
        "      \n",
        "    df['X'] = df.apply(lambda row : normalize(row['X'], \n",
        "                                  row['Y']), axis = 1) \n",
        "   \n",
        "    print('\\nNormalized:') \n",
        "    print(df) \n",
        "   \n",
        "if __name__ == '__main__': \n",
        "    main() "
      ],
      "execution_count": null,
      "outputs": [
        {
          "output_type": "stream",
          "text": [
            "Original DataFrame:\n",
            "    X   Y\n",
            "0  1  45\n",
            "1  2  65\n",
            "2  3  89\n",
            "\n",
            "Normalized:\n",
            "     X   Y\n",
            "0 -0.5  45\n",
            "1 -0.5  65\n",
            "2 -0.5  89\n"
          ],
          "name": "stdout"
        }
      ]
    },
    {
      "cell_type": "code",
      "metadata": {
        "id": "ljln-UeUKs8S",
        "colab_type": "code",
        "colab": {
          "base_uri": "https://localhost:8080/",
          "height": 191
        },
        "outputId": "fa28c994-ddcd-44f5-a154-375e89c41007"
      },
      "source": [
        "##code of sharada\n",
        "##pd.options.mode.chained_assignment = None -- what this does ?\n",
        "import pandas as pd \n",
        "import numpy as np \n",
        "   \n",
        "pd.options.mode.chained_assignment = None\n",
        "  \n",
        "# Function to generate range \n",
        "def generate_range(n): \n",
        "      \n",
        "    # printing the range for eg: \n",
        " # input is 67 output is 60-70 \n",
        "    n = int(n) \n",
        "      \n",
        "    lower_limit = n//10 * 10\n",
        "    upper_limit = lower_limit + 10\n",
        "      \n",
        "    return str(str(lower_limit) + '-' + str(upper_limit)) \n",
        "       \n",
        "def replace(row): \n",
        "    for i, item in enumerate(row): \n",
        "          \n",
        "        # updating the value of the row \n",
        "        row[i] = generate_range(item) \n",
        "    return row \n",
        "           \n",
        "   \n",
        "def main(): \n",
        "    # create a dictionary with \n",
        "    # three fields each \n",
        "    data = { \n",
        "            'A':[0, 2, 3],  \n",
        "            'B':[4, 15, 6],  \n",
        "            'C':[47, 8, 19] } \n",
        "      \n",
        "    # Convert the dictionary into DataFrame  \n",
        "    df = pd.DataFrame(data) \n",
        "   \n",
        "    print('Before applying function: ') \n",
        "    print(df) \n",
        "       \n",
        "    # applying function to each row in \n",
        "    # dataframe and storing result in a new coloumn \n",
        "    df = df.apply(lambda row : replace(row)) \n",
        "       \n",
        "   \n",
        "    print('After Applying Function: ') \n",
        "    # printing the new dataframe \n",
        "    print(df) \n",
        "   \n",
        "if __name__ == '__main__': \n",
        "    main() "
      ],
      "execution_count": null,
      "outputs": [
        {
          "output_type": "stream",
          "text": [
            "Before applying function: \n",
            "   A   B   C\n",
            "0  0   4  47\n",
            "1  2  15   8\n",
            "2  3   6  19\n",
            "After Applying Function: \n",
            "      A      B      C\n",
            "0  0-10   0-10  40-50\n",
            "1  0-10  10-20   0-10\n",
            "2  0-10   0-10  10-20\n"
          ],
          "name": "stdout"
        }
      ]
    },
    {
      "cell_type": "code",
      "metadata": {
        "id": "xvtuVozyNqFG",
        "colab_type": "code",
        "colab": {
          "base_uri": "https://localhost:8080/",
          "height": 260
        },
        "outputId": "fcf78346-ade2-454f-809e-b90c0e4541da"
      },
      "source": [
        "##input\n",
        "import pandas as pd\n",
        "import numpy as np\n",
        "cat = pd.Categorical([\"a\", \"c\", \"c\", np.nan], categories=[\"b\", \"a\", \"c\"])\n",
        "df = pd.DataFrame({\"cat\":cat, \"s\":[\"ab\", \"cd\", \"ce\", np.nan]})\n",
        "rdf = pd.DataFrame(np.random.randn(10, 4),\n",
        "                  columns=['Col1', 'Col2', 'Col3', 'Col4'])\n",
        "print(df)\n",
        "print(rdf.describe())\n",
        "#print(df[\"cat\"].describe())"
      ],
      "execution_count": null,
      "outputs": [
        {
          "output_type": "stream",
          "text": [
            "   cat    s\n",
            "0    a   ab\n",
            "1    c   cd\n",
            "2    c   ce\n",
            "3  NaN  NaN\n",
            "            Col1       Col2       Col3       Col4\n",
            "count  10.000000  10.000000  10.000000  10.000000\n",
            "mean    0.422765  -0.536056  -0.229824   0.825435\n",
            "std     1.143564   0.800611   1.087770   0.994936\n",
            "min    -1.203120  -2.016265  -1.957440  -0.514515\n",
            "25%    -0.562465  -0.879588  -0.907408   0.241284\n",
            "50%     0.529899  -0.700596  -0.302875   0.371807\n",
            "75%     1.202712  -0.053857   0.286283   1.767692\n",
            "max     1.995778   0.924983   1.724516   2.411364\n"
          ],
          "name": "stdout"
        }
      ]
    },
    {
      "cell_type": "markdown",
      "metadata": {
        "id": "RvS_No7gOYNH",
        "colab_type": "text"
      },
      "source": [
        "normalise the data----fit the data in the interval\n",
        "normising it with the formula...so that it will fall within the range\n"
      ]
    },
    {
      "cell_type": "code",
      "metadata": {
        "id": "-UODUn2-P6G1",
        "colab_type": "code",
        "colab": {
          "base_uri": "https://localhost:8080/",
          "height": 191
        },
        "outputId": "73bdc462-106b-4c38-a09a-60eea5857967"
      },
      "source": [
        "##input\n",
        "import pandas as pd\n",
        "import numpy as np\n",
        "s = pd.Categorical([\"primary\", \"student\", \"working\", np.nan], categories=[\"primary\", \"student\", \"working\"])\n",
        "print(s.categories)\n",
        "print(s)\n",
        "#from Sharada Lakshmanan (internal) to everyone:\n"
      ],
      "execution_count": null,
      "outputs": [
        {
          "output_type": "stream",
          "text": [
            "Index(['primary', 'student', 'working'], dtype='object')\n",
            "[primary, student, working, NaN]\n",
            "Categories (3, object): [primary, student, working]\n",
            "0    a\n",
            "1    b\n",
            "2    c\n",
            "3    a\n",
            "dtype: category\n",
            "Categories (4, object): [a, b, c, 4]\n",
            "Index(['a', 'b', 'c', 4], dtype='object')\n"
          ],
          "name": "stdout"
        }
      ]
    },
    {
      "cell_type": "code",
      "metadata": {
        "id": "KPM4HWHsQBMJ",
        "colab_type": "code",
        "colab": {
          "base_uri": "https://localhost:8080/",
          "height": 139
        },
        "outputId": "1735e1e2-72e5-4685-8bd7-60ecb6a454f5"
      },
      "source": [
        "##input\n",
        "##joseph, i think it is like you are creating a new list of values... like one we create in Excel\n",
        "import pandas as pd\n",
        "s = pd.Series([\"a\",\"b\",\"c\",\"a\"], dtype=\"category\")\n",
        "s = s.cat.add_categories([4])\n",
        "print(s)\n",
        "print(s.cat.categories)"
      ],
      "execution_count": null,
      "outputs": [
        {
          "output_type": "stream",
          "text": [
            "0    a\n",
            "1    b\n",
            "2    c\n",
            "3    a\n",
            "dtype: category\n",
            "Categories (4, object): [a, b, c, 4]\n",
            "Index(['a', 'b', 'c', 4], dtype='object')\n"
          ],
          "name": "stdout"
        }
      ]
    },
    {
      "cell_type": "markdown",
      "metadata": {
        "id": "ExIJj41xRJRM",
        "colab_type": "text"
      },
      "source": [
        "it is a list of define values... which then act as replacement to the list of values\n",
        "what is the significance of mentioing , categories=[\"b\", \"a\", \"c\"] in previous example ? It doesn't make any difference if removed\n",
        "it was just an example.. if your array as 1000 element and your category is having only 5 values\n",
        "then at the end when yo are computing your ram will be saved\n",
        "this will become useful in future\n",
        "from Hitesh to everyone:\n",
        "try removcing c from categories...u will see in the series where c was there will be replaced with NaN\n",
        "from Sandeep Kumar (internal) to everyone:\n",
        "because that list value is not available\n",
        "from Sandeep Kumar (internal) to everyone:\n",
        "so you cannot have it defined\n",
        "from Hitesh to everyone:\n",
        "i guess that is the use of category...to eliminate values in a series that do not fall into the defined set of ategories"
      ]
    },
    {
      "cell_type": "code",
      "metadata": {
        "id": "LeBpwDq0RcSo",
        "colab_type": "code",
        "colab": {
          "base_uri": "https://localhost:8080/",
          "height": 260
        },
        "outputId": "b14c44e0-d882-4d7b-a64c-6b299a37de35"
      },
      "source": [
        "##input\n",
        "import pandas as pd\n",
        "s = pd.Series([\"a\",\"b\",\"c\",\"a\"], dtype=\"category\")\n",
        "print(\"Original object:\")\n",
        "print(s)\n",
        "print(\"After removal:\")\n",
        "print(s.cat.remove_categories(\"a\"))\n",
        "##python is a sensitive language"
      ],
      "execution_count": null,
      "outputs": [
        {
          "output_type": "stream",
          "text": [
            "Original object:\n",
            "0    a\n",
            "1    b\n",
            "2    c\n",
            "3    a\n",
            "dtype: category\n",
            "Categories (3, object): [a, b, c]\n",
            "After removal:\n",
            "0    NaN\n",
            "1      b\n",
            "2      c\n",
            "3    NaN\n",
            "dtype: category\n",
            "Categories (2, object): [b, c]\n"
          ],
          "name": "stdout"
        }
      ]
    },
    {
      "cell_type": "code",
      "metadata": {
        "id": "1WG_UA8qSkyN",
        "colab_type": "code",
        "colab": {
          "base_uri": "https://localhost:8080/",
          "height": 141
        },
        "outputId": "cfad93d5-2f3d-4a41-b5d8-22ae2fea5b9c"
      },
      "source": [
        "##input\n",
        "foo = pd.Categorical(['a', 'b','c'], categories=['a', 'b'])\n",
        "bar = pd.Categorical(['d', 'e','f'], categories=['d', 'e'])\n",
        "pd.crosstab(foo, bar)"
      ],
      "execution_count": null,
      "outputs": [
        {
          "output_type": "execute_result",
          "data": {
            "text/html": [
              "<div>\n",
              "<style scoped>\n",
              "    .dataframe tbody tr th:only-of-type {\n",
              "        vertical-align: middle;\n",
              "    }\n",
              "\n",
              "    .dataframe tbody tr th {\n",
              "        vertical-align: top;\n",
              "    }\n",
              "\n",
              "    .dataframe thead th {\n",
              "        text-align: right;\n",
              "    }\n",
              "</style>\n",
              "<table border=\"1\" class=\"dataframe\">\n",
              "  <thead>\n",
              "    <tr style=\"text-align: right;\">\n",
              "      <th>col_0</th>\n",
              "      <th>d</th>\n",
              "      <th>e</th>\n",
              "    </tr>\n",
              "    <tr>\n",
              "      <th>row_0</th>\n",
              "      <th></th>\n",
              "      <th></th>\n",
              "    </tr>\n",
              "  </thead>\n",
              "  <tbody>\n",
              "    <tr>\n",
              "      <th>a</th>\n",
              "      <td>1</td>\n",
              "      <td>0</td>\n",
              "    </tr>\n",
              "    <tr>\n",
              "      <th>b</th>\n",
              "      <td>0</td>\n",
              "      <td>1</td>\n",
              "    </tr>\n",
              "  </tbody>\n",
              "</table>\n",
              "</div>"
            ],
            "text/plain": [
              "col_0  d  e\n",
              "row_0      \n",
              "a      1  0\n",
              "b      0  1"
            ]
          },
          "metadata": {
            "tags": []
          },
          "execution_count": 12
        }
      ]
    },
    {
      "cell_type": "code",
      "metadata": {
        "id": "d4ixSTkjUTQZ",
        "colab_type": "code",
        "colab": {
          "base_uri": "https://localhost:8080/",
          "height": 610
        },
        "outputId": "e2dbaa95-e61d-49b1-bd37-2ea2ca21d088"
      },
      "source": [
        "##input\n",
        "import pandas as pd\n",
        "df = pd.DataFrame({'foo': ['one', 'one', 'one', 'two', 'two',\n",
        "                            'three' ],\n",
        "                   'bar': ['A', 'B', 'D', 'E', 'B', 'C'],\n",
        "                   'baz': [1, 2, 3, 4, 5, 6],\n",
        "                   'zoo': ['x', 'y', 'z', 'q', 'w', 't']})\n",
        "print(df)\n",
        "print(df.pivot(index='foo', columns='baz', values='zoo'))\n",
        "print(\"next Pivot\")\n",
        "print(df.pivot(index='foo', columns='bar')['baz'])\n",
        "print(\"next pivot\")\n",
        "df.pivot(index='foo', columns='baz', values=['bar', 'zoo'])\n",
        "print(\"next pivot\")\n",
        "df.pivot(index='baz', columns='foo', values='bar')"
      ],
      "execution_count": null,
      "outputs": [
        {
          "output_type": "stream",
          "text": [
            "     foo bar  baz zoo\n",
            "0    one   A    1   x\n",
            "1    one   B    2   y\n",
            "2    one   D    3   z\n",
            "3    two   E    4   q\n",
            "4    two   B    5   w\n",
            "5  three   C    6   t\n",
            "baz      1    2    3    4    5    6\n",
            "foo                                \n",
            "one      x    y    z  NaN  NaN  NaN\n",
            "three  NaN  NaN  NaN  NaN  NaN    t\n",
            "two    NaN  NaN  NaN    q    w  NaN\n",
            "next Pivot\n",
            "bar      A    B    C    D    E\n",
            "foo                           \n",
            "one    1.0  2.0  NaN  3.0  NaN\n",
            "three  NaN  NaN  6.0  NaN  NaN\n",
            "two    NaN  5.0  NaN  NaN  4.0\n",
            "next pivot\n",
            "next pivot\n"
          ],
          "name": "stdout"
        },
        {
          "output_type": "execute_result",
          "data": {
            "text/html": [
              "<div>\n",
              "<style scoped>\n",
              "    .dataframe tbody tr th:only-of-type {\n",
              "        vertical-align: middle;\n",
              "    }\n",
              "\n",
              "    .dataframe tbody tr th {\n",
              "        vertical-align: top;\n",
              "    }\n",
              "\n",
              "    .dataframe thead th {\n",
              "        text-align: right;\n",
              "    }\n",
              "</style>\n",
              "<table border=\"1\" class=\"dataframe\">\n",
              "  <thead>\n",
              "    <tr style=\"text-align: right;\">\n",
              "      <th>foo</th>\n",
              "      <th>one</th>\n",
              "      <th>three</th>\n",
              "      <th>two</th>\n",
              "    </tr>\n",
              "    <tr>\n",
              "      <th>baz</th>\n",
              "      <th></th>\n",
              "      <th></th>\n",
              "      <th></th>\n",
              "    </tr>\n",
              "  </thead>\n",
              "  <tbody>\n",
              "    <tr>\n",
              "      <th>1</th>\n",
              "      <td>A</td>\n",
              "      <td>NaN</td>\n",
              "      <td>NaN</td>\n",
              "    </tr>\n",
              "    <tr>\n",
              "      <th>2</th>\n",
              "      <td>B</td>\n",
              "      <td>NaN</td>\n",
              "      <td>NaN</td>\n",
              "    </tr>\n",
              "    <tr>\n",
              "      <th>3</th>\n",
              "      <td>D</td>\n",
              "      <td>NaN</td>\n",
              "      <td>NaN</td>\n",
              "    </tr>\n",
              "    <tr>\n",
              "      <th>4</th>\n",
              "      <td>NaN</td>\n",
              "      <td>NaN</td>\n",
              "      <td>E</td>\n",
              "    </tr>\n",
              "    <tr>\n",
              "      <th>5</th>\n",
              "      <td>NaN</td>\n",
              "      <td>NaN</td>\n",
              "      <td>B</td>\n",
              "    </tr>\n",
              "    <tr>\n",
              "      <th>6</th>\n",
              "      <td>NaN</td>\n",
              "      <td>C</td>\n",
              "      <td>NaN</td>\n",
              "    </tr>\n",
              "  </tbody>\n",
              "</table>\n",
              "</div>"
            ],
            "text/plain": [
              "foo  one three  two\n",
              "baz                \n",
              "1      A   NaN  NaN\n",
              "2      B   NaN  NaN\n",
              "3      D   NaN  NaN\n",
              "4    NaN   NaN    E\n",
              "5    NaN   NaN    B\n",
              "6    NaN     C  NaN"
            ]
          },
          "metadata": {
            "tags": []
          },
          "execution_count": 13
        }
      ]
    },
    {
      "cell_type": "markdown",
      "metadata": {
        "id": "6m-shLe8Vg5O",
        "colab_type": "text"
      },
      "source": [
        "df.pivot(index='foo', columns='baz', values=['bar', 'zoo']) --  this is not getti g printed\n",
        "from Edwin Herald Ponniah (internal) to everyone:\n",
        "use print(df.pivot(index='foo', columns='baz', values=['bar', 'zoo']))\n",
        "from Shruthi A R (internal) to everyone:\n",
        "oh got it thanks :)\n",
        "\n",
        "#check duplicates\n",
        "df = pd.DataFrame({\"foo\": ['one', 'three', 'two', 'four'],\n",
        "                    \"bar\": ['A', 'A', 'B', 'C'],\n",
        "                    \"baz\": [1, 2, 3, 4]})\n",
        "df.pivot(index='foo', columns='bar', values='baz')\n",
        "\n"
      ]
    },
    {
      "cell_type": "code",
      "metadata": {
        "id": "aSXUliHjXs4I",
        "colab_type": "code",
        "colab": {
          "base_uri": "https://localhost:8080/",
          "height": 139
        },
        "outputId": "6e4ed74d-a2e8-4b6a-c273-1b026e79c11e"
      },
      "source": [
        "##input\n",
        "import numpy as np\n",
        "df = pd.DataFrame({\"A\": [\"foo\", \"foo\", \"foo\", \"foo\", \"foo\",\n",
        "                          \"bar\", \"bar\", \"bar\", \"bar\"],\n",
        "                    \"B\": [\"one\", \"one\", \"one\", \"two\", \"two\",\n",
        "                          \"one\", \"one\", \"two\", \"two\"],\n",
        "                    \"C\": [\"small\", \"large\", \"large\", \"small\",\n",
        "                          \"small\", \"large\", \"small\", \"small\",\n",
        "                          \"large\"],\n",
        "                    \"D\": [1, 2, 2, 3, 3, 4, 5, 6, 7],\n",
        "                   \"E\": [2, 4, 5, 5, 6, 6, 8, 9, 9]})\n",
        "#print(df.describe)\n",
        "table = pd.pivot_table(df, values='D', index=['A', 'B'],\n",
        "                     columns=['C'], aggfunc=np.sum)\n",
        "print('first pivot')\n",
        "print(table)"
      ],
      "execution_count": null,
      "outputs": [
        {
          "output_type": "stream",
          "text": [
            "first pivot\n",
            "C        large  small\n",
            "A   B                \n",
            "bar one    4.0    5.0\n",
            "    two    7.0    6.0\n",
            "foo one    4.0    1.0\n",
            "    two    NaN    6.0\n"
          ],
          "name": "stdout"
        }
      ]
    }
  ]
}