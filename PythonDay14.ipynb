{
  "nbformat": 4,
  "nbformat_minor": 0,
  "metadata": {
    "colab": {
      "name": "PythonDay14.ipynb",
      "provenance": [],
      "collapsed_sections": [],
      "authorship_tag": "ABX9TyOXBAJbOZOxILFc0yE1DrFl",
      "include_colab_link": true
    },
    "kernelspec": {
      "name": "python3",
      "display_name": "Python 3"
    }
  },
  "cells": [
    {
      "cell_type": "markdown",
      "metadata": {
        "id": "view-in-github",
        "colab_type": "text"
      },
      "source": [
        "<a href=\"https://colab.research.google.com/github/MAHARAJASINGH/PythonBeginner/blob/master/PythonDay14.ipynb\" target=\"_parent\"><img src=\"https://colab.research.google.com/assets/colab-badge.svg\" alt=\"Open In Colab\"/></a>"
      ]
    },
    {
      "cell_type": "code",
      "metadata": {
        "id": "sQKe07DYQRY4",
        "colab_type": "code",
        "colab": {
          "base_uri": "https://localhost:8080/",
          "height": 589
        },
        "outputId": "544847cb-e0d4-4fe7-e926-8198a01f8647"
      },
      "source": [
        "##input\n",
        "##something abt pivot table\n",
        "##dataframe \n",
        "##binnng  and melting and exploding the dataframe\n",
        "##mean ,,,median,,,normal distribution also\n",
        "##data foundations statistical techniques\n",
        "#group by mean\n",
        "import pandas as pd\n",
        "import numpy as np\n",
        " \n",
        "data = {'Product':['Box','Bottles','Pen','Markers','Bottles','Pen','Markers','Bottles','Box','Markers','Markers','Pen'],\n",
        "       'State':['Alaska','California','Texas','North Carolina','California','Texas','Alaska','Texas','North Carolina','Alaska','California','Texas'],\n",
        "       'Sales':[14,24,31,12,13,7,9,31,18,16,18,14]}\n",
        " \n",
        "df1=pd.DataFrame(data, columns=['Product','State','Sales'])\n",
        " \n",
        "print(df1)\n",
        "gk=df1.groupby(['State','Product'])['Sales']\n",
        "print(gk.first())\n",
        "print(df1.groupby(['State','Product'])['Sales'].mean())\n",
        "#from Sharada Lakshmanan (internal) to everyone:\n",
        "#df1.groupby(['State','Product'],as_index = False).sum().pivot('State','Product').fillna(0)\n"
      ],
      "execution_count": 2,
      "outputs": [
        {
          "output_type": "stream",
          "text": [
            "    Product           State  Sales\n",
            "0       Box          Alaska     14\n",
            "1   Bottles      California     24\n",
            "2       Pen           Texas     31\n",
            "3   Markers  North Carolina     12\n",
            "4   Bottles      California     13\n",
            "5       Pen           Texas      7\n",
            "6   Markers          Alaska      9\n",
            "7   Bottles           Texas     31\n",
            "8       Box  North Carolina     18\n",
            "9   Markers          Alaska     16\n",
            "10  Markers      California     18\n",
            "11      Pen           Texas     14\n",
            "State           Product\n",
            "Alaska          Box        14\n",
            "                Markers     9\n",
            "California      Bottles    24\n",
            "                Markers    18\n",
            "North Carolina  Box        18\n",
            "                Markers    12\n",
            "Texas           Bottles    31\n",
            "                Pen        31\n",
            "Name: Sales, dtype: int64\n",
            "State           Product\n",
            "Alaska          Box        14.000000\n",
            "                Markers    12.500000\n",
            "California      Bottles    18.500000\n",
            "                Markers    18.000000\n",
            "North Carolina  Box        18.000000\n",
            "                Markers    12.000000\n",
            "Texas           Bottles    31.000000\n",
            "                Pen        17.333333\n",
            "Name: Sales, dtype: float64\n"
          ],
          "name": "stdout"
        }
      ]
    },
    {
      "cell_type": "markdown",
      "metadata": {
        "id": "lq0SbcGgRdsi",
        "colab_type": "text"
      },
      "source": [
        "from Sharada Lakshmanan (internal) to everyone:\n",
        "df1.groupby(['State','Product'],as_index = False).sum().pivot('State','Product').fillna(0)"
      ]
    },
    {
      "cell_type": "code",
      "metadata": {
        "id": "n2IWT1sRRe_h",
        "colab_type": "code",
        "colab": {
          "base_uri": "https://localhost:8080/",
          "height": 1000
        },
        "outputId": "9a971bef-9724-46ac-ee57-c40d07a7caef"
      },
      "source": [
        "##binning in the dataset\n",
        "##intervalling in the dataframe and the dataset\n",
        "##load the dataset\n",
        "##print the dataset\n",
        "##need linear models as well\n",
        "##in binning take the upper limit and lower limint and mid value is median\n",
        "import numpy as np   \n",
        "import math \n",
        "from sklearn.datasets import load_iris \n",
        "from sklearn import datasets, linear_model, metrics  \n",
        "#load iris data set  \n",
        "#from sklearn import datasets, linear_model, metrics  \n",
        "# load iris data set \n",
        "dataset = load_iris()    \n",
        "a = dataset.data \n",
        "b = np.zeros(150) \n",
        "  \n",
        "# take 1st column among 4 column of data set  \n",
        "for i in range (150): \n",
        "    b[i]=a[i,1]    \n",
        "  \n",
        "b=np.sort(b)  #sort the array \n",
        "  \n",
        "# create bins \n",
        "bin1=np.zeros((30,5))  \n",
        "bin2=np.zeros((30,5)) \n",
        "bin3=np.zeros((30,5)) \n",
        "  \n",
        "# Bin mean \n",
        "for i in range (0,150,5): \n",
        "    k=int(i/5) \n",
        "    mean=(b[i] + b[i+1] + b[i+2] + b[i+3] + b[i+4])/5\n",
        "    for j in range(5): \n",
        "        bin1[k,j]=mean \n",
        "print(\"Bin Mean: \\n\",bin1) \n",
        "     \n",
        "# Bin boundaries \n",
        "for i in range (0,150,5): \n",
        "    k=int(i/5) \n",
        "    for j in range (5): \n",
        "        if (b[i+j]-b[i]) < (b[i+4]-b[i+j]): \n",
        "            bin2[k,j]=b[i] \n",
        "        else: \n",
        "            bin2[k,j]=b[i+4]        \n",
        "print(\"Bin Boundaries: \\n\",bin2) \n",
        "  \n",
        "# Bin median \n",
        "for i in range (0,150,5): \n",
        "    k=int(i/5) \n",
        "    for j in range (5): \n",
        "        bin3[k,j]=b[i+2] \n",
        "print(\"Bin Median: \\n\",bin3)"
      ],
      "execution_count": 4,
      "outputs": [
        {
          "output_type": "stream",
          "text": [
            "Bin Mean: \n",
            " [[2.18 2.18 2.18 2.18 2.18]\n",
            " [2.34 2.34 2.34 2.34 2.34]\n",
            " [2.48 2.48 2.48 2.48 2.48]\n",
            " [2.52 2.52 2.52 2.52 2.52]\n",
            " [2.62 2.62 2.62 2.62 2.62]\n",
            " [2.7  2.7  2.7  2.7  2.7 ]\n",
            " [2.74 2.74 2.74 2.74 2.74]\n",
            " [2.8  2.8  2.8  2.8  2.8 ]\n",
            " [2.8  2.8  2.8  2.8  2.8 ]\n",
            " [2.86 2.86 2.86 2.86 2.86]\n",
            " [2.9  2.9  2.9  2.9  2.9 ]\n",
            " [2.96 2.96 2.96 2.96 2.96]\n",
            " [3.   3.   3.   3.   3.  ]\n",
            " [3.   3.   3.   3.   3.  ]\n",
            " [3.   3.   3.   3.   3.  ]\n",
            " [3.   3.   3.   3.   3.  ]\n",
            " [3.04 3.04 3.04 3.04 3.04]\n",
            " [3.1  3.1  3.1  3.1  3.1 ]\n",
            " [3.12 3.12 3.12 3.12 3.12]\n",
            " [3.2  3.2  3.2  3.2  3.2 ]\n",
            " [3.2  3.2  3.2  3.2  3.2 ]\n",
            " [3.26 3.26 3.26 3.26 3.26]\n",
            " [3.34 3.34 3.34 3.34 3.34]\n",
            " [3.4  3.4  3.4  3.4  3.4 ]\n",
            " [3.4  3.4  3.4  3.4  3.4 ]\n",
            " [3.5  3.5  3.5  3.5  3.5 ]\n",
            " [3.58 3.58 3.58 3.58 3.58]\n",
            " [3.74 3.74 3.74 3.74 3.74]\n",
            " [3.82 3.82 3.82 3.82 3.82]\n",
            " [4.12 4.12 4.12 4.12 4.12]]\n",
            "Bin Boundaries: \n",
            " [[2.  2.3 2.3 2.3 2.3]\n",
            " [2.3 2.3 2.3 2.4 2.4]\n",
            " [2.4 2.5 2.5 2.5 2.5]\n",
            " [2.5 2.5 2.5 2.5 2.6]\n",
            " [2.6 2.6 2.6 2.6 2.7]\n",
            " [2.7 2.7 2.7 2.7 2.7]\n",
            " [2.7 2.7 2.7 2.8 2.8]\n",
            " [2.8 2.8 2.8 2.8 2.8]\n",
            " [2.8 2.8 2.8 2.8 2.8]\n",
            " [2.8 2.8 2.9 2.9 2.9]\n",
            " [2.9 2.9 2.9 2.9 2.9]\n",
            " [2.9 2.9 3.  3.  3. ]\n",
            " [3.  3.  3.  3.  3. ]\n",
            " [3.  3.  3.  3.  3. ]\n",
            " [3.  3.  3.  3.  3. ]\n",
            " [3.  3.  3.  3.  3. ]\n",
            " [3.  3.  3.  3.1 3.1]\n",
            " [3.1 3.1 3.1 3.1 3.1]\n",
            " [3.1 3.1 3.1 3.1 3.2]\n",
            " [3.2 3.2 3.2 3.2 3.2]\n",
            " [3.2 3.2 3.2 3.2 3.2]\n",
            " [3.2 3.2 3.3 3.3 3.3]\n",
            " [3.3 3.3 3.3 3.4 3.4]\n",
            " [3.4 3.4 3.4 3.4 3.4]\n",
            " [3.4 3.4 3.4 3.4 3.4]\n",
            " [3.5 3.5 3.5 3.5 3.5]\n",
            " [3.5 3.6 3.6 3.6 3.6]\n",
            " [3.7 3.7 3.7 3.8 3.8]\n",
            " [3.8 3.8 3.8 3.8 3.9]\n",
            " [3.9 3.9 3.9 4.4 4.4]]\n",
            "Bin Median: \n",
            " [[2.2 2.2 2.2 2.2 2.2]\n",
            " [2.3 2.3 2.3 2.3 2.3]\n",
            " [2.5 2.5 2.5 2.5 2.5]\n",
            " [2.5 2.5 2.5 2.5 2.5]\n",
            " [2.6 2.6 2.6 2.6 2.6]\n",
            " [2.7 2.7 2.7 2.7 2.7]\n",
            " [2.7 2.7 2.7 2.7 2.7]\n",
            " [2.8 2.8 2.8 2.8 2.8]\n",
            " [2.8 2.8 2.8 2.8 2.8]\n",
            " [2.9 2.9 2.9 2.9 2.9]\n",
            " [2.9 2.9 2.9 2.9 2.9]\n",
            " [3.  3.  3.  3.  3. ]\n",
            " [3.  3.  3.  3.  3. ]\n",
            " [3.  3.  3.  3.  3. ]\n",
            " [3.  3.  3.  3.  3. ]\n",
            " [3.  3.  3.  3.  3. ]\n",
            " [3.  3.  3.  3.  3. ]\n",
            " [3.1 3.1 3.1 3.1 3.1]\n",
            " [3.1 3.1 3.1 3.1 3.1]\n",
            " [3.2 3.2 3.2 3.2 3.2]\n",
            " [3.2 3.2 3.2 3.2 3.2]\n",
            " [3.3 3.3 3.3 3.3 3.3]\n",
            " [3.3 3.3 3.3 3.3 3.3]\n",
            " [3.4 3.4 3.4 3.4 3.4]\n",
            " [3.4 3.4 3.4 3.4 3.4]\n",
            " [3.5 3.5 3.5 3.5 3.5]\n",
            " [3.6 3.6 3.6 3.6 3.6]\n",
            " [3.7 3.7 3.7 3.7 3.7]\n",
            " [3.8 3.8 3.8 3.8 3.8]\n",
            " [4.1 4.1 4.1 4.1 4.1]]\n"
          ],
          "name": "stdout"
        }
      ]
    },
    {
      "cell_type": "code",
      "metadata": {
        "id": "w72147tEVc1K",
        "colab_type": "code",
        "colab": {}
      },
      "source": [
        "##input\n",
        "import numpy as np   \n",
        "import math \n",
        "from sklearn.datasets import load_iris \n",
        "from sklearn import datasets, linear_model, metrics  \n",
        "# load iris data set \n",
        "dataset = load_iris()    \n",
        "a = dataset.data \n",
        "b = np.zeros(150) \n",
        "  \n",
        "# take 1st column among 4 column of data set  \n",
        "for i in range (150): \n",
        "    b[i]=a[i,1]    \n",
        "  \n",
        "b=np.sort(b)  #sort the array \n",
        "  \n",
        "# create bins \n",
        "bin1=np.zeros((30,5))  \n",
        "bin2=np.zeros((30,5)) \n",
        "bin3=np.zeros((30,5)) "
      ],
      "execution_count": 6,
      "outputs": []
    },
    {
      "cell_type": "code",
      "metadata": {
        "id": "KmuY5tOWVjPg",
        "colab_type": "code",
        "colab": {
          "base_uri": "https://localhost:8080/",
          "height": 555
        },
        "outputId": "ae49ac68-df34-4aa3-c2e3-67830bdb1f6e"
      },
      "source": [
        "# Bin mean \n",
        "for i in range (0,150,5): \n",
        "    k=int(i/5) \n",
        "    mean=(b[i] + b[i+1] + b[i+2] + b[i+3] + b[i+4])/5\n",
        "    for j in range(5): \n",
        "        bin1[k,j]=mean \n",
        "print(\"Bin Mean: \\n\",bin1) "
      ],
      "execution_count": 7,
      "outputs": [
        {
          "output_type": "stream",
          "text": [
            "Bin Mean: \n",
            " [[2.18 2.18 2.18 2.18 2.18]\n",
            " [2.34 2.34 2.34 2.34 2.34]\n",
            " [2.48 2.48 2.48 2.48 2.48]\n",
            " [2.52 2.52 2.52 2.52 2.52]\n",
            " [2.62 2.62 2.62 2.62 2.62]\n",
            " [2.7  2.7  2.7  2.7  2.7 ]\n",
            " [2.74 2.74 2.74 2.74 2.74]\n",
            " [2.8  2.8  2.8  2.8  2.8 ]\n",
            " [2.8  2.8  2.8  2.8  2.8 ]\n",
            " [2.86 2.86 2.86 2.86 2.86]\n",
            " [2.9  2.9  2.9  2.9  2.9 ]\n",
            " [2.96 2.96 2.96 2.96 2.96]\n",
            " [3.   3.   3.   3.   3.  ]\n",
            " [3.   3.   3.   3.   3.  ]\n",
            " [3.   3.   3.   3.   3.  ]\n",
            " [3.   3.   3.   3.   3.  ]\n",
            " [3.04 3.04 3.04 3.04 3.04]\n",
            " [3.1  3.1  3.1  3.1  3.1 ]\n",
            " [3.12 3.12 3.12 3.12 3.12]\n",
            " [3.2  3.2  3.2  3.2  3.2 ]\n",
            " [3.2  3.2  3.2  3.2  3.2 ]\n",
            " [3.26 3.26 3.26 3.26 3.26]\n",
            " [3.34 3.34 3.34 3.34 3.34]\n",
            " [3.4  3.4  3.4  3.4  3.4 ]\n",
            " [3.4  3.4  3.4  3.4  3.4 ]\n",
            " [3.5  3.5  3.5  3.5  3.5 ]\n",
            " [3.58 3.58 3.58 3.58 3.58]\n",
            " [3.74 3.74 3.74 3.74 3.74]\n",
            " [3.82 3.82 3.82 3.82 3.82]\n",
            " [4.12 4.12 4.12 4.12 4.12]]\n"
          ],
          "name": "stdout"
        }
      ]
    },
    {
      "cell_type": "code",
      "metadata": {
        "id": "JpbkuupSVoUE",
        "colab_type": "code",
        "colab": {
          "base_uri": "https://localhost:8080/",
          "height": 555
        },
        "outputId": "87df32fc-d124-4baa-acbf-0400de535bbb"
      },
      "source": [
        "##input\n",
        "# Bin boundaries \n",
        "for i in range (0,150,5): \n",
        "    k=int(i/5) \n",
        "    for j in range (5): \n",
        "        if (b[i+j]-b[i]) < (b[i+4]-b[i+j]): \n",
        "            bin2[k,j]=b[i] \n",
        "        else: \n",
        "            bin2[k,j]=b[i+4]        \n",
        "print(\"Bin Boundaries: \\n\",bin2) "
      ],
      "execution_count": 8,
      "outputs": [
        {
          "output_type": "stream",
          "text": [
            "Bin Boundaries: \n",
            " [[2.  2.3 2.3 2.3 2.3]\n",
            " [2.3 2.3 2.3 2.4 2.4]\n",
            " [2.4 2.5 2.5 2.5 2.5]\n",
            " [2.5 2.5 2.5 2.5 2.6]\n",
            " [2.6 2.6 2.6 2.6 2.7]\n",
            " [2.7 2.7 2.7 2.7 2.7]\n",
            " [2.7 2.7 2.7 2.8 2.8]\n",
            " [2.8 2.8 2.8 2.8 2.8]\n",
            " [2.8 2.8 2.8 2.8 2.8]\n",
            " [2.8 2.8 2.9 2.9 2.9]\n",
            " [2.9 2.9 2.9 2.9 2.9]\n",
            " [2.9 2.9 3.  3.  3. ]\n",
            " [3.  3.  3.  3.  3. ]\n",
            " [3.  3.  3.  3.  3. ]\n",
            " [3.  3.  3.  3.  3. ]\n",
            " [3.  3.  3.  3.  3. ]\n",
            " [3.  3.  3.  3.1 3.1]\n",
            " [3.1 3.1 3.1 3.1 3.1]\n",
            " [3.1 3.1 3.1 3.1 3.2]\n",
            " [3.2 3.2 3.2 3.2 3.2]\n",
            " [3.2 3.2 3.2 3.2 3.2]\n",
            " [3.2 3.2 3.3 3.3 3.3]\n",
            " [3.3 3.3 3.3 3.4 3.4]\n",
            " [3.4 3.4 3.4 3.4 3.4]\n",
            " [3.4 3.4 3.4 3.4 3.4]\n",
            " [3.5 3.5 3.5 3.5 3.5]\n",
            " [3.5 3.6 3.6 3.6 3.6]\n",
            " [3.7 3.7 3.7 3.8 3.8]\n",
            " [3.8 3.8 3.8 3.8 3.9]\n",
            " [3.9 3.9 3.9 4.4 4.4]]\n"
          ],
          "name": "stdout"
        }
      ]
    },
    {
      "cell_type": "code",
      "metadata": {
        "id": "MzqiViXLVtbW",
        "colab_type": "code",
        "colab": {
          "base_uri": "https://localhost:8080/",
          "height": 555
        },
        "outputId": "7c0ec889-43b3-4ea1-c4a1-dd680817715f"
      },
      "source": [
        "##input\n",
        "# Bin median \n",
        "for i in range (0,150,5): \n",
        "    k=int(i/5) \n",
        "    for j in range (5): \n",
        "        bin3[k,j]=b[i+2] \n",
        "print(\"Bin Median: \\n\",bin3) "
      ],
      "execution_count": 9,
      "outputs": [
        {
          "output_type": "stream",
          "text": [
            "Bin Median: \n",
            " [[2.2 2.2 2.2 2.2 2.2]\n",
            " [2.3 2.3 2.3 2.3 2.3]\n",
            " [2.5 2.5 2.5 2.5 2.5]\n",
            " [2.5 2.5 2.5 2.5 2.5]\n",
            " [2.6 2.6 2.6 2.6 2.6]\n",
            " [2.7 2.7 2.7 2.7 2.7]\n",
            " [2.7 2.7 2.7 2.7 2.7]\n",
            " [2.8 2.8 2.8 2.8 2.8]\n",
            " [2.8 2.8 2.8 2.8 2.8]\n",
            " [2.9 2.9 2.9 2.9 2.9]\n",
            " [2.9 2.9 2.9 2.9 2.9]\n",
            " [3.  3.  3.  3.  3. ]\n",
            " [3.  3.  3.  3.  3. ]\n",
            " [3.  3.  3.  3.  3. ]\n",
            " [3.  3.  3.  3.  3. ]\n",
            " [3.  3.  3.  3.  3. ]\n",
            " [3.  3.  3.  3.  3. ]\n",
            " [3.1 3.1 3.1 3.1 3.1]\n",
            " [3.1 3.1 3.1 3.1 3.1]\n",
            " [3.2 3.2 3.2 3.2 3.2]\n",
            " [3.2 3.2 3.2 3.2 3.2]\n",
            " [3.3 3.3 3.3 3.3 3.3]\n",
            " [3.3 3.3 3.3 3.3 3.3]\n",
            " [3.4 3.4 3.4 3.4 3.4]\n",
            " [3.4 3.4 3.4 3.4 3.4]\n",
            " [3.5 3.5 3.5 3.5 3.5]\n",
            " [3.6 3.6 3.6 3.6 3.6]\n",
            " [3.7 3.7 3.7 3.7 3.7]\n",
            " [3.8 3.8 3.8 3.8 3.8]\n",
            " [4.1 4.1 4.1 4.1 4.1]]\n"
          ],
          "name": "stdout"
        }
      ]
    },
    {
      "cell_type": "code",
      "metadata": {
        "id": "7W6ahylJW7Hj",
        "colab_type": "code",
        "colab": {
          "base_uri": "https://localhost:8080/",
          "height": 260
        },
        "outputId": "e958c727-9cfb-400c-e73f-565d206f7a3d"
      },
      "source": [
        "##input\n",
        "#get the count of missing values\n",
        "###binning the data\n",
        "import pandas as pd\n",
        "import numpy as np\n",
        " \n",
        "#Create a DataFrame\n",
        "df1 = {\n",
        "    'Name':['George','Andrea','micheal','maggie','Ravi','Xien','Jalpa',np.nan],\n",
        "    'State':['Arizona','Georgia','Newyork','Indiana','Florida','California',np.nan,np.nan],\n",
        "    'Gender':[\"M\",\"F\",\"M\",\"F\",\"M\",\"M\",np.nan,np.nan],      \n",
        "    'Score':[63,48,56,75,np.nan,77,np.nan,np.nan]\n",
        "     \n",
        "   }\n",
        " \n",
        "df1 = pd.DataFrame(df1,columns=['Name','State','Gender','Score'])\n",
        "print(df1)\n",
        "df1.isnull().sum()"
      ],
      "execution_count": 10,
      "outputs": [
        {
          "output_type": "stream",
          "text": [
            "      Name       State Gender  Score\n",
            "0   George     Arizona      M   63.0\n",
            "1   Andrea     Georgia      F   48.0\n",
            "2  micheal     Newyork      M   56.0\n",
            "3   maggie     Indiana      F   75.0\n",
            "4     Ravi     Florida      M    NaN\n",
            "5     Xien  California      M   77.0\n",
            "6    Jalpa         NaN    NaN    NaN\n",
            "7      NaN         NaN    NaN    NaN\n"
          ],
          "name": "stdout"
        },
        {
          "output_type": "execute_result",
          "data": {
            "text/plain": [
              "Name      1\n",
              "State     2\n",
              "Gender    2\n",
              "Score     3\n",
              "dtype: int64"
            ]
          },
          "metadata": {
            "tags": []
          },
          "execution_count": 10
        }
      ]
    },
    {
      "cell_type": "code",
      "metadata": {
        "id": "7A-rKTKxkrJP",
        "colab_type": "code",
        "colab": {
          "base_uri": "https://localhost:8080/",
          "height": 364
        },
        "outputId": "fed06b42-276f-4408-d029-ce8d38277e36"
      },
      "source": [
        "##input\n",
        "df_ages = pd.DataFrame({'age': np.random.randint(21, 51, 8)})\n",
        "print(df_ages)\n",
        "df_ages['age_bins'] = pd.cut(x=df_ages['age'], bins=[20, 29, 39, 49])\n",
        "print(df_ages)\n",
        "print(df_ages['age_bins'].unique())"
      ],
      "execution_count": 11,
      "outputs": [
        {
          "output_type": "stream",
          "text": [
            "   age\n",
            "0   50\n",
            "1   42\n",
            "2   35\n",
            "3   31\n",
            "4   42\n",
            "5   31\n",
            "6   26\n",
            "7   32\n",
            "   age      age_bins\n",
            "0   50           NaN\n",
            "1   42  (39.0, 49.0]\n",
            "2   35  (29.0, 39.0]\n",
            "3   31  (29.0, 39.0]\n",
            "4   42  (39.0, 49.0]\n",
            "5   31  (29.0, 39.0]\n",
            "6   26  (20.0, 29.0]\n",
            "7   32  (29.0, 39.0]\n",
            "[NaN, (39.0, 49.0], (29.0, 39.0], (20.0, 29.0]]\n",
            "Categories (3, interval[int64]): [(20, 29] < (29, 39] < (39, 49]]\n"
          ],
          "name": "stdout"
        }
      ]
    },
    {
      "cell_type": "code",
      "metadata": {
        "id": "hxh6YhWXkul-",
        "colab_type": "code",
        "colab": {
          "base_uri": "https://localhost:8080/",
          "height": 173
        },
        "outputId": "8804bf8d-1e8e-4444-83b8-5c290c1e9560"
      },
      "source": [
        "##input\n",
        "df_ages['age_by_decade'] = pd.cut(x=df_ages['age'], bins=[20, 29, 39, 49], labels=['20s', '30s', '40s'])\n",
        "print(df_ages)"
      ],
      "execution_count": 12,
      "outputs": [
        {
          "output_type": "stream",
          "text": [
            "   age      age_bins age_by_decade\n",
            "0   50           NaN           NaN\n",
            "1   42  (39.0, 49.0]           40s\n",
            "2   35  (29.0, 39.0]           30s\n",
            "3   31  (29.0, 39.0]           30s\n",
            "4   42  (39.0, 49.0]           40s\n",
            "5   31  (29.0, 39.0]           30s\n",
            "6   26  (20.0, 29.0]           20s\n",
            "7   32  (29.0, 39.0]           30s\n"
          ],
          "name": "stdout"
        }
      ]
    },
    {
      "cell_type": "code",
      "metadata": {
        "id": "6xKYsou3kz7N",
        "colab_type": "code",
        "colab": {
          "base_uri": "https://localhost:8080/",
          "height": 52
        },
        "outputId": "da1e5ea2-7c88-4679-96c2-9c3811b62515"
      },
      "source": [
        "##How do i find the sum of elements in each bin?\n",
        "##df_ages.groupby(['age_by_decade']).count()\n",
        "#discretize it or bin it or categorize it based on the values of the variable. For example, let us say you have measurements of height and want to discretize it such that it is 0 or 1 depending on if the height is below or above a certain value of height.\n",
        "# load numpy\n",
        "import numpy as np\n",
        "# load pandas\n",
        "import pandas as pd\n",
        "# set a random seed to reproduce\n",
        "np.random.seed(123)\n",
        "# create 10 random integers  \n",
        "x = np.random.randint(low=25, high=200, size=10)\n",
        "x = np.sort(x)\n",
        "print(x)\n",
        "#where we use 50 as threshold to bin our data into two categories. One with values less than 50 are in the 0 category and the ones above 50 are in the 1 category.\n",
        "np.digitize(x,bins=[50])"
      ],
      "execution_count": 13,
      "outputs": [
        {
          "output_type": "stream",
          "text": [
            "[ 42  82  91 108 121 123 131 134 148 151]\n"
          ],
          "name": "stdout"
        },
        {
          "output_type": "execute_result",
          "data": {
            "text/plain": [
              "array([0, 1, 1, 1, 1, 1, 1, 1, 1, 1])"
            ]
          },
          "metadata": {
            "tags": []
          },
          "execution_count": 13
        }
      ]
    },
    {
      "cell_type": "code",
      "metadata": {
        "id": "jKJShPq-lC2U",
        "colab_type": "code",
        "colab": {
          "base_uri": "https://localhost:8080/",
          "height": 208
        },
        "outputId": "464d751f-f0b1-4c79-bc0b-ec8098567d51"
      },
      "source": [
        "##input\n",
        "##np.digitize(x,[50,100])\n",
        "df = pd.DataFrame({\"height\":x})    \n",
        "df['binned']=pd.cut(x=df['height'], bins=[0,25,50,100,200])\n",
        "print(df)"
      ],
      "execution_count": 14,
      "outputs": [
        {
          "output_type": "stream",
          "text": [
            "   height      binned\n",
            "0      42    (25, 50]\n",
            "1      82   (50, 100]\n",
            "2      91   (50, 100]\n",
            "3     108  (100, 200]\n",
            "4     121  (100, 200]\n",
            "5     123  (100, 200]\n",
            "6     131  (100, 200]\n",
            "7     134  (100, 200]\n",
            "8     148  (100, 200]\n",
            "9     151  (100, 200]\n"
          ],
          "name": "stdout"
        }
      ]
    },
    {
      "cell_type": "code",
      "metadata": {
        "id": "HMVf8LOWlKD_",
        "colab_type": "code",
        "colab": {
          "base_uri": "https://localhost:8080/",
          "height": 121
        },
        "outputId": "3233c861-b84a-4fb2-b1e7-b429af25078a"
      },
      "source": [
        "##input\n",
        "df['height_bin']=pd.cut(x=df['height'], bins=[0,25,50,100,200], \n",
        "                        labels=[\"very short\", \" short\", \"medium\",\"tall\"])\n",
        "print(df.head())"
      ],
      "execution_count": 15,
      "outputs": [
        {
          "output_type": "stream",
          "text": [
            "   height      binned height_bin\n",
            "0      42    (25, 50]      short\n",
            "1      82   (50, 100]     medium\n",
            "2      91   (50, 100]     medium\n",
            "3     108  (100, 200]       tall\n",
            "4     121  (100, 200]       tall\n"
          ],
          "name": "stdout"
        }
      ]
    },
    {
      "cell_type": "code",
      "metadata": {
        "id": "SyOT0avBlQRQ",
        "colab_type": "code",
        "colab": {
          "base_uri": "https://localhost:8080/",
          "height": 329
        },
        "outputId": "afa1359f-6c14-434b-cc6c-ed71b3c9812e"
      },
      "source": [
        "##input\n",
        "import pandas as pd\n",
        "import numpy as np\n",
        " \n",
        "#Create a DataFrame\n",
        "df1 = {\n",
        "    'Name':['George','Andrea','micheal','maggie','Ravi','Xien','Jalpa','Tyieren'],    \n",
        "    'Score':[63,48,56,75,32,77,85,22]\n",
        "     \n",
        "   }\n",
        " \n",
        " \n",
        "df1 = pd.DataFrame(df1,columns=['Name','Score'])\n",
        "print(df1)\n",
        "''' binning or bucketing with range'''\n",
        " \n",
        "bins = [0, 25, 50, 75, 100]\n",
        "df1['binned'] = pd.cut(df1['Score'], bins)\n",
        "print (df1)"
      ],
      "execution_count": 16,
      "outputs": [
        {
          "output_type": "stream",
          "text": [
            "      Name  Score\n",
            "0   George     63\n",
            "1   Andrea     48\n",
            "2  micheal     56\n",
            "3   maggie     75\n",
            "4     Ravi     32\n",
            "5     Xien     77\n",
            "6    Jalpa     85\n",
            "7  Tyieren     22\n",
            "      Name  Score     binned\n",
            "0   George     63   (50, 75]\n",
            "1   Andrea     48   (25, 50]\n",
            "2  micheal     56   (50, 75]\n",
            "3   maggie     75   (50, 75]\n",
            "4     Ravi     32   (25, 50]\n",
            "5     Xien     77  (75, 100]\n",
            "6    Jalpa     85  (75, 100]\n",
            "7  Tyieren     22    (0, 25]\n"
          ],
          "name": "stdout"
        }
      ]
    },
    {
      "cell_type": "code",
      "metadata": {
        "id": "FU-Z4THxlahe",
        "colab_type": "code",
        "colab": {
          "base_uri": "https://localhost:8080/",
          "height": 329
        },
        "outputId": "a12e7397-91c7-4608-ae09-e9e0e045e734"
      },
      "source": [
        "##input\n",
        "import pandas as pd\n",
        "import numpy as np\n",
        " \n",
        "#Create a DataFrame\n",
        "df1 = {\n",
        "    'Name':['George','Andrea','micheal','maggie','Ravi','Xien','Jalpa','Tyieren'],    \n",
        "    'Score':[63,48,56,75,32,77,85,22]\n",
        "     \n",
        "   }\n",
        " \n",
        " \n",
        "df1 = pd.DataFrame(df1,columns=['Name','Score'])\n",
        "print(df1)\n",
        "''' binning or bucketing with range'''\n",
        " \n",
        "bins = [0, 25, 50, 75, 100]\n",
        "df1['binned'] = pd.cut(df1['Score'], bins)\n",
        "print (df1)\n",
        "##melting and not melting of the data frame\n"
      ],
      "execution_count": 17,
      "outputs": [
        {
          "output_type": "stream",
          "text": [
            "      Name  Score\n",
            "0   George     63\n",
            "1   Andrea     48\n",
            "2  micheal     56\n",
            "3   maggie     75\n",
            "4     Ravi     32\n",
            "5     Xien     77\n",
            "6    Jalpa     85\n",
            "7  Tyieren     22\n",
            "      Name  Score     binned\n",
            "0   George     63   (50, 75]\n",
            "1   Andrea     48   (25, 50]\n",
            "2  micheal     56   (50, 75]\n",
            "3   maggie     75   (50, 75]\n",
            "4     Ravi     32   (25, 50]\n",
            "5     Xien     77  (75, 100]\n",
            "6    Jalpa     85  (75, 100]\n",
            "7  Tyieren     22    (0, 25]\n"
          ],
          "name": "stdout"
        }
      ]
    },
    {
      "cell_type": "code",
      "metadata": {
        "id": "ieuA2ypiluVw",
        "colab_type": "code",
        "colab": {
          "base_uri": "https://localhost:8080/",
          "height": 329
        },
        "outputId": "0eb064e7-698e-4e36-8a5c-aa82a1e365bb"
      },
      "source": [
        "##input\n",
        "import pandas as pd\n",
        "import numpy as np\n",
        " \n",
        "#Create a DataFrame\n",
        "df1 = {\n",
        "    'Name':['George','Andrea','micheal','maggie','Ravi','Xien','Jalpa','Tyieren'],    \n",
        "    'Score':[63,48,56,75,32,77,85,22]\n",
        "     \n",
        "   }\n",
        " \n",
        " \n",
        "df1 = pd.DataFrame(df1,columns=['Name','Score'])\n",
        "print(df1)\n",
        "''' binning or bucketing with range'''\n",
        " \n",
        "bins = [0, 25, 50, 75, 100]\n",
        "df1['binned'] = pd.cut(df1['Score'], bins)\n",
        "print (df1)"
      ],
      "execution_count": 18,
      "outputs": [
        {
          "output_type": "stream",
          "text": [
            "      Name  Score\n",
            "0   George     63\n",
            "1   Andrea     48\n",
            "2  micheal     56\n",
            "3   maggie     75\n",
            "4     Ravi     32\n",
            "5     Xien     77\n",
            "6    Jalpa     85\n",
            "7  Tyieren     22\n",
            "      Name  Score     binned\n",
            "0   George     63   (50, 75]\n",
            "1   Andrea     48   (25, 50]\n",
            "2  micheal     56   (50, 75]\n",
            "3   maggie     75   (50, 75]\n",
            "4     Ravi     32   (25, 50]\n",
            "5     Xien     77  (75, 100]\n",
            "6    Jalpa     85  (75, 100]\n",
            "7  Tyieren     22    (0, 25]\n"
          ],
          "name": "stdout"
        }
      ]
    },
    {
      "cell_type": "code",
      "metadata": {
        "id": "Ue9rKM7ql0Ru",
        "colab_type": "code",
        "colab": {
          "base_uri": "https://localhost:8080/",
          "height": 243
        },
        "outputId": "cb8a1aeb-b82d-4251-a3f3-cc28a9821dd4"
      },
      "source": [
        "##input\n",
        "import pandas as pd\n",
        "import numpy as np\n",
        " \n",
        "df1 = {\n",
        "    'State':['Arizona AZ','Georgia GG','Newyork NY','Indiana IN','Florida FL']}\n",
        " \n",
        "df1 = pd.DataFrame(df1,columns=['State'])\n",
        "print(df1)\n",
        "print(df1.State.str.split().tolist())\n",
        "df2 = pd.DataFrame(df1.State.str.split().tolist(), columns=\"State State_code\".split())\n",
        "print(df2)"
      ],
      "execution_count": 19,
      "outputs": [
        {
          "output_type": "stream",
          "text": [
            "        State\n",
            "0  Arizona AZ\n",
            "1  Georgia GG\n",
            "2  Newyork NY\n",
            "3  Indiana IN\n",
            "4  Florida FL\n",
            "[['Arizona', 'AZ'], ['Georgia', 'GG'], ['Newyork', 'NY'], ['Indiana', 'IN'], ['Florida', 'FL']]\n",
            "     State State_code\n",
            "0  Arizona         AZ\n",
            "1  Georgia         GG\n",
            "2  Newyork         NY\n",
            "3  Indiana         IN\n",
            "4  Florida         FL\n"
          ],
          "name": "stdout"
        }
      ]
    },
    {
      "cell_type": "markdown",
      "metadata": {
        "id": "oYhf02zkl4yk",
        "colab_type": "text"
      },
      "source": [
        "Instead of splitting columns, i can straight away give columns=('State', 'State_code'"
      ]
    },
    {
      "cell_type": "code",
      "metadata": {
        "id": "2OU28W5Jl5ep",
        "colab_type": "code",
        "colab": {
          "base_uri": "https://localhost:8080/",
          "height": 243
        },
        "outputId": "0b0b9449-3186-4413-f958-acfe705e06a7"
      },
      "source": [
        "##input\n",
        "##reshape and melt is almost equivalent\n",
        "import pandas as pd\n",
        "import numpy as np\n",
        " \n",
        "df1 = {\n",
        "    'State':['Arizona AZ','Georgia GG','Newyork NY','Indiana IN','Florida FL']}\n",
        " \n",
        "df1 = pd.DataFrame(df1,columns=['State'])\n",
        "print(df1)\n",
        "print(df1.State.str.split().tolist())\n",
        "df2 = pd.DataFrame(df1.State.str.split().tolist(), columns=\"State State_code\".split())\n",
        "print(df2)"
      ],
      "execution_count": 20,
      "outputs": [
        {
          "output_type": "stream",
          "text": [
            "        State\n",
            "0  Arizona AZ\n",
            "1  Georgia GG\n",
            "2  Newyork NY\n",
            "3  Indiana IN\n",
            "4  Florida FL\n",
            "[['Arizona', 'AZ'], ['Georgia', 'GG'], ['Newyork', 'NY'], ['Indiana', 'IN'], ['Florida', 'FL']]\n",
            "     State State_code\n",
            "0  Arizona         AZ\n",
            "1  Georgia         GG\n",
            "2  Newyork         NY\n",
            "3  Indiana         IN\n",
            "4  Florida         FL\n"
          ],
          "name": "stdout"
        }
      ]
    },
    {
      "cell_type": "markdown",
      "metadata": {
        "id": "UsA_v6ZZmGNq",
        "colab_type": "text"
      },
      "source": [
        "from Satheesh Kumar to everyone:\n",
        "yes working\n",
        "from Edwin Herald Ponniah (internal) to everyone:\n",
        "Can we split based on any stringtokenizer?\n",
        "from Sandeep Kumar (internal) to everyone:\n",
        "i tried with three data in the same state, state_code and Zip code.... it is notworking\n",
        "from Sandeep Kumar (internal) to everyone:\n",
        "can we take a look\n",
        "from Sandeep Kumar (internal) to everyone:\n",
        "it worked\n",
        "from Sandeep Kumar (internal) to everyone:\n",
        "i was doing mistake"
      ]
    },
    {
      "cell_type": "code",
      "metadata": {
        "id": "Q41nFmdQmG-G",
        "colab_type": "code",
        "colab": {
          "base_uri": "https://localhost:8080/",
          "height": 243
        },
        "outputId": "93ea4bdc-c317-4002-e3b2-be98b14e7c1e"
      },
      "source": [
        "##input\n",
        "df3 = {\n",
        "    'State':['Arizona AZ 89034','Georgia GG 34582','Newyork NY 01232','Indiana IN 20987','Florida  09873']}\n",
        " \n",
        "df3 = pd.DataFrame(df3,columns=['State'])\n",
        "print(df3)\n",
        "print(df3.State.str.split().tolist())\n",
        "df4 = pd.DataFrame(df3.State.str.split().tolist(), columns=\"State State_code ZipCode\".split())\n",
        "print(df4)"
      ],
      "execution_count": 21,
      "outputs": [
        {
          "output_type": "stream",
          "text": [
            "              State\n",
            "0  Arizona AZ 89034\n",
            "1  Georgia GG 34582\n",
            "2  Newyork NY 01232\n",
            "3  Indiana IN 20987\n",
            "4    Florida  09873\n",
            "[['Arizona', 'AZ', '89034'], ['Georgia', 'GG', '34582'], ['Newyork', 'NY', '01232'], ['Indiana', 'IN', '20987'], ['Florida', '09873']]\n",
            "     State State_code ZipCode\n",
            "0  Arizona         AZ   89034\n",
            "1  Georgia         GG   34582\n",
            "2  Newyork         NY   01232\n",
            "3  Indiana         IN   20987\n",
            "4  Florida      09873    None\n"
          ],
          "name": "stdout"
        }
      ]
    },
    {
      "cell_type": "markdown",
      "metadata": {
        "id": "3Ijms1xgmSQj",
        "colab_type": "text"
      },
      "source": [
        "from Sandeep Kumar (internal) to everyone:\n",
        "Thats okay i got it\n",
        "from Satheesh Kumar to everyone:\n",
        "specify column name\n",
        "from Vijay Rajagopalan (internal) to everyone:\n",
        "Florida needs FL\n",
        "from Joseph Cutler (internal) to everyone:\n",
        "that is deliberate error .. Sandeep wants us to work on it\n",
        "from Sandeep Kumar (internal) to everyone:\n",
        "yes i  wanted to check with data missing whats happening\n",
        "from Sandeep Kumar (internal) to everyone:\n",
        "in the earlier case it was taking none when the second parameter was not provided"
      ]
    },
    {
      "cell_type": "code",
      "metadata": {
        "id": "f7Ilbg6zmXTF",
        "colab_type": "code",
        "colab": {
          "base_uri": "https://localhost:8080/",
          "height": 35
        },
        "outputId": "555fcddc-4f37-4dcc-cc33-30f6b0afefdc"
      },
      "source": [
        "##input\n",
        "def word_count(str):\n",
        "    counts = dict()\n",
        "    words = str.split()\n",
        "    for word in words:\n",
        "        if word in counts:\n",
        "            counts[word] += 1\n",
        "        else:\n",
        "            counts[word] = 1\n",
        "    return counts\n",
        "3\n",
        "print( word_count('the quick brown fox jumps over the lazy dog.'))"
      ],
      "execution_count": 22,
      "outputs": [
        {
          "output_type": "stream",
          "text": [
            "{'the': 2, 'quick': 1, 'brown': 1, 'fox': 1, 'jumps': 1, 'over': 1, 'lazy': 1, 'dog.': 1}\n"
          ],
          "name": "stdout"
        }
      ]
    },
    {
      "cell_type": "markdown",
      "metadata": {
        "id": "07Miprramd4A",
        "colab_type": "text"
      },
      "source": [
        "from Sandeep Kumar (internal) to everyone:\n",
        "but when three values are passed then its not able to find the second element missing eventhough i gave two spaces between Florida and zip code\n",
        "from Joseph Cutler (internal) to everyone:\n",
        "it will work if we use other delimeter and specify it in the split function\n",
        "from Joseph Cutler (internal) to everyone:\n",
        "the default argument is a whitespace\n",
        "from Ashutosh to everyone:\n",
        "columns=\"State,State_code\".split(\",\")"
      ]
    },
    {
      "cell_type": "code",
      "metadata": {
        "id": "koJy9dSamfvD",
        "colab_type": "code",
        "colab": {
          "base_uri": "https://localhost:8080/",
          "height": 35
        },
        "outputId": "2af26720-9649-4d25-89ca-45673696614c"
      },
      "source": [
        "##input\n",
        "def word_count(str):\n",
        "    counts = dict()\n",
        "    words = str.split()\n",
        "    for word in words:\n",
        "        if word in counts:\n",
        "            counts[word] += 1\n",
        "        else:\n",
        "            counts[word] = 1\n",
        "    return counts\n",
        "3\n",
        "print( word_count('the quick brown fox jumps over the lazy dog.'))"
      ],
      "execution_count": 23,
      "outputs": [
        {
          "output_type": "stream",
          "text": [
            "{'the': 2, 'quick': 1, 'brown': 1, 'fox': 1, 'jumps': 1, 'over': 1, 'lazy': 1, 'dog.': 1}\n"
          ],
          "name": "stdout"
        }
      ]
    },
    {
      "cell_type": "markdown",
      "metadata": {
        "id": "sUzKTOy2mm-d",
        "colab_type": "text"
      },
      "source": [
        "from Joseph Cutler (internal) to everyone:\n",
        "worked with ',' as a delimeter\n",
        "from Joseph Cutler (internal) to everyone:"
      ]
    },
    {
      "cell_type": "code",
      "metadata": {
        "id": "y58TXkPWmnyg",
        "colab_type": "code",
        "colab": {
          "base_uri": "https://localhost:8080/",
          "height": 243
        },
        "outputId": "c0ef2e2b-d15d-4b1c-9a53-507a12fd3951"
      },
      "source": [
        "##input\n",
        "df3 = {\n",
        "    'State':['Arizona,AZ,89034','Georgia,GG,34582','Newyork,NY,01232','Indiana,IN,20987','Florida,,09873']}\n",
        " \n",
        "df3 = pd.DataFrame(df3,columns=['State'])\n",
        "print(df3)\n",
        "print(df3.State.str.split(',').tolist())\n",
        "df4 = pd.DataFrame(df3.State.str.split(',').tolist(), columns=\"State State_code ZipCode\".split())\n",
        "print(df4)"
      ],
      "execution_count": 24,
      "outputs": [
        {
          "output_type": "stream",
          "text": [
            "              State\n",
            "0  Arizona,AZ,89034\n",
            "1  Georgia,GG,34582\n",
            "2  Newyork,NY,01232\n",
            "3  Indiana,IN,20987\n",
            "4    Florida,,09873\n",
            "[['Arizona', 'AZ', '89034'], ['Georgia', 'GG', '34582'], ['Newyork', 'NY', '01232'], ['Indiana', 'IN', '20987'], ['Florida', '', '09873']]\n",
            "     State State_code ZipCode\n",
            "0  Arizona         AZ   89034\n",
            "1  Georgia         GG   34582\n",
            "2  Newyork         NY   01232\n",
            "3  Indiana         IN   20987\n",
            "4  Florida              09873\n"
          ],
          "name": "stdout"
        }
      ]
    },
    {
      "cell_type": "markdown",
      "metadata": {
        "id": "MENMIyP4mwvo",
        "colab_type": "text"
      },
      "source": [
        "from Joseph Cutler (internal) to everyone:\n",
        "i think the problem is when we use the whitespaces.. there must be a way to work around it\n",
        "from Sandeep Kumar (internal) to everyone:\n",
        "Thanks Joeseph, yes thats correct\n",
        "from Sandeep Kumar (internal) to everyone:\n",
        "but in this State code is marked as blank , i mean no value is shown... i was expecting it to be NAN or none\n",
        "from Vijay Rajagopalan (internal) to everyone:\n",
        "1. Split has a separator as an optional parameter. Default is space"
      ]
    },
    {
      "cell_type": "code",
      "metadata": {
        "id": "4ewo6wKcmxei",
        "colab_type": "code",
        "colab": {
          "base_uri": "https://localhost:8080/",
          "height": 306
        },
        "outputId": "9f04ff9f-9dd0-4d5a-bc20-32438e4809cd"
      },
      "source": [
        "##input\n",
        "#string replace in data frame\n",
        "import pandas as pd\n",
        "import numpy as np\n",
        " \n",
        "#Create a DataFrame\n",
        "df1 = {\n",
        "    'State':['zona AZ','Georgia GG','Newyork NY','Indiana IN','Florida FL'],\n",
        "   'Score':[62,47,55,74,31]}\n",
        " \n",
        "df1 = pd.DataFrame(df1,columns=['State','Score'])\n",
        "print(df1)\n",
        "df1.replace(regex=['^.'],value='HE')\n",
        "#from Vijay Rajagopalan (internal) to everyone:\n",
        "#2. Split() returns list. so it would be \"empty\" list if no corresponding string value to return. (not NaN)"
      ],
      "execution_count": 26,
      "outputs": [
        {
          "output_type": "stream",
          "text": [
            "        State  Score\n",
            "0     zona AZ     62\n",
            "1  Georgia GG     47\n",
            "2  Newyork NY     55\n",
            "3  Indiana IN     74\n",
            "4  Florida FL     31\n"
          ],
          "name": "stdout"
        },
        {
          "output_type": "execute_result",
          "data": {
            "text/html": [
              "<div>\n",
              "<style scoped>\n",
              "    .dataframe tbody tr th:only-of-type {\n",
              "        vertical-align: middle;\n",
              "    }\n",
              "\n",
              "    .dataframe tbody tr th {\n",
              "        vertical-align: top;\n",
              "    }\n",
              "\n",
              "    .dataframe thead th {\n",
              "        text-align: right;\n",
              "    }\n",
              "</style>\n",
              "<table border=\"1\" class=\"dataframe\">\n",
              "  <thead>\n",
              "    <tr style=\"text-align: right;\">\n",
              "      <th></th>\n",
              "      <th>State</th>\n",
              "      <th>Score</th>\n",
              "    </tr>\n",
              "  </thead>\n",
              "  <tbody>\n",
              "    <tr>\n",
              "      <th>0</th>\n",
              "      <td>HEona AZ</td>\n",
              "      <td>62</td>\n",
              "    </tr>\n",
              "    <tr>\n",
              "      <th>1</th>\n",
              "      <td>HEeorgia GG</td>\n",
              "      <td>47</td>\n",
              "    </tr>\n",
              "    <tr>\n",
              "      <th>2</th>\n",
              "      <td>HEewyork NY</td>\n",
              "      <td>55</td>\n",
              "    </tr>\n",
              "    <tr>\n",
              "      <th>3</th>\n",
              "      <td>HEndiana IN</td>\n",
              "      <td>74</td>\n",
              "    </tr>\n",
              "    <tr>\n",
              "      <th>4</th>\n",
              "      <td>HElorida FL</td>\n",
              "      <td>31</td>\n",
              "    </tr>\n",
              "  </tbody>\n",
              "</table>\n",
              "</div>"
            ],
            "text/plain": [
              "         State  Score\n",
              "0     HEona AZ     62\n",
              "1  HEeorgia GG     47\n",
              "2  HEewyork NY     55\n",
              "3  HEndiana IN     74\n",
              "4  HElorida FL     31"
            ]
          },
          "metadata": {
            "tags": []
          },
          "execution_count": 26
        }
      ]
    },
    {
      "cell_type": "code",
      "metadata": {
        "id": "aqAqf1jGm8x4",
        "colab_type": "code",
        "colab": {
          "base_uri": "https://localhost:8080/",
          "height": 225
        },
        "outputId": "b8716dea-612b-42a5-af12-a84c405f387d"
      },
      "source": [
        "##input\n",
        "import pandas as pd\n",
        "import numpy as np\n",
        " \n",
        "#Create a DataFrame\n",
        "df1 = {\n",
        "    'State':['Arizona AZ','Georgia GG','Newyork NY','Indiana IN','Florida FL'],\n",
        "   'Score':[62,47,55,74,31]}\n",
        " \n",
        "df1 = pd.DataFrame(df1,columns=['State','Score'])\n",
        "print(df1)\n",
        "df1['State_reverse'] = df1.loc[:,'State'].apply(lambda x: x[::-1])\n",
        "print(df1)"
      ],
      "execution_count": 27,
      "outputs": [
        {
          "output_type": "stream",
          "text": [
            "        State  Score\n",
            "0  Arizona AZ     62\n",
            "1  Georgia GG     47\n",
            "2  Newyork NY     55\n",
            "3  Indiana IN     74\n",
            "4  Florida FL     31\n",
            "        State  Score State_reverse\n",
            "0  Arizona AZ     62    ZA anozirA\n",
            "1  Georgia GG     47    GG aigroeG\n",
            "2  Newyork NY     55    YN kroyweN\n",
            "3  Indiana IN     74    NI anaidnI\n",
            "4  Florida FL     31    LF adirolF\n"
          ],
          "name": "stdout"
        }
      ]
    },
    {
      "cell_type": "code",
      "metadata": {
        "id": "LiScgr6OnDeO",
        "colab_type": "code",
        "colab": {
          "base_uri": "https://localhost:8080/",
          "height": 225
        },
        "outputId": "b4007e09-2703-49c5-9cb3-8af4e72503b3"
      },
      "source": [
        "##input\n",
        "df1 = {\n",
        "    'State':['Arizona AZ','Georgia GG','Newyork NY','Indiana IN','Florida FL'],\n",
        "   'Score':[62,47,55,74,31]}\n",
        " \n",
        "df1 = pd.DataFrame(df1,columns=['State','Score'])\n",
        "print(df1)\n",
        "df1['State_reverse'] = df1.loc[:,'State'].apply(lambda x: x[::-1])\n",
        "print(df1)"
      ],
      "execution_count": 28,
      "outputs": [
        {
          "output_type": "stream",
          "text": [
            "        State  Score\n",
            "0  Arizona AZ     62\n",
            "1  Georgia GG     47\n",
            "2  Newyork NY     55\n",
            "3  Indiana IN     74\n",
            "4  Florida FL     31\n",
            "        State  Score State_reverse\n",
            "0  Arizona AZ     62    ZA anozirA\n",
            "1  Georgia GG     47    GG aigroeG\n",
            "2  Newyork NY     55    YN kroyweN\n",
            "3  Indiana IN     74    NI anaidnI\n",
            "4  Florida FL     31    LF adirolF\n"
          ],
          "name": "stdout"
        }
      ]
    },
    {
      "cell_type": "code",
      "metadata": {
        "id": "o-F4OfGanITg",
        "colab_type": "code",
        "colab": {
          "base_uri": "https://localhost:8080/",
          "height": 210
        },
        "outputId": "375d7c70-f4fc-4de8-81cf-01b6ad09f6e1"
      },
      "source": [
        "##input\n",
        "df = pd.DataFrame({'P': {0: 'p', 1: 'q', 2: 'r'},\n",
        "                   'Q': {0: 1, 1: 3, 2: 5},\n",
        "                   'R': {0: 2, 1: 4, 2: 6}})\n",
        "print(df)\n",
        "df.melt(id_vars=['P'], value_vars=['Q'])"
      ],
      "execution_count": 29,
      "outputs": [
        {
          "output_type": "stream",
          "text": [
            "   P  Q  R\n",
            "0  p  1  2\n",
            "1  q  3  4\n",
            "2  r  5  6\n"
          ],
          "name": "stdout"
        },
        {
          "output_type": "execute_result",
          "data": {
            "text/html": [
              "<div>\n",
              "<style scoped>\n",
              "    .dataframe tbody tr th:only-of-type {\n",
              "        vertical-align: middle;\n",
              "    }\n",
              "\n",
              "    .dataframe tbody tr th {\n",
              "        vertical-align: top;\n",
              "    }\n",
              "\n",
              "    .dataframe thead th {\n",
              "        text-align: right;\n",
              "    }\n",
              "</style>\n",
              "<table border=\"1\" class=\"dataframe\">\n",
              "  <thead>\n",
              "    <tr style=\"text-align: right;\">\n",
              "      <th></th>\n",
              "      <th>P</th>\n",
              "      <th>variable</th>\n",
              "      <th>value</th>\n",
              "    </tr>\n",
              "  </thead>\n",
              "  <tbody>\n",
              "    <tr>\n",
              "      <th>0</th>\n",
              "      <td>p</td>\n",
              "      <td>Q</td>\n",
              "      <td>1</td>\n",
              "    </tr>\n",
              "    <tr>\n",
              "      <th>1</th>\n",
              "      <td>q</td>\n",
              "      <td>Q</td>\n",
              "      <td>3</td>\n",
              "    </tr>\n",
              "    <tr>\n",
              "      <th>2</th>\n",
              "      <td>r</td>\n",
              "      <td>Q</td>\n",
              "      <td>5</td>\n",
              "    </tr>\n",
              "  </tbody>\n",
              "</table>\n",
              "</div>"
            ],
            "text/plain": [
              "   P variable  value\n",
              "0  p        Q      1\n",
              "1  q        Q      3\n",
              "2  r        Q      5"
            ]
          },
          "metadata": {
            "tags": []
          },
          "execution_count": 29
        }
      ]
    },
    {
      "cell_type": "markdown",
      "metadata": {
        "id": "YrtwcgwwnPxh",
        "colab_type": "text"
      },
      "source": [
        "from 493740 to everyone:\n",
        "can you please explain melt again\n",
        "from 493740 to everyone:\n",
        "no sharda.. sorry.. i dont remember\n",
        "from Edwin Herald Ponniah (internal) to everyone:\n",
        "Shaunak, do you have any code to show?\n",
        "from Edwin Herald Ponniah (internal) to everyone:\n",
        "on that day you have shown\n",
        "from yograj to everyone:\n",
        "can not see the screen\n",
        "from ManiKandan Lagichetty (internal) to everyone:\n",
        "Sharada share the screen\n",
        "from suresh thammiraju to everyone:\n",
        "I am unable to hear\n",
        "from yograj to everyone:\n",
        "but reshape is the part of numpy. while melt for pandas, m i right?"
      ]
    },
    {
      "cell_type": "code",
      "metadata": {
        "id": "7Jto67Q1nQfS",
        "colab_type": "code",
        "colab": {
          "base_uri": "https://localhost:8080/",
          "height": 210
        },
        "outputId": "73949049-0a01-4345-ac67-3ab5af89ac1f"
      },
      "source": [
        "##input\n",
        "# importing pandas as pd \n",
        "import pandas as pd \n",
        "  \n",
        "# creating a dataframe \n",
        "df = pd.DataFrame({'Name': {0: 'John', 1: 'Bob', 2: 'Shiela'}, \n",
        "                   'Course': {0: 'Masters', 1: 'Graduate', 2: 'Graduate'}, \n",
        "                   'Age': {0: 27, 1: 23, 2: 21}}) \n",
        "print(df )\n",
        "# Name is id_vars and Course is value_vars \n",
        "pd.melt(df, id_vars =['Name'], value_vars =['Course'])\n",
        "pd.melt(df, id_vars =['Name'], value_vars =['Age'])"
      ],
      "execution_count": 30,
      "outputs": [
        {
          "output_type": "stream",
          "text": [
            "     Name    Course  Age\n",
            "0    John   Masters   27\n",
            "1     Bob  Graduate   23\n",
            "2  Shiela  Graduate   21\n"
          ],
          "name": "stdout"
        },
        {
          "output_type": "execute_result",
          "data": {
            "text/html": [
              "<div>\n",
              "<style scoped>\n",
              "    .dataframe tbody tr th:only-of-type {\n",
              "        vertical-align: middle;\n",
              "    }\n",
              "\n",
              "    .dataframe tbody tr th {\n",
              "        vertical-align: top;\n",
              "    }\n",
              "\n",
              "    .dataframe thead th {\n",
              "        text-align: right;\n",
              "    }\n",
              "</style>\n",
              "<table border=\"1\" class=\"dataframe\">\n",
              "  <thead>\n",
              "    <tr style=\"text-align: right;\">\n",
              "      <th></th>\n",
              "      <th>Name</th>\n",
              "      <th>variable</th>\n",
              "      <th>value</th>\n",
              "    </tr>\n",
              "  </thead>\n",
              "  <tbody>\n",
              "    <tr>\n",
              "      <th>0</th>\n",
              "      <td>John</td>\n",
              "      <td>Age</td>\n",
              "      <td>27</td>\n",
              "    </tr>\n",
              "    <tr>\n",
              "      <th>1</th>\n",
              "      <td>Bob</td>\n",
              "      <td>Age</td>\n",
              "      <td>23</td>\n",
              "    </tr>\n",
              "    <tr>\n",
              "      <th>2</th>\n",
              "      <td>Shiela</td>\n",
              "      <td>Age</td>\n",
              "      <td>21</td>\n",
              "    </tr>\n",
              "  </tbody>\n",
              "</table>\n",
              "</div>"
            ],
            "text/plain": [
              "     Name variable  value\n",
              "0    John      Age     27\n",
              "1     Bob      Age     23\n",
              "2  Shiela      Age     21"
            ]
          },
          "metadata": {
            "tags": []
          },
          "execution_count": 30
        }
      ]
    },
    {
      "cell_type": "markdown",
      "metadata": {
        "id": "IbOK8Gj9nWgG",
        "colab_type": "text"
      },
      "source": [
        "explode is also there ....breakdown in 2 -3 lists"
      ]
    },
    {
      "cell_type": "code",
      "metadata": {
        "id": "dW5RYpfGnd71",
        "colab_type": "code",
        "colab": {
          "base_uri": "https://localhost:8080/",
          "height": 350
        },
        "outputId": "779a3e80-09e7-468f-f4da-e75795eea752"
      },
      "source": [
        "##input\n",
        "df = pd.DataFrame({'P': [[2, 3, 4], 'fff', [], [4, 5]], 'Q': 2})\n",
        "print(df)\n",
        "df = pd.DataFrame({'P': [[2, 3, 4], 'fff', [], [4, 5]], 'Q': 2})\n",
        "df.explode('P')"
      ],
      "execution_count": 31,
      "outputs": [
        {
          "output_type": "stream",
          "text": [
            "           P  Q\n",
            "0  [2, 3, 4]  2\n",
            "1        fff  2\n",
            "2         []  2\n",
            "3     [4, 5]  2\n"
          ],
          "name": "stdout"
        },
        {
          "output_type": "execute_result",
          "data": {
            "text/html": [
              "<div>\n",
              "<style scoped>\n",
              "    .dataframe tbody tr th:only-of-type {\n",
              "        vertical-align: middle;\n",
              "    }\n",
              "\n",
              "    .dataframe tbody tr th {\n",
              "        vertical-align: top;\n",
              "    }\n",
              "\n",
              "    .dataframe thead th {\n",
              "        text-align: right;\n",
              "    }\n",
              "</style>\n",
              "<table border=\"1\" class=\"dataframe\">\n",
              "  <thead>\n",
              "    <tr style=\"text-align: right;\">\n",
              "      <th></th>\n",
              "      <th>P</th>\n",
              "      <th>Q</th>\n",
              "    </tr>\n",
              "  </thead>\n",
              "  <tbody>\n",
              "    <tr>\n",
              "      <th>0</th>\n",
              "      <td>2</td>\n",
              "      <td>2</td>\n",
              "    </tr>\n",
              "    <tr>\n",
              "      <th>0</th>\n",
              "      <td>3</td>\n",
              "      <td>2</td>\n",
              "    </tr>\n",
              "    <tr>\n",
              "      <th>0</th>\n",
              "      <td>4</td>\n",
              "      <td>2</td>\n",
              "    </tr>\n",
              "    <tr>\n",
              "      <th>1</th>\n",
              "      <td>fff</td>\n",
              "      <td>2</td>\n",
              "    </tr>\n",
              "    <tr>\n",
              "      <th>2</th>\n",
              "      <td>NaN</td>\n",
              "      <td>2</td>\n",
              "    </tr>\n",
              "    <tr>\n",
              "      <th>3</th>\n",
              "      <td>4</td>\n",
              "      <td>2</td>\n",
              "    </tr>\n",
              "    <tr>\n",
              "      <th>3</th>\n",
              "      <td>5</td>\n",
              "      <td>2</td>\n",
              "    </tr>\n",
              "  </tbody>\n",
              "</table>\n",
              "</div>"
            ],
            "text/plain": [
              "     P  Q\n",
              "0    2  2\n",
              "0    3  2\n",
              "0    4  2\n",
              "1  fff  2\n",
              "2  NaN  2\n",
              "3    4  2\n",
              "3    5  2"
            ]
          },
          "metadata": {
            "tags": []
          },
          "execution_count": 31
        }
      ]
    }
  ]
}