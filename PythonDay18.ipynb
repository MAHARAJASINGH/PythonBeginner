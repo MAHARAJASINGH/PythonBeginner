{
  "nbformat": 4,
  "nbformat_minor": 0,
  "metadata": {
    "colab": {
      "name": "PythonDay18.ipynb",
      "provenance": [],
      "collapsed_sections": [],
      "authorship_tag": "ABX9TyMMs4XQdkeNf4p5D9eBUxfa",
      "include_colab_link": true
    },
    "kernelspec": {
      "name": "python3",
      "display_name": "Python 3"
    }
  },
  "cells": [
    {
      "cell_type": "markdown",
      "metadata": {
        "id": "view-in-github",
        "colab_type": "text"
      },
      "source": [
        "<a href=\"https://colab.research.google.com/github/MAHARAJASINGH/PythonBeginner/blob/master/PythonDay18.ipynb\" target=\"_parent\"><img src=\"https://colab.research.google.com/assets/colab-badge.svg\" alt=\"Open In Colab\"/></a>"
      ]
    },
    {
      "cell_type": "code",
      "metadata": {
        "id": "panr8MzqUpQT",
        "colab_type": "code",
        "colab": {
          "base_uri": "https://localhost:8080/",
          "height": 87
        },
        "outputId": "47ab16b7-d16c-4259-9f9e-d7ad00a15119"
      },
      "source": [
        "##mean...standard deviation and other from data set....\n",
        "##calling function and other details\n",
        "##positive and negative skew she don't have\n",
        "def range_min_max(abclist):\n",
        "    smallest = abclist[0]\n",
        "    largest = abclist[0]\n",
        "    range_of_values = 0\n",
        "    ##what this 1: mean here ----might be starting from 1 or all values\n",
        "    ##smallest and largest values\n",
        "    for item in abclist[1:]:\n",
        "        if item < smallest:\n",
        "            smallest = item\n",
        "        elif item > largest:\n",
        "            largest = item\n",
        "    range_of_values = largest - smallest\n",
        "    return smallest, largest, range_of_values\n",
        "def mean(datalist):\n",
        "    total = 0\n",
        "    mean = 0\n",
        "    for item in datalist:\n",
        "        total += item   ##total=total+item\n",
        "    mean = total / float(len(datalist))\n",
        "    return mean\n",
        "\n",
        "def avg_dev(thislist):\n",
        "    average = mean(thislist)\n",
        "    sum_of_dev = 0\n",
        "    avg_dev = 0\n",
        "    for item in thislist:##what is this abs\n",
        "        sum_of_dev += abs((average - item))\n",
        "        ##for item works only for the frst line after this...\n",
        "    avg_dev = sum_of_dev / len(thislist)\n",
        "    return avg_dev\n",
        " \n",
        "def variance(thatlist):\n",
        "    average = mean(thatlist)\n",
        "    sum_of_sqrt_dev = 0\n",
        "    variance = 0\n",
        "    for item in thatlist:\n",
        "        sum_of_sqrt_dev += (average - item) ** 2\n",
        "    variance = sum_of_sqrt_dev / len(thatlist)\n",
        "    return variance\n",
        " \n",
        "def std_dev(anotherlist):\n",
        "    std_dev = variance(anotherlist) ** 0.5\n",
        "    return std_dev\n",
        "crater_diameter = [46, 51, 49, 82, 74, 63, 49, 70, 48, 47, 79, 48, 52, 55, 49, 51, 58, 82, 72, 45]\n",
        " \n",
        "print(range_min_max(crater_diameter))\n",
        "print(avg_dev(crater_diameter))\n",
        "print(variance(crater_diameter))\n",
        "print(std_dev(crater_diameter))"
      ],
      "execution_count": null,
      "outputs": [
        {
          "output_type": "stream",
          "text": [
            "(45, 82, 37)\n",
            "11.25\n",
            "161.45\n",
            "12.706297651164952\n"
          ],
          "name": "stdout"
        }
      ]
    },
    {
      "cell_type": "markdown",
      "metadata": {
        "id": "e_i5RKhPUz4N",
        "colab_type": "text"
      },
      "source": [
        "for calculting quartile and understanding better... please go through this link....https://study.com/academy/lesson/quartiles-the-interquartile-range-definition-formulate-examples.html\n",
        "\n",
        "##sir calculation helpl\n",
        "\n",
        "numy has mean as well....variance and standard deviation in it\n",
        "\n",
        "standard deviation cannot be 0\n",
        "variance\n",
        "sd2=variance\n",
        "skew3=variance\n",
        "t4=variance\n",
        "kurtosis...will tell u how ur curve is\n",
        "\n",
        "Gaussian and Non Gaussian"
      ]
    },
    {
      "cell_type": "code",
      "metadata": {
        "id": "To2VVBaUdcJu",
        "colab_type": "code",
        "colab": {}
      },
      "source": [
        "import matplotlib.pyplot as plt\n",
        "from scipy.stats import skew"
      ],
      "execution_count": null,
      "outputs": []
    },
    {
      "cell_type": "markdown",
      "metadata": {
        "id": "Rv47Jf_dfJJr",
        "colab_type": "text"
      },
      "source": [
        "mean -mode ...whole divided by standard deviation\n",
        "skwneess ..\n",
        "defines how much graph is symmentrical\n",
        "s4 is a kurtosis..\n",
        "left skew rgt skew and normal skew\n",
        "how flat is ur data and how much curvatious it is...describe the tail of the tail\n",
        "\n",
        "peak in the middle kgreater than 0\n",
        "peak is very less ...less than 0\n",
        "degree of concentration in the centre\n",
        "kurtosis is based on the calculation from 3\n",
        "lepto\n",
        "meso\n",
        "platy kurtosis"
      ]
    },
    {
      "cell_type": "code",
      "metadata": {
        "id": "ty5V3zEcj_MI",
        "colab_type": "code",
        "colab": {
          "base_uri": "https://localhost:8080/",
          "height": 104
        },
        "outputId": "d2743810-fd3b-4660-b7b4-089cb2fffdf2"
      },
      "source": [
        "import matplotlib.pyplot as plt\n",
        "from scipy.stats import kurtosis, skew\n",
        "crater_diameter = [46, 51, 49, 82, 74, 63, 49, 70, 48, 47, 79, 48, 52, 55, 49, 51, 58, 82, 72, 45,30,32]\n",
        "crater_diameter_test = [.003,.2,0,0.5,.3,.01,.02]\n",
        "sample_crater_diameter = [46, 51, 49, 82]\n",
        "sample1 = [0, 3, 4, 1, 2, 3, 0, 2, 1, 3, 2, 0, 2, 2, 3, 2, 5, 2, 3,9]\n",
        "sample_variance = variance(sample_crater_diameter)\n",
        "sample_variance1 = variance(sample1)\n",
        "print(sample_variance)\n",
        "print(sample_variance1)\n",
        "population_var = variance(crater_diameter)\n",
        "print(population_var)\n",
        "#print(range_min_max(crater_diameter))\n",
        "#print(avg_dev(crater_diameter))\n",
        "#print(variance(crater_diameter))\n",
        "#print(std_dev(crater_diameter))\n",
        "data = [50,50,51,90,100,80,90]\n",
        "print(variance(data))\n",
        "print(kurtosis(sample1))"
      ],
      "execution_count": null,
      "outputs": [
        {
          "output_type": "stream",
          "text": [
            "211.5\n",
            "3.8475\n",
            "209.36363636363637\n",
            "414.0\n",
            "3.776734088488131\n"
          ],
          "name": "stdout"
        }
      ]
    },
    {
      "cell_type": "markdown",
      "metadata": {
        "id": "HcGpHJcHl38G",
        "colab_type": "text"
      },
      "source": [
        "statistic package need to imported to use the mode function\n",
        "mode is that value which is repeating max no of times"
      ]
    },
    {
      "cell_type": "code",
      "metadata": {
        "id": "EYOuyR9Cl_Fu",
        "colab_type": "code",
        "colab": {}
      },
      "source": [
        "##input\n"
      ],
      "execution_count": null,
      "outputs": []
    }
  ]
}