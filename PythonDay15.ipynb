{
  "nbformat": 4,
  "nbformat_minor": 0,
  "metadata": {
    "colab": {
      "name": "PythonDay15.ipynb",
      "provenance": [],
      "collapsed_sections": [],
      "authorship_tag": "ABX9TyNNiUhS8QLx/BWRaRNvz21R",
      "include_colab_link": true
    },
    "kernelspec": {
      "name": "python3",
      "display_name": "Python 3"
    }
  },
  "cells": [
    {
      "cell_type": "markdown",
      "metadata": {
        "id": "view-in-github",
        "colab_type": "text"
      },
      "source": [
        "<a href=\"https://colab.research.google.com/github/MAHARAJASINGH/PythonBeginner/blob/master/PythonDay15.ipynb\" target=\"_parent\"><img src=\"https://colab.research.google.com/assets/colab-badge.svg\" alt=\"Open In Colab\"/></a>"
      ]
    },
    {
      "cell_type": "code",
      "metadata": {
        "id": "aiVpg80kZrB7",
        "colab_type": "code",
        "colab": {
          "base_uri": "https://localhost:8080/",
          "height": 225
        },
        "outputId": "2bd0b173-9b89-4f1e-9416-4e76c3b4c761"
      },
      "source": [
        "##pandas.pydata.   link he is using for this\n",
        "##input\n",
        "import pandas as pd\n",
        "import numpy as np\n",
        "##table format dataframe\n",
        "df = pd.DataFrame({'Age':['12',np.nan,'32','21','55'],\n",
        "        'Height':[\"5'7\",\"5'8\",\"5'5\",np.nan,\"5'10\"],\n",
        "                  'Weight':[np.nan,'160','165','155','170'],\n",
        "                  'Gender':['M','M',np.nan,'F',np.nan],\n",
        "                  'Salary':[2900,6550000,7840000,6550000,8950000]})\n",
        "df = pd.DataFrame({'Age':['12',np.nan,'32','21','55'],\n",
        "        'Height':[\"5'7\",\"5'8\",\"5'5\",np.nan,\"5'10\"],\n",
        "                  'Weight':[np.nan,'160','165','155','170'],\n",
        "                  'Gender':['M','M',np.nan,'F',np.nan],\n",
        "                  'Salary':[29000,650,7840000,6550000,8950000]})\n",
        "print(df)\n",
        "df['s'] = df['Salary'].apply(lambda x: \n",
        "                             str(x/1e6).format('{:.2}')+'M' \n",
        "                                 if x >= 1e6 \n",
        "                             else str(x/1e3).format('{:.2}')+'K'\n",
        "                                 if x > 1e3\n",
        "                             else str(x).format('{:,}'))\n",
        "print(df)"
      ],
      "execution_count": 5,
      "outputs": [
        {
          "output_type": "stream",
          "text": [
            "   Age Height Weight Gender   Salary\n",
            "0   12    5'7    NaN      M    29000\n",
            "1  NaN    5'8    160      M      650\n",
            "2   32    5'5    165    NaN  7840000\n",
            "3   21    NaN    155      F  6550000\n",
            "4   55   5'10    170    NaN  8950000\n",
            "   Age Height Weight Gender   Salary      s\n",
            "0   12    5'7    NaN      M    29000  29.0K\n",
            "1  NaN    5'8    160      M      650    650\n",
            "2   32    5'5    165    NaN  7840000  7.84M\n",
            "3   21    NaN    155      F  6550000  6.55M\n",
            "4   55   5'10    170    NaN  8950000  8.95M\n"
          ],
          "name": "stdout"
        }
      ]
    },
    {
      "cell_type": "code",
      "metadata": {
        "id": "NO89ZNS0cjjb",
        "colab_type": "code",
        "colab": {
          "base_uri": "https://localhost:8080/",
          "height": 277
        },
        "outputId": "b94e72be-1cc0-41d8-e099-c17ea9a7eaab"
      },
      "source": [
        "##input\n",
        "##exploding and vice versa\n",
        "#explode \n",
        "df = pd.DataFrame({'P': [[2, 3, 4], 'fff', [], [4, 5]], 'Q': 2})\n",
        "print(df)\n",
        "df = pd.DataFrame({'P': [[2, 3, 4], 'fff', [], [4, 5]], 'Q': 2})\n",
        "#print(df)\n",
        "edf = df.explode('P')\n",
        "print(edf)\n",
        "lst = edf['P'][0].tolist()\n",
        "#print(edf['P'][4])\n",
        "\n",
        "lst2= edf['P'][1]\n",
        "lst111= edf['P'][2]\n",
        "lst3 = edf['P'][3].tolist()\n",
        "print(lst3)\n",
        "d = {'P':[lst,lst2,lst111,lst3]}\n",
        "print(d)\n",
        "xdf = pd.DataFrame({'P':[lst,lst2,lst111,lst3]})\n",
        "#print(xdf['P'])"
      ],
      "execution_count": 13,
      "outputs": [
        {
          "output_type": "stream",
          "text": [
            "           P  Q\n",
            "0  [2, 3, 4]  2\n",
            "1        fff  2\n",
            "2         []  2\n",
            "3     [4, 5]  2\n",
            "     P  Q\n",
            "0    2  2\n",
            "0    3  2\n",
            "0    4  2\n",
            "1  fff  2\n",
            "2  NaN  2\n",
            "3    4  2\n",
            "3    5  2\n",
            "[4, 5]\n",
            "{'P': [[2, 3, 4], 'fff', nan, [4, 5]]}\n"
          ],
          "name": "stdout"
        }
      ]
    },
    {
      "cell_type": "code",
      "metadata": {
        "id": "MyCUaEBDeaft",
        "colab_type": "code",
        "colab": {
          "base_uri": "https://localhost:8080/",
          "height": 295
        },
        "outputId": "e7f75461-7693-4574-80ad-d545d8fbb780"
      },
      "source": [
        "##input\n",
        "#explode \n",
        "df = pd.DataFrame({'P': [[2, 3, 4], 'fff', [], [4, 5]], 'Q': 2})\n",
        "print(df)\n",
        "df = pd.DataFrame({'P': [[2, 3, 4], 'fff', [], [4, 5]], 'Q': 2})\n",
        "#print(df)\n",
        "edf = df.explode('P')\n",
        "print(edf)\n",
        "lst = edf['P'][0].tolist()\n",
        "#print(edf['P'][4])\n",
        "lst2= edf['P'][1]\n",
        "lst3 = edf['P'][3].tolist()\n",
        "print(lst2)\n",
        "print(lst3)\n",
        "d = {'P':[lst,lst2,lst3]}\n",
        "print(d)\n",
        "xdf = pd.DataFrame({'P':[lst,lst2,lst3]})\n",
        "#print(xdf['P'])"
      ],
      "execution_count": 10,
      "outputs": [
        {
          "output_type": "stream",
          "text": [
            "           P  Q\n",
            "0  [2, 3, 4]  2\n",
            "1        fff  2\n",
            "2         []  2\n",
            "3     [4, 5]  2\n",
            "     P  Q\n",
            "0    2  2\n",
            "0    3  2\n",
            "0    4  2\n",
            "1  fff  2\n",
            "2  NaN  2\n",
            "3    4  2\n",
            "3    5  2\n",
            "fff\n",
            "[4, 5]\n",
            "{'P': [[2, 3, 4], 'fff', [4, 5]]}\n"
          ],
          "name": "stdout"
        }
      ]
    },
    {
      "cell_type": "markdown",
      "metadata": {
        "id": "Rt0xeHSkbFsm",
        "colab_type": "text"
      },
      "source": [
        "But the interval column in the dataframe is getting converted to a Series\n",
        "from Shaunak Guha Thakurata (internal) to everyone:\n",
        "And it doesn't have the overlap function\n",
        "from Edwin Herald Ponniah (internal) to everyone:\n",
        "Its not converting, by default if you find the type of a data frame, it gives back Series type only"
      ]
    },
    {
      "cell_type": "code",
      "metadata": {
        "id": "qRDdkSZHehRE",
        "colab_type": "code",
        "colab": {
          "base_uri": "https://localhost:8080/",
          "height": 295
        },
        "outputId": "6113801c-1e6d-48eb-998d-4fd0e21e2a63"
      },
      "source": [
        "##input\n",
        "# data sample\n",
        "d1 = pd.DataFrame({'Airline':['A','B','C'],'Delays':[[],[1],[1,2]]})\n",
        "##complex dataframe creation\n",
        "d2 = (pd.DataFrame(d1['Delays'].values.tolist(), index=d1.index)\n",
        "        .rename(columns = lambda x: 'Delay{}'.format(x+1)))\n",
        "print(d1)\n",
        "print(d2)\n",
        "df = d1.join(d2)\n",
        "print (df)\n",
        "d2 = (pd.DataFrame(d1.pop('Delays').values.tolist(), index=d1.index)\n",
        "        .rename(columns = lambda x: 'Delay{}'.format(x+1)))\n",
        "df = d1.join(d2)\n",
        "print (df)"
      ],
      "execution_count": 11,
      "outputs": [
        {
          "output_type": "stream",
          "text": [
            "  Airline  Delays\n",
            "0       A      []\n",
            "1       B     [1]\n",
            "2       C  [1, 2]\n",
            "   Delay1  Delay2\n",
            "0     NaN     NaN\n",
            "1     1.0     NaN\n",
            "2     1.0     2.0\n",
            "  Airline  Delays  Delay1  Delay2\n",
            "0       A      []     NaN     NaN\n",
            "1       B     [1]     1.0     NaN\n",
            "2       C  [1, 2]     1.0     2.0\n",
            "  Airline  Delay1  Delay2\n",
            "0       A     NaN     NaN\n",
            "1       B     1.0     NaN\n",
            "2       C     1.0     2.0\n"
          ],
          "name": "stdout"
        }
      ]
    },
    {
      "cell_type": "code",
      "metadata": {
        "id": "8mqEG-pUfpax",
        "colab_type": "code",
        "colab": {
          "base_uri": "https://localhost:8080/",
          "height": 243
        },
        "outputId": "2fcf66ba-e535-41df-be5a-c94cbbd8dbe7"
      },
      "source": [
        "##converting a dataframe column into a series\n",
        "df = pd.DataFrame([[2, 3], [4, 5]], columns=['p', 'q'])\n",
        "print(df)\n",
        "##taking singl column at frst\n",
        "df_p = df[['p']]\n",
        "print(df_p)\n",
        "s_p=df_p.squeeze('columns')\n",
        "print('in the squeeze format it is')\n",
        "print(s_p)\n",
        "##print(s_p['p']) not work as series don't jhave any column rgt now\n",
        "df[['q']].squeeze('columns')"
      ],
      "execution_count": 23,
      "outputs": [
        {
          "output_type": "stream",
          "text": [
            "   p  q\n",
            "0  2  3\n",
            "1  4  5\n",
            "   p\n",
            "0  2\n",
            "1  4\n",
            "in the squeeze format it is\n",
            "0    2\n",
            "1    4\n",
            "Name: p, dtype: int64\n"
          ],
          "name": "stdout"
        },
        {
          "output_type": "execute_result",
          "data": {
            "text/plain": [
              "0    3\n",
              "1    5\n",
              "Name: q, dtype: int64"
            ]
          },
          "metadata": {
            "tags": []
          },
          "execution_count": 23
        }
      ]
    },
    {
      "cell_type": "code",
      "metadata": {
        "id": "iqe_kArbiDu9",
        "colab_type": "code",
        "colab": {
          "base_uri": "https://localhost:8080/",
          "height": 121
        },
        "outputId": "b8d94b96-b025-4c2b-f44e-05e55512b055"
      },
      "source": [
        "##setting the index of the series\n",
        "# importing pandas as pd \n",
        "import pandas as pd \n",
        "  \n",
        "# Creating the Series \n",
        "sr = pd.Series(['New York', 'Chicago', 'Toronto', 'Lisbon', 'Rio']) \n",
        "  \n",
        "# Create the Index \n",
        "index_ = ['City 1', 'City 2', 'City 3', 'City 4', 'City 5']  \n",
        "  \n",
        "# set the index \n",
        "sr.index = index_ \n",
        "  \n",
        "# Print the series \n",
        "print(sr)\n"
      ],
      "execution_count": 25,
      "outputs": [
        {
          "output_type": "stream",
          "text": [
            "City 1    New York\n",
            "City 2     Chicago\n",
            "City 3     Toronto\n",
            "City 4      Lisbon\n",
            "City 5         Rio\n",
            "dtype: object\n"
          ],
          "name": "stdout"
        }
      ]
    },
    {
      "cell_type": "code",
      "metadata": {
        "id": "gLOoAGq3iyN_",
        "colab_type": "code",
        "colab": {
          "base_uri": "https://localhost:8080/",
          "height": 451
        },
        "outputId": "77fc854a-98ff-4f68-8fa1-3e740f86efaf"
      },
      "source": [
        "##input\n",
        "# importing pandas as pd \n",
        "import pandas as pd \n",
        "  \n",
        "# Creating the Series \n",
        "sr = pd.Series([11, 21, 8, 18, 65, 18, 32, 10, 5, 32, None]) \n",
        "  \n",
        "# Create the Index \n",
        "# apply yearly frequency \n",
        "index_ = pd.date_range('2010-10-09 08:45', periods = 11, freq ='Y') \n",
        "  \n",
        "# set the index \n",
        "sr.index = index_ \n",
        "  \n",
        "# Print the series \n",
        "print(sr) \n",
        "##it will take x as the values in the series and print true false there\n",
        "result = sr.apply(lambda x : True if x>30 else False) \n",
        "  \n",
        "print('partition with lambda') \n",
        "# Print the result \n",
        "print(result)"
      ],
      "execution_count": 27,
      "outputs": [
        {
          "output_type": "stream",
          "text": [
            "2010-12-31 08:45:00    11.0\n",
            "2011-12-31 08:45:00    21.0\n",
            "2012-12-31 08:45:00     8.0\n",
            "2013-12-31 08:45:00    18.0\n",
            "2014-12-31 08:45:00    65.0\n",
            "2015-12-31 08:45:00    18.0\n",
            "2016-12-31 08:45:00    32.0\n",
            "2017-12-31 08:45:00    10.0\n",
            "2018-12-31 08:45:00     5.0\n",
            "2019-12-31 08:45:00    32.0\n",
            "2020-12-31 08:45:00     NaN\n",
            "Freq: A-DEC, dtype: float64\n",
            "partition with lambda\n",
            "2010-12-31 08:45:00    False\n",
            "2011-12-31 08:45:00    False\n",
            "2012-12-31 08:45:00    False\n",
            "2013-12-31 08:45:00    False\n",
            "2014-12-31 08:45:00     True\n",
            "2015-12-31 08:45:00    False\n",
            "2016-12-31 08:45:00     True\n",
            "2017-12-31 08:45:00    False\n",
            "2018-12-31 08:45:00    False\n",
            "2019-12-31 08:45:00     True\n",
            "2020-12-31 08:45:00    False\n",
            "Freq: A-DEC, dtype: bool\n"
          ],
          "name": "stdout"
        }
      ]
    },
    {
      "cell_type": "code",
      "metadata": {
        "id": "PH2An87KlWHW",
        "colab_type": "code",
        "colab": {
          "base_uri": "https://localhost:8080/",
          "height": 955
        },
        "outputId": "efeadffb-5605-47de-da07-d68a39721d0d"
      },
      "source": [
        "##visualisation of data based on box\n",
        "import seaborn as sns\n",
        "import numpy as np\n",
        "import pandas as pd\n",
        "import matplotlib.pyplot as plt\n",
        "np.random.seed(1234)\n",
        "df = pd.DataFrame(np.random.randn(10, 4),\n",
        "                  columns=['Col1', 'Col2', 'Col3', 'Col4'])\n",
        "print(df)\n",
        "#boxplot = df.boxplot(column=['Col1', 'Col2', 'Col3','Col4'])\n",
        "#plt.scatter(df['Col1'],df['Col2'])\n",
        "#plt.hist(df['Col3'])\n",
        "sns.pairplot(df)"
      ],
      "execution_count": 33,
      "outputs": [
        {
          "output_type": "stream",
          "text": [
            "       Col1      Col2      Col3      Col4\n",
            "0  0.471435 -1.190976  1.432707 -0.312652\n",
            "1 -0.720589  0.887163  0.859588 -0.636524\n",
            "2  0.015696 -2.242685  1.150036  0.991946\n",
            "3  0.953324 -2.021255 -0.334077  0.002118\n",
            "4  0.405453  0.289092  1.321158 -1.546906\n",
            "5 -0.202646 -0.655969  0.193421  0.553439\n",
            "6  1.318152 -0.469305  0.675554 -1.817027\n",
            "7 -0.183109  1.058969 -0.397840  0.337438\n",
            "8  1.047579  1.045938  0.863717 -0.122092\n",
            "9  0.124713 -0.322795  0.841675  2.390961\n"
          ],
          "name": "stdout"
        },
        {
          "output_type": "execute_result",
          "data": {
            "text/plain": [
              "<seaborn.axisgrid.PairGrid at 0x7f0bcdd81438>"
            ]
          },
          "metadata": {
            "tags": []
          },
          "execution_count": 33
        },
        {
          "output_type": "display_data",
          "data": {
            "image/png": "[encoded data removed]",
            "text/plain": [
              "<Figure size 720x720 with 20 Axes>"
            ]
          },
          "metadata": {
            "tags": [],
            "needs_background": "light"
          }
        }
      ]
    },
    {
      "cell_type": "code",
      "metadata": {
        "id": "5iHeO8C2mgaJ",
        "colab_type": "code",
        "colab": {}
      },
      "source": [
        "##input\n",
        "import matplotlib.pyplot as plt\n",
        "from scipy.stats import skew"
      ],
      "execution_count": null,
      "outputs": []
    },
    {
      "cell_type": "code",
      "metadata": {
        "id": "aTIylEX9mp47",
        "colab_type": "code",
        "colab": {
          "base_uri": "https://localhost:8080/",
          "height": 265
        },
        "outputId": "bb080ef1-f2c2-402f-a055-6bd0b4c6c405"
      },
      "source": [
        "##data with bins\n",
        "##bins need to understand here\n",
        "##skewness with data average---distribution of the data\n",
        "##bin and cut both can be used..\n",
        "##can use cut as well\n",
        "import numpy as np\n",
        "import matplotlib.mlab as mlab\n",
        "import matplotlib.pyplot as plt\n",
        "x = [21,22,23,4,5,6,77,8,9,10,31,32,33,34,35,36,37,18,49,50,100]\n",
        "num_bins = 5\n",
        "n, bins, patches = plt.hist(x, num_bins, facecolor='blue', alpha=0.5)\n",
        "##what this alpha is doing here\n",
        "plt.hist(x, facecolor='blue', alpha=0.5)\n",
        "plt.show()\n",
        "##bins provided by you or the system will provide"
      ],
      "execution_count": 34,
      "outputs": [
        {
          "output_type": "display_data",
          "data": {
            "image/png": "[encoded data removed]",
            "text/plain": [
              "<Figure size 432x288 with 1 Axes>"
            ]
          },
          "metadata": {
            "tags": [],
            "needs_background": "light"
          }
        }
      ]
    },
    {
      "cell_type": "code",
      "metadata": {
        "id": "wucRqpYmpSrw",
        "colab_type": "code",
        "colab": {
          "base_uri": "https://localhost:8080/",
          "height": 316
        },
        "outputId": "ec3aed00-78bc-4887-9bab-bd9abda7a0bd"
      },
      "source": [
        "##input\n",
        "##bins with random values\n",
        "import matplotlib.pyplot as plt\n",
        "rng = np.random.RandomState(10)  # deterministic random data\n",
        "a = np.hstack((rng.normal(size=1000),\n",
        "rng.normal(loc=5, scale=2, size=1000)))\n",
        "print(a)\n",
        "#plt.hist(a, bins='auto')  # arguments are passed to np.histogram\n",
        "plt.hist(a, bins= 10)\n",
        "#plt.hist(a)\n",
        "plt.title(\"Histogram with 'auto' bins\")\n",
        "#Text(0.5, 1.0, \"Histogram with 'auto' bins\")\n",
        "plt.show()"
      ],
      "execution_count": 35,
      "outputs": [
        {
          "output_type": "stream",
          "text": [
            "[ 1.3315865   0.71527897 -1.54540029 ...  5.74446677  6.22449239\n",
            "  8.42055014]\n"
          ],
          "name": "stdout"
        },
        {
          "output_type": "display_data",
          "data": {
            "image/png": "[encoded data removed]",
            "text/plain": [
              "<Figure size 432x288 with 1 Axes>"
            ]
          },
          "metadata": {
            "tags": [],
            "needs_background": "light"
          }
        }
      ]
    },
    {
      "cell_type": "markdown",
      "metadata": {
        "id": "i79KxNTOpb8J",
        "colab_type": "text"
      },
      "source": [
        "time = [0, 1, 2, 3]\n",
        "position = [0, 100, 200, 300]\n",
        "plt.plot(time, position)\n",
        "plt.xlabel('Time (hr)')\n",
        "plt.ylabel('Position (km)')"
      ]
    },
    {
      "cell_type": "code",
      "metadata": {
        "id": "UE4GH_BdpdFA",
        "colab_type": "code",
        "colab": {
          "base_uri": "https://localhost:8080/",
          "height": 283
        },
        "outputId": "bb92b7b9-aa71-4455-9919-237b176e1593"
      },
      "source": [
        "##input\n",
        "import matplotlib.pyplot as plt\n",
        "from scipy.stats import skew\n",
        " \n",
        "x = [1,1,2,3,3,5,7,8,9,10,\n",
        "     10,11,11,13,13,15,16,17,18,18,\n",
        "     18,19,20,21,21,23,24,24,25,25,\n",
        "     25,25,26,26,26,27,27,27,27,27,\n",
        "     29,30,30,31,33,34,34,34,35,36,\n",
        "     36,37,37,38,38,39,40,41,41,42,\n",
        "     43,44,45,45,46,47,48,48,49,50,\n",
        "     51,52,53,54,55,55,56,57,58,60,\n",
        "     61,63,64,65,66,68,70,71,72,74,\n",
        "     75,77,81,83,84,87,89,90,90,1000\n",
        "     ]\n",
        "ht = [10,20,30,40,60,80,100]\n",
        "wt = [50,60,70,80,35]\n",
        "plt.style.use('ggplot')\n",
        "#plt.hist(ht)\n",
        "#plt.hist(wt)\n",
        "plt.hist(x, bins=15)\n",
        "#plt.hist(x)\n",
        "plt.show()\n",
        "print(skew(x))"
      ],
      "execution_count": 36,
      "outputs": [
        {
          "output_type": "display_data",
          "data": {
            "image/png": "[encoded data removed]",
            "text/plain": [
              "<Figure size 432x288 with 1 Axes>"
            ]
          },
          "metadata": {
            "tags": []
          }
        },
        {
          "output_type": "stream",
          "text": [
            "9.041240887877148\n"
          ],
          "name": "stdout"
        }
      ]
    },
    {
      "cell_type": "code",
      "metadata": {
        "id": "eH9--P4tpwfl",
        "colab_type": "code",
        "colab": {
          "base_uri": "https://localhost:8080/",
          "height": 847
        },
        "outputId": "665fc894-d822-476d-e732-b11b8e6b7c17"
      },
      "source": [
        "##py chart with python\n",
        "#input\n",
        "##pychart for sentiments\n",
        "##bar chart for sentiments\n",
        "##printing graphs without overlapping\n",
        "##use par some function to overcome overlapping\n",
        "import numpy as np \n",
        "import pandas as pd \n",
        "import re\n",
        "import nltk \n",
        "import matplotlib.pyplot as plt\n",
        "%matplotlib inline\n",
        "data_source_url = \"https://raw.githubusercontent.com/kolaveridi/kaggle-Twitter-US-Airline-Sentiment-/master/Tweets.csv\"\n",
        "airline_tweets = pd.read_csv(data_source_url)\n",
        "airline_tweets.head()\n",
        "plot_size = plt.rcParams[\"figure.figsize\"] \n",
        "print(plot_size[0]) \n",
        "print(plot_size[1])\n",
        "plot_size[0] = 8\n",
        "plot_size[1] = 6\n",
        "plt.rcParams[\"figure.figsize\"] = plot_size\n",
        "airline_tweets.airline.value_counts().plot(kind='pie', autopct='%1.0f%%')\n",
        "airline_tweets.airline_sentiment.value_counts().plot(kind='pie', autopct='%1.0f%%', colors=[\"red\", \"yellow\", \"green\"])\n",
        "airline_sentiment = airline_tweets.groupby(['airline', 'airline_sentiment']).airline_sentiment.count().unstack()\n",
        "airline_sentiment.plot(kind='bar')"
      ],
      "execution_count": 42,
      "outputs": [
        {
          "output_type": "stream",
          "text": [
            "6.0\n",
            "4.0\n"
          ],
          "name": "stdout"
        },
        {
          "output_type": "execute_result",
          "data": {
            "text/plain": [
              "<matplotlib.axes._subplots.AxesSubplot at 0x7f0bc5c2bf28>"
            ]
          },
          "metadata": {
            "tags": []
          },
          "execution_count": 42
        },
        {
          "output_type": "display_data",
          "data": {
            "image/png": "[encoded data removed]",
            "text/plain": [
              "<Figure size 576x432 with 1 Axes>"
            ]
          },
          "metadata": {
            "tags": []
          }
        },
        {
          "output_type": "display_data",
          "data": {
            "image/png": "[encoded data removed]",
            "text/plain": [
              "<Figure size 576x432 with 1 Axes>"
            ]
          },
          "metadata": {
            "tags": [],
            "needs_background": "light"
          }
        }
      ]
    },
    {
      "cell_type": "code",
      "metadata": {
        "id": "aTfpspdcrKq3",
        "colab_type": "code",
        "colab": {
          "base_uri": "https://localhost:8080/",
          "height": 409
        },
        "outputId": "e14bf25c-3b21-4f89-a577-bb3b45960954"
      },
      "source": [
        "##input\n",
        "import seaborn as sns\n",
        "sns.barplot(x='airline_sentiment', y='airline_sentiment_confidence' , data=airline_tweets)"
      ],
      "execution_count": 43,
      "outputs": [
        {
          "output_type": "execute_result",
          "data": {
            "text/plain": [
              "<matplotlib.axes._subplots.AxesSubplot at 0x7f0bc58a6320>"
            ]
          },
          "metadata": {
            "tags": []
          },
          "execution_count": 43
        },
        {
          "output_type": "display_data",
          "data": {
            "image/png": "[encoded data removed]",
            "text/plain": [
              "<Figure size 576x432 with 1 Axes>"
            ]
          },
          "metadata": {
            "tags": [],
            "needs_background": "light"
          }
        }
      ]
    },
    {
      "cell_type": "markdown",
      "metadata": {
        "id": "qghPXMkzsW6-",
        "colab_type": "text"
      },
      "source": [
        "import seaborn as sns\n",
        "sns.barplot(x='airline_sentiment', y='airline_sentiment_confidence' , data=airline_tweets)\n",
        "from yograj to everyone:\n",
        "here i m not understaning that what analysis we are doing while drawing graph\n",
        "from Joseph Cutler (internal) to everyone:\n",
        "it is similar to using a pivot table in your excel that helps you present the findings"
      ]
    },
    {
      "cell_type": "markdown",
      "metadata": {
        "id": "BOUPsoiTtCVx",
        "colab_type": "text"
      },
      "source": [
        "thanks\n",
        "from Ramana to everyone:\n",
        "what is the use of import re function?\n",
        "from Edwin Herald Ponniah (internal) to everyone:\n",
        "used for the regex functions\n",
        "from yograj to everyone:\n",
        "this is used for regular expression\n",
        "from Ashutosh to everyone:\n",
        "what is the significance of doing plot_size[0] = 8??\n",
        "from Ashutosh to everyone:\n",
        "in the first pie chart example"
      ]
    },
    {
      "cell_type": "code",
      "metadata": {
        "id": "moZMvO23uM61",
        "colab_type": "code",
        "colab": {
          "base_uri": "https://localhost:8080/",
          "height": 357
        },
        "outputId": "2f890741-beb4-46b1-af8c-31d4ce1e15df"
      },
      "source": [
        "##some g plot is also here\n",
        "import pandas as pd\n",
        "import matplotlib.pyplot as plt\n",
        "import numpy as np\n",
        "y = np.random.rand(10,4)\n",
        "y[:,0]= np.arange(10)\n",
        "df = pd.DataFrame(y, columns=[\"X\", \"A\", \"B\", \"C\"])\n",
        "df.plot(x=\"X\", y=\"A\", kind=\"pie\")\n",
        "#df.plot(x=\"X\", y=\"B\", kind=\"bar\", ax=ax, color=\"C2\")\n",
        "###ax is for sub plot and it is giving errro here...\n",
        "#df.plot(x=\"X\", y=\"C\", kind=\"bar\", ax=ax, color=\"C3\")\n",
        "plt.show()"
      ],
      "execution_count": 45,
      "outputs": [
        {
          "output_type": "display_data",
          "data": {
            "image/png": "[encoded data removed]",
            "text/plain": [
              "<Figure size 576x432 with 1 Axes>"
            ]
          },
          "metadata": {
            "tags": []
          }
        }
      ]
    },
    {
      "cell_type": "code",
      "metadata": {
        "id": "YHNhTh7Cw4mg",
        "colab_type": "code",
        "colab": {
          "base_uri": "https://localhost:8080/",
          "height": 423
        },
        "outputId": "4d584c4c-2e36-4f9e-fa7b-fdc4c6d1d497"
      },
      "source": [
        "##input\n",
        "df = pd.DataFrame(np.random.randn(10, 3),\n",
        "                   columns=['Col1', 'Col2', 'Col3'])\n",
        "df['X'] = pd.Series(['A', 'A', 'A', 'A', 'A',\n",
        "                      'B', 'B', 'B', 'B', 'B'])\n",
        "df['Y'] = pd.Series(['A', 'B', 'A', 'B', 'A',\n",
        "                      'B', 'A', 'B', 'A', 'B'])\n",
        "boxplot = df.boxplot(column=['Col1', 'Col2'], by=['X', 'Y'])"
      ],
      "execution_count": 46,
      "outputs": [
        {
          "output_type": "display_data",
          "data": {
            "image/png": "[encoded data removed]",
            "text/plain": [
              "<Figure size 576x432 with 2 Axes>"
            ]
          },
          "metadata": {
            "tags": [],
            "needs_background": "light"
          }
        }
      ]
    },
    {
      "cell_type": "markdown",
      "metadata": {
        "id": "GyovGNX-w4_J",
        "colab_type": "text"
      },
      "source": [
        "df = pd.DataFrame(np.random.randn(10, 2),\n",
        "                   columns=['Col1', 'Col2'])\n",
        "#print(df)\n",
        "df['X'] = pd.Series(['A', 'A', 'A', 'A', 'A',\n",
        "                      'B', 'B', 'B', 'B', 'B'])\n",
        "print(df)\n",
        "boxplot = df.boxplot(by='X')\n",
        "from Sharada Lakshmanan (internal) to everyone:\n",
        "df = pd.DataFrame(np.random.randn(10, 3),\n",
        "                   columns=['Col1', 'Col2', 'Col3'])\n",
        "df['X'] = pd.Series(['A', 'A', 'A', 'A', 'A',\n",
        "                      'B', 'B', 'B', 'B', 'B'])\n",
        "df['Y'] = pd.Series(['A', 'B', 'A', 'B', 'A',\n",
        "                      'B', 'A', 'B', 'A', 'B'])\n",
        "boxplot = df.boxplot(column=['Col1', 'Col2'], by=['X', 'Y'])"
      ]
    }
  ]
}