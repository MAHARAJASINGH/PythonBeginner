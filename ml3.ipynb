{
  "nbformat": 4,
  "nbformat_minor": 0,
  "metadata": {
    "colab": {
      "name": "ml3.ipynb",
      "provenance": [],
      "collapsed_sections": [],
      "authorship_tag": "ABX9TyNqCxVRcg5bMaW8fDqGt6Y/",
      "include_colab_link": true
    },
    "kernelspec": {
      "name": "python3",
      "display_name": "Python 3"
    }
  },
  "cells": [
    {
      "cell_type": "markdown",
      "metadata": {
        "id": "view-in-github",
        "colab_type": "text"
      },
      "source": [
        "<a href=\"https://colab.research.google.com/github/MAHARAJASINGH/PythonBeginner/blob/master/ml3.ipynb\" target=\"_parent\"><img src=\"https://colab.research.google.com/assets/colab-badge.svg\" alt=\"Open In Colab\"/></a>"
      ]
    },
    {
      "cell_type": "code",
      "metadata": {
        "id": "gSS6twzvO1Pa",
        "colab_type": "code",
        "colab": {
          "base_uri": "https://localhost:8080/",
          "height": 557
        },
        "outputId": "62efc26e-749e-4b78-f533-cdbb1ba7090e"
      },
      "source": [
        "##logistic regression and linear regression\n",
        "#binary response ordinal response\n",
        "##logistics regression mode\n",
        "import statsmodels.api as sm\n",
        "data = sm.datasets.scotland.load(as_pandas=False)\n",
        "data.exog = sm.add_constant(data.exog)\n",
        "print(data.endog)\n",
        "# Instantiate a gamma family model with the default link function.\n",
        "gamma_model = sm.GLM(data.endog, data.exog, family=sm.families.Gamma())\n",
        "gamma_results = gamma_model.fit()\n",
        "print(gamma_results.summary())"
      ],
      "execution_count": 1,
      "outputs": [
        {
          "output_type": "stream",
          "text": [
            "/usr/local/lib/python3.6/dist-packages/statsmodels/tools/_testing.py:19: FutureWarning: pandas.util.testing is deprecated. Use the functions in the public API at pandas.testing instead.\n",
            "  import pandas.util.testing as tm\n"
          ],
          "name": "stderr"
        },
        {
          "output_type": "stream",
          "text": [
            "[60.3 52.3 53.4 57.  68.7 48.8 65.5 70.5 59.1 62.7 51.6 62.  68.4 69.2\n",
            " 64.7 75.  62.1 67.2 67.7 52.7 65.7 72.2 47.4 51.3 63.6 50.7 51.6 56.2\n",
            " 67.6 58.9 74.7 67.3]\n",
            "                 Generalized Linear Model Regression Results                  \n",
            "==============================================================================\n",
            "Dep. Variable:                      y   No. Observations:                   32\n",
            "Model:                            GLM   Df Residuals:                       24\n",
            "Model Family:                   Gamma   Df Model:                            7\n",
            "Link Function:          inverse_power   Scale:                       0.0035843\n",
            "Method:                          IRLS   Log-Likelihood:                -83.017\n",
            "Date:                Mon, 10 Aug 2020   Deviance:                     0.087389\n",
            "Time:                        02:50:41   Pearson chi2:                   0.0860\n",
            "No. Iterations:                     6                                         \n",
            "Covariance Type:            nonrobust                                         \n",
            "==============================================================================\n",
            "                 coef    std err          z      P>|z|      [0.025      0.975]\n",
            "------------------------------------------------------------------------------\n",
            "const         -0.0178      0.011     -1.548      0.122      -0.040       0.005\n",
            "x1          4.962e-05   1.62e-05      3.060      0.002    1.78e-05    8.14e-05\n",
            "x2             0.0020      0.001      3.824      0.000       0.001       0.003\n",
            "x3         -7.181e-05   2.71e-05     -2.648      0.008      -0.000   -1.87e-05\n",
            "x4             0.0001   4.06e-05      2.757      0.006    3.23e-05       0.000\n",
            "x5         -1.468e-07   1.24e-07     -1.187      0.235   -3.89e-07    9.56e-08\n",
            "x6            -0.0005      0.000     -2.159      0.031      -0.001   -4.78e-05\n",
            "x7         -2.427e-06   7.46e-07     -3.253      0.001   -3.89e-06   -9.65e-07\n",
            "==============================================================================\n"
          ],
          "name": "stdout"
        },
        {
          "output_type": "stream",
          "text": [
            "/usr/local/lib/python3.6/dist-packages/statsmodels/genmod/generalized_linear_model.py:273: DomainWarning: The inverse_power link function does not respect the domain of the Gamma family.\n",
            "  DomainWarning)\n"
          ],
          "name": "stderr"
        }
      ]
    },
    {
      "cell_type": "code",
      "metadata": {
        "id": "SdIMH71-Rt5o",
        "colab_type": "code",
        "colab": {
          "base_uri": "https://localhost:8080/",
          "height": 1000
        },
        "outputId": "dc4ccd31-c549-4b56-d4ec-06ec917d625a"
      },
      "source": [
        "#chi square test\n",
        "##probability \n",
        "##cii square is difff degrees of freedom\n",
        "##3if ti is greater than 0.5 it means variable are independent of each other\n",
        "from scipy.stats import chi2\n",
        "import matplotlib.pyplot as plt\n",
        "import numpy as np\n",
        "import scipy.stats\n",
        "# Calculate the probability density function for values of x in [0;10]\n",
        "x = np.linspace(start = 0, stop = 10, num = 200)\n",
        "print(x)\n",
        "#\n",
        "_ = plt.figure(num = 1, figsize = (10, 8))\n",
        "_ = plt.plot(x, chi2.pdf(x, df = 1), color = \"black\", label = \"k = 1\")\n",
        "for i in range(2, 7):\n",
        "    _ = plt.plot(x, chi2.pdf(x, df = i), label = \"k = \" + str(i))\n",
        "_ = plt.ylim((0, 0.6))    \n",
        "_ = plt.title(\"Probability density function of $\\\\chi^2_k$\")\n",
        "_ = plt.ylabel(\"Density\")\n",
        "_ = plt.legend()\n",
        "plt.show()"
      ],
      "execution_count": 2,
      "outputs": [
        {
          "output_type": "stream",
          "text": [
            "[ 0.          0.05025126  0.10050251  0.15075377  0.20100503  0.25125628\n",
            "  0.30150754  0.35175879  0.40201005  0.45226131  0.50251256  0.55276382\n",
            "  0.60301508  0.65326633  0.70351759  0.75376884  0.8040201   0.85427136\n",
            "  0.90452261  0.95477387  1.00502513  1.05527638  1.10552764  1.15577889\n",
            "  1.20603015  1.25628141  1.30653266  1.35678392  1.40703518  1.45728643\n",
            "  1.50753769  1.55778894  1.6080402   1.65829146  1.70854271  1.75879397\n",
            "  1.80904523  1.85929648  1.90954774  1.95979899  2.01005025  2.06030151\n",
            "  2.11055276  2.16080402  2.21105528  2.26130653  2.31155779  2.36180905\n",
            "  2.4120603   2.46231156  2.51256281  2.56281407  2.61306533  2.66331658\n",
            "  2.71356784  2.7638191   2.81407035  2.86432161  2.91457286  2.96482412\n",
            "  3.01507538  3.06532663  3.11557789  3.16582915  3.2160804   3.26633166\n",
            "  3.31658291  3.36683417  3.41708543  3.46733668  3.51758794  3.5678392\n",
            "  3.61809045  3.66834171  3.71859296  3.76884422  3.81909548  3.86934673\n",
            "  3.91959799  3.96984925  4.0201005   4.07035176  4.12060302  4.17085427\n",
            "  4.22110553  4.27135678  4.32160804  4.3718593   4.42211055  4.47236181\n",
            "  4.52261307  4.57286432  4.62311558  4.67336683  4.72361809  4.77386935\n",
            "  4.8241206   4.87437186  4.92462312  4.97487437  5.02512563  5.07537688\n",
            "  5.12562814  5.1758794   5.22613065  5.27638191  5.32663317  5.37688442\n",
            "  5.42713568  5.47738693  5.52763819  5.57788945  5.6281407   5.67839196\n",
            "  5.72864322  5.77889447  5.82914573  5.87939698  5.92964824  5.9798995\n",
            "  6.03015075  6.08040201  6.13065327  6.18090452  6.23115578  6.28140704\n",
            "  6.33165829  6.38190955  6.4321608   6.48241206  6.53266332  6.58291457\n",
            "  6.63316583  6.68341709  6.73366834  6.7839196   6.83417085  6.88442211\n",
            "  6.93467337  6.98492462  7.03517588  7.08542714  7.13567839  7.18592965\n",
            "  7.2361809   7.28643216  7.33668342  7.38693467  7.43718593  7.48743719\n",
            "  7.53768844  7.5879397   7.63819095  7.68844221  7.73869347  7.78894472\n",
            "  7.83919598  7.88944724  7.93969849  7.98994975  8.04020101  8.09045226\n",
            "  8.14070352  8.19095477  8.24120603  8.29145729  8.34170854  8.3919598\n",
            "  8.44221106  8.49246231  8.54271357  8.59296482  8.64321608  8.69346734\n",
            "  8.74371859  8.79396985  8.84422111  8.89447236  8.94472362  8.99497487\n",
            "  9.04522613  9.09547739  9.14572864  9.1959799   9.24623116  9.29648241\n",
            "  9.34673367  9.39698492  9.44723618  9.49748744  9.54773869  9.59798995\n",
            "  9.64824121  9.69849246  9.74874372  9.79899497  9.84924623  9.89949749\n",
            "  9.94974874 10.        ]\n"
          ],
          "name": "stdout"
        },
        {
          "output_type": "display_data",
          "data": {
            "image/png": "[encoded data removed]",
            "text/plain": [
              "<Figure size 720x576 with 1 Axes>"
            ]
          },
          "metadata": {
            "tags": [],
            "needs_background": "light"
          }
        }
      ]
    },
    {
      "cell_type": "code",
      "metadata": {
        "id": "ZMRD4UaDSZIk",
        "colab_type": "code",
        "colab": {
          "base_uri": "https://localhost:8080/",
          "height": 69
        },
        "outputId": "736f4e5c-5d83-490c-d848-ed83e22d5b4a"
      },
      "source": [
        "##input\n",
        "## chi squaare etst is for checking the independence of variable\n",
        "##hypothesis testing\n",
        "from scipy.stats import chi2_contingency \n",
        "  \n",
        "# defining the table \n",
        "data = [[207, 282, 241], [234, 242, 232]] \n",
        "stat, p, dof, expected = chi2_contingency(data) \n",
        "  \n",
        "# interpret p-value \n",
        "print(\"degree of freedom\",dof)\n",
        "alpha = 0.05\n",
        "print(\"p value is \" + str(p)) \n",
        "if p <= alpha: \n",
        "    print('Dependent (reject H0)') \n",
        "else: \n",
        "    print('Independent (H0 holds true)') "
      ],
      "execution_count": 3,
      "outputs": [
        {
          "output_type": "stream",
          "text": [
            "degree of freedom 2\n",
            "p value is 0.1031971404730939\n",
            "Independent (H0 holds true)\n"
          ],
          "name": "stdout"
        }
      ]
    },
    {
      "cell_type": "code",
      "metadata": {
        "id": "tah_WHmlSpBq",
        "colab_type": "code",
        "colab": {
          "base_uri": "https://localhost:8080/",
          "height": 52
        },
        "outputId": "abb41066-a5ba-4e42-93f7-81684c5211c8"
      },
      "source": [
        "# Example of the Chi-Squared Test\n",
        "from scipy.stats import chi2_contingency\n",
        "table = [[10, 20, 30],[6,  9,  17]]\n",
        "stat, p, dof, expected = chi2_contingency(table)\n",
        "print('stat=%.3f, p=%.3f' % (stat, p))\n",
        "if p > 0.05:\n",
        "    print('Probably independent')\n",
        "else:\n",
        "    print('Probably dependent')\n",
        " \n",
        " #A chi-square independence test evaluates if two categorical variables are related in any way."
      ],
      "execution_count": 4,
      "outputs": [
        {
          "output_type": "stream",
          "text": [
            "stat=0.272, p=0.873\n",
            "Probably independent\n"
          ],
          "name": "stdout"
        }
      ]
    },
    {
      "cell_type": "code",
      "metadata": {
        "id": "hn51-1ajTem_",
        "colab_type": "code",
        "colab": {
          "base_uri": "https://localhost:8080/",
          "height": 52
        },
        "outputId": "7c8db3f7-7a5d-4182-da5a-972d0d697b42"
      },
      "source": [
        "##t test hypothesis\n",
        "# Example of the Student's t-test\n",
        "#The t-test (also sometimes called the Student t-test) is used to determine the significance of the difference between the means of two sets of data.\n",
        "#categorisation is based on the 0.05\n",
        "from scipy.stats import ttest_ind\n",
        "data1 = [0.873, 2.817, 0.121, -0.945, -0.055, -1.436, 0.360, -1.478, -1.637, -1.869]\n",
        "data2 = [1.142, -0.432, -0.938, -0.729, -0.846, -0.157, 0.500, 1.183, -1.075, -0.169]\n",
        "stat, p = ttest_ind(data1, data2)\n",
        "print('stat=%.3f, p=%.3f' % (stat, p))\n",
        "if p > 0.05:\n",
        "    print('Probably the same distribution')\n",
        "else:\n",
        "    print('Probably different distributions')"
      ],
      "execution_count": 5,
      "outputs": [
        {
          "output_type": "stream",
          "text": [
            "stat=-0.326, p=0.748\n",
            "Probably the same distribution\n"
          ],
          "name": "stdout"
        }
      ]
    },
    {
      "cell_type": "code",
      "metadata": {
        "id": "9iQRxE3bT8Mo",
        "colab_type": "code",
        "colab": {
          "base_uri": "https://localhost:8080/",
          "height": 35
        },
        "outputId": "123b5b87-1725-4641-d686-82e97a6ef2b8"
      },
      "source": [
        "##input\n",
        "#Data: 247 Parents of Black Children. 36.8% of parents report that their child has had some swimming lessons. 308 Parents of Hispanic Children. 38.9% of parents report that their child has had some swimming lessons.\n",
        "import statsmodels.api as sm\n",
        "import numpy as np\n",
        "import matplotlib.pyplot as plt\n",
        "n1 = 247\n",
        "p1 = .37\n",
        "n2 = 308\n",
        "p2 = .39\n",
        "population1 = np.random.binomial(1, p1, n1)\n",
        "population2 = np.random.binomial(1, p2, n2)\n",
        "sm.stats.ttest_ind(population1, population2)\n",
        "#Since the p-value (~0.352) is quite high, we cannot reject the Null hypothesis that the difference in the population proportions is zero."
      ],
      "execution_count": 6,
      "outputs": [
        {
          "output_type": "execute_result",
          "data": {
            "text/plain": [
              "(-0.9040953929028859, 0.36633849887024805, 553.0)"
            ]
          },
          "metadata": {
            "tags": []
          },
          "execution_count": 6
        }
      ]
    },
    {
      "cell_type": "code",
      "metadata": {
        "id": "2DoVRKTRUOQ8",
        "colab_type": "code",
        "colab": {
          "base_uri": "https://localhost:8080/",
          "height": 52
        },
        "outputId": "131a5e61-9ed2-4010-90de-79691f31b044"
      },
      "source": [
        "##examples on glm\n",
        "##glm function...and see the g value....chi square test\n",
        "##glm curve u will get\n",
        "##likelihood calculation function\n",
        "#likelihood \n",
        "import numpy as np\n",
        "from scipy.stats import norm\n",
        "x = [4, 5, 7, 8, 8, 9, 10, 5, 2, 3, 5, 4, 8, 9]\n",
        "def compare_data_to_dist(x, mu_1=5, mu_2=7, sd_1=3, sd_2=3):\n",
        "    ll_1 = 0\n",
        "    ll_2 = 0\n",
        "    for i in x:\n",
        "        ll_1 += np.log(norm.pdf(i, mu_1, sd_1))\n",
        "        ll_2 += np.log(norm.pdf(i, mu_2, sd_2))\n",
        "    \n",
        "    print(\"The LL of of x for mu = %d and sd = %d is: %.4f\" % (mu_1, sd_1, ll_1))\n",
        "    print( \"The LL of of x for mu = %d and sd = %d is: %.4f\" % (mu_2, sd_2, ll_2))\n",
        "compare_data_to_dist(x)"
      ],
      "execution_count": 7,
      "outputs": [
        {
          "output_type": "stream",
          "text": [
            "The LL of of x for mu = 5 and sd = 3 is: -33.9679\n",
            "The LL of of x for mu = 7 and sd = 3 is: -33.3013\n"
          ],
          "name": "stdout"
        }
      ]
    },
    {
      "cell_type": "code",
      "metadata": {
        "id": "tntOoMfrZ45L",
        "colab_type": "code",
        "colab": {
          "base_uri": "https://localhost:8080/",
          "height": 315
        },
        "outputId": "d1d1a5b0-0568-448f-ed03-44e92962f55d"
      },
      "source": [
        "##input\n",
        "##mean of 2 and sd as 1\n",
        "import matplotlib.pyplot as plt\n",
        "import numpy as np\n",
        "import scipy.stats\n",
        "mu = 3.0\n",
        "sigma = 0.5\n",
        "data = np.random.randn(100000) * sigma + mu\n",
        "scipy.stats.norm.pdf(6,2.0,1.0)\n",
        "print( np.log(scipy.stats.norm.pdf(data,2.0,1.0)).sum() )\n",
        "x = np.linspace(-10, 10, 1000, endpoint=True)\n",
        "y = []\n",
        "for i in x:\n",
        "    y.append(np.log(scipy.stats.norm.pdf(data,i,0.5)).sum())\n",
        "plt.plot(x,y)\n",
        "plt.title(r'Log-Likelihood')\n",
        "plt.xlabel(r'$\\mu$')\n",
        "plt.grid()\n",
        "plt.savefig(\"likelihood_normal_distribution_02.png\", bbox_inches='tight')\n",
        "#plt.show()"
      ],
      "execution_count": 8,
      "outputs": [
        {
          "output_type": "stream",
          "text": [
            "-154478.74814382303\n"
          ],
          "name": "stdout"
        },
        {
          "output_type": "display_data",
          "data": {
            "image/png": "[encoded data removed]",
            "text/plain": [
              "<Figure size 432x288 with 1 Axes>"
            ]
          },
          "metadata": {
            "tags": [],
            "needs_background": "light"
          }
        }
      ]
    },
    {
      "cell_type": "code",
      "metadata": {
        "id": "uwQr_Zrka0ap",
        "colab_type": "code",
        "colab": {}
      },
      "source": [
        "##roc curve \n",
        "##peakness of diagonosis\n",
        "##roc curve give u how much accurate is your data is..\n",
        "##roc curve\n",
        "##auc score of two curve\n",
        "##classification of azlgorithm and shows algorithm is good or not\n",
        "def Snippet_140():\n",
        "    print()\n",
        "    print(format('How to plot a ROC Curve in Python','*^82'))\n",
        "    import warnings\n",
        "    warnings.filterwarnings(\"ignore\")\n",
        "    # load libraries\n",
        "    from sklearn.datasets import make_classification\n",
        "    from sklearn.tree import DecisionTreeClassifier\n",
        "    from sklearn.linear_model import LogisticRegression\n",
        "    from sklearn.metrics import roc_curve, roc_auc_score\n",
        "    from sklearn.model_selection import train_test_split\n",
        "    import matplotlib.pyplot as plt\n",
        "    # Create feature matrix and target vector\n",
        "    X, y = make_classification(n_samples=10000, n_features=100, n_classes=2)\n",
        "    # Split into training and test sets\n",
        "    X_train, X_test, y_train, y_test = train_test_split(X, y, test_size=0.25)\n"
      ],
      "execution_count": 9,
      "outputs": []
    },
    {
      "cell_type": "code",
      "metadata": {
        "id": "gZ-_Rln0d50R",
        "colab_type": "code",
        "colab": {
          "base_uri": "https://localhost:8080/",
          "height": 235
        },
        "outputId": "b392701c-c3ec-46bd-cd4e-cb30b2598399"
      },
      "source": [
        "##input\n",
        "# Create classifier\n",
        "clf1 = DecisionTreeClassifier(); clf2 = LogisticRegression();\n",
        "    # Train model\n",
        "clf1.fit(X_train, y_train); clf2.fit(X_train, y_train);\n",
        "    # Get predicted probabilities\n",
        "y_score1 = clf1.predict_proba(X_test)[:,1]\n",
        "y_score2 = clf2.predict_proba(X_test)[:,1]\n",
        "# Plot Receiving Operating Characteristic Curve\n",
        "# Create true and false positive rates\n",
        "false_positive_rate1, true_positive_rate1, threshold1 = roc_curve(y_test, y_score1)\n",
        "false_positive_rate2, true_positive_rate2, threshold2 = roc_curve(y_test, y_score2)\n",
        "print('roc_auc_score for DecisionTree: ', roc_auc_score(y_test, y_score1))\n",
        "print('roc_auc_score for Logistic Regression: ', roc_auc_score(y_test, y_score2))\n",
        "\n",
        "    # Plot ROC curves\n",
        "plt.subplots(1, figsize=(10,10))\n",
        "plt.title('Receiver Operating Characteristic - DecisionTree')\n",
        "plt.plot(false_positive_rate1, true_positive_rate1)\n",
        "plt.plot([0, 1], ls=\"--\")\n",
        "plt.plot([0, 0], [1, 0] , c=\".7\"), plt.plot([1, 1] , c=\".7\")\n",
        "plt.ylabel('True Positive Rate')\n",
        "plt.xlabel('False Positive Rate')\n",
        "plt.show()\n",
        "plt.subplots(1, figsize=(10,10))\n",
        "plt.title('Receiver Operating Characteristic - Logistic regression')\n",
        "plt.plot(false_positive_rate2, true_positive_rate2)\n",
        "plt.plot([0, 1], ls=\"--\")\n",
        "plt.plot([0, 0], [1, 0] , c=\".7\"), plt.plot([1, 1] , c=\".7\")\n",
        "plt.ylabel('True Positive Rate')\n",
        "plt.xlabel('False Positive Rate')\n",
        "plt.show()\n",
        "Snippet_140()\n",
        "\n",
        "##ROC has two types of error\n",
        "##type1 and type 2 error\n",
        "#probalilty of the hypothesesis when it is true\n",
        "##when it is false\n"
      ],
      "execution_count": 17,
      "outputs": [
        {
          "output_type": "error",
          "ename": "NameError",
          "evalue": "ignored",
          "traceback": [
            "\u001b[0;31m---------------------------------------------------------------------------\u001b[0m",
            "\u001b[0;31mNameError\u001b[0m                                 Traceback (most recent call last)",
            "\u001b[0;32m<ipython-input-17-6e612bbcdb61>\u001b[0m in \u001b[0;36m<module>\u001b[0;34m()\u001b[0m\n\u001b[1;32m      1\u001b[0m \u001b[0;31m##input\u001b[0m\u001b[0;34m\u001b[0m\u001b[0;34m\u001b[0m\u001b[0;34m\u001b[0m\u001b[0m\n\u001b[1;32m      2\u001b[0m \u001b[0;31m# Create classifier\u001b[0m\u001b[0;34m\u001b[0m\u001b[0;34m\u001b[0m\u001b[0;34m\u001b[0m\u001b[0m\n\u001b[0;32m----> 3\u001b[0;31m \u001b[0mclf1\u001b[0m \u001b[0;34m=\u001b[0m \u001b[0mDecisionTreeClassifier\u001b[0m\u001b[0;34m(\u001b[0m\u001b[0;34m)\u001b[0m\u001b[0;34m;\u001b[0m \u001b[0mclf2\u001b[0m \u001b[0;34m=\u001b[0m \u001b[0mLogisticRegression\u001b[0m\u001b[0;34m(\u001b[0m\u001b[0;34m)\u001b[0m\u001b[0;34m;\u001b[0m\u001b[0;34m\u001b[0m\u001b[0;34m\u001b[0m\u001b[0m\n\u001b[0m\u001b[1;32m      4\u001b[0m     \u001b[0;31m# Train model\u001b[0m\u001b[0;34m\u001b[0m\u001b[0;34m\u001b[0m\u001b[0;34m\u001b[0m\u001b[0m\n\u001b[1;32m      5\u001b[0m \u001b[0mclf1\u001b[0m\u001b[0;34m.\u001b[0m\u001b[0mfit\u001b[0m\u001b[0;34m(\u001b[0m\u001b[0mX_train\u001b[0m\u001b[0;34m,\u001b[0m \u001b[0my_train\u001b[0m\u001b[0;34m)\u001b[0m\u001b[0;34m;\u001b[0m \u001b[0mclf2\u001b[0m\u001b[0;34m.\u001b[0m\u001b[0mfit\u001b[0m\u001b[0;34m(\u001b[0m\u001b[0mX_train\u001b[0m\u001b[0;34m,\u001b[0m \u001b[0my_train\u001b[0m\u001b[0;34m)\u001b[0m\u001b[0;34m;\u001b[0m\u001b[0;34m\u001b[0m\u001b[0;34m\u001b[0m\u001b[0m\n",
            "\u001b[0;31mNameError\u001b[0m: name 'DecisionTreeClassifier' is not defined"
          ]
        }
      ]
    },
    {
      "cell_type": "markdown",
      "metadata": {
        "id": "K1FO4nHbg9ru",
        "colab_type": "text"
      },
      "source": [
        "from Sharada Lakshmanan (internal) to everyone:    9:18 AM\n",
        "i will mail the code\n",
        "from yograj to everyone:    9:19 AM\n",
        "plz send here part wise\n",
        "from yograj to everyone:    9:19 AM\n",
        "we can test here\n",
        "from Vijay Rajagopalan (internal) to everyone:    9:19 AM\n",
        "Able to pull this together.. it is fine and working\n",
        "from Sharada Lakshmanan (internal) to everyone:    9:19 AM\n",
        "ok\n",
        "from Sharada Lakshmanan (internal) to everyone:    9:19 AM\n",
        "i am mailing it because u shud keep it as standard reference for all algorithms\n",
        "from yograj to everyone:    9:20 AM\n",
        "ok"
      ]
    },
    {
      "cell_type": "code",
      "metadata": {
        "id": "Oy-s8IGCg-gC",
        "colab_type": "code",
        "colab": {
          "base_uri": "https://localhost:8080/",
          "height": 52
        },
        "outputId": "d7868f01-7041-4b91-bb3e-211b7dbc52c1"
      },
      "source": [
        "##input\n",
        "import numpy as np\n",
        "from sklearn import metrics\n",
        "y = np.array([1, 1, 2, 2])\n",
        "scores = np.array([0.1, 0.4, 0.35, 0.8])\n",
        "fpr, tpr, thresholds = metrics.roc_curve(y, scores, pos_label=2)\n",
        "print(fpr)\n",
        "print(tpr)"
      ],
      "execution_count": 18,
      "outputs": [
        {
          "output_type": "stream",
          "text": [
            "[0.  0.  0.5 0.5 1. ]\n",
            "[0.  0.5 0.5 1.  1. ]\n"
          ],
          "name": "stdout"
        }
      ]
    },
    {
      "cell_type": "code",
      "metadata": {
        "id": "1LOQVs50jX27",
        "colab_type": "code",
        "colab": {
          "base_uri": "https://localhost:8080/",
          "height": 374
        },
        "outputId": "3cb9c4b2-beae-4346-f155-9e301ee09016"
      },
      "source": [
        "##input\n",
        "##different algorithmic classification\n",
        "##code is not complete...\n",
        "import KNeighborsClassifier\n",
        "from sklearn.ensemble import RandomForestClassifier\n",
        "from sklearn.model_selection import train_test_split\n",
        "from sklearn.metrics import roc_curve\n",
        "from sklearn.metrics import roc_auc_score\n",
        "def plot_roc_curve(fpr, tpr):\n",
        "    plt.plot(fpr, tpr, color='orange', label='ROC')\n",
        "    plt.plot([0, 1], [0, 1], color='darkblue', linestyle='--')\n",
        "    plt.xlabel('False Positive Rate')\n",
        "    plt.ylabel('True Positive Rate')\n",
        "    plt.title('Receiver Operating Characteristic (ROC) Curve')\n",
        "    plt.legend()\n",
        "    plt.show()\n",
        "data_X, class_label = make_classification(n_samples=1000, n_classes=2, weights=[1,1], random_state=1)\n",
        "trainX, testX, trainy, testy = train_test_split(data_X, class_label, test_size=0.3, random_state=1)\n",
        "model = RandomForestClassifier()\n",
        "model.fit(trainX, trainy)\n",
        "probs = model.predict_proba(testX)\n",
        "probs = probs[:, 1]\n",
        "auc = roc_auc_score(testy, probs)\n",
        "print('AUC: %.2f' % auc)\n",
        "fpr, tpr, thresholds = roc_curve(testy, probs)\n",
        "plot_roc_curve(fpr, tpr)"
      ],
      "execution_count": 24,
      "outputs": [
        {
          "output_type": "error",
          "ename": "ModuleNotFoundError",
          "evalue": "ignored",
          "traceback": [
            "\u001b[0;31m---------------------------------------------------------------------------\u001b[0m",
            "\u001b[0;31mModuleNotFoundError\u001b[0m                       Traceback (most recent call last)",
            "\u001b[0;32m<ipython-input-24-58635d8492ce>\u001b[0m in \u001b[0;36m<module>\u001b[0;34m()\u001b[0m\n\u001b[1;32m      2\u001b[0m \u001b[0;31m##different algorithmic classification\u001b[0m\u001b[0;34m\u001b[0m\u001b[0;34m\u001b[0m\u001b[0;34m\u001b[0m\u001b[0m\n\u001b[1;32m      3\u001b[0m \u001b[0;31m##code is not complete...\u001b[0m\u001b[0;34m\u001b[0m\u001b[0;34m\u001b[0m\u001b[0;34m\u001b[0m\u001b[0m\n\u001b[0;32m----> 4\u001b[0;31m \u001b[0;32mimport\u001b[0m \u001b[0mKNeighborsClassifier\u001b[0m\u001b[0;34m\u001b[0m\u001b[0;34m\u001b[0m\u001b[0m\n\u001b[0m\u001b[1;32m      5\u001b[0m \u001b[0;32mfrom\u001b[0m \u001b[0msklearn\u001b[0m\u001b[0;34m.\u001b[0m\u001b[0mensemble\u001b[0m \u001b[0;32mimport\u001b[0m \u001b[0mRandomForestClassifier\u001b[0m\u001b[0;34m\u001b[0m\u001b[0;34m\u001b[0m\u001b[0m\n\u001b[1;32m      6\u001b[0m \u001b[0;32mfrom\u001b[0m \u001b[0msklearn\u001b[0m\u001b[0;34m.\u001b[0m\u001b[0mmodel_selection\u001b[0m \u001b[0;32mimport\u001b[0m \u001b[0mtrain_test_split\u001b[0m\u001b[0;34m\u001b[0m\u001b[0;34m\u001b[0m\u001b[0m\n",
            "\u001b[0;31mModuleNotFoundError\u001b[0m: No module named 'KNeighborsClassifier'",
            "",
            "\u001b[0;31m---------------------------------------------------------------------------\u001b[0;32m\nNOTE: If your import is failing due to a missing package, you can\nmanually install dependencies using either !pip or !apt.\n\nTo view examples of installing some common dependencies, click the\n\"Open Examples\" button below.\n\u001b[0;31m---------------------------------------------------------------------------\u001b[0m\n"
          ]
        }
      ]
    },
    {
      "cell_type": "markdown",
      "metadata": {
        "id": "LoJrx8D0n_Zq",
        "colab_type": "text"
      },
      "source": [
        "pip install sklearn\n",
        "from Ashutosh to everyone:    9:49 AM\n",
        "This error comes on doing pip install sklearn.neighbors\n",
        "from Ashutosh to everyone:    9:49 AM\n",
        "ERROR: Could not find a version that satisfies the requirement sklearn.neighbors (from versions: none)\n",
        "ERROR: No matching distribution found for sklearn.neighbors\n",
        "from Shanmuga Sundaram to everyone:    9:49 AM\n",
        "Try this : pip install -U scikit-learn\n",
        "from Ashutosh to everyone:    9:50 AM\n",
        "yes..done that but somehow error remains same\n",
        "from Sharada Lakshmanan (internal) to everyone:    9:50 AM\n",
        "pip install scikit-learn\n",
        "from Edwin Herald Ponniah (internal) to everyone:    9:55 AM\n",
        "yes\n",
        "from Mukesh to everyone:    9:55 AM\n",
        "yes\n",
        "from Kalyan to everyone:    9:55 AM\n",
        "yes\n",
        "from Edwin Herald Ponniah (internal) to everyone:    9:55 AM\n",
        "PyCharm\n",
        "from Edwin Herald Ponniah (internal) to everyone:    9:55 AM\n",
        "jupyter notebook\n",
        "from Kalyan to everyone:    9:55 AM\n",
        "I am using Colab\n",
        "from Pooja Malik (internal) to everyone:    9:55 AM\n",
        "yes getting error in colab\n",
        "from Mukesh to everyone:    9:55 AM\n",
        "i am useing colab\n",
        "from Edwin Herald Ponniah (internal) to everyone:    9:56 AM\n",
        "ok Sharada"
      ]
    },
    {
      "cell_type": "code",
      "metadata": {
        "id": "CLu0byz-lATX",
        "colab_type": "code",
        "colab": {
          "base_uri": "https://localhost:8080/",
          "height": 131
        },
        "outputId": "01f0aa81-9647-47e3-dc37-0bd3e78d1e16"
      },
      "source": [
        "pip KNeighborsClassifier\n",
        "pip install neighborhood"
      ],
      "execution_count": 22,
      "outputs": [
        {
          "output_type": "error",
          "ename": "SyntaxError",
          "evalue": "ignored",
          "traceback": [
            "\u001b[0;36m  File \u001b[0;32m\"<ipython-input-22-1d8018e54be1>\"\u001b[0;36m, line \u001b[0;32m1\u001b[0m\n\u001b[0;31m    pip KNeighborsClassifier\u001b[0m\n\u001b[0m                           ^\u001b[0m\n\u001b[0;31mSyntaxError\u001b[0m\u001b[0;31m:\u001b[0m invalid syntax\n"
          ]
        }
      ]
    },
    {
      "cell_type": "markdown",
      "metadata": {
        "id": "KnH0J2RDlP4Q",
        "colab_type": "text"
      },
      "source": [
        "pip install doesn't work\n",
        "from Shanmuga Sundaram to everyone:    9:45 AM\n",
        "Even Conda not supported installation\n",
        "from Pooja Malik (internal) to everyone:    9:45 AM\n",
        "yes not working ..  pip install neighborhood\n",
        "from Edwin Herald Ponniah (internal) to everyone:    9:45 AM\n",
        "getting - Could not find a version that satisfies the requirement KNeighborsClassifier (from versions: )\n",
        "No matching distribution found for KNeighborsClassifier"
      ]
    },
    {
      "cell_type": "code",
      "metadata": {
        "id": "cGF_rvz7l4u-",
        "colab_type": "code",
        "colab": {
          "base_uri": "https://localhost:8080/",
          "height": 104
        },
        "outputId": "bf37aa1d-fafc-4c97-aca9-9aa54cf2593a"
      },
      "source": [
        "pip install sklearn"
      ],
      "execution_count": 23,
      "outputs": [
        {
          "output_type": "stream",
          "text": [
            "Requirement already satisfied: sklearn in /usr/local/lib/python3.6/dist-packages (0.0)\n",
            "Requirement already satisfied: scikit-learn in /usr/local/lib/python3.6/dist-packages (from sklearn) (0.22.2.post1)\n",
            "Requirement already satisfied: joblib>=0.11 in /usr/local/lib/python3.6/dist-packages (from scikit-learn->sklearn) (0.16.0)\n",
            "Requirement already satisfied: numpy>=1.11.0 in /usr/local/lib/python3.6/dist-packages (from scikit-learn->sklearn) (1.18.5)\n",
            "Requirement already satisfied: scipy>=0.17.0 in /usr/local/lib/python3.6/dist-packages (from scikit-learn->sklearn) (1.4.1)\n"
          ],
          "name": "stdout"
        }
      ]
    }
  ]
}