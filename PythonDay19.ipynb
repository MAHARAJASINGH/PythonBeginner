{
  "nbformat": 4,
  "nbformat_minor": 0,
  "metadata": {
    "colab": {
      "name": "PythonDay19.ipynb",
      "provenance": [],
      "collapsed_sections": [],
      "authorship_tag": "ABX9TyP2/1N8U4kolPAR3Ual6juX",
      "include_colab_link": true
    },
    "kernelspec": {
      "name": "python3",
      "display_name": "Python 3"
    }
  },
  "cells": [
    {
      "cell_type": "markdown",
      "metadata": {
        "id": "view-in-github",
        "colab_type": "text"
      },
      "source": [
        "<a href=\"https://colab.research.google.com/github/MAHARAJASINGH/PythonBeginner/blob/master/PythonDay19.ipynb\" target=\"_parent\"><img src=\"https://colab.research.google.com/assets/colab-badge.svg\" alt=\"Open In Colab\"/></a>"
      ]
    },
    {
      "cell_type": "code",
      "metadata": {
        "id": "MIoWJBmCby-z",
        "colab_type": "code",
        "colab": {}
      },
      "source": [
        ""
      ],
      "execution_count": null,
      "outputs": []
    },
    {
      "cell_type": "markdown",
      "metadata": {
        "id": "dv1llz_otoZU",
        "colab_type": "text"
      },
      "source": [
        "from Vijay Rajagopalan (internal) to everyone:\n",
        "“Being an alcoholic” is the test (kind of like a litmus test) for liver disease. A could mean the event “Patient has liver disease.” Past data tells you that 10% of patients entering your clinic have liver disease. P(A) = 0.10\n",
        "from Vijay Rajagopalan (internal) to everyone:\n",
        "Example-1:\n",
        "from yograj to everyone:\n",
        "please explain again\n",
        "from yograj to everyone:\n",
        "cannot here you\n",
        "from 493740 to everyone:\n",
        ",i am not able to hear\n",
        "from 493740 to everyone:\n",
        "not it is audible\n",
        "from Vijay Rajagopalan (internal) to everyone:\n",
        "Ok, can hear well\n",
        "from Shaunak Guha Thakurata (internal) to everyone:\n",
        "i can hear u fine\n",
        "from yograj to everyone:\n",
        "audible\n",
        "from Prasad Josyula (internal) to everyone:\n",
        "we can hear \n",
        "from Edwin Herald Ponniah (internal) to everyone:\n",
        "I can hear u\n",
        "from Dheenadhayalan I to everyone:\n",
        "its clear I can hear\n",
        "from 493740 to everyone:\n",
        "now it is audible... thank you i guess some network issues at my end\n",
        "from Sharada Lakshmanan (internal) to everyone:\n",
        "# Example of the Pearson's Correlation test\n",
        "#Pearson's correlation coefficient is the test statistics that measures the statistical relationship, or association, between two continuous variables\n",
        "from scipy.stats import pearsonr\n",
        "data1 = [0.873, 2.817, 0.121, -0.945, -0.055, -1.436, 0.360, -1.478, -1.637, -1.869]\n",
        "data2 = [0.353, 3.517, 0.125, -7.545, -0.555, -1.536, 3.350, -1.578, -3.537, -1.579]\n",
        "stat, p = pearsonr(data1, data2)\n",
        "print('stat=%.3f, p=%.3f' % (stat, p))\n",
        "if p > 0.05:\n",
        "    print('Probably independent')\n",
        "else:\n",
        "    print('Probably dependent')\n",
        "from yograj to everyone:\n",
        "here what is personr ??\n",
        "from yograj to everyone:\n",
        "i got thanks\n",
        "from yograj to everyone:\n",
        "is there any differences betweent them\n",
        "from Sharada Lakshmanan (internal) to everyone:\n",
        "#measures skewness and kurtosis\n",
        "# Example of the D'Agostino's K^2 Normality Test\n",
        "from scipy.stats import normaltest\n",
        "data = [0.873, 2.817, 0.121, -0.945, -0.055, -1.436, 0.360, -1.478, -1.637, -1.869]\n",
        "stat, p = normaltest(data)\n",
        "print('stat=%.3f, p=%.3f' % (stat, p))\n",
        "if p > 0.05:\n",
        "    print('Probably Gaussian')\n",
        "else:\n",
        "    print('Probably not Gaussian')\n",
        "from Sharada Lakshmanan (internal) to everyone:\n",
        "#python_test2.py\n",
        "import random, time\n",
        "virus_probabilities= { \"CompA\" : 0.50, \"CompB\" : .25, \"CompC\" : .25, \"CompBD\" : .125,\n",
        "                   \"CompBE\" : .125, \"CompCD\" : .125, \"CompCE\" : .125}\n",
        "def check_probability(computer_name, n_repetitions = 100):\n",
        "    prob_comp, repetitions = 0, 0\n",
        "    p_computer = virus_probabilities[computer_name]\n",
        "    while repetitions < n_repetitions:\n",
        "     x = random.random()\n",
        "     if x <= p_computer:\n",
        "          prob_comp += 1\n",
        "     repetitions += 1\n",
        "    print (\"{0} % chance of getting virus on {1}\".format(round(prob_comp/100.0, 2), computer_name))\n",
        "for key in virus_probabilities:\n",
        "     check_probability(key, 1000)\n",
        "from Edwin Herald Ponniah (internal) to everyone:\n",
        "sure\n",
        "from Sharada Lakshmanan (internal) to everyone:\n",
        "import pandas as pd\n",
        "import numpy as np\n",
        "collection = {\"company\": [\"ford\", \"chevy\", \"ford\", \"ford\", \"ford\", \"toyota\"],\n",
        "              \"model\": [\"mustang\", \"camaro\", \"fiesta\", \"focus\", \"taurus\", \"camry\"],\n",
        "              \"rating\": [\"A\", \"B\", \"C\", \"A\", \"B\", \"B\"],\n",
        "              \"type\": [\"coupe\", \"coupe\", \"sedan\", \"sedan\", \"sedan\", \"sedan\"]}\n",
        "df = pd.DataFrame(collection)\n",
        "print(df.groupby('rating')['type'].value_counts())\n",
        "print(df.groupby('rating')['type'].count())\n",
        "df_s = df.groupby('rating')['type'].value_counts() / df.groupby('rating')['type'].count()\n",
        "df_f = df_s.reset_index(name='cpt')\n",
        "df_f.head()  # your conditional probability table\n",
        "from yograj to everyone:\n",
        "tere are 2 sedan..why not one?\n",
        "from yograj to everyone:\n",
        "there**\n",
        "from yograj to everyone:\n",
        "in output, please explain again\n",
        "from Sharada Lakshmanan (internal) to everyone:\n",
        "that is my data collection"
      ]
    },
    {
      "cell_type": "code",
      "metadata": {
        "id": "PlwUWp8qtp2x",
        "colab_type": "code",
        "colab": {
          "base_uri": "https://localhost:8080/",
          "height": 52
        },
        "outputId": "05cbc47a-cc94-464c-bb88-59c71efed1b0"
      },
      "source": [
        "##input\n",
        "# Example of the Pearson's Correlation test\n",
        "#Pearson's correlation coefficient is the test statistics that measures the statistical relationship, or association, between two continuous variables\n",
        "from scipy.stats import pearsonr\n",
        "data1 = [0.873, 2.817, 0.121, -0.945, -0.055, -1.436, 0.360, -1.478, -1.637, -1.869]\n",
        "data2 = [0.353, 3.517, 0.125, -7.545, -0.555, -1.536, 3.350, -1.578, -3.537, -1.579]\n",
        "stat, p = pearsonr(data1, data2)\n",
        "print('stat=%.3f, p=%.3f' % (stat, p))\n",
        "if p > 0.05:\n",
        "    print('Probably independent')\n",
        "else:\n",
        "    print('Probably dependent')"
      ],
      "execution_count": 1,
      "outputs": [
        {
          "output_type": "stream",
          "text": [
            "stat=0.688, p=0.028\n",
            "Probably dependent\n"
          ],
          "name": "stdout"
        }
      ]
    },
    {
      "cell_type": "code",
      "metadata": {
        "id": "RMDoqtQxt_j-",
        "colab_type": "code",
        "colab": {
          "base_uri": "https://localhost:8080/",
          "height": 87
        },
        "outputId": "11c954f1-4bfe-484d-8df6-138534cd5ae6"
      },
      "source": [
        "##input\n",
        "#measures skewness and kurtosis\n",
        "# Example of the D'Agostino's K^2 Normality Test\n",
        "from scipy.stats import normaltest\n",
        "data = [0.873, 2.817, 0.121, -0.945, -0.055, -1.436, 0.360, -1.478, -1.637, -1.869]\n",
        "stat, p = normaltest(data)\n",
        "print('stat=%.3f, p=%.3f' % (stat, p))\n",
        "if p > 0.05:\n",
        "    print('Probably Gaussian')\n",
        "else:\n",
        "    print('Probably not Gaussian')"
      ],
      "execution_count": 2,
      "outputs": [
        {
          "output_type": "stream",
          "text": [
            "stat=3.392, p=0.183\n",
            "Probably Gaussian\n"
          ],
          "name": "stdout"
        },
        {
          "output_type": "stream",
          "text": [
            "/usr/local/lib/python3.6/dist-packages/scipy/stats/stats.py:1535: UserWarning: kurtosistest only valid for n>=20 ... continuing anyway, n=10\n",
            "  \"anyway, n=%i\" % int(n))\n"
          ],
          "name": "stderr"
        }
      ]
    },
    {
      "cell_type": "code",
      "metadata": {
        "id": "gw2I-_CQuEaJ",
        "colab_type": "code",
        "colab": {
          "base_uri": "https://localhost:8080/",
          "height": 139
        },
        "outputId": "3231e8c3-188d-4320-f898-0a51c233dee5"
      },
      "source": [
        "##input\n",
        "#python_test2.py\n",
        "import random, time\n",
        "virus_probabilities= { \"CompA\" : 0.50, \"CompB\" : .25, \"CompC\" : .25, \"CompBD\" : .125,\n",
        "                   \"CompBE\" : .125, \"CompCD\" : .125, \"CompCE\" : .125}\n",
        "def check_probability(computer_name, n_repetitions = 100):\n",
        "    prob_comp, repetitions = 0, 0\n",
        "    p_computer = virus_probabilities[computer_name]\n",
        "    while repetitions < n_repetitions:\n",
        "     x = random.random()\n",
        "     if x <= p_computer:\n",
        "          prob_comp += 1\n",
        "     repetitions += 1\n",
        "    print (\"{0} % chance of getting virus on {1}\".format(round(prob_comp/100.0, 2), computer_name))\n",
        "for key in virus_probabilities:\n",
        "     check_probability(key, 1000)"
      ],
      "execution_count": 3,
      "outputs": [
        {
          "output_type": "stream",
          "text": [
            "4.87 % chance of getting virus on CompA\n",
            "2.42 % chance of getting virus on CompB\n",
            "2.48 % chance of getting virus on CompC\n",
            "1.24 % chance of getting virus on CompBD\n",
            "1.18 % chance of getting virus on CompBE\n",
            "1.31 % chance of getting virus on CompCD\n",
            "1.15 % chance of getting virus on CompCE\n"
          ],
          "name": "stdout"
        }
      ]
    },
    {
      "cell_type": "code",
      "metadata": {
        "id": "gEG-lR4SuJPS",
        "colab_type": "code",
        "colab": {
          "base_uri": "https://localhost:8080/",
          "height": 410
        },
        "outputId": "0fdf333c-00dd-4282-b332-41a883f3d8be"
      },
      "source": [
        "##input\n",
        "import pandas as pd\n",
        "import numpy as np\n",
        "collection = {\"company\": [\"ford\", \"chevy\", \"ford\", \"ford\", \"ford\", \"toyota\"],\n",
        "              \"model\": [\"mustang\", \"camaro\", \"fiesta\", \"focus\", \"taurus\", \"camry\"],\n",
        "              \"rating\": [\"A\", \"B\", \"C\", \"A\", \"B\", \"B\"],\n",
        "              \"type\": [\"coupe\", \"coupe\", \"sedan\", \"sedan\", \"sedan\", \"sedan\"]}\n",
        "df = pd.DataFrame(collection)\n",
        "print(df.groupby('rating')['type'].value_counts())\n",
        "print(df.groupby('rating')['type'].count())\n",
        "df_s = df.groupby('rating')['type'].value_counts() / df.groupby('rating')['type'].count()\n",
        "df_f = df_s.reset_index(name='cpt')\n",
        "df_f.head()  # your conditional probability table"
      ],
      "execution_count": 4,
      "outputs": [
        {
          "output_type": "stream",
          "text": [
            "rating  type \n",
            "A       coupe    1\n",
            "        sedan    1\n",
            "B       sedan    2\n",
            "        coupe    1\n",
            "C       sedan    1\n",
            "Name: type, dtype: int64\n",
            "rating\n",
            "A    2\n",
            "B    3\n",
            "C    1\n",
            "Name: type, dtype: int64\n"
          ],
          "name": "stdout"
        },
        {
          "output_type": "execute_result",
          "data": {
            "text/html": [
              "<div>\n",
              "<style scoped>\n",
              "    .dataframe tbody tr th:only-of-type {\n",
              "        vertical-align: middle;\n",
              "    }\n",
              "\n",
              "    .dataframe tbody tr th {\n",
              "        vertical-align: top;\n",
              "    }\n",
              "\n",
              "    .dataframe thead th {\n",
              "        text-align: right;\n",
              "    }\n",
              "</style>\n",
              "<table border=\"1\" class=\"dataframe\">\n",
              "  <thead>\n",
              "    <tr style=\"text-align: right;\">\n",
              "      <th></th>\n",
              "      <th>rating</th>\n",
              "      <th>type</th>\n",
              "      <th>cpt</th>\n",
              "    </tr>\n",
              "  </thead>\n",
              "  <tbody>\n",
              "    <tr>\n",
              "      <th>0</th>\n",
              "      <td>A</td>\n",
              "      <td>coupe</td>\n",
              "      <td>0.500000</td>\n",
              "    </tr>\n",
              "    <tr>\n",
              "      <th>1</th>\n",
              "      <td>A</td>\n",
              "      <td>sedan</td>\n",
              "      <td>0.500000</td>\n",
              "    </tr>\n",
              "    <tr>\n",
              "      <th>2</th>\n",
              "      <td>B</td>\n",
              "      <td>sedan</td>\n",
              "      <td>0.666667</td>\n",
              "    </tr>\n",
              "    <tr>\n",
              "      <th>3</th>\n",
              "      <td>B</td>\n",
              "      <td>coupe</td>\n",
              "      <td>0.333333</td>\n",
              "    </tr>\n",
              "    <tr>\n",
              "      <th>4</th>\n",
              "      <td>C</td>\n",
              "      <td>sedan</td>\n",
              "      <td>1.000000</td>\n",
              "    </tr>\n",
              "  </tbody>\n",
              "</table>\n",
              "</div>"
            ],
            "text/plain": [
              "  rating   type       cpt\n",
              "0      A  coupe  0.500000\n",
              "1      A  sedan  0.500000\n",
              "2      B  sedan  0.666667\n",
              "3      B  coupe  0.333333\n",
              "4      C  sedan  1.000000"
            ]
          },
          "metadata": {
            "tags": []
          },
          "execution_count": 4
        }
      ]
    },
    {
      "cell_type": "code",
      "metadata": {
        "id": "ZOHADFyvzOQg",
        "colab_type": "code",
        "colab": {
          "base_uri": "https://localhost:8080/",
          "height": 87
        },
        "outputId": "f4ed74b0-0b0b-4451-9581-86192543e385"
      },
      "source": [
        "##input\n",
        "# load the iris dataset \n",
        "from sklearn.datasets import load_iris \n",
        "iris = load_iris() \n",
        "print(iris.feature_names)\n",
        "  \n",
        "# store the feature matrix (X) and response vector (y) \n",
        "X = iris.data \n",
        "y = iris.target \n",
        "  \n",
        "# splitting X and y into training and testing sets \n",
        "from sklearn.model_selection import train_test_split \n",
        "X_train, X_test, y_train, y_test = train_test_split(X, y, test_size=0.4, random_state=1) \n",
        "print(y_test)  \n",
        "# training the model on training set \n",
        "from sklearn.naive_bayes import GaussianNB \n",
        "gnb = GaussianNB() \n",
        "gnb.fit(X_train, y_train) \n",
        "  \n",
        "# making predictions on the testing set \n",
        "y_pred = gnb.predict(X_test) \n",
        "  \n",
        "# comparing actual response values (y_test) with predicted response values (y_pred) \n",
        "from sklearn import metrics \n",
        "print(\"Gaussian Naive Bayes model accuracy(in %):\", metrics.accuracy_score(y_test, y_pred)*100)"
      ],
      "execution_count": 5,
      "outputs": [
        {
          "output_type": "stream",
          "text": [
            "['sepal length (cm)', 'sepal width (cm)', 'petal length (cm)', 'petal width (cm)']\n",
            "[0 1 1 0 2 1 2 0 0 2 1 0 2 1 1 0 1 1 0 0 1 1 1 0 2 1 0 0 1 2 1 2 1 2 2 0 1\n",
            " 0 1 2 2 0 2 2 1 2 0 0 0 1 0 0 2 2 2 2 2 1 2 1]\n",
            "Gaussian Naive Bayes model accuracy(in %): 95.0\n"
          ],
          "name": "stdout"
        }
      ]
    },
    {
      "cell_type": "code",
      "metadata": {
        "id": "pjzUTP9EzWaJ",
        "colab_type": "code",
        "colab": {
          "base_uri": "https://localhost:8080/",
          "height": 410
        },
        "outputId": "5352b9de-aced-45ff-9be7-43b3e2264d12"
      },
      "source": [
        "##input\n",
        "import pandas as pd\n",
        "import numpy as np\n",
        "collection = {\"company\": [\"ford\", \"chevy\", \"ford\", \"ford\", \"ford\", \"toyota\"],\n",
        "              \"model\": [\"mustang\", \"camaro\", \"fiesta\", \"focus\", \"taurus\", \"camry\"],\n",
        "              \"rating\": [\"A\", \"B\", \"C\", \"A\", \"B\", \"B\"],\n",
        "              \"type\": [\"coupe\", \"coupe\", \"sedan\", \"sedan\", \"sedan\", \"sedan\"]}\n",
        "df = pd.DataFrame(collection)\n",
        "print(df.groupby('rating')['type'].value_counts())\n",
        "print(df.groupby('rating')['type'].count())\n",
        "df_s = df.groupby('rating')['type'].value_counts() / df.groupby('rating')['type'].count()\n",
        "df_f = df_s.reset_index(name='cpt')\n",
        "df_f.head()  # your conditional probability table"
      ],
      "execution_count": 6,
      "outputs": [
        {
          "output_type": "stream",
          "text": [
            "rating  type \n",
            "A       coupe    1\n",
            "        sedan    1\n",
            "B       sedan    2\n",
            "        coupe    1\n",
            "C       sedan    1\n",
            "Name: type, dtype: int64\n",
            "rating\n",
            "A    2\n",
            "B    3\n",
            "C    1\n",
            "Name: type, dtype: int64\n"
          ],
          "name": "stdout"
        },
        {
          "output_type": "execute_result",
          "data": {
            "text/html": [
              "<div>\n",
              "<style scoped>\n",
              "    .dataframe tbody tr th:only-of-type {\n",
              "        vertical-align: middle;\n",
              "    }\n",
              "\n",
              "    .dataframe tbody tr th {\n",
              "        vertical-align: top;\n",
              "    }\n",
              "\n",
              "    .dataframe thead th {\n",
              "        text-align: right;\n",
              "    }\n",
              "</style>\n",
              "<table border=\"1\" class=\"dataframe\">\n",
              "  <thead>\n",
              "    <tr style=\"text-align: right;\">\n",
              "      <th></th>\n",
              "      <th>rating</th>\n",
              "      <th>type</th>\n",
              "      <th>cpt</th>\n",
              "    </tr>\n",
              "  </thead>\n",
              "  <tbody>\n",
              "    <tr>\n",
              "      <th>0</th>\n",
              "      <td>A</td>\n",
              "      <td>coupe</td>\n",
              "      <td>0.500000</td>\n",
              "    </tr>\n",
              "    <tr>\n",
              "      <th>1</th>\n",
              "      <td>A</td>\n",
              "      <td>sedan</td>\n",
              "      <td>0.500000</td>\n",
              "    </tr>\n",
              "    <tr>\n",
              "      <th>2</th>\n",
              "      <td>B</td>\n",
              "      <td>sedan</td>\n",
              "      <td>0.666667</td>\n",
              "    </tr>\n",
              "    <tr>\n",
              "      <th>3</th>\n",
              "      <td>B</td>\n",
              "      <td>coupe</td>\n",
              "      <td>0.333333</td>\n",
              "    </tr>\n",
              "    <tr>\n",
              "      <th>4</th>\n",
              "      <td>C</td>\n",
              "      <td>sedan</td>\n",
              "      <td>1.000000</td>\n",
              "    </tr>\n",
              "  </tbody>\n",
              "</table>\n",
              "</div>"
            ],
            "text/plain": [
              "  rating   type       cpt\n",
              "0      A  coupe  0.500000\n",
              "1      A  sedan  0.500000\n",
              "2      B  sedan  0.666667\n",
              "3      B  coupe  0.333333\n",
              "4      C  sedan  1.000000"
            ]
          },
          "metadata": {
            "tags": []
          },
          "execution_count": 6
        }
      ]
    },
    {
      "cell_type": "markdown",
      "metadata": {
        "id": "7Nm-4___zcMg",
        "colab_type": "text"
      },
      "source": [
        "from yograj to everyone:\n",
        "tere are 2 sedan..why not one?\n",
        "from yograj to everyone:\n",
        "there**\n",
        "from yograj to everyone:\n",
        "in output, please explain again\n",
        "from Sharada Lakshmanan (internal) to everyone:\n",
        "that is my data collection\n",
        "from yograj to everyone:\n",
        "but you are taking grouping, then it shoulb be 1 , right?\n",
        "from yograj to everyone:\n",
        "yes\n",
        "from yograj to everyone:\n",
        "please\n",
        "from yograj to everyone:\n",
        "ok..i got thanks\n",
        "from Joseph Cutler (internal) to everyone:\n",
        "it should have been y instead of Y"
      ]
    }
  ]
}