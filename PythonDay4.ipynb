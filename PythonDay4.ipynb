{
  "nbformat": 4,
  "nbformat_minor": 0,
  "metadata": {
    "colab": {
      "name": "PythonDay4.ipynb",
      "provenance": [],
      "collapsed_sections": [],
      "authorship_tag": "ABX9TyMMV4UlumB/qTTA0LuzJuzg",
      "include_colab_link": true
    },
    "kernelspec": {
      "name": "python3",
      "display_name": "Python 3"
    }
  },
  "cells": [
    {
      "cell_type": "markdown",
      "metadata": {
        "id": "view-in-github",
        "colab_type": "text"
      },
      "source": [
        "<a href=\"https://colab.research.google.com/github/MAHARAJASINGH/PythonBeginner/blob/master/PythonDay4.ipynb\" target=\"_parent\"><img src=\"https://colab.research.google.com/assets/colab-badge.svg\" alt=\"Open In Colab\"/></a>"
      ]
    },
    {
      "cell_type": "code",
      "metadata": {
        "id": "a-GOnTPmI4mL",
        "colab_type": "code",
        "colab": {
          "base_uri": "https://localhost:8080/",
          "height": 35
        },
        "outputId": "7813e559-827d-40f9-c366-5a76ced9198c"
      },
      "source": [
        "##function use in Python\n",
        "##input\n",
        "##in jupiter this error is not occured\n",
        "##yield is a keyword in Python that is used to return from a function without destroying the states of its local variable and when the function is called, the execution starts from the last yield statement. Any function that contains a yield keyword is termed as generator.\n",
        "##Reading up a little bit on generators will probably make sense: https://wiki.python.org/moin/Generators\n",
        "##return type of value---set of value\n",
        "##not a single value\n",
        "##To preserve memory, to allocate memory for data elements in a lazy mode, just in time\n",
        "def transform(lst): \n",
        "      \n",
        "    previous = 0\n",
        "    grp = 0\n",
        "    for elem in lst: \n",
        "        if elem and not previous: \n",
        "             grp += 1\n",
        "        previous = elem \n",
        "        yield (grp if elem else 0) \n",
        "      \n",
        "# Driver code \n",
        "lst = [0, 1, 0, 0, 1, 1, 0, 0, 0, 1, 1, 1] \n",
        "x = (transform(lst)) \n",
        "#print(x)\n",
        "res = [] \n",
        "for i in range(0, len(lst)): \n",
        "    res.append(next(x)) \n",
        "print(res)"
      ],
      "execution_count": 6,
      "outputs": [
        {
          "output_type": "stream",
          "text": [
            "[0, 1, 0, 0, 2, 2, 0, 0, 0, 3, 3, 3]\n"
          ],
          "name": "stdout"
        }
      ]
    },
    {
      "cell_type": "code",
      "metadata": {
        "id": "FybPcPbzOMWf",
        "colab_type": "code",
        "colab": {
          "base_uri": "https://localhost:8080/",
          "height": 243
        },
        "outputId": "b57153b8-71f8-4e98-9579-3afb7474fc5b"
      },
      "source": [
        "##Input\n",
        "def transform(lst): \n",
        "      \n",
        "    previous = 0\n",
        "    grp = 0\n",
        "    for elem in lst: \n",
        "        if elem and not previous: \n",
        "             grp += 1\n",
        "        previous = elem \n",
        "        yield (grp if elem else 0) \n",
        "      \n",
        "# Driver code \n",
        "lst = [0, 1, 0, 0, 1, 1, 0, 0, 0, 1, 1, 1] \n",
        "x = (transform(lst)) \n",
        "print(x)\n",
        "for elem in x:print(elem)\n",
        "res = []\n",
        "for i in x:\n",
        "  res.append((i))\n",
        "  print (res)"
      ],
      "execution_count": 2,
      "outputs": [
        {
          "output_type": "stream",
          "text": [
            "<generator object transform at 0x7ff187b3bf10>\n",
            "0\n",
            "1\n",
            "0\n",
            "0\n",
            "2\n",
            "2\n",
            "0\n",
            "0\n",
            "0\n",
            "3\n",
            "3\n",
            "3\n"
          ],
          "name": "stdout"
        }
      ]
    },
    {
      "cell_type": "code",
      "metadata": {
        "id": "RONwCv2BPHXY",
        "colab_type": "code",
        "colab": {
          "base_uri": "https://localhost:8080/",
          "height": 260
        },
        "outputId": "d8bc00c4-8989-4a46-f179-a1be869a1d1e"
      },
      "source": [
        "##input\n",
        "def transform(lst): \n",
        "      \n",
        "    previous = 0\n",
        "    grp = 0\n",
        "    for elem in lst: \n",
        "        if elem and not previous: \n",
        "             grp += 1\n",
        "        previous = elem \n",
        "        yield (grp if elem else 0) \n",
        "      \n",
        "# Driver code \n",
        "lst = [0, 1, 0, 0, 1, 1, 0, 0, 0, 1, 1, 1] \n",
        "x = (transform(lst)) \n",
        "print(x)\n",
        "for elem in x:print(elem)\n",
        "res = [] \n",
        "for i in x:\n",
        "    res.append((i)) \n",
        "print(res)"
      ],
      "execution_count": 3,
      "outputs": [
        {
          "output_type": "stream",
          "text": [
            "<generator object transform at 0x7ff187b464c0>\n",
            "0\n",
            "1\n",
            "0\n",
            "0\n",
            "2\n",
            "2\n",
            "0\n",
            "0\n",
            "0\n",
            "3\n",
            "3\n",
            "3\n",
            "[]\n"
          ],
          "name": "stdout"
        }
      ]
    },
    {
      "cell_type": "code",
      "metadata": {
        "id": "PgPoAVgiRTIv",
        "colab_type": "code",
        "colab": {
          "base_uri": "https://localhost:8080/",
          "height": 35
        },
        "outputId": "14526ade-09d3-44ff-9b2f-4ee9d31f6372"
      },
      "source": [
        "##input \n",
        "#multi condition code\n",
        "l = [22, 13, 45, 50, 98, 69, 43, 44, 1]\n",
        "print([x+1 if x >= 45 else x+5 for x in l])"
      ],
      "execution_count": 7,
      "outputs": [
        {
          "output_type": "stream",
          "text": [
            "[27, 18, 46, 51, 99, 70, 48, 49, 6]\n"
          ],
          "name": "stdout"
        }
      ]
    },
    {
      "cell_type": "code",
      "metadata": {
        "id": "eaW2zz6TPUkp",
        "colab_type": "code",
        "colab": {
          "base_uri": "https://localhost:8080/",
          "height": 35
        },
        "outputId": "d956e013-fbe3-4df5-d158-5e1bb2f7eaf3"
      },
      "source": [
        "##input\n",
        "##use of iterator in list\n",
        "def transform(lst): \n",
        "      \n",
        "    previous = 0\n",
        "    grp = 0\n",
        "    for elem in lst: \n",
        "        if elem and not previous: \n",
        "             grp += 1\n",
        "        previous = elem \n",
        "        yield (grp if elem else 0) \n",
        "      \n",
        "# Driver code \n",
        "lst = [0, 1, 0, 0, 1, 1, 0, 0, 0, 1, 1, 1] \n",
        "x = (transform(lst)) \n",
        "#print(x)\n",
        "res = [] \n",
        "for i in range(0, len(lst)): \n",
        "    res.append(next(x)) \n",
        "print(res)"
      ],
      "execution_count": 5,
      "outputs": [
        {
          "output_type": "stream",
          "text": [
            "[0, 1, 0, 0, 2, 2, 0, 0, 0, 3, 3, 3]\n"
          ],
          "name": "stdout"
        }
      ]
    },
    {
      "cell_type": "code",
      "metadata": {
        "id": "6mV9NvuRRatU",
        "colab_type": "code",
        "colab": {
          "base_uri": "https://localhost:8080/",
          "height": 35
        },
        "outputId": "b737f797-a87d-42ff-86c6-76243b9c8b02"
      },
      "source": [
        "##list comprehension\n",
        "##list classifiction\n",
        "print([i for i in range(8) if i%2!=0])\n",
        "##first i will get printed"
      ],
      "execution_count": 8,
      "outputs": [
        {
          "output_type": "stream",
          "text": [
            "[1, 3, 5, 7]\n"
          ],
          "name": "stdout"
        }
      ]
    },
    {
      "cell_type": "code",
      "metadata": {
        "id": "Mvn1EKrETsDU",
        "colab_type": "code",
        "colab": {
          "base_uri": "https://localhost:8080/",
          "height": 364
        },
        "outputId": "a0217c29-ef5f-46a2-8f8f-3f7d9d21484e"
      },
      "source": [
        "##input\n",
        "#two dimensional multiplication\n",
        "##interpretor will format if we use f here\n",
        "##f means Formatted string literals\n",
        "##The f means Formatted string literals and it's new in Python 3.6 .\n",
        "## A formatted string literal or f-string is a string literal that is prefixed with 'f' or 'F' . \n",
        "##similar to $ in c#\n",
        "\n",
        "for i in range(7,9):\n",
        "        for j in range(1,11):\n",
        "               print(f\"{i}*{j}={i*j}\")"
      ],
      "execution_count": 9,
      "outputs": [
        {
          "output_type": "stream",
          "text": [
            "7*1=7\n",
            "7*2=14\n",
            "7*3=21\n",
            "7*4=28\n",
            "7*5=35\n",
            "7*6=42\n",
            "7*7=49\n",
            "7*8=56\n",
            "7*9=63\n",
            "7*10=70\n",
            "8*1=8\n",
            "8*2=16\n",
            "8*3=24\n",
            "8*4=32\n",
            "8*5=40\n",
            "8*6=48\n",
            "8*7=56\n",
            "8*8=64\n",
            "8*9=72\n",
            "8*10=80\n"
          ],
          "name": "stdout"
        }
      ]
    },
    {
      "cell_type": "markdown",
      "metadata": {
        "id": "uDZ3LrgWSzdx",
        "colab_type": "text"
      },
      "source": [
        "myset={1,2,3} ----these define the set and [] define the lit"
      ]
    },
    {
      "cell_type": "code",
      "metadata": {
        "id": "EEZaKpQzT59y",
        "colab_type": "code",
        "colab": {
          "base_uri": "https://localhost:8080/",
          "height": 121
        },
        "outputId": "deb9ff2f-b893-47b5-d1af-31929c5901d4"
      },
      "source": [
        "##input\n",
        "##unpacking tuple value\n",
        "list=['Romanian','Spanish','Gujarati']\n",
        "for i in range(len(list)):\n",
        "        print(list[i])\n",
        "        \n",
        "for i in list:print(i)"
      ],
      "execution_count": 10,
      "outputs": [
        {
          "output_type": "stream",
          "text": [
            "Romanian\n",
            "Spanish\n",
            "Gujarati\n",
            "Romanian\n",
            "Spanish\n",
            "Gujarati\n"
          ],
          "name": "stdout"
        }
      ]
    },
    {
      "cell_type": "code",
      "metadata": {
        "id": "j8bm8nMvVPod",
        "colab_type": "code",
        "colab": {
          "base_uri": "https://localhost:8080/",
          "height": 121
        },
        "outputId": "9608ffe1-abb9-4c5a-b979-54bb50413781"
      },
      "source": [
        "##tuple unpacking\n",
        "##input\n",
        "#unpacking tuple value\n",
        "percentages=(99,95,90,89,93,96)\n",
        "a,b,c,d,e,f=percentages\n",
        "print(a)\n",
        "print(b)\n",
        "print(c)\n",
        "print(d)\n",
        "print(e)\n",
        "print(f)"
      ],
      "execution_count": 11,
      "outputs": [
        {
          "output_type": "stream",
          "text": [
            "99\n",
            "95\n",
            "90\n",
            "89\n",
            "93\n",
            "96\n"
          ],
          "name": "stdout"
        }
      ]
    },
    {
      "cell_type": "code",
      "metadata": {
        "id": "8csyQsg9VVCG",
        "colab_type": "code",
        "colab": {
          "base_uri": "https://localhost:8080/",
          "height": 69
        },
        "outputId": "06b1d900-7888-4e1a-d0a1-13a4c9a59a58"
      },
      "source": [
        "##multidimensional tuple\n",
        "##input\n",
        "##nested tuple\n",
        "a=((1,2,3),(4,(5,6)))\n",
        "#a[1][1][1]\n",
        "print(a[1])\n",
        "print(a[1][0])\n",
        "print(a[0][2])"
      ],
      "execution_count": 12,
      "outputs": [
        {
          "output_type": "stream",
          "text": [
            "(4, (5, 6))\n",
            "4\n",
            "3\n"
          ],
          "name": "stdout"
        }
      ]
    },
    {
      "cell_type": "code",
      "metadata": {
        "id": "HiMcsgoQWdX0",
        "colab_type": "code",
        "colab": {
          "base_uri": "https://localhost:8080/",
          "height": 287
        },
        "outputId": "593cfdef-d4e9-4160-8ec3-f2f37e56d600"
      },
      "source": [
        "##input\n",
        "##in set u can have duplicates values\n",
        "##set will not allow embedding of datas et in other dataset.....or mixing of dataset\n",
        "##tuple can have a list and a set as well\n",
        "##Yes, that is an example Set doesn't allow list to be nested\n",
        "##error will come definately\n",
        "a={1,3,2}\n",
        "c={1,2.0,'three'}\n",
        "for x in c:print(x)\n",
        "a = {1,2,2,3}\n",
        "print(a)\n",
        "d={[1,2,3],4}\n",
        "print(d)"
      ],
      "execution_count": 13,
      "outputs": [
        {
          "output_type": "stream",
          "text": [
            "1\n",
            "2.0\n",
            "three\n",
            "{1, 2, 3}\n"
          ],
          "name": "stdout"
        },
        {
          "output_type": "error",
          "ename": "TypeError",
          "evalue": "ignored",
          "traceback": [
            "\u001b[0;31m---------------------------------------------------------------------------\u001b[0m",
            "\u001b[0;31mTypeError\u001b[0m                                 Traceback (most recent call last)",
            "\u001b[0;32m<ipython-input-13-6e4f50ff9f22>\u001b[0m in \u001b[0;36m<module>\u001b[0;34m()\u001b[0m\n\u001b[1;32m      8\u001b[0m \u001b[0ma\u001b[0m \u001b[0;34m=\u001b[0m \u001b[0;34m{\u001b[0m\u001b[0;36m1\u001b[0m\u001b[0;34m,\u001b[0m\u001b[0;36m2\u001b[0m\u001b[0;34m,\u001b[0m\u001b[0;36m2\u001b[0m\u001b[0;34m,\u001b[0m\u001b[0;36m3\u001b[0m\u001b[0;34m}\u001b[0m\u001b[0;34m\u001b[0m\u001b[0;34m\u001b[0m\u001b[0m\n\u001b[1;32m      9\u001b[0m \u001b[0mprint\u001b[0m\u001b[0;34m(\u001b[0m\u001b[0ma\u001b[0m\u001b[0;34m)\u001b[0m\u001b[0;34m\u001b[0m\u001b[0;34m\u001b[0m\u001b[0m\n\u001b[0;32m---> 10\u001b[0;31m \u001b[0md\u001b[0m\u001b[0;34m=\u001b[0m\u001b[0;34m{\u001b[0m\u001b[0;34m[\u001b[0m\u001b[0;36m1\u001b[0m\u001b[0;34m,\u001b[0m\u001b[0;36m2\u001b[0m\u001b[0;34m,\u001b[0m\u001b[0;36m3\u001b[0m\u001b[0;34m]\u001b[0m\u001b[0;34m,\u001b[0m\u001b[0;36m4\u001b[0m\u001b[0;34m}\u001b[0m\u001b[0;34m\u001b[0m\u001b[0;34m\u001b[0m\u001b[0m\n\u001b[0m\u001b[1;32m     11\u001b[0m \u001b[0mprint\u001b[0m\u001b[0;34m(\u001b[0m\u001b[0md\u001b[0m\u001b[0;34m)\u001b[0m\u001b[0;34m\u001b[0m\u001b[0;34m\u001b[0m\u001b[0m\n",
            "\u001b[0;31mTypeError\u001b[0m: unhashable type: 'list'"
          ]
        }
      ]
    },
    {
      "cell_type": "code",
      "metadata": {
        "id": "UJv2aWCSX3Fz",
        "colab_type": "code",
        "colab": {
          "base_uri": "https://localhost:8080/",
          "height": 52
        },
        "outputId": "0e68859b-8674-450c-d844-50a70b70434d"
      },
      "source": [
        "##discard is for specific element removal\n",
        "##pop is for top most element\n",
        "##input\n",
        "numbers={3,2,1,4,6,5}\n",
        "numbers.discard(3)\n",
        "print(numbers)\n",
        "numbers.pop()\n",
        "print(numbers)"
      ],
      "execution_count": 14,
      "outputs": [
        {
          "output_type": "stream",
          "text": [
            "{1, 2, 4, 5, 6}\n",
            "{2, 4, 5, 6}\n"
          ],
          "name": "stdout"
        }
      ]
    },
    {
      "cell_type": "code",
      "metadata": {
        "id": "AF5gGPwBYgt5",
        "colab_type": "code",
        "colab": {
          "base_uri": "https://localhost:8080/",
          "height": 87
        },
        "outputId": "96d5dcfc-ce02-4868-b670-51ae13e6072e"
      },
      "source": [
        "##input\n",
        "##set is not supporting indexing\n",
        "numbers={3,2,1,4,6,5}\n",
        "numbers.discard(3)\n",
        "print(numbers)\n",
        "numbers.pop()\n",
        "print(numbers)\n",
        "numbers.add(3.5)\n",
        "print(numbers)\n",
        "numbers.add(\"xyz\")\n",
        "print(numbers)\n",
        "#print(numbers)"
      ],
      "execution_count": 15,
      "outputs": [
        {
          "output_type": "stream",
          "text": [
            "{1, 2, 4, 5, 6}\n",
            "{2, 4, 5, 6}\n",
            "{2, 3.5, 4, 5, 6}\n",
            "{2, 3.5, 4, 5, 6, 'xyz'}\n"
          ],
          "name": "stdout"
        }
      ]
    },
    {
      "cell_type": "code",
      "metadata": {
        "id": "ISnccUIdZfLh",
        "colab_type": "code",
        "colab": {
          "base_uri": "https://localhost:8080/",
          "height": 104
        },
        "outputId": "96350230-4e15-4a4e-82d2-71b6d695a7a3"
      },
      "source": [
        "##input\n",
        "##some order concept is here\n",
        "numbers={3,2,1,4,6,5}\n",
        "numbers.discard(3)\n",
        "print(numbers)\n",
        "numbers.pop()\n",
        "print(numbers)\n",
        "numbers.add(3.5)\n",
        "print(numbers)\n",
        "numbers.add(\"xyz\")\n",
        "print(numbers)\n",
        "#print(numbers)\n",
        "numbers.update([0,1],{1,2,9})\n",
        "print(numbers)"
      ],
      "execution_count": 16,
      "outputs": [
        {
          "output_type": "stream",
          "text": [
            "{1, 2, 4, 5, 6}\n",
            "{2, 4, 5, 6}\n",
            "{2, 3.5, 4, 5, 6}\n",
            "{2, 3.5, 4, 5, 6, 'xyz'}\n",
            "{0, 1, 2, 3.5, 4, 5, 6, 9, 'xyz'}\n"
          ],
          "name": "stdout"
        }
      ]
    },
    {
      "cell_type": "code",
      "metadata": {
        "id": "SHcB7tiHbW2Z",
        "colab_type": "code",
        "colab": {
          "base_uri": "https://localhost:8080/",
          "height": 69
        },
        "outputId": "f3226817-8a79-44a6-ee11-e86ab53e14f5"
      },
      "source": [
        "##union will take all the value\n",
        "##in order as well\n",
        "##input\n",
        "set1,set2,set3={1,2,3},{3,4,5},{5,6,7}\n",
        "print(set2.intersection(set1))\n",
        "print(set1)\n",
        "print(set1.union(set2,set3))"
      ],
      "execution_count": 18,
      "outputs": [
        {
          "output_type": "stream",
          "text": [
            "{3}\n",
            "{1, 2, 3}\n",
            "{1, 2, 3, 4, 5, 6, 7}\n"
          ],
          "name": "stdout"
        }
      ]
    },
    {
      "cell_type": "code",
      "metadata": {
        "id": "sDtUW69XdyAz",
        "colab_type": "code",
        "colab": {
          "base_uri": "https://localhost:8080/",
          "height": 35
        },
        "outputId": "bd15f508-8c1b-406f-c812-8858afb27aff"
      },
      "source": [
        "##input\n",
        "set1={1,2,3}\n",
        "set2={3,4,5}\n",
        "set1.difference_update(set2)\n",
        "set1"
      ],
      "execution_count": 19,
      "outputs": [
        {
          "output_type": "execute_result",
          "data": {
            "text/plain": [
              "{1, 2}"
            ]
          },
          "metadata": {
            "tags": []
          },
          "execution_count": 19
        }
      ]
    },
    {
      "cell_type": "code",
      "metadata": {
        "id": "nVHljGGod6rK",
        "colab_type": "code",
        "colab": {}
      },
      "source": [
        "##input\n",
        "subset and parent set need to know\n",
        "set4 = set1.intersection(set2, set3)\n",
        "if set4:\n",
        "  print (set4)"
      ],
      "execution_count": 20,
      "outputs": []
    },
    {
      "cell_type": "code",
      "metadata": {
        "id": "ifj2QA6DeUNO",
        "colab_type": "code",
        "colab": {
          "base_uri": "https://localhost:8080/",
          "height": 35
        },
        "outputId": "8409f210-b4eb-4007-bae3-6251e9d0d28f"
      },
      "source": [
        "##input\n",
        "set1={1,2,3}\n",
        "set2={3,4,5}\n",
        "set1.difference_update(set2)  ##present in set 1 but not in set 2\n",
        "print(set1)"
      ],
      "execution_count": 21,
      "outputs": [
        {
          "output_type": "stream",
          "text": [
            "{1, 2}\n"
          ],
          "name": "stdout"
        }
      ]
    },
    {
      "cell_type": "code",
      "metadata": {
        "id": "nz0gwTObfkOR",
        "colab_type": "code",
        "colab": {
          "base_uri": "https://localhost:8080/",
          "height": 104
        },
        "outputId": "7fbd4657-96cc-4a99-9d4c-cecda5420f6b"
      },
      "source": [
        "##isdisjoint here in sub set\n",
        "##input\n",
        "##superset and subset\n",
        "##disjoint will give true only when all elements are different\n",
        "print({1,3,2}.isdisjoint({4,3,6}))\n",
        "print({1,2}.issubset({1,2,3}))\n",
        "print({1,3,4}.issuperset({1,2}))\n",
        "print({1,3,4}.issuperset({1}))\n",
        "print({1,2,7}.isdisjoint({4,3,6})) "
      ],
      "execution_count": 23,
      "outputs": [
        {
          "output_type": "stream",
          "text": [
            "False\n",
            "True\n",
            "False\n",
            "True\n",
            "True\n"
          ],
          "name": "stdout"
        }
      ]
    }
  ]
}