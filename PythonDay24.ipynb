{
  "nbformat": 4,
  "nbformat_minor": 0,
  "metadata": {
    "colab": {
      "name": "PythonDay24.ipynb",
      "provenance": [],
      "collapsed_sections": [],
      "authorship_tag": "ABX9TyML5LVxd6MCZBoewkfuZR2W",
      "include_colab_link": true
    },
    "kernelspec": {
      "name": "python3",
      "display_name": "Python 3"
    }
  },
  "cells": [
    {
      "cell_type": "markdown",
      "metadata": {
        "id": "view-in-github",
        "colab_type": "text"
      },
      "source": [
        "<a href=\"https://colab.research.google.com/github/MAHARAJASINGH/PythonBeginner/blob/master/PythonDay24.ipynb\" target=\"_parent\"><img src=\"https://colab.research.google.com/assets/colab-badge.svg\" alt=\"Open In Colab\"/></a>"
      ]
    },
    {
      "cell_type": "code",
      "metadata": {
        "id": "IlZwIPaUU3rZ",
        "colab_type": "code",
        "colab": {
          "base_uri": "https://localhost:8080/",
          "height": 69
        },
        "outputId": "d89fb7b5-ea8d-47db-96b9-0ead79e31e21"
      },
      "source": [
        "##correlation test\n",
        "##coefficient test\n",
        "#chi square data\n",
        "from scipy.stats import chi2_contingency \n",
        "  \n",
        "# defining the table \n",
        "data = [[207, 282, 241], [234, 242, 232]] \n",
        "stat, p, dof, expected = chi2_contingency(data) \n",
        "  \n",
        "# interpret p-value \n",
        "print(\"degree of freedom\",dof)\n",
        "alpha = 0.05\n",
        "print(\"p value is \" + str(p)) \n",
        "if p <= alpha: \n",
        "    print('Dependent (reject H0)') \n",
        "else: \n",
        "    print('Independent (H0 holds true)') "
      ],
      "execution_count": 1,
      "outputs": [
        {
          "output_type": "stream",
          "text": [
            "degree of freedom 2\n",
            "p value is 0.1031971404730939\n",
            "Independent (H0 holds true)\n"
          ],
          "name": "stdout"
        }
      ]
    },
    {
      "cell_type": "code",
      "metadata": {
        "id": "Os51b1jzZIHQ",
        "colab_type": "code",
        "colab": {
          "base_uri": "https://localhost:8080/",
          "height": 313
        },
        "outputId": "59b4a2b3-809c-49fd-8fbf-c110a81e782b"
      },
      "source": [
        "##input\n",
        "#Chi-Square test is a statistical method to determine if two categorical variables have a significant correlation between them. \n",
        "#The P-value obtained from chi-square test for independence is significant (P<0.05), and therefore, we conclude that there is a significant association \n",
        "from scipy import stats\n",
        "import numpy as np\n",
        "import matplotlib.pyplot as plt\n",
        "x = np.linspace(0, 10, 100)\n",
        "fig,ax = plt.subplots(1,1)\n",
        "linestyles = [':', '--', '-.', '-']\n",
        "deg_of_freedom = [1, 4, 7, 6]\n",
        "for df, ls in zip(deg_of_freedom, linestyles):\n",
        "  ax.plot(x, stats.chi2.pdf(x, df), linestyle=ls)\n",
        "plt.xlim(0, 10)\n",
        "plt.ylim(0, 0.4)\n",
        "plt.xlabel('Value')\n",
        "plt.ylabel('Frequency')\n",
        "plt.title('Chi-Square Distribution')\n",
        "plt.legend()\n",
        "plt.show()"
      ],
      "execution_count": 2,
      "outputs": [
        {
          "output_type": "stream",
          "text": [
            "No handles with labels found to put in legend.\n"
          ],
          "name": "stderr"
        },
        {
          "output_type": "display_data",
          "data": {
            "image/png": "[encoded data removed]",
            "text/plain": [
              "<Figure size 432x288 with 1 Axes>"
            ]
          },
          "metadata": {
            "tags": [],
            "needs_background": "light"
          }
        }
      ]
    },
    {
      "cell_type": "code",
      "metadata": {
        "id": "yahKGF2fZYYM",
        "colab_type": "code",
        "colab": {
          "base_uri": "https://localhost:8080/",
          "height": 540
        },
        "outputId": "dcfaa78d-01de-4da5-c994-11e69d68cc01"
      },
      "source": [
        "pip install bioinfokit\n"
      ],
      "execution_count": 4,
      "outputs": [
        {
          "output_type": "stream",
          "text": [
            "Collecting bioinfokit\n",
            "\u001b[?25l  Downloading https://files.pythonhosted.org/packages/1b/58/fe6a1f321a76ae78352a3589805c7364b3a322df245afc872c2850660626/bioinfokit-0.9.2.tar.gz (44kB)\n",
            "\r\u001b[K     |███████▍                        | 10kB 16.2MB/s eta 0:00:01\r\u001b[K     |██████████████▊                 | 20kB 1.7MB/s eta 0:00:01\r\u001b[K     |██████████████████████          | 30kB 2.3MB/s eta 0:00:01\r\u001b[K     |█████████████████████████████▌  | 40kB 2.6MB/s eta 0:00:01\r\u001b[K     |████████████████████████████████| 51kB 1.6MB/s \n",
            "\u001b[?25hRequirement already satisfied: pandas in /usr/local/lib/python3.6/dist-packages (from bioinfokit) (1.0.5)\n",
            "Requirement already satisfied: numpy in /usr/local/lib/python3.6/dist-packages (from bioinfokit) (1.18.5)\n",
            "Requirement already satisfied: matplotlib in /usr/local/lib/python3.6/dist-packages (from bioinfokit) (3.2.2)\n",
            "Requirement already satisfied: scipy in /usr/local/lib/python3.6/dist-packages (from bioinfokit) (1.4.1)\n",
            "Requirement already satisfied: scikit-learn in /usr/local/lib/python3.6/dist-packages (from bioinfokit) (0.22.2.post1)\n",
            "Requirement already satisfied: seaborn in /usr/local/lib/python3.6/dist-packages (from bioinfokit) (0.10.1)\n",
            "Requirement already satisfied: matplotlib_venn in /usr/local/lib/python3.6/dist-packages (from bioinfokit) (0.11.5)\n",
            "Requirement already satisfied: tabulate in /usr/local/lib/python3.6/dist-packages (from bioinfokit) (0.8.7)\n",
            "Requirement already satisfied: statsmodels in /usr/local/lib/python3.6/dist-packages (from bioinfokit) (0.10.2)\n",
            "Collecting textwrap3\n",
            "  Downloading https://files.pythonhosted.org/packages/77/9c/a53e561d496ee5866bbeea4d3a850b3b545ed854f8a21007c1e0d872e94d/textwrap3-0.9.2-py2.py3-none-any.whl\n",
            "Requirement already satisfied: python-dateutil>=2.6.1 in /usr/local/lib/python3.6/dist-packages (from pandas->bioinfokit) (2.8.1)\n",
            "Requirement already satisfied: pytz>=2017.2 in /usr/local/lib/python3.6/dist-packages (from pandas->bioinfokit) (2018.9)\n",
            "Requirement already satisfied: cycler>=0.10 in /usr/local/lib/python3.6/dist-packages (from matplotlib->bioinfokit) (0.10.0)\n",
            "Requirement already satisfied: kiwisolver>=1.0.1 in /usr/local/lib/python3.6/dist-packages (from matplotlib->bioinfokit) (1.2.0)\n",
            "Requirement already satisfied: pyparsing!=2.0.4,!=2.1.2,!=2.1.6,>=2.0.1 in /usr/local/lib/python3.6/dist-packages (from matplotlib->bioinfokit) (2.4.7)\n",
            "Requirement already satisfied: joblib>=0.11 in /usr/local/lib/python3.6/dist-packages (from scikit-learn->bioinfokit) (0.16.0)\n",
            "Requirement already satisfied: patsy>=0.4.0 in /usr/local/lib/python3.6/dist-packages (from statsmodels->bioinfokit) (0.5.1)\n",
            "Requirement already satisfied: six>=1.5 in /usr/local/lib/python3.6/dist-packages (from python-dateutil>=2.6.1->pandas->bioinfokit) (1.15.0)\n",
            "Building wheels for collected packages: bioinfokit\n",
            "  Building wheel for bioinfokit (setup.py) ... \u001b[?25l\u001b[?25hdone\n",
            "  Created wheel for bioinfokit: filename=bioinfokit-0.9.2-cp36-none-any.whl size=30078 sha256=ce6fa144a82178e82bca598216712f174e4c2d777c4004531af88fae2752cfbd\n",
            "  Stored in directory: /root/.cache/pip/wheels/a4/ed/dc/8bd1129f24b2c20cdd2f363b9b22bdc6fbcc88236f9388eefe\n",
            "Successfully built bioinfokit\n",
            "Installing collected packages: textwrap3, bioinfokit\n",
            "Successfully installed bioinfokit-0.9.2 textwrap3-0.9.2\n"
          ],
          "name": "stdout"
        }
      ]
    },
    {
      "cell_type": "code",
      "metadata": {
        "id": "6Vy7S1Q0Zh2a",
        "colab_type": "code",
        "colab": {
          "base_uri": "https://localhost:8080/",
          "height": 315
        },
        "outputId": "fb363029-64b9-4d5e-e496-47494d8a71c4"
      },
      "source": [
        "pip install adjustText"
      ],
      "execution_count": 5,
      "outputs": [
        {
          "output_type": "stream",
          "text": [
            "Collecting adjustText\n",
            "  Downloading https://files.pythonhosted.org/packages/9e/15/4157718bf323fd5f5b81c891c660d0f388e042d2689a558bf1389632dc44/adjustText-0.7.3.tar.gz\n",
            "Requirement already satisfied: numpy in /usr/local/lib/python3.6/dist-packages (from adjustText) (1.18.5)\n",
            "Requirement already satisfied: matplotlib in /usr/local/lib/python3.6/dist-packages (from adjustText) (3.2.2)\n",
            "Requirement already satisfied: cycler>=0.10 in /usr/local/lib/python3.6/dist-packages (from matplotlib->adjustText) (0.10.0)\n",
            "Requirement already satisfied: kiwisolver>=1.0.1 in /usr/local/lib/python3.6/dist-packages (from matplotlib->adjustText) (1.2.0)\n",
            "Requirement already satisfied: pyparsing!=2.0.4,!=2.1.2,!=2.1.6,>=2.0.1 in /usr/local/lib/python3.6/dist-packages (from matplotlib->adjustText) (2.4.7)\n",
            "Requirement already satisfied: python-dateutil>=2.1 in /usr/local/lib/python3.6/dist-packages (from matplotlib->adjustText) (2.8.1)\n",
            "Requirement already satisfied: six in /usr/local/lib/python3.6/dist-packages (from cycler>=0.10->matplotlib->adjustText) (1.15.0)\n",
            "Building wheels for collected packages: adjustText\n",
            "  Building wheel for adjustText (setup.py) ... \u001b[?25l\u001b[?25hdone\n",
            "  Created wheel for adjustText: filename=adjustText-0.7.3-cp36-none-any.whl size=7100 sha256=af205cd110e937890b7c54a7d511e473e5c7c5bd29a3e801c825cc4124809907\n",
            "  Stored in directory: /root/.cache/pip/wheels/41/95/74/7d347e136d672f8bc28e937032bc92baf4f80856763a7e7b72\n",
            "Successfully built adjustText\n",
            "Installing collected packages: adjustText\n",
            "Successfully installed adjustText-0.7.3\n"
          ],
          "name": "stdout"
        }
      ]
    },
    {
      "cell_type": "code",
      "metadata": {
        "id": "AlKLnGAgZpy0",
        "colab_type": "code",
        "colab": {
          "base_uri": "https://localhost:8080/",
          "height": 183
        },
        "outputId": "fa813d5d-a6ba-4069-cb9a-318af81dcfc6"
      },
      "source": [
        "##input\n",
        "###rows and columns dependency\n",
        "##based on p value\n",
        "#less than 0.5 than not independent\n",
        "df = pd.read_csv(\"https://reneshbedre.github.io/assets/posts/chisq/drugdata.csv\", index_col=0) "
      ],
      "execution_count": 6,
      "outputs": [
        {
          "output_type": "error",
          "ename": "NameError",
          "evalue": "ignored",
          "traceback": [
            "\u001b[0;31m---------------------------------------------------------------------------\u001b[0m",
            "\u001b[0;31mNameError\u001b[0m                                 Traceback (most recent call last)",
            "\u001b[0;32m<ipython-input-6-8b80098339d9>\u001b[0m in \u001b[0;36m<module>\u001b[0;34m()\u001b[0m\n\u001b[1;32m      1\u001b[0m \u001b[0;31m##input\u001b[0m\u001b[0;34m\u001b[0m\u001b[0;34m\u001b[0m\u001b[0;34m\u001b[0m\u001b[0m\n\u001b[0;32m----> 2\u001b[0;31m \u001b[0mdf\u001b[0m \u001b[0;34m=\u001b[0m \u001b[0mpd\u001b[0m\u001b[0;34m.\u001b[0m\u001b[0mread_csv\u001b[0m\u001b[0;34m(\u001b[0m\u001b[0;34m\"https://reneshbedre.github.io/assets/posts/chisq/drugdata.csv\"\u001b[0m\u001b[0;34m,\u001b[0m \u001b[0mindex_col\u001b[0m\u001b[0;34m=\u001b[0m\u001b[0;36m0\u001b[0m\u001b[0;34m)\u001b[0m\u001b[0;34m\u001b[0m\u001b[0;34m\u001b[0m\u001b[0m\n\u001b[0m",
            "\u001b[0;31mNameError\u001b[0m: name 'pd' is not defined"
          ]
        }
      ]
    },
    {
      "cell_type": "code",
      "metadata": {
        "id": "KwPLUEq5aZyw",
        "colab_type": "code",
        "colab": {
          "base_uri": "https://localhost:8080/",
          "height": 636
        },
        "outputId": "e654fced-302e-48d5-ce41-35fa7ac4ec2a"
      },
      "source": [
        "##input\n",
        "##if want to know the dependecy on rows and columns use the chi square test always\n",
        "from bioinfokit import analys\n",
        "import pandas as pd\n",
        "import matplotlib\n",
        "import pandas as pd\n",
        "import matplotlib.pyplot as plt\n",
        "from mpl_toolkits.mplot3d import Axes3D\n",
        "import numpy as np\n",
        "import matplotlib.cm as cmc\n",
        "import seaborn as sns\n",
        "from matplotlib_venn import venn3, venn2\n",
        "from random import sample\n",
        "from functools import reduce\n",
        "import sys\n",
        "from matplotlib.colors import ListedColormap\n",
        "from adjustText import adjust_text\n",
        "df = pd.read_csv(\"https://reneshbedre.github.io/assets/posts/chisq/drugdata.csv\", index_col=0) \n",
        "print(df)\n",
        "df.head()\n",
        "analys.stat.chisq(df=df)"
      ],
      "execution_count": 7,
      "outputs": [
        {
          "output_type": "stream",
          "text": [
            "/usr/local/lib/python3.6/dist-packages/statsmodels/tools/_testing.py:19: FutureWarning: pandas.util.testing is deprecated. Use the functions in the public API at pandas.testing instead.\n",
            "  import pandas.util.testing as tm\n"
          ],
          "name": "stderr"
        },
        {
          "output_type": "stream",
          "text": [
            "            cured  noncured\n",
            "treatments                 \n",
            "treated        60        10\n",
            "nontreated     30        25\n",
            "\n",
            "Chi-squared test\n",
            "\n",
            "Test              Df    Chi-square      P-value\n",
            "--------------  ----  ------------  -----------\n",
            "Pearson            1       13.3365  0.000260291\n",
            "Log-likelihood     1       13.4687  0.000242574\n",
            "\n",
            "Expected frequency counts\n",
            "\n",
            "      cured    noncured\n",
            "--  -------  ----------\n",
            " 0     50.4        19.6\n",
            " 1     39.6        15.4\n"
          ],
          "name": "stdout"
        },
        {
          "output_type": "display_data",
          "data": {
            "image/png": "[encoded data removed]",
            "text/plain": [
              "<Figure size 432x288 with 3 Axes>"
            ]
          },
          "metadata": {
            "tags": [],
            "needs_background": "light"
          }
        }
      ]
    },
    {
      "cell_type": "code",
      "metadata": {
        "id": "4S_zuB9bavn1",
        "colab_type": "code",
        "colab": {
          "base_uri": "https://localhost:8080/",
          "height": 52
        },
        "outputId": "f8add32d-67c2-48fc-ae33-d41c5a10de67"
      },
      "source": [
        "##input\n",
        "# Example of the Chi-Squared Test\n",
        "##practical columns---when large data is there----what are dependent data sets and independent datasets\n",
        "##dependent columns and independent columns\n",
        "from scipy.stats import chi2_contingency\n",
        "table = [[10, 20, 30],[6,  9,  17]]\n",
        "stat, p, dof, expected = chi2_contingency(table)\n",
        "print('stat=%.3f, p=%.3f' % (stat, p))\n",
        "if p > 0.05:\n",
        "    print('Probably independent')\n",
        "else:\n",
        "    print('Probably dependent')"
      ],
      "execution_count": 8,
      "outputs": [
        {
          "output_type": "stream",
          "text": [
            "stat=0.272, p=0.873\n",
            "Probably independent\n"
          ],
          "name": "stdout"
        }
      ]
    },
    {
      "cell_type": "code",
      "metadata": {
        "id": "FcpQnLXKcFpv",
        "colab_type": "code",
        "colab": {
          "base_uri": "https://localhost:8080/",
          "height": 345
        },
        "outputId": "02c029c0-c4ec-41bc-d2fa-657585c7ad42"
      },
      "source": [
        "##use heat map\n",
        "##positive relationships----directly proportional\n",
        "#negative relationship---inversely proportional\n",
        "##phi coefficient\n",
        "##null hypothesis\n",
        "##alternative hypotheses\n",
        "##alpha test----phi coefficients\n",
        "##contingency table\n",
        "#correlation matrix\n",
        "import pandas as pd\n",
        "df = pd.DataFrame({'a': np.random.randint(0, 50, 1000)})\n",
        "df['b'] = df['a'] + np.random.normal(0, 10, 1000) # positively correlated with 'a'\n",
        "df['c'] = 100 - df['a'] + np.random.normal(0, 5, 1000) # negatively correlated with 'a'\n",
        "df['d'] = np.random.randint(0, 50, 1000) # not correlated with 'a'\n",
        "print(df.corr())\n",
        "plt.matshow(df.corr())\n",
        "plt.xticks(range(len(df.columns)), df.columns)\n",
        "plt.yticks(range(len(df.columns)), df.columns)\n",
        "plt.colorbar()\n",
        "plt.show()"
      ],
      "execution_count": 9,
      "outputs": [
        {
          "output_type": "stream",
          "text": [
            "          a         b         c         d\n",
            "a  1.000000  0.820643 -0.945917 -0.011823\n",
            "b  0.820643  1.000000 -0.775613 -0.012045\n",
            "c -0.945917 -0.775613  1.000000  0.019288\n",
            "d -0.011823 -0.012045  0.019288  1.000000\n"
          ],
          "name": "stdout"
        },
        {
          "output_type": "display_data",
          "data": {
            "image/png": "[encoded data removed]",
            "text/plain": [
              "<Figure size 288x288 with 2 Axes>"
            ]
          },
          "metadata": {
            "tags": [],
            "needs_background": "light"
          }
        }
      ]
    },
    {
      "cell_type": "code",
      "metadata": {
        "id": "tFqPHHQomfos",
        "colab_type": "code",
        "colab": {
          "base_uri": "https://localhost:8080/",
          "height": 269
        },
        "outputId": "d0020052-41c5-4333-85c1-ce6a369df068"
      },
      "source": [
        "##input\n",
        "import pandas as pd\n",
        "import seaborn as sn\n",
        "import matplotlib.pyplot as plt\n",
        "data = {'A': [45,37,42,35,39],\n",
        "        'B': [38,31,26,28,33],\n",
        "        'C': [10,15,17,21,12]\n",
        "        }\n",
        "df = pd.DataFrame(data,columns=['A','B','C'])\n",
        "corrMatrix = df.corr()\n",
        "sn.heatmap(corrMatrix, annot=True)\n",
        "plt.show()"
      ],
      "execution_count": 10,
      "outputs": [
        {
          "output_type": "display_data",
          "data": {
            "image/png": "[encoded data removed]",
            "text/plain": [
              "<Figure size 432x288 with 2 Axes>"
            ]
          },
          "metadata": {
            "tags": [],
            "needs_background": "light"
          }
        }
      ]
    }
  ]
}