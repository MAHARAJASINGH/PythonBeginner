{
  "nbformat": 4,
  "nbformat_minor": 0,
  "metadata": {
    "colab": {
      "name": "PythonDay11.ipynb",
      "provenance": [],
      "collapsed_sections": [],
      "authorship_tag": "ABX9TyP9TIWC7s7298OyBO4nSKSv",
      "include_colab_link": true
    },
    "kernelspec": {
      "name": "python3",
      "display_name": "Python 3"
    }
  },
  "cells": [
    {
      "cell_type": "markdown",
      "metadata": {
        "id": "view-in-github",
        "colab_type": "text"
      },
      "source": [
        "<a href=\"https://colab.research.google.com/github/MAHARAJASINGH/PythonBeginner/blob/master/PythonDay11.ipynb\" target=\"_parent\"><img src=\"https://colab.research.google.com/assets/colab-badge.svg\" alt=\"Open In Colab\"/></a>"
      ]
    },
    {
      "cell_type": "code",
      "metadata": {
        "id": "ICLM-E6de2aM",
        "colab_type": "code",
        "colab": {
          "base_uri": "https://localhost:8080/",
          "height": 589
        },
        "outputId": "cb9e9004-a521-4bcd-c632-8036a304cdd2"
      },
      "source": [
        "##input\n",
        "#sorting data frame\n",
        "#np.random.randn(10,2)   what this will do...?\n",
        "#it creates random numbers with 10 rows and 2 columns\n",
        "#getting negative values in col2 and 1\n",
        "import pandas as pd\n",
        "import numpy as np\n",
        "print(\"randon numbers\")\n",
        "print(np.random.randn(10,2))\n",
        "unsorted_df=pd.DataFrame(np.random.randn(10,2),index=[1,4,6,2,3,5,9,8,0,7],columns=['col2','col1'])\n",
        "print(unsorted_df)\n",
        "sorted_df=unsorted_df.sort_index()\n",
        "print(sorted_df)"
      ],
      "execution_count": 3,
      "outputs": [
        {
          "output_type": "stream",
          "text": [
            "randon numbers\n",
            "[[ 0.57557138 -1.84937846]\n",
            " [-1.12413046  0.38768102]\n",
            " [ 0.17712626 -1.54741253]\n",
            " [ 0.72767139  1.55172814]\n",
            " [ 1.13935604  0.02230416]\n",
            " [ 1.01131908 -0.76513678]\n",
            " [ 0.13176398  0.20128588]\n",
            " [ 0.27462762 -1.81322802]\n",
            " [-0.15931773  0.88224093]\n",
            " [ 0.75929193 -1.01739176]]\n",
            "       col2      col1\n",
            "1 -0.415530 -1.452475\n",
            "4 -0.762530 -0.613949\n",
            "6 -1.121789 -1.181962\n",
            "2 -0.433400  0.599947\n",
            "3  0.265361 -1.202523\n",
            "5  0.670599  1.190541\n",
            "9  1.191485 -1.204397\n",
            "8 -0.280668  0.898725\n",
            "0  0.876947 -0.481778\n",
            "7 -0.794929 -1.520873\n",
            "       col2      col1\n",
            "0  0.876947 -0.481778\n",
            "1 -0.415530 -1.452475\n",
            "2 -0.433400  0.599947\n",
            "3  0.265361 -1.202523\n",
            "4 -0.762530 -0.613949\n",
            "5  0.670599  1.190541\n",
            "6 -1.121789 -1.181962\n",
            "7 -0.794929 -1.520873\n",
            "8 -0.280668  0.898725\n",
            "9  1.191485 -1.204397\n"
          ],
          "name": "stdout"
        }
      ]
    },
    {
      "cell_type": "code",
      "metadata": {
        "id": "ZopVhwA4h2dg",
        "colab_type": "code",
        "colab": {
          "base_uri": "https://localhost:8080/",
          "height": 208
        },
        "outputId": "29a40ffd-43c5-4be6-cacc-a9c67141eb97"
      },
      "source": [
        "##input\n",
        "##descending order sorting\n",
        "##axis---0 ...sort by krow\n",
        "##axis--1 sort by row\n",
        "import pandas as pd\n",
        "import numpy as np\n",
        "unsorted_df = pd.DataFrame(np.random.randn(10,2),index=[1,4,6,2,3,5,9,8,0,7],columns = ['col2','col1'])\n",
        "sorted_df = unsorted_df.sort_index(ascending=False)\n",
        "print(sorted_df)"
      ],
      "execution_count": 4,
      "outputs": [
        {
          "output_type": "stream",
          "text": [
            "       col2      col1\n",
            "9 -0.395941  0.038358\n",
            "8  0.692076 -0.697299\n",
            "7  0.537881 -0.439167\n",
            "6  0.235731  0.929932\n",
            "5  0.385130 -0.496650\n",
            "4  0.131760  1.020614\n",
            "3 -0.435971  1.368704\n",
            "2  1.887079  0.032280\n",
            "1  1.571237 -0.377780\n",
            "0  0.122462  1.342239\n"
          ],
          "name": "stdout"
        }
      ]
    },
    {
      "cell_type": "code",
      "metadata": {
        "id": "AjlYbDFSiR8H",
        "colab_type": "code",
        "colab": {
          "base_uri": "https://localhost:8080/",
          "height": 399
        },
        "outputId": "612da39d-b5c1-45d4-f9bb-80e2445ecb2e"
      },
      "source": [
        "##input\n",
        "import pandas as pd\n",
        "import numpy as np\n",
        " \n",
        "unsorted_df = pd.DataFrame(np.random.randn(10,2),index=[1,4,6,2,3,5,9,8,0,7],columns = ['col2','col1'])\n",
        "#sort by columns\n",
        "sorted_df=unsorted_df.sort_index(axis=1)\n",
        "#sort by rows\n",
        "sorted_df_r=unsorted_df.sort_index(axis=0)\n",
        "print(sorted_df)\n",
        "print(sorted_df_r)"
      ],
      "execution_count": 5,
      "outputs": [
        {
          "output_type": "stream",
          "text": [
            "       col1      col2\n",
            "1  0.462833  0.404310\n",
            "4 -0.206832 -1.164861\n",
            "6  0.289786  0.403764\n",
            "2 -0.099976 -0.911128\n",
            "3  0.328065 -0.377725\n",
            "5 -2.012946  0.329895\n",
            "9 -1.243598 -1.148870\n",
            "8 -0.829606  0.624608\n",
            "0 -1.936029 -1.179600\n",
            "7  0.421162 -0.219223\n",
            "       col2      col1\n",
            "0 -1.179600 -1.936029\n",
            "1  0.404310  0.462833\n",
            "2 -0.911128 -0.099976\n",
            "3 -0.377725  0.328065\n",
            "4 -1.164861 -0.206832\n",
            "5  0.329895 -2.012946\n",
            "6  0.403764  0.289786\n",
            "7 -0.219223  0.421162\n",
            "8  0.624608 -0.829606\n",
            "9 -1.148870 -1.243598\n"
          ],
          "name": "stdout"
        }
      ]
    },
    {
      "cell_type": "code",
      "metadata": {
        "id": "ALU3twM5iht7",
        "colab_type": "code",
        "colab": {
          "base_uri": "https://localhost:8080/",
          "height": 104
        },
        "outputId": "bb93dd1f-1b48-4f8d-dc62-421c4b09256b"
      },
      "source": [
        "##input\n",
        "import pandas as pd\n",
        "import numpy as np\n",
        "unsorted_df = pd.DataFrame({'col1':[2,1,1,1],'col2':[1,3,2,4]})\n",
        "sorted_df = unsorted_df.sort_values(by='col1')\n",
        "print(sorted_df)"
      ],
      "execution_count": 6,
      "outputs": [
        {
          "output_type": "stream",
          "text": [
            "   col1  col2\n",
            "1     1     3\n",
            "2     1     2\n",
            "3     1     4\n",
            "0     2     1\n"
          ],
          "name": "stdout"
        }
      ]
    },
    {
      "cell_type": "code",
      "metadata": {
        "id": "RNVm-OKJivvZ",
        "colab_type": "code",
        "colab": {
          "base_uri": "https://localhost:8080/",
          "height": 104
        },
        "outputId": "a095ac9d-55b3-467d-c597-685f9290ee2e"
      },
      "source": [
        "##input\n",
        "##two columns sorting\n",
        "import pandas as pd\n",
        "import numpy as np\n",
        "unsorted_df = pd.DataFrame({'col1':[2,1,1,1],'col2':[1,3,2,4]})\n",
        "sorted_df = unsorted_df.sort_values(by=['col1','col2'])\n",
        "##both columns get sorted\n",
        "print(sorted_df)"
      ],
      "execution_count": 7,
      "outputs": [
        {
          "output_type": "stream",
          "text": [
            "   col1  col2\n",
            "2     1     2\n",
            "1     1     3\n",
            "3     1     4\n",
            "0     2     1\n"
          ],
          "name": "stdout"
        }
      ]
    },
    {
      "cell_type": "code",
      "metadata": {
        "id": "D2WdaaCUi4nt",
        "colab_type": "code",
        "colab": {
          "base_uri": "https://localhost:8080/",
          "height": 277
        },
        "outputId": "e47b8cf0-872a-4ade-9e12-30793c7b3415"
      },
      "source": [
        "##sorting algorithm\n",
        "##merger sort\n",
        "##quick sort\n",
        "#sort\n",
        "import pandas as pd\n",
        "import numpy as np\n",
        "unsorted_df = pd.DataFrame({'col1':[2,1,1,1],'col2':[1,3,2,4]})\n",
        "sorted_df = unsorted_df.sort_values(by='col1', kind='quicksort')\n",
        "sorted_df_m = unsorted_df.sort_values(by='col1', kind='mergesort')\n",
        "sorted_df_s = unsorted_df.sort_values(by='col1', kind='sort')\n",
        "print(sorted_df)\n",
        "print(sorted_df_m)\n",
        "print(sorted_df_s)\n"
      ],
      "execution_count": 8,
      "outputs": [
        {
          "output_type": "stream",
          "text": [
            "   col1  col2\n",
            "1     1     3\n",
            "2     1     2\n",
            "3     1     4\n",
            "0     2     1\n",
            "   col1  col2\n",
            "1     1     3\n",
            "2     1     2\n",
            "3     1     4\n",
            "0     2     1\n",
            "   col1  col2\n",
            "1     1     3\n",
            "2     1     2\n",
            "3     1     4\n",
            "0     2     1\n"
          ],
          "name": "stdout"
        }
      ]
    },
    {
      "cell_type": "code",
      "metadata": {
        "id": "zJfDoWwij2Ep",
        "colab_type": "code",
        "colab": {}
      },
      "source": [
        "##input\n",
        "import pandas as pd\n",
        "import numpy as np\n",
        "unsorted_df = pd.DataFrame({'col1':[2,1,1,1],'col2':[1,3,2,4]})\n",
        "sorted_df = unsorted_df.sort_values(by='col1')\n",
        "print(sorted_df)\n",
        "from Sharada Lakshmanan (internal) to everyone:\n",
        "import pandas as pd\n",
        "import numpy as np\n",
        "unsorted_df = pd.DataFrame({'col1':[2,1,1,1],'col2':[1,3,2,4]})\n",
        "sorted_df = unsorted_df.sort_values(by=['col1','col2'])\n",
        "print(sorted_df)"
      ],
      "execution_count": null,
      "outputs": []
    },
    {
      "cell_type": "code",
      "metadata": {
        "id": "6yHSjbvfnkYo",
        "colab_type": "code",
        "colab": {
          "base_uri": "https://localhost:8080/",
          "height": 399
        },
        "outputId": "1dbb6068-9ea4-4314-c5b2-dbe7ffa84c5e"
      },
      "source": [
        "##use of rolling  here\n",
        "#aggregate based on single column\n",
        "import pandas as pd\n",
        "import numpy as np\n",
        "df = pd.DataFrame(np.random.randn(10, 4),\n",
        "   index = pd.date_range('1/1/2000', periods=10),\n",
        "   columns = ['A', 'B', 'C', 'D'])\n",
        "print(df)\n",
        "df = df.reindex(pd.date_range('1/1/2000', periods=10))\n",
        "#print(df)\n",
        "##what is this..?\n",
        "r = df.rolling(window=3,min_periods=2)\n",
        "print(r['A'].aggregate(np.mean))"
      ],
      "execution_count": 9,
      "outputs": [
        {
          "output_type": "stream",
          "text": [
            "                   A         B         C         D\n",
            "2000-01-01 -0.248708  1.762171  0.137257 -0.595150\n",
            "2000-01-02 -1.130475  0.092878  0.965189  0.744492\n",
            "2000-01-03  0.190243 -0.451709 -1.319300  1.289941\n",
            "2000-01-04  0.835694  0.135253  0.562934 -0.106508\n",
            "2000-01-05  1.608196 -0.902955  0.076998 -0.852823\n",
            "2000-01-06  0.485115  0.196001  0.617216  0.481853\n",
            "2000-01-07 -1.243686  0.066450 -0.219236 -1.916185\n",
            "2000-01-08  1.276022  0.325631 -0.237605 -0.129478\n",
            "2000-01-09  1.273628  0.973730  1.330393  1.053865\n",
            "2000-01-10 -0.138941 -0.277239 -0.352028 -0.654264\n",
            "2000-01-01         NaN\n",
            "2000-01-02   -0.689592\n",
            "2000-01-03   -0.396314\n",
            "2000-01-04   -0.034846\n",
            "2000-01-05    0.878044\n",
            "2000-01-06    0.976335\n",
            "2000-01-07    0.283208\n",
            "2000-01-08    0.172483\n",
            "2000-01-09    0.435321\n",
            "2000-01-10    0.803570\n",
            "Freq: D, Name: A, dtype: float64\n"
          ],
          "name": "stdout"
        }
      ]
    },
    {
      "cell_type": "code",
      "metadata": {
        "id": "ADeRS2ijoMBH",
        "colab_type": "code",
        "colab": {
          "base_uri": "https://localhost:8080/",
          "height": 131
        },
        "outputId": "9664685b-3433-492f-c57a-c6109c70e22b"
      },
      "source": [
        "##input\n",
        "#Apply Different Functions to Different Columns of a Dataframe\n",
        "##print(df.fillna(0)) can also be used\n",
        "import pandas as pd\n",
        "import numpy as np\n",
        " \n",
        "df = pd.DataFrame(np.random.randn(3, 4),\n",
        "   index = pd.date_range('1/1/2000', periods=3),\n",
        "   columns = ['A', 'B', 'C', 'D'])\n",
        "print(df)\n",
        "r = df.rolling(window=3,min_periods=1)\n",
        "print(r.aggregate({'A' : np.sum,'B' : np.mean})"
      ],
      "execution_count": 10,
      "outputs": [
        {
          "output_type": "error",
          "ename": "SyntaxError",
          "evalue": "ignored",
          "traceback": [
            "\u001b[0;36m  File \u001b[0;32m\"<ipython-input-10-9b8c766b3ea2>\"\u001b[0;36m, line \u001b[0;32m11\u001b[0m\n\u001b[0;31m    print(r.aggregate({'A' : np.sum,'B' : np.mean})\u001b[0m\n\u001b[0m                                                   ^\u001b[0m\n\u001b[0;31mSyntaxError\u001b[0m\u001b[0;31m:\u001b[0m unexpected EOF while parsing\n"
          ]
        }
      ]
    }
  ]
}