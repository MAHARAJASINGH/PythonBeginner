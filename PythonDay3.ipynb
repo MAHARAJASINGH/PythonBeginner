{
  "nbformat": 4,
  "nbformat_minor": 0,
  "metadata": {
    "colab": {
      "name": "PythonDay3.ipynb",
      "provenance": [],
      "collapsed_sections": [],
      "authorship_tag": "ABX9TyMPA3eBlvCZO46aTY0gSgRR",
      "include_colab_link": true
    },
    "kernelspec": {
      "name": "python3",
      "display_name": "Python 3"
    }
  },
  "cells": [
    {
      "cell_type": "markdown",
      "metadata": {
        "id": "view-in-github",
        "colab_type": "text"
      },
      "source": [
        "<a href=\"https://colab.research.google.com/github/MAHARAJASINGH/PythonBeginner/blob/master/PythonDay3.ipynb\" target=\"_parent\"><img src=\"https://colab.research.google.com/assets/colab-badge.svg\" alt=\"Open In Colab\"/></a>"
      ]
    },
    {
      "cell_type": "code",
      "metadata": {
        "id": "2mJnsmNximDw",
        "colab_type": "code",
        "colab": {
          "base_uri": "https://localhost:8080/",
          "height": 35
        },
        "outputId": "9c4173df-c07f-490d-93ad-02d7258e1ae5"
      },
      "source": [
        "##input\n",
        "##variable if condiion boolean\n",
        "var1 = 100\n",
        "if var1:\n",
        "  print(\"1 - Got a true expression value\")\n",
        "  print(var1)\n",
        "var2 = 0\n",
        "if var2: ##I think might be var 2 value is 0 thats why...\n",
        "   print(\"2 - Got a true expression value\")\n",
        "   print(var2)\n",
        "print(\"Good bye!\")"
      ],
      "execution_count": 3,
      "outputs": [
        {
          "output_type": "stream",
          "text": [
            "Good bye!\n"
          ],
          "name": "stdout"
        }
      ]
    },
    {
      "cell_type": "code",
      "metadata": {
        "id": "gk56v18mjlm4",
        "colab_type": "code",
        "colab": {
          "base_uri": "https://localhost:8080/",
          "height": 104
        },
        "outputId": "8cd65e9a-88d1-4223-dc25-f7716eb7f563"
      },
      "source": [
        "var1 = 10\n",
        "if var1==100:\n",
        "   print(\"1 - Got a true expression value\")\n",
        "   print(var1)\n",
        "else:\n",
        "   print(\"1 - Got a false expression value\")\n",
        "   print(var1)\n",
        "var2 = 10\n",
        "if var2==10:\n",
        "   print(\"2 - Got a true expression value\")\n",
        "   print(var2)\n",
        "else:\n",
        "   print(\"2 - Got a false expression value\")\n",
        "   print(var2)\n",
        "print(\"Good bye!\")"
      ],
      "execution_count": 2,
      "outputs": [
        {
          "output_type": "stream",
          "text": [
            "1 - Got a false expression value\n",
            "10\n",
            "2 - Got a true expression value\n",
            "10\n",
            "Good bye!\n"
          ],
          "name": "stdout"
        }
      ]
    },
    {
      "cell_type": "markdown",
      "metadata": {
        "id": "1ohaBSdsi_f_",
        "colab_type": "text"
      },
      "source": [
        ""
      ]
    },
    {
      "cell_type": "code",
      "metadata": {
        "id": "f9KUwP0glr8X",
        "colab_type": "code",
        "colab": {
          "base_uri": "https://localhost:8080/",
          "height": 69
        },
        "outputId": "b98c8e6a-a115-4308-ca56-81e159fa2e65"
      },
      "source": [
        "##input\n",
        "##if else condition code as well\n",
        "var = 100\n",
        "if var == 200:\n",
        "   print(\"1 - Got a true expression value\")\n",
        "   print(var)\n",
        "elif var == 150:\n",
        "   print(\"2 - Got a true expression value\")\n",
        "   print(var)\n",
        "elif var == 100:\n",
        "   print(\"3 - Got a true expression value\")\n",
        "   print(var)\n",
        "else:\n",
        "   print(\"4 - Got a false expression value\")\n",
        "   print(var)\n",
        "print(\"Good bye!\")"
      ],
      "execution_count": 4,
      "outputs": [
        {
          "output_type": "stream",
          "text": [
            "3 - Got a true expression value\n",
            "100\n",
            "Good bye!\n"
          ],
          "name": "stdout"
        }
      ]
    },
    {
      "cell_type": "code",
      "metadata": {
        "id": "p2P_VfWCmBNX",
        "colab_type": "code",
        "colab": {
          "base_uri": "https://localhost:8080/",
          "height": 69
        },
        "outputId": "31f70be2-33f2-49ab-b37d-96279adcbbfa"
      },
      "source": [
        "import numpy as np\n",
        "marks= [70,80,65,68]\n",
        "print (marks)\n",
        "avg_marks=np.average(marks)\n",
        "print (avg_marks)\n",
        "if avg_marks > 70:\n",
        " print(\"pass\")\n",
        "else:\n",
        " print (\"Fail\")\n"
      ],
      "execution_count": 21,
      "outputs": [
        {
          "output_type": "stream",
          "text": [
            "[70, 80, 65, 68]\n",
            "70.75\n",
            "pass\n"
          ],
          "name": "stdout"
        }
      ]
    },
    {
      "cell_type": "code",
      "metadata": {
        "id": "YQU0i7RjoDbQ",
        "colab_type": "code",
        "colab": {
          "base_uri": "https://localhost:8080/",
          "height": 173
        },
        "outputId": "4cd0a5d1-bc87-4c2b-a540-5144d20d0ba0"
      },
      "source": [
        "##input\n",
        "##for break we use\n",
        "for letter in 'Python':     # First Example\n",
        "   if letter == 'h':\n",
        "      break\n",
        "   print('Current Letter :', letter)\n",
        "  \n",
        "var = 10                    # Second Example\n",
        "while var > 0:              \n",
        "   print('Current variable value :', var)\n",
        "   var = var -1\n",
        "   if var == 5:\n",
        "      break\n",
        "print(\"Good bye!\")"
      ],
      "execution_count": 12,
      "outputs": [
        {
          "output_type": "stream",
          "text": [
            "Current Letter : P\n",
            "Current Letter : y\n",
            "Current Letter : t\n",
            "Current variable value : 10\n",
            "Current variable value : 9\n",
            "Current variable value : 8\n",
            "Current variable value : 7\n",
            "Current variable value : 6\n",
            "Good bye!\n"
          ],
          "name": "stdout"
        }
      ]
    },
    {
      "cell_type": "code",
      "metadata": {
        "id": "wI2TV3ehodDK",
        "colab_type": "code",
        "colab": {
          "base_uri": "https://localhost:8080/",
          "height": 87
        },
        "outputId": "7fb6ae66-bbcc-4fdb-e7d0-0e20e463ab15"
      },
      "source": [
        "##input\n",
        "##array avg marks\n",
        "import numpy as np\n",
        "marks = np.array([[10,30,40],[50,60,70],[80,90,95]])\n",
        "avg_marks = np.average(marks,axis=0)\n",
        "print  (avg_marks)\n",
        "for x in avg_marks:\n",
        "  #print(x)\n",
        "  if x <=35:\n",
        "    print (\"Sorry! you only secured marks and failed. Pls try again\")\n",
        "  elif x > 35 and x <=65:\n",
        "    print (\"You passed with marks and got a passing grade\")\n",
        "  elif x > 65 and x <= 75:\n",
        "    print (\"you passed in First class\")\n",
        "  else: \n",
        "    print (\"You rock - First Class with Distinction\")\n",
        "    "
      ],
      "execution_count": 13,
      "outputs": [
        {
          "output_type": "stream",
          "text": [
            "[46.66666667 60.         68.33333333]\n",
            "You passed with marks and got a passing grade\n",
            "You passed with marks and got a passing grade\n",
            "you passed in First class\n"
          ],
          "name": "stdout"
        }
      ]
    },
    {
      "cell_type": "code",
      "metadata": {
        "id": "Ip10ImnKqFgY",
        "colab_type": "code",
        "colab": {
          "base_uri": "https://localhost:8080/",
          "height": 295
        },
        "outputId": "066e27da-cafd-4a57-c2a6-ab1073a92ccb"
      },
      "source": [
        "##input\n",
        "##for continue we use\n",
        "for letter in 'Python':     # First Example\n",
        "   if letter == 'h':\n",
        "      continue\n",
        "   print('Current Letter :', letter)\n",
        "  \n",
        "var = 10                    # Second Example\n",
        "while var > 0:              \n",
        "   print('Current variable value :', var)\n",
        "   var = var -1\n",
        "   if var == 5:\n",
        "      continue\n",
        "print(\"Good bye!\")"
      ],
      "execution_count": 22,
      "outputs": [
        {
          "output_type": "stream",
          "text": [
            "Current Letter : P\n",
            "Current Letter : y\n",
            "Current Letter : t\n",
            "Current Letter : o\n",
            "Current Letter : n\n",
            "Current variable value : 10\n",
            "Current variable value : 9\n",
            "Current variable value : 8\n",
            "Current variable value : 7\n",
            "Current variable value : 6\n",
            "Current variable value : 5\n",
            "Current variable value : 4\n",
            "Current variable value : 3\n",
            "Current variable value : 2\n",
            "Current variable value : 1\n",
            "Good bye!\n"
          ],
          "name": "stdout"
        }
      ]
    },
    {
      "cell_type": "markdown",
      "metadata": {
        "id": "1J-oXGlPq_zk",
        "colab_type": "text"
      },
      "source": [
        "round(73.675,2) this function can be used for round off\n",
        "ceil is also available "
      ]
    },
    {
      "cell_type": "code",
      "metadata": {
        "id": "WJO1tDmbrEQk",
        "colab_type": "code",
        "colab": {
          "base_uri": "https://localhost:8080/",
          "height": 121
        },
        "outputId": "6b9e52a7-2e63-481a-af18-9e11b5e0d1cb"
      },
      "source": [
        "##input\n",
        "##ceil and round questions\n",
        "import numpy as np\n",
        "marks = [70,80,65,76,86.42]\n",
        "print(marks)\n",
        "print(np.average(marks))\n",
        "avg = np.average(marks)\n",
        "print(avg)\n",
        "print(np.ceil(avg))\n",
        "print(np.round(avg,2))\n",
        "if avg > 80:\n",
        "  print(\"A grade\")\n",
        "elif avg < 80 and avg > 60 :\n",
        "  print(\"B grade\")\n",
        "elif avg < 60 and avg > 50:\n",
        "  print(\"C grade\")\n",
        "  "
      ],
      "execution_count": 23,
      "outputs": [
        {
          "output_type": "stream",
          "text": [
            "[70, 80, 65, 76, 86.42]\n",
            "75.48400000000001\n",
            "75.48400000000001\n",
            "76.0\n",
            "75.48\n",
            "B grade\n"
          ],
          "name": "stdout"
        }
      ]
    },
    {
      "cell_type": "code",
      "metadata": {
        "id": "ju5gRIxssmB0",
        "colab_type": "code",
        "colab": {
          "base_uri": "https://localhost:8080/",
          "height": 173
        },
        "outputId": "4f0974f6-33b0-49e0-a6a6-4479cfb96176"
      },
      "source": [
        "##input\n",
        "##advance stage\n",
        "import numpy as np\n",
        "marks = np.array([[10,10,10],[50,60,70],[70,75,65],[80,90,95]])\n",
        "print (marks)\n",
        "avg_marks = np.average(marks,axis=1)\n",
        "print  (avg_marks)\n",
        "for x in avg_marks:\n",
        "  #print(x)\n",
        "  if x <= 35:\n",
        "    print (\"Sorry! you only secured %0.2f marks and failed. Pls try again\" % round(x,2))\n",
        "  elif x > 35 and x <=65:\n",
        "    print (\"You passed with %0.2f marks and got a passing grade\" % round(x,2))\n",
        "  elif x > 65 and x <= 75:\n",
        "    print (\"you passed with %0.2f in First class\" % x)\n",
        "  else: \n",
        "    print (\"You rock with %0.2f marks - First Class with Distinction\" % x)"
      ],
      "execution_count": 24,
      "outputs": [
        {
          "output_type": "stream",
          "text": [
            "[[10 10 10]\n",
            " [50 60 70]\n",
            " [70 75 65]\n",
            " [80 90 95]]\n",
            "[10.         60.         70.         88.33333333]\n",
            "Sorry! you only secured 10.00 marks and failed. Pls try again\n",
            "You passed with 60.00 marks and got a passing grade\n",
            "you passed with 70.00 in First class\n",
            "You rock with 88.33 marks - First Class with Distinction\n"
          ],
          "name": "stdout"
        }
      ]
    },
    {
      "cell_type": "markdown",
      "metadata": {
        "id": "gImlXf7TtXMJ",
        "colab_type": "text"
      },
      "source": [
        "Lambda example\n",
        "refer to functions as variables\n",
        "from Satheesh Kumar to everyone:\n",
        "single line condinition\n",
        "from Shaunak to everyone:\n",
        "pass functions as parameters to other functions"
      ]
    },
    {
      "cell_type": "code",
      "metadata": {
        "id": "2yweGCmitZN9",
        "colab_type": "code",
        "colab": {
          "base_uri": "https://localhost:8080/",
          "height": 35
        },
        "outputId": "efbfefec-7636-4a4e-c237-d8215523c374"
      },
      "source": [
        "#map is function ...and u want to map it to dataset\n",
        "##input\n",
        "##Lamda function\n",
        "##for fast execution\n",
        "##memory is in catch memory\n",
        "##dynamic it is ,,all the work get done in only dataset x only\n",
        "##instead recursive function calling again again....then lot of memory consume in iteration\n",
        "L = [1,2,3,4]\n",
        "x1 = list(map(lambda x: x**2, L))\n",
        "print(x1)"
      ],
      "execution_count": 25,
      "outputs": [
        {
          "output_type": "stream",
          "text": [
            "[1, 4, 9, 16]\n"
          ],
          "name": "stdout"
        }
      ]
    },
    {
      "cell_type": "code",
      "metadata": {
        "id": "vmXg2I9-uTys",
        "colab_type": "code",
        "colab": {
          "base_uri": "https://localhost:8080/",
          "height": 35
        },
        "outputId": "b23dcf82-af98-449b-cdaa-eb9b75284d90"
      },
      "source": [
        "##input\n",
        "##long way of square\n",
        "L = [1, 2, 3, 4]\n",
        "L1 = []\n",
        "for x in L:\n",
        "  L1.append(x**2)\n",
        "print(L1)"
      ],
      "execution_count": 26,
      "outputs": [
        {
          "output_type": "stream",
          "text": [
            "[1, 4, 9, 16]\n"
          ],
          "name": "stdout"
        }
      ]
    },
    {
      "cell_type": "code",
      "metadata": {
        "id": "g5uP0lp5wVft",
        "colab_type": "code",
        "colab": {
          "base_uri": "https://localhost:8080/",
          "height": 35
        },
        "outputId": "ab24b16d-4740-4c2d-8dc2-772491db9a04"
      },
      "source": [
        "##input\n",
        "##Lamda code practice\n",
        "def myfunc(n):\n",
        "  return lambda a : a * n\n",
        "mydoubler = myfunc(2)\n",
        "print(mydoubler(12))"
      ],
      "execution_count": 27,
      "outputs": [
        {
          "output_type": "stream",
          "text": [
            "24\n"
          ],
          "name": "stdout"
        }
      ]
    },
    {
      "cell_type": "code",
      "metadata": {
        "id": "6qh2jhjQwbvX",
        "colab_type": "code",
        "colab": {
          "base_uri": "https://localhost:8080/",
          "height": 35
        },
        "outputId": "6e0d1a83-3913-40b4-c000-76c3df9be817"
      },
      "source": [
        "##Input\n",
        "def myfunc(n,a):\n",
        "  return  a * n\n",
        "mydoubler = myfunc(2,12)\n",
        "print(mydoubler)"
      ],
      "execution_count": 28,
      "outputs": [
        {
          "output_type": "stream",
          "text": [
            "24\n"
          ],
          "name": "stdout"
        }
      ]
    },
    {
      "cell_type": "code",
      "metadata": {
        "id": "W_cGxQOkw_I4",
        "colab_type": "code",
        "colab": {
          "base_uri": "https://localhost:8080/",
          "height": 35
        },
        "outputId": "85860b2f-ae87-41ed-a4a5-c9985834dba9"
      },
      "source": [
        "##lambda as well\n",
        "def myfunc(n):\n",
        "  return lambda a : a * n\n",
        "mytripler = myfunc(3)\n",
        "print(mytripler(11))"
      ],
      "execution_count": 29,
      "outputs": [
        {
          "output_type": "stream",
          "text": [
            "33\n"
          ],
          "name": "stdout"
        }
      ]
    },
    {
      "cell_type": "code",
      "metadata": {
        "id": "-NhVZercxcVe",
        "colab_type": "code",
        "colab": {
          "base_uri": "https://localhost:8080/",
          "height": 35
        },
        "outputId": "7a684c33-63b1-4013-f263-ef8f7d2f1395"
      },
      "source": [
        "##input\n",
        "##even odd with filter\n",
        "##filter will return always true values\n",
        "##returning true basic functionality\n",
        "def even_fn(x):\n",
        "  if x % 2 == 0:\n",
        "    return True\n",
        "  return False\n",
        "print(list(filter(even_fn, [1, 3, 2, 5, 20, 21])))"
      ],
      "execution_count": 30,
      "outputs": [
        {
          "output_type": "stream",
          "text": [
            "[2, 20]\n"
          ],
          "name": "stdout"
        }
      ]
    },
    {
      "cell_type": "code",
      "metadata": {
        "id": "oIEE3ZYiza2H",
        "colab_type": "code",
        "colab": {
          "base_uri": "https://localhost:8080/",
          "height": 131
        },
        "outputId": "00d4dfeb-7465-44a5-b0ce-edd88351e1f6"
      },
      "source": [
        "##lambda and filter use\n",
        "#input\n",
        "##error in lambda code\n",
        "li = [1,23,45,30,22,56]\n",
        "final_list = list(filter(lambda x: (x%2 != 0) , li)) \n",
        "#final_list = list(filter(lambda x: x%2 != 0 , li))\n",
        "print(final_list)"
      ],
      "execution_count": 35,
      "outputs": [
        {
          "output_type": "error",
          "ename": "SyntaxError",
          "evalue": "ignored",
          "traceback": [
            "\u001b[0;36m  File \u001b[0;32m\"<ipython-input-35-ccf504da266b>\"\u001b[0;36m, line \u001b[0;32m4\u001b[0m\n\u001b[0;31m    final_list = list(filter(lambda x: (x%2 != 0) , li))\u001b[0m\n\u001b[0m                    ^\u001b[0m\n\u001b[0;31mSyntaxError\u001b[0m\u001b[0;31m:\u001b[0m invalid character in identifier\n"
          ]
        }
      ]
    },
    {
      "cell_type": "code",
      "metadata": {
        "id": "b_RZxr4t0jYI",
        "colab_type": "code",
        "colab": {
          "base_uri": "https://localhost:8080/",
          "height": 35
        },
        "outputId": "a9f917c4-8cbc-4d61-dd31-8717d194b895"
      },
      "source": [
        "##lambda and filter use\n",
        "#input\n",
        "li = [1,23,45,30,22,56]\n",
        "#final_list = list(filter(lambda x: (x%2 != 0) , li)) \n",
        "final_list = list(filter(lambda x: x%2 != 0 , li))\n",
        "print(final_list)"
      ],
      "execution_count": 36,
      "outputs": [
        {
          "output_type": "stream",
          "text": [
            "[1, 23, 45]\n"
          ],
          "name": "stdout"
        }
      ]
    },
    {
      "cell_type": "code",
      "metadata": {
        "id": "A0uIXjISzibF",
        "colab_type": "code",
        "colab": {
          "base_uri": "https://localhost:8080/",
          "height": 35
        },
        "outputId": "3273f501-7124-4b08-fe74-d4c8ca6e263c"
      },
      "source": [
        "##input\n",
        "##Lambda\n",
        "##primary numbers in python---might be\n",
        "nums = range(2, 100)\n",
        "#for i in nums:\n",
        "  #print(i)\n",
        "for i in range(2, 10):\n",
        "  nums = list(filter(lambda x: x == i or x % i, nums))\n",
        "print(nums)"
      ],
      "execution_count": 34,
      "outputs": [
        {
          "output_type": "stream",
          "text": [
            "[2, 3, 5, 7, 11, 13, 17, 19, 23, 29, 31, 37, 41, 43, 47, 53, 59, 61, 67, 71, 73, 79, 83, 89, 97]\n"
          ],
          "name": "stdout"
        }
      ]
    },
    {
      "cell_type": "code",
      "metadata": {
        "id": "6f_lwwTn122C",
        "colab_type": "code",
        "colab": {
          "base_uri": "https://localhost:8080/",
          "height": 35
        },
        "outputId": "688b1cf1-671a-4e33-c7aa-8d65545ac299"
      },
      "source": [
        "##input\n",
        "##adding three numbers using lambda\n",
        "x = lambda a, b, c : a + b + c\n",
        "print(x(5, 6, 2))"
      ],
      "execution_count": 37,
      "outputs": [
        {
          "output_type": "stream",
          "text": [
            "13\n"
          ],
          "name": "stdout"
        }
      ]
    }
  ]
}