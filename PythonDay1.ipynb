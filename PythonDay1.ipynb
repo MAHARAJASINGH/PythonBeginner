{
  "nbformat": 4,
  "nbformat_minor": 0,
  "metadata": {
    "colab": {
      "name": "PythonDay1.ipynb",
      "provenance": [],
      "authorship_tag": "ABX9TyMUXl7Hh7fmhagLGLYREyZh",
      "include_colab_link": true
    },
    "kernelspec": {
      "name": "python3",
      "display_name": "Python 3"
    }
  },
  "cells": [
    {
      "cell_type": "markdown",
      "metadata": {
        "id": "view-in-github",
        "colab_type": "text"
      },
      "source": [
        "<a href=\"https://colab.research.google.com/github/MAHARAJASINGH/PythonBeginner/blob/master/PythonDay1.ipynb\" target=\"_parent\"><img src=\"https://colab.research.google.com/assets/colab-badge.svg\" alt=\"Open In Colab\"/></a>"
      ]
    },
    {
      "cell_type": "code",
      "metadata": {
        "id": "6mYcwIVhTONx",
        "colab_type": "code",
        "colab": {
          "base_uri": "https://localhost:8080/",
          "height": 104
        },
        "outputId": "6445747d-eaf1-4b2b-91b5-5c07fe0d147a"
      },
      "source": [
        "#Input\n",
        "import numpy  as np\n",
        "height = [1.87,  1.87, 1.82, 1.91, 1.90, 1.85]\n",
        "weight = [81.65, 97.52, 95.25, 92.98, 86.18, 88.45]\n",
        "num = [76,100,23,34]\n",
        "cars = ['bmw','merc','alto','bmw']\n",
        "print(min(height))\n",
        "print(max(weight))\n",
        "print(sum(height))\n",
        "print(np.average(weight))\n",
        "bmi = (max(weight)/max(height))**2\n",
        "min_bmi = (min(weight)/min(height))**2\n",
        "\n",
        "np_height=np.array(height)\n",
        "np_weight=np.array(weight)\n",
        "print (np_height)"
      ],
      "execution_count": 1,
      "outputs": [
        {
          "output_type": "stream",
          "text": [
            "1.82\n",
            "97.52\n",
            "11.22\n",
            "90.33833333333335\n",
            "[1.87 1.87 1.82 1.91 1.9  1.85]\n"
          ],
          "name": "stdout"
        }
      ]
    },
    {
      "cell_type": "code",
      "metadata": {
        "id": "ysvsgPlCThCc",
        "colab_type": "code",
        "colab": {
          "base_uri": "https://localhost:8080/",
          "height": 104
        },
        "outputId": "41a86e0a-b3dc-4c68-c49b-6a507aca826c"
      },
      "source": [
        "#Input\n",
        "Dict = {1:'cars',2:'bus',3:'cycle'}\n",
        "print(Dict)\n",
        "#Dict.pop()\n",
        "print(Dict[2])\n",
        "for x in Dict:\n",
        "  print(Dict[x])"
      ],
      "execution_count": 3,
      "outputs": [
        {
          "output_type": "stream",
          "text": [
            "{1: 'cars', 2: 'bus', 3: 'cycle'}\n",
            "bus\n",
            "cars\n",
            "bus\n",
            "cycle\n"
          ],
          "name": "stdout"
        }
      ]
    },
    {
      "cell_type": "code",
      "metadata": {
        "id": "e9h5RV1bXb8C",
        "colab_type": "code",
        "colab": {
          "base_uri": "https://localhost:8080/",
          "height": 104
        },
        "outputId": "603476fc-ce37-4478-fb04-080253b81057"
      },
      "source": [
        "Dict = {1:'cars',2:'bus',3:'cycle'}\n",
        "print(Dict)\n",
        "print(Dict[2])\n",
        "for x in Dict:\n",
        "  print (Dict[x])"
      ],
      "execution_count": 4,
      "outputs": [
        {
          "output_type": "stream",
          "text": [
            "{1: 'cars', 2: 'bus', 3: 'cycle'}\n",
            "bus\n",
            "cars\n",
            "bus\n",
            "cycle\n"
          ],
          "name": "stdout"
        }
      ]
    },
    {
      "cell_type": "code",
      "metadata": {
        "id": "NkvAov__XpA6",
        "colab_type": "code",
        "colab": {
          "base_uri": "https://localhost:8080/",
          "height": 69
        },
        "outputId": "c39e05be-96a6-49b8-acb7-3434277cfdeb"
      },
      "source": [
        "Dict = {}\n",
        "print(Dict)\n",
        "Dict[1]='Maths'\n",
        "print(Dict)\n",
        "Dict[2]='Chem'\n",
        "Dict[3]=['1','2','3']\n",
        "print(Dict)"
      ],
      "execution_count": 5,
      "outputs": [
        {
          "output_type": "stream",
          "text": [
            "{}\n",
            "{1: 'Maths'}\n",
            "{1: 'Maths', 2: 'Chem', 3: ['1', '2', '3']}\n"
          ],
          "name": "stdout"
        }
      ]
    },
    {
      "cell_type": "code",
      "metadata": {
        "id": "iOLSgJdKXu14",
        "colab_type": "code",
        "colab": {
          "base_uri": "https://localhost:8080/",
          "height": 69
        },
        "outputId": "52903903-79ee-4e6f-c946-2a6a80a0a8f5"
      },
      "source": [
        "Dict = {}\n",
        "print(Dict)\n",
        "Dict[1]='Maths'\n",
        "print(Dict)\n",
        "Dict[2]='Chem'\n",
        "Dict[3]=['1','2','3']\n",
        "print(Dict)"
      ],
      "execution_count": 6,
      "outputs": [
        {
          "output_type": "stream",
          "text": [
            "{}\n",
            "{1: 'Maths'}\n",
            "{1: 'Maths', 2: 'Chem', 3: ['1', '2', '3']}\n"
          ],
          "name": "stdout"
        }
      ]
    },
    {
      "cell_type": "code",
      "metadata": {
        "id": "0-gV7Eb1X0gG",
        "colab_type": "code",
        "colab": {
          "base_uri": "https://localhost:8080/",
          "height": 104
        },
        "outputId": "dfb70083-1611-42ba-9b1a-55bf2f0a9033"
      },
      "source": [
        "thistuple = (\"apple\", \"banana\", \"cherry\")\n",
        "print(thistuple)\n",
        "thistuple = (\"apple\", \"banana\", \"cherry\")\n",
        "print(thistuple[1])\n",
        "thistuple = (\"apple\", \"banana\", \"cherry\")\n",
        "print(thistuple[-1]) \n",
        "thistuple = (\"apple\", \"banana\", \"cherry\", \"orange\", \"kiwi\", \"melon\", \"mango\")\n",
        "print(thistuple[2:5])\n",
        "thistuple = (\"apple\", \"banana\", \"cherry\", \"orange\", \"kiwi\", \"melon\", \"mango\")\n",
        "print(thistuple[-4:-1])"
      ],
      "execution_count": 7,
      "outputs": [
        {
          "output_type": "stream",
          "text": [
            "('apple', 'banana', 'cherry')\n",
            "banana\n",
            "cherry\n",
            "('cherry', 'orange', 'kiwi')\n",
            "('orange', 'kiwi', 'melon')\n"
          ],
          "name": "stdout"
        }
      ]
    },
    {
      "cell_type": "markdown",
      "metadata": {
        "id": "xf2T8xfSXcuy",
        "colab_type": "text"
      },
      "source": [
        "check check"
      ]
    },
    {
      "cell_type": "code",
      "metadata": {
        "id": "7izjflCrX80E",
        "colab_type": "code",
        "colab": {
          "base_uri": "https://localhost:8080/",
          "height": 55
        },
        "outputId": "82aa0195-88d7-4432-fc8a-e0f7efde902a"
      },
      "source": [
        "x = range(100)\n",
        "x\n",
        "#list(x)\n",
        "print(tuple(x))"
      ],
      "execution_count": 8,
      "outputs": [
        {
          "output_type": "stream",
          "text": [
            "(0, 1, 2, 3, 4, 5, 6, 7, 8, 9, 10, 11, 12, 13, 14, 15, 16, 17, 18, 19, 20, 21, 22, 23, 24, 25, 26, 27, 28, 29, 30, 31, 32, 33, 34, 35, 36, 37, 38, 39, 40, 41, 42, 43, 44, 45, 46, 47, 48, 49, 50, 51, 52, 53, 54, 55, 56, 57, 58, 59, 60, 61, 62, 63, 64, 65, 66, 67, 68, 69, 70, 71, 72, 73, 74, 75, 76, 77, 78, 79, 80, 81, 82, 83, 84, 85, 86, 87, 88, 89, 90, 91, 92, 93, 94, 95, 96, 97, 98, 99)\n"
          ],
          "name": "stdout"
        }
      ]
    },
    {
      "cell_type": "code",
      "metadata": {
        "id": "TOd9y42TYInl",
        "colab_type": "code",
        "colab": {
          "base_uri": "https://localhost:8080/",
          "height": 35
        },
        "outputId": "b6b8e1a2-2d84-4602-c9df-1ea6cf5bbdce"
      },
      "source": [
        "tuple = {\"Monday\", \"Tuesday\", \"Wednesday\", \"Thursday\", \"Friday\", \"Saturday\", \"Sunday\"}\n",
        "print (tuple)"
      ],
      "execution_count": 10,
      "outputs": [
        {
          "output_type": "stream",
          "text": [
            "{'Wednesday', 'Tuesday', 'Sunday', 'Monday', 'Saturday', 'Thursday', 'Friday'}\n"
          ],
          "name": "stdout"
        }
      ]
    },
    {
      "cell_type": "code",
      "metadata": {
        "id": "PQeloQxgYUsd",
        "colab_type": "code",
        "colab": {
          "base_uri": "https://localhost:8080/",
          "height": 35
        },
        "outputId": "d867eb33-8a8c-4b86-d3c1-d9530d24c1ba"
      },
      "source": [
        "\n",
        "Yourcategory = {\"Monday\", \"Tuesday\", \"Wednesday\", \"Thursday\"}\n",
        "print (tuple)"
      ],
      "execution_count": 13,
      "outputs": [
        {
          "output_type": "stream",
          "text": [
            "{'Wednesday', 'Tuesday', 'Sunday', 'Monday', 'Saturday', 'Thursday', 'Friday'}\n"
          ],
          "name": "stdout"
        }
      ]
    },
    {
      "cell_type": "code",
      "metadata": {
        "id": "jygDyUNxYo6I",
        "colab_type": "code",
        "colab": {
          "base_uri": "https://localhost:8080/",
          "height": 35
        },
        "outputId": "7a4b1a9b-c3c2-44af-ce8d-3511bd17b9e3"
      },
      "source": [
        "category = {\"Monday\", \"Tuesday\", \"Wednesday\", \"Thursday\", \"Friday\"}\n",
        "print (tuple)"
      ],
      "execution_count": 14,
      "outputs": [
        {
          "output_type": "stream",
          "text": [
            "{'Wednesday', 'Tuesday', 'Sunday', 'Monday', 'Saturday', 'Thursday', 'Friday'}\n"
          ],
          "name": "stdout"
        }
      ]
    },
    {
      "cell_type": "code",
      "metadata": {
        "id": "1OV5QEErYriu",
        "colab_type": "code",
        "colab": {
          "base_uri": "https://localhost:8080/",
          "height": 253
        },
        "outputId": "0dba931f-7b12-4168-9fc6-f04f6af64463"
      },
      "source": [
        "x = (\"apple\", \"banana\", \"cherry\")\n",
        "print(\"tuple1\",x)\n",
        "y = list(x)\n",
        "y[1] = \"kiwi\"\n",
        "print(\"changed list\",y)\n",
        "x = tuple(y)\n",
        "print(\"converted tuple\",x)"
      ],
      "execution_count": 16,
      "outputs": [
        {
          "output_type": "stream",
          "text": [
            "tuple1 ('apple', 'banana', 'cherry')\n",
            "changed list ['apple', 'kiwi', 'cherry']\n"
          ],
          "name": "stdout"
        },
        {
          "output_type": "error",
          "ename": "TypeError",
          "evalue": "ignored",
          "traceback": [
            "\u001b[0;31m---------------------------------------------------------------------------\u001b[0m",
            "\u001b[0;31mTypeError\u001b[0m                                 Traceback (most recent call last)",
            "\u001b[0;32m<ipython-input-16-77836f2f018d>\u001b[0m in \u001b[0;36m<module>\u001b[0;34m()\u001b[0m\n\u001b[1;32m      4\u001b[0m \u001b[0my\u001b[0m\u001b[0;34m[\u001b[0m\u001b[0;36m1\u001b[0m\u001b[0;34m]\u001b[0m \u001b[0;34m=\u001b[0m \u001b[0;34m\"kiwi\"\u001b[0m\u001b[0;34m\u001b[0m\u001b[0;34m\u001b[0m\u001b[0m\n\u001b[1;32m      5\u001b[0m \u001b[0mprint\u001b[0m\u001b[0;34m(\u001b[0m\u001b[0;34m\"changed list\"\u001b[0m\u001b[0;34m,\u001b[0m\u001b[0my\u001b[0m\u001b[0;34m)\u001b[0m\u001b[0;34m\u001b[0m\u001b[0;34m\u001b[0m\u001b[0m\n\u001b[0;32m----> 6\u001b[0;31m \u001b[0mx\u001b[0m \u001b[0;34m=\u001b[0m \u001b[0mtuple\u001b[0m\u001b[0;34m(\u001b[0m\u001b[0my\u001b[0m\u001b[0;34m)\u001b[0m\u001b[0;34m\u001b[0m\u001b[0;34m\u001b[0m\u001b[0m\n\u001b[0m\u001b[1;32m      7\u001b[0m \u001b[0mprint\u001b[0m\u001b[0;34m(\u001b[0m\u001b[0;34m\"converted tuple\"\u001b[0m\u001b[0;34m,\u001b[0m\u001b[0mx\u001b[0m\u001b[0;34m)\u001b[0m\u001b[0;34m\u001b[0m\u001b[0;34m\u001b[0m\u001b[0m\n",
            "\u001b[0;31mTypeError\u001b[0m: 'set' object is not callable"
          ]
        }
      ]
    },
    {
      "cell_type": "code",
      "metadata": {
        "id": "_tO_4DssZPDD",
        "colab_type": "code",
        "colab": {
          "base_uri": "https://localhost:8080/",
          "height": 87
        },
        "outputId": "07734f87-7afc-479c-9fab-ab402081550c"
      },
      "source": [
        "import numpy  as np\n",
        "height = [1.87,  1.87, 1.82, 1.91, 1.90, 1.85]\n",
        "weight = [81.65, 97.52, 95.25, 92.98, 86.18, 88.45]\n",
        "num = [76,100,23,34]\n",
        "cars = ['bmw','merc','alto','bmw']\n",
        "print(min(height))\n",
        "print(max(weight))\n",
        "print(sum(height))\n",
        "print(np.average(weight))"
      ],
      "execution_count": 17,
      "outputs": [
        {
          "output_type": "stream",
          "text": [
            "1.82\n",
            "97.52\n",
            "11.22\n",
            "90.33833333333335\n"
          ],
          "name": "stdout"
        }
      ]
    },
    {
      "cell_type": "code",
      "metadata": {
        "id": "2JMLPt-1ZUBc",
        "colab_type": "code",
        "colab": {
          "base_uri": "https://localhost:8080/",
          "height": 87
        },
        "outputId": "21010189-a485-48e5-dc8f-aa41c1e6dd90"
      },
      "source": [
        "import numpy  as np\n",
        "height = [1.87,  1.87, 1.82, 1.91, 1.90, 1.85]\n",
        "weight = [81.65, 97.52, 95.25, 92.98, 86.18, 88.45]\n",
        "num = [76,100,23,34]\n",
        "cars = ['bmw','merc','alto','bmw']\n",
        "print(min(height))\n",
        "print(max(weight))\n",
        "print(sum(height))\n",
        "print(np.average(weight))\n",
        "bmi = (max(weight)/max(height))**2\n",
        "min_bmi = (min(weight)/min(height))**2"
      ],
      "execution_count": 18,
      "outputs": [
        {
          "output_type": "stream",
          "text": [
            "1.82\n",
            "97.52\n",
            "11.22\n",
            "90.33833333333335\n"
          ],
          "name": "stdout"
        }
      ]
    },
    {
      "cell_type": "code",
      "metadata": {
        "id": "opmMjXZWZcYz",
        "colab_type": "code",
        "colab": {
          "base_uri": "https://localhost:8080/",
          "height": 35
        },
        "outputId": "9da4aabe-4284-45d9-da8f-885fbcaa0ff8"
      },
      "source": [
        "n_num = [1, 2, 3, 4, 5] \n",
        "n = len(n_num) \n",
        "  \n",
        "get_sum = sum(n_num) \n",
        "mean = get_sum / n \n",
        "  \n",
        "print(\"Mean / Average is: \" + str(mean)) "
      ],
      "execution_count": 19,
      "outputs": [
        {
          "output_type": "stream",
          "text": [
            "Mean / Average is: 3.0\n"
          ],
          "name": "stdout"
        }
      ]
    },
    {
      "cell_type": "code",
      "metadata": {
        "id": "i82qAbVyZiEc",
        "colab_type": "code",
        "colab": {
          "base_uri": "https://localhost:8080/",
          "height": 104
        },
        "outputId": "03722a50-5c94-461b-ffd8-3ee7113f2c7b"
      },
      "source": [
        "import numpy  as np\n",
        "height = [1.87,  1.87, 1.82, 1.91, 1.90, 1.85]\n",
        "weight = [81.65, 97.52, 95.25, 92.98, 86.18, 88.45]\n",
        "num = [76,100,23,34]\n",
        "cars = ['bmw','merc','alto','bmw']\n",
        "print(min(height))\n",
        "print(max(weight))\n",
        "print(sum(height))\n",
        "print(np.average(weight))\n",
        "bmi = (max(weight)/max(height))**2\n",
        "min_bmi = (min(weight)/min(height))**2\n",
        "\n",
        "np_height=np.array(height)\n",
        "np_weight=np.array(weight)\n",
        "print (np_height)"
      ],
      "execution_count": 20,
      "outputs": [
        {
          "output_type": "stream",
          "text": [
            "1.82\n",
            "97.52\n",
            "11.22\n",
            "90.33833333333335\n",
            "[1.87 1.87 1.82 1.91 1.9  1.85]\n"
          ],
          "name": "stdout"
        }
      ]
    }
  ]
}