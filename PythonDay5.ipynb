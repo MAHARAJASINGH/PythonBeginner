{
  "nbformat": 4,
  "nbformat_minor": 0,
  "metadata": {
    "colab": {
      "name": "PythonDay5.ipynb",
      "provenance": [],
      "collapsed_sections": [],
      "authorship_tag": "ABX9TyMBJttYX1T589Xn4hkmVjzZ",
      "include_colab_link": true
    },
    "kernelspec": {
      "name": "python3",
      "display_name": "Python 3"
    }
  },
  "cells": [
    {
      "cell_type": "markdown",
      "metadata": {
        "id": "view-in-github",
        "colab_type": "text"
      },
      "source": [
        "<a href=\"https://colab.research.google.com/github/MAHARAJASINGH/PythonBeginner/blob/master/PythonDay5.ipynb\" target=\"_parent\"><img src=\"https://colab.research.google.com/assets/colab-badge.svg\" alt=\"Open In Colab\"/></a>"
      ]
    },
    {
      "cell_type": "code",
      "metadata": {
        "id": "hvdo0ccRT1gx",
        "colab_type": "code",
        "colab": {
          "base_uri": "https://localhost:8080/",
          "height": 52
        },
        "outputId": "3686736c-f24b-4753-a2eb-296613787de7"
      },
      "source": [
        "##iterator will work on set of values only\n",
        "##two dimensional array to one dimensional array\n",
        "##input\n",
        "##moving in two dimensional array\n",
        "a = [[1, 2, 3, 4], [5, 6], [7, 8, 9]]\n",
        "print(range(len(a)))\n",
        "for i in range(len(a)):\n",
        "    for j in range(len(a[i])):\n",
        "        print(a[i][j], end=' ')"
      ],
      "execution_count": 1,
      "outputs": [
        {
          "output_type": "stream",
          "text": [
            "range(0, 3)\n",
            "1 2 3 4 5 6 7 8 9 "
          ],
          "name": "stdout"
        }
      ]
    },
    {
      "cell_type": "code",
      "metadata": {
        "id": "nMBIArDSWV7D",
        "colab_type": "code",
        "colab": {
          "base_uri": "https://localhost:8080/",
          "height": 35
        },
        "outputId": "52ce5c26-94b1-4563-f87d-41560176d1ab"
      },
      "source": [
        "##complex one\n",
        "##Input\n",
        "##filter use for taking the dataset or from list which has some condition in it,\n",
        "##list is basically a type a typecasting\n",
        "scores = [66, 90, 68, 59, 76, 60, 88, 74, 81, 65]\n",
        "def is_A_student(score):\n",
        "    return score > 75\n",
        "over_75 = list(filter(is_A_student, scores))\n",
        "print(over_75)\n",
        "##check without filter as well"
      ],
      "execution_count": 2,
      "outputs": [
        {
          "output_type": "stream",
          "text": [
            "[90, 76, 88, 81]\n"
          ],
          "name": "stdout"
        }
      ]
    },
    {
      "cell_type": "code",
      "metadata": {
        "id": "KbbjqKl_YLT6",
        "colab_type": "code",
        "colab": {
          "base_uri": "https://localhost:8080/",
          "height": 35
        },
        "outputId": "e28b6169-59ba-46a6-d3e3-a2763fee2601"
      },
      "source": [
        "##input\n",
        "##Pallindrome with the lambda fuction\n",
        "dromes = (\"mom\",\"demigod\", \"rewire\", \"madam\", \"freer\", \"anutforajaroftuna\", \"kiosk\",\"dad\")\n",
        "palindromes = list(filter(lambda word: word == word[::-1], dromes))\n",
        "print(palindromes)"
      ],
      "execution_count": 3,
      "outputs": [
        {
          "output_type": "stream",
          "text": [
            "['mom', 'madam', 'anutforajaroftuna', 'dad']\n"
          ],
          "name": "stdout"
        }
      ]
    },
    {
      "cell_type": "code",
      "metadata": {
        "id": "BQGczJBnZpuz",
        "colab_type": "code",
        "colab": {
          "base_uri": "https://localhost:8080/",
          "height": 35
        },
        "outputId": "154d6008-de2e-43ff-9e9c-dbd9cdddd79b"
      },
      "source": [
        "abs(-7)"
      ],
      "execution_count": 5,
      "outputs": [
        {
          "output_type": "execute_result",
          "data": {
            "text/plain": [
              "7"
            ]
          },
          "metadata": {
            "tags": []
          },
          "execution_count": 5
        }
      ]
    },
    {
      "cell_type": "code",
      "metadata": {
        "id": "fm68sXDzZXwJ",
        "colab_type": "code",
        "colab": {
          "base_uri": "https://localhost:8080/",
          "height": 35
        },
        "outputId": "fe70df79-3a4d-4b9d-b705-5f6cced700ce"
      },
      "source": [
        "##input\n",
        "##function small example\n",
        "def sum(a,b):\n",
        "  return a+b\n",
        "sum(2,3)"
      ],
      "execution_count": 4,
      "outputs": [
        {
          "output_type": "execute_result",
          "data": {
            "text/plain": [
              "5"
            ]
          },
          "metadata": {
            "tags": []
          },
          "execution_count": 4
        }
      ]
    },
    {
      "cell_type": "code",
      "metadata": {
        "id": "v0hhKeXVZt5J",
        "colab_type": "code",
        "colab": {
          "base_uri": "https://localhost:8080/",
          "height": 35
        },
        "outputId": "e7c7efff-f4df-49ed-ddd5-acae294e1040"
      },
      "source": [
        "ascii('ș')"
      ],
      "execution_count": 6,
      "outputs": [
        {
          "output_type": "execute_result",
          "data": {
            "application/vnd.google.colaboratory.intrinsic": {
              "type": "string"
            },
            "text/plain": [
              "\"'\\\\u0219'\""
            ]
          },
          "metadata": {
            "tags": []
          },
          "execution_count": 6
        }
      ]
    },
    {
      "cell_type": "code",
      "metadata": {
        "id": "BRNmRnjtaFWC",
        "colab_type": "code",
        "colab": {
          "base_uri": "https://localhost:8080/",
          "height": 35
        },
        "outputId": "dca89ca1-f9de-4fc1-fa6d-24ea7173ea1b"
      },
      "source": [
        "bin(7)\n"
      ],
      "execution_count": 7,
      "outputs": [
        {
          "output_type": "execute_result",
          "data": {
            "application/vnd.google.colaboratory.intrinsic": {
              "type": "string"
            },
            "text/plain": [
              "'0b111'"
            ]
          },
          "metadata": {
            "tags": []
          },
          "execution_count": 7
        }
      ]
    },
    {
      "cell_type": "code",
      "metadata": {
        "id": "oYt2oXDfaVUk",
        "colab_type": "code",
        "colab": {
          "base_uri": "https://localhost:8080/",
          "height": 35
        },
        "outputId": "5d4b128b-a062-4872-db7c-8944fe6b3699"
      },
      "source": [
        "a=bytearray(5)\n",
        "print(a)"
      ],
      "execution_count": 8,
      "outputs": [
        {
          "output_type": "stream",
          "text": [
            "bytearray(b'\\x00\\x00\\x00\\x00\\x00')\n"
          ],
          "name": "stdout"
        }
      ]
    },
    {
      "cell_type": "code",
      "metadata": {
        "id": "XS5XFeyLakgT",
        "colab_type": "code",
        "colab": {
          "base_uri": "https://localhost:8080/",
          "height": 35
        },
        "outputId": "ec766637-2b56-423e-b0db-31b4fb0140f1"
      },
      "source": [
        "bytes(5)"
      ],
      "execution_count": 9,
      "outputs": [
        {
          "output_type": "execute_result",
          "data": {
            "text/plain": [
              "b'\\x00\\x00\\x00\\x00\\x00'"
            ]
          },
          "metadata": {
            "tags": []
          },
          "execution_count": 9
        }
      ]
    },
    {
      "cell_type": "code",
      "metadata": {
        "id": "4FViXXv-arqY",
        "colab_type": "code",
        "colab": {
          "base_uri": "https://localhost:8080/",
          "height": 35
        },
        "outputId": "c3b9e831-83bd-43aa-945c-28bcad96211d"
      },
      "source": [
        "a=bytes([1,2,3,4,5])\n",
        "print(a)"
      ],
      "execution_count": 13,
      "outputs": [
        {
          "output_type": "stream",
          "text": [
            "b'\\x01\\x02\\x03\\x04\\x05'\n"
          ],
          "name": "stdout"
        }
      ]
    },
    {
      "cell_type": "code",
      "metadata": {
        "id": "to4AGu4Pa6Q7",
        "colab_type": "code",
        "colab": {
          "base_uri": "https://localhost:8080/",
          "height": 35
        },
        "outputId": "237b163e-dafe-496c-9ec5-9e51a0a8f714"
      },
      "source": [
        "a=bytearray([1,2,3,4,5])\n",
        "print(a)"
      ],
      "execution_count": 14,
      "outputs": [
        {
          "output_type": "stream",
          "text": [
            "bytearray(b'\\x01\\x02\\x03\\x04\\x05')\n"
          ],
          "name": "stdout"
        }
      ]
    },
    {
      "cell_type": "code",
      "metadata": {
        "id": "tcv2z7--a8Yv",
        "colab_type": "code",
        "colab": {
          "base_uri": "https://localhost:8080/",
          "height": 35
        },
        "outputId": "04464311-be0f-4eb4-8d7b-e51ef398845e"
      },
      "source": [
        "chr(65)"
      ],
      "execution_count": 15,
      "outputs": [
        {
          "output_type": "execute_result",
          "data": {
            "application/vnd.google.colaboratory.intrinsic": {
              "type": "string"
            },
            "text/plain": [
              "'A'"
            ]
          },
          "metadata": {
            "tags": []
          },
          "execution_count": 15
        }
      ]
    },
    {
      "cell_type": "code",
      "metadata": {
        "id": "_anWPY5ab04x",
        "colab_type": "code",
        "colab": {
          "base_uri": "https://localhost:8080/",
          "height": 121
        },
        "outputId": "bd6861ec-cba6-4269-db9c-9bb24beac121"
      },
      "source": [
        "##enumerator in Python\n",
        "##indexing need to be done in the enumerator \n",
        "##it will give result\n",
        "en=enumerate(['a','b','c'])\n",
        "#print (next(en)[1])\n",
        "for i in en: \n",
        " print (i[1])\n",
        " print (i[0])"
      ],
      "execution_count": 30,
      "outputs": [
        {
          "output_type": "stream",
          "text": [
            "a\n",
            "0\n",
            "b\n",
            "1\n",
            "c\n",
            "2\n"
          ],
          "name": "stdout"
        }
      ]
    },
    {
      "cell_type": "code",
      "metadata": {
        "id": "zr_ngKHvcCX3",
        "colab_type": "code",
        "colab": {
          "base_uri": "https://localhost:8080/",
          "height": 35
        },
        "outputId": "7717578c-4b5f-4d8f-a8f3-86e922c48e26"
      },
      "source": [
        "##enumerator in Python\n",
        "##indexing need to be done in the enumerator \n",
        "##it will give result \n",
        "x=7\n",
        "eval('x+7')"
      ],
      "execution_count": 23,
      "outputs": [
        {
          "output_type": "execute_result",
          "data": {
            "text/plain": [
              "14"
            ]
          },
          "metadata": {
            "tags": []
          },
          "execution_count": 23
        }
      ]
    },
    {
      "cell_type": "code",
      "metadata": {
        "id": "sgde6wmKd9IM",
        "colab_type": "code",
        "colab": {
          "base_uri": "https://localhost:8080/",
          "height": 87
        },
        "outputId": "c4c51288-060b-4fbe-aecb-d90ff89aa011"
      },
      "source": [
        "##input\n",
        "en = enumerate([1,2,3,4])\n",
        "try:\n",
        "  while(1):\n",
        "    print(next(en)[1])\n",
        "except:\n",
        "  pass"
      ],
      "execution_count": 25,
      "outputs": [
        {
          "output_type": "stream",
          "text": [
            "1\n",
            "2\n",
            "3\n",
            "4\n"
          ],
          "name": "stdout"
        }
      ]
    },
    {
      "cell_type": "code",
      "metadata": {
        "id": "52VFuH4aeKU_",
        "colab_type": "code",
        "colab": {}
      },
      "source": [
        "##input\n",
        "from collections import namedtuple\n",
        "from enum import Enum\n",
        "class HairColor(Enum):\n",
        "    blonde = 1\n",
        "    brown = 2\n",
        "    black = 3\n",
        "    red = 4\n",
        "Person = namedtuple('Person', ['name','age','hair_color'])\n",
        "bert = Person('Bert', 5, HairColor.black)"
      ],
      "execution_count": 35,
      "outputs": []
    },
    {
      "cell_type": "markdown",
      "metadata": {
        "id": "9Ri_Bp2qhbjI",
        "colab_type": "text"
      },
      "source": [
        "Python Libraries\n",
        "from 568341 to everyone:\n",
        "ref link :https://docs.python.org/3/library/index.html\n",
        "from Edwin Herald Ponniah (internal) to everyone:\n",
        "https://docs.python.org/3/library/index.html"
      ]
    },
    {
      "cell_type": "code",
      "metadata": {
        "id": "MZhS9b52eeYQ",
        "colab_type": "code",
        "colab": {
          "base_uri": "https://localhost:8080/",
          "height": 35
        },
        "outputId": "cc759aa2-3180-4ecf-9c42-30b0a4a88f07"
      },
      "source": [
        "##input\n",
        "Person('Bert', 5, HairColor.black)"
      ],
      "execution_count": 27,
      "outputs": [
        {
          "output_type": "execute_result",
          "data": {
            "text/plain": [
              "Person(name='Bert', age=5, hair_color=<HairColor.black: 3>)"
            ]
          },
          "metadata": {
            "tags": []
          },
          "execution_count": 27
        }
      ]
    },
    {
      "cell_type": "code",
      "metadata": {
        "id": "Wb56DVXefjr5",
        "colab_type": "code",
        "colab": {
          "base_uri": "https://localhost:8080/",
          "height": 69
        },
        "outputId": "8fa3ada5-44f5-493e-fb72-f60f19f84ba4"
      },
      "source": [
        "##input\n",
        "##enumerator in words and in letters as well\n",
        "l1 = [\"eat\",\"sleep\",\"repeat\"] \n",
        "s1 = \"geek\"\n",
        "  \n",
        "# creating enumerate objects \n",
        "obj1 = enumerate(l1) \n",
        "obj2 = enumerate(s1) \n",
        "  \n",
        "print(\"Return type:\",type(obj1)) \n",
        "print(list(enumerate(l1)))\n",
        "  \n",
        "# changing start index to 2 from 0 \n",
        "print(list(enumerate(s1,2)))"
      ],
      "execution_count": 31,
      "outputs": [
        {
          "output_type": "stream",
          "text": [
            "Return type: <class 'enumerate'>\n",
            "[(0, 'eat'), (1, 'sleep'), (2, 'repeat')]\n",
            "[(2, 'g'), (3, 'e'), (4, 'e'), (5, 'k')]\n"
          ],
          "name": "stdout"
        }
      ]
    },
    {
      "cell_type": "markdown",
      "metadata": {
        "id": "vwSj-rpTf78A",
        "colab_type": "text"
      },
      "source": [
        "Enumerator you cannot add elements later but in list we can add/remove the elements... Sharadha is that correct?"
      ]
    },
    {
      "cell_type": "markdown",
      "metadata": {
        "id": "WARNJPHyhwSB",
        "colab_type": "text"
      },
      "source": [
        "https://medium.com/fintechexplained/everything-about-python-from-beginner-to-advance-level-227d52ef32d2"
      ]
    },
    {
      "cell_type": "code",
      "metadata": {
        "id": "CgFzkotjhxrv",
        "colab_type": "code",
        "colab": {
          "base_uri": "https://localhost:8080/",
          "height": 35
        },
        "outputId": "0ee05ff1-ba80-44ef-cb4e-8daf5e0451bb"
      },
      "source": [
        "eval('x+(x%2)')"
      ],
      "execution_count": 36,
      "outputs": [
        {
          "output_type": "execute_result",
          "data": {
            "text/plain": [
              "8"
            ]
          },
          "metadata": {
            "tags": []
          },
          "execution_count": 36
        }
      ]
    },
    {
      "cell_type": "code",
      "metadata": {
        "id": "QgDBECT_idOF",
        "colab_type": "code",
        "colab": {
          "base_uri": "https://localhost:8080/",
          "height": 35
        },
        "outputId": "c7741ab7-b008-42f2-af80-c1f06331e9a2"
      },
      "source": [
        "exec('a=2;b=3;print(a+b)')"
      ],
      "execution_count": 37,
      "outputs": [
        {
          "output_type": "stream",
          "text": [
            "5\n"
          ],
          "name": "stdout"
        }
      ]
    },
    {
      "cell_type": "code",
      "metadata": {
        "id": "Y3qUI4CgivxK",
        "colab_type": "code",
        "colab": {
          "base_uri": "https://localhost:8080/",
          "height": 35
        },
        "outputId": "6d3f8722-937b-4fbc-8a07-319fde18597a"
      },
      "source": [
        "print(list(range(1,7)))"
      ],
      "execution_count": 38,
      "outputs": [
        {
          "output_type": "stream",
          "text": [
            "[1, 2, 3, 4, 5, 6]\n"
          ],
          "name": "stdout"
        }
      ]
    },
    {
      "cell_type": "code",
      "metadata": {
        "id": "Yz1cxNYJiy5r",
        "colab_type": "code",
        "colab": {
          "base_uri": "https://localhost:8080/",
          "height": 35
        },
        "outputId": "710cc9a9-aa17-476e-95f1-6d9c9077feab"
      },
      "source": [
        "print(list(range(-7,3)))"
      ],
      "execution_count": 39,
      "outputs": [
        {
          "output_type": "stream",
          "text": [
            "[-7, -6, -5, -4, -3, -2, -1, 0, 1, 2]\n"
          ],
          "name": "stdout"
        }
      ]
    },
    {
      "cell_type": "code",
      "metadata": {
        "id": "1LSulD71jax8",
        "colab_type": "code",
        "colab": {
          "base_uri": "https://localhost:8080/",
          "height": 69
        },
        "outputId": "a4f14145-5e26-4767-a069-61f31c10d2d0"
      },
      "source": [
        "##input\n",
        "for i in zip([1,2,3],['a','b','c'],['#','*','$']):\n",
        "        print(i)"
      ],
      "execution_count": 40,
      "outputs": [
        {
          "output_type": "stream",
          "text": [
            "(1, 'a', '#')\n",
            "(2, 'b', '*')\n",
            "(3, 'c', '$')\n"
          ],
          "name": "stdout"
        }
      ]
    },
    {
      "cell_type": "code",
      "metadata": {
        "id": "ijPFkymKjgUc",
        "colab_type": "code",
        "colab": {
          "base_uri": "https://localhost:8080/",
          "height": 69
        },
        "outputId": "6c8c3ab3-476f-4177-bc32-eabfc6ac7f9f"
      },
      "source": [
        "##input\n",
        "#zip() is a built-in Python function that gives us an iterator of tuples\n",
        "for i in zip([1,2,3],['a','b','c']):\n",
        "        print(i)"
      ],
      "execution_count": 41,
      "outputs": [
        {
          "output_type": "stream",
          "text": [
            "(1, 'a')\n",
            "(2, 'b')\n",
            "(3, 'c')\n"
          ],
          "name": "stdout"
        }
      ]
    },
    {
      "cell_type": "code",
      "metadata": {
        "id": "8HXnmze4j0Gs",
        "colab_type": "code",
        "colab": {
          "base_uri": "https://localhost:8080/",
          "height": 35
        },
        "outputId": "aad7ed89-a863-4978-8dd2-69e79655dd77"
      },
      "source": [
        "##input\n",
        "##shallow copy and deep copy concept\n",
        "##deep copy\n",
        "import copy\n",
        "list1=[1,3,[7,4],6]\n",
        "list2=copy.deepcopy(list1) #Making a deep copy\n",
        "list2"
      ],
      "execution_count": 45,
      "outputs": [
        {
          "output_type": "execute_result",
          "data": {
            "text/plain": [
              "[1, 3, [7, 4], 6]"
            ]
          },
          "metadata": {
            "tags": []
          },
          "execution_count": 45
        }
      ]
    },
    {
      "cell_type": "code",
      "metadata": {
        "id": "MAb994onkWwD",
        "colab_type": "code",
        "colab": {
          "base_uri": "https://localhost:8080/",
          "height": 35
        },
        "outputId": "68e83b15-77ba-4182-a61d-9a5ba0b2ddb4"
      },
      "source": [
        "##input\n",
        "#With a Shallow Copy in Python, we create a new object of which we recursively put copies of objects into the original.\n",
        "##if we print enum it will return the memory address instead of print enum values -print(en)\n",
        "##in deep copy, any changes to a list will reflect on the other?\n",
        "import copy\n",
        "list1=[1,3,[7,4],6]\n",
        "list2=copy.copy(list1) #Making a shallow copy\n",
        "list1\n",
        "list2\n",
        "list2[2][0]=5 #Modifying the element at index 2,0\n",
        "list1\n",
        "#print (\"shallow copy list1:\",list2)"
      ],
      "execution_count": 50,
      "outputs": [
        {
          "output_type": "execute_result",
          "data": {
            "text/plain": [
              "[1, 3, [5, 4], 6]"
            ]
          },
          "metadata": {
            "tags": []
          },
          "execution_count": 50
        }
      ]
    },
    {
      "cell_type": "code",
      "metadata": {
        "id": "l0L1Wb6qlUyj",
        "colab_type": "code",
        "colab": {
          "base_uri": "https://localhost:8080/",
          "height": 35
        },
        "outputId": "db740058-fb21-48dd-8f78-13c9e8c9e8c7"
      },
      "source": [
        "##input\n",
        "import copy\n",
        "dict1={'a':1,'b':2,'c':[1,2,3]}\n",
        "dict2=copy.deepcopy(dict1)\n",
        "dict2['c'].append(7)\n",
        "dict1"
      ],
      "execution_count": 52,
      "outputs": [
        {
          "output_type": "execute_result",
          "data": {
            "text/plain": [
              "{'a': 1, 'b': 2, 'c': [1, 2, 3]}"
            ]
          },
          "metadata": {
            "tags": []
          },
          "execution_count": 52
        }
      ]
    },
    {
      "cell_type": "code",
      "metadata": {
        "id": "onNnGWdxm8kb",
        "colab_type": "code",
        "colab": {
          "base_uri": "https://localhost:8080/",
          "height": 35
        },
        "outputId": "915e5fbc-a192-4a32-a7e3-9db8d5d46dc9"
      },
      "source": [
        "##if we print enum it will return the memory address instead of print enum values -print(en)\n",
        "##print (list1, sep=' ', end='\\n')\n",
        "import copy\n",
        "list1=[1,3,[7,4],6]\n",
        "list2=copy.copy(list1) #Making a shallow copy\n",
        "list1\n",
        "list2\n",
        "list2[2][0]=5 #Modifying the element at index 2,0\n",
        "list1"
      ],
      "execution_count": 51,
      "outputs": [
        {
          "output_type": "execute_result",
          "data": {
            "text/plain": [
              "[1, 3, [5, 4], 6]"
            ]
          },
          "metadata": {
            "tags": []
          },
          "execution_count": 51
        }
      ]
    }
  ]
}