{
  "nbformat": 4,
  "nbformat_minor": 0,
  "metadata": {
    "colab": {
      "name": "PythonDay8.ipynb",
      "provenance": [],
      "collapsed_sections": [],
      "authorship_tag": "ABX9TyPZwMNVaRQLBSqiIIFfHmPm",
      "include_colab_link": true
    },
    "kernelspec": {
      "name": "python3",
      "display_name": "Python 3"
    }
  },
  "cells": [
    {
      "cell_type": "markdown",
      "metadata": {
        "id": "view-in-github",
        "colab_type": "text"
      },
      "source": [
        "<a href=\"https://colab.research.google.com/github/MAHARAJASINGH/PythonBeginner/blob/master/PythonDay8.ipynb\" target=\"_parent\"><img src=\"https://colab.research.google.com/assets/colab-badge.svg\" alt=\"Open In Colab\"/></a>"
      ]
    },
    {
      "cell_type": "code",
      "metadata": {
        "id": "n9w0VBEaEG6z",
        "colab_type": "code",
        "colab": {
          "base_uri": "https://localhost:8080/",
          "height": 121
        },
        "outputId": "2bf73f35-8d5b-48e9-fee9-a06882229c6f"
      },
      "source": [
        "##Pandas Dataframes\n",
        "##no columns specified here....so 0 column would be here...\n",
        "import pandas as pd\n",
        "data = [1,2,3,4,5]\n",
        "df = pd.DataFrame(data)\n",
        "print(df)"
      ],
      "execution_count": 1,
      "outputs": [
        {
          "output_type": "stream",
          "text": [
            "   0\n",
            "0  1\n",
            "1  2\n",
            "2  3\n",
            "3  4\n",
            "4  5\n"
          ],
          "name": "stdout"
        }
      ]
    },
    {
      "cell_type": "markdown",
      "metadata": {
        "id": "XPSnDBCYEa6_",
        "colab_type": "text"
      },
      "source": [
        "Panda and numpy data difference\n",
        "pandas we use for difference type of data\n",
        "difference bet pandas and numpy\n",
        "panda dataframe-oracle dataframe we have\n",
        "panda is good with dataframe----tabular view of data in dataframe\n",
        "large volume---for pandas....\n",
        "datasets that closely resemble to a table.\n",
        "panda dataframe object----rdbms table\n",
        "numpy is all for mathematical operations \n",
        "\n",
        "use this link\n",
        "https://pandas.pydata.org/Pandas_Cheat_Sheet.pdf\\\n",
        "spider in anaconda\n",
        "jupiter,...ides where python work can be done"
      ]
    },
    {
      "cell_type": "code",
      "metadata": {
        "id": "YlYEf8XbGg1Q",
        "colab_type": "code",
        "colab": {
          "base_uri": "https://localhost:8080/",
          "height": 156
        },
        "outputId": "71d382c3-ed57-499e-fb24-166af92b5f02"
      },
      "source": [
        "##input\n",
        "##table and condition in them\n",
        "import pandas as pd\n",
        "data = [['Alex',10],['Bob',12],['Clarke',13]]\n",
        "df = pd.DataFrame(data,columns=['Name','Age'])\n",
        "print(df)\n",
        "print(df['Name'])\n",
        "\n"
      ],
      "execution_count": 2,
      "outputs": [
        {
          "output_type": "stream",
          "text": [
            "     Name  Age\n",
            "0    Alex   10\n",
            "1     Bob   12\n",
            "2  Clarke   13\n",
            "0      Alex\n",
            "1       Bob\n",
            "2    Clarke\n",
            "Name: Name, dtype: object\n"
          ],
          "name": "stdout"
        }
      ]
    },
    {
      "cell_type": "code",
      "metadata": {
        "id": "Yz1r2MNaGu4R",
        "colab_type": "code",
        "colab": {
          "base_uri": "https://localhost:8080/",
          "height": 87
        },
        "outputId": "dcfbe3d0-3101-45b7-b07b-77cfa58d38e1"
      },
      "source": [
        "##input\n",
        "##table with the datatype variable\n",
        "import pandas as pd\n",
        "data = [['Alex',10],['Bob',12],['Clarke',13]]\n",
        "df = pd.DataFrame(data,columns=['Name','Age'],dtype=float)\n",
        "print(df)"
      ],
      "execution_count": 3,
      "outputs": [
        {
          "output_type": "stream",
          "text": [
            "     Name   Age\n",
            "0    Alex  10.0\n",
            "1     Bob  12.0\n",
            "2  Clarke  13.0\n"
          ],
          "name": "stdout"
        }
      ]
    },
    {
      "cell_type": "code",
      "metadata": {
        "id": "GRGcYF7wGz7h",
        "colab_type": "code",
        "colab": {
          "base_uri": "https://localhost:8080/",
          "height": 104
        },
        "outputId": "8cefdb8c-de37-4aa5-be7d-f4886b761062"
      },
      "source": [
        "##input\n",
        "##defining table in single shot\n",
        "import pandas as pd\n",
        "data = {'Name':['Tom', 'Jack', 'Steve', 'Ricky'],'Age':[28,34,29,42]}\n",
        "df = pd.DataFrame(data)\n",
        "print(df)"
      ],
      "execution_count": 4,
      "outputs": [
        {
          "output_type": "stream",
          "text": [
            "    Name  Age\n",
            "0    Tom   28\n",
            "1   Jack   34\n",
            "2  Steve   29\n",
            "3  Ricky   42\n"
          ],
          "name": "stdout"
        }
      ]
    },
    {
      "cell_type": "code",
      "metadata": {
        "id": "jcVfdolBG8e5",
        "colab_type": "code",
        "colab": {
          "base_uri": "https://localhost:8080/",
          "height": 104
        },
        "outputId": "b545e93d-ec63-4b89-e06d-33face51e26e"
      },
      "source": [
        "##input\n",
        "##defining table more shorter way\n",
        "##index helps us in setting row names...else they will be 0,1,2...\n",
        "##data names and columns are quite sufficient for extracting the value\n",
        "data = {'Name':['Tom', 'Jack', 'Steve', 'Ricky'],'Age':[28,34,29,42]}\n",
        "df = pd.DataFrame(data, index=['rank1','rank2','rank3','rank4'])\n",
        "print(df)"
      ],
      "execution_count": 7,
      "outputs": [
        {
          "output_type": "stream",
          "text": [
            "        Name  Age\n",
            "rank1    Tom   28\n",
            "rank2   Jack   34\n",
            "rank3  Steve   29\n",
            "rank4  Ricky   42\n"
          ],
          "name": "stdout"
        }
      ]
    },
    {
      "cell_type": "code",
      "metadata": {
        "id": "Mtywen-WIgTi",
        "colab_type": "code",
        "colab": {
          "base_uri": "https://localhost:8080/",
          "height": 69
        },
        "outputId": "652e978f-5ce2-4dff-fe9c-afd65cb761a7"
      },
      "source": [
        "##input\n",
        "##if data rows and columns inputs are mis mathing\n",
        "import pandas as pd\n",
        "data = [{'a': 1, 'b': 2},{'a': 5, 'b': 10, 'c': 20}]\n",
        "df = pd.DataFrame(data)\n",
        "print(df)"
      ],
      "execution_count": 8,
      "outputs": [
        {
          "output_type": "stream",
          "text": [
            "   a   b     c\n",
            "0  1   2   NaN\n",
            "1  5  10  20.0\n"
          ],
          "name": "stdout"
        }
      ]
    },
    {
      "cell_type": "markdown",
      "metadata": {
        "id": "0s_wRVAaIvTT",
        "colab_type": "text"
      },
      "source": [
        "values in index column are allowed to repeat. So uniqueness is not guranteed"
      ]
    },
    {
      "cell_type": "code",
      "metadata": {
        "id": "U1CXzMgQIwtT",
        "colab_type": "code",
        "colab": {
          "base_uri": "https://localhost:8080/",
          "height": 121
        },
        "outputId": "b9bf57a3-66b7-4723-d777-dc1990b47ffb"
      },
      "source": [
        "##complex input\n",
        "##if column values are not defined\n",
        "#Live Demo\n",
        "import pandas as pd\n",
        "data = [{'a': 1, 'b': 2},{'a': 5, 'b': 10, 'c': 20}]\n",
        "#With two column indices, values same as dictionary keys\n",
        "df1 = pd.DataFrame(data, index=['first', 'second'], columns=['a', 'b'])\n",
        "#With two column indices with one index with other name\n",
        "df2 = pd.DataFrame(data, index=['first', 'second'], columns=['a', 'b1'])\n",
        "print(df1)\n",
        "print(df2)"
      ],
      "execution_count": 10,
      "outputs": [
        {
          "output_type": "stream",
          "text": [
            "        a   b\n",
            "first   1   2\n",
            "second  5  10\n",
            "        a  b1\n",
            "first   1 NaN\n",
            "second  5 NaN\n"
          ],
          "name": "stdout"
        }
      ]
    },
    {
      "cell_type": "code",
      "metadata": {
        "id": "81opH9MxJhT7",
        "colab_type": "code",
        "colab": {
          "base_uri": "https://localhost:8080/",
          "height": 104
        },
        "outputId": "728e8ff9-ccdd-44df-c9ee-bfcdb111f3d9"
      },
      "source": [
        "##input\n",
        "d = {'one' : pd.Series([1, 2, 3], index=['a', 'b', 'c']),\n",
        "   'two' : pd.Series([1, 2, 3, 4], index=['a', 'b', 'c', 'd'])}\n",
        "df = pd.DataFrame(d)\n",
        "print(df)"
      ],
      "execution_count": 11,
      "outputs": [
        {
          "output_type": "stream",
          "text": [
            "   one  two\n",
            "a  1.0    1\n",
            "b  2.0    2\n",
            "c  3.0    3\n",
            "d  NaN    4\n"
          ],
          "name": "stdout"
        }
      ]
    },
    {
      "cell_type": "markdown",
      "metadata": {
        "id": "wQL8VD_VJ3OL",
        "colab_type": "text"
      },
      "source": [
        "file handling in colab...put file in google dricve and provide authentication in it..\n",
        "if using spider.....then save in some c drive and read and write in it"
      ]
    },
    {
      "cell_type": "code",
      "metadata": {
        "id": "1CGbcRrkKDWn",
        "colab_type": "code",
        "colab": {
          "base_uri": "https://localhost:8080/",
          "height": 104
        },
        "outputId": "0922b54a-549d-4985-ec6c-bd7e6556bccd"
      },
      "source": [
        "##input\n",
        "##dataframes in most smaller way\n",
        "import pandas as pd\n",
        "d = {'one' : pd.Series([1, 2, 3], index=['a', 'b', 'c']),\n",
        "   'two' : pd.Series([1, 2, 3, 4], index=['a', 'b', 'c', 'd'])}\n",
        "df = pd.DataFrame(d)\n",
        "print(df)"
      ],
      "execution_count": 12,
      "outputs": [
        {
          "output_type": "stream",
          "text": [
            "   one  two\n",
            "a  1.0    1\n",
            "b  2.0    2\n",
            "c  3.0    3\n",
            "d  NaN    4\n"
          ],
          "name": "stdout"
        }
      ]
    },
    {
      "cell_type": "code",
      "metadata": {
        "id": "_HxaDg9hKLrP",
        "colab_type": "code",
        "colab": {
          "base_uri": "https://localhost:8080/",
          "height": 35
        },
        "outputId": "bbedf7cc-4a71-44e0-dfd3-cbdfb7730615"
      },
      "source": [
        "##input\n",
        "f = open(\"demofile2.txt\", \"a\")\n",
        "f.write(\"Now the file has more content!\")\n",
        "f.close()\n",
        "#open and read the file after the appending:\n",
        "f = open(\"demofile2.txt\", \"r\")\n",
        "print(f.read())\n",
        "\n",
        "##in csv file\n",
        "#u can use this as a data framework as well"
      ],
      "execution_count": 13,
      "outputs": [
        {
          "output_type": "stream",
          "text": [
            "Now the file has more content!\n"
          ],
          "name": "stdout"
        }
      ]
    },
    {
      "cell_type": "markdown",
      "metadata": {
        "id": "HEojQxskKPvo",
        "colab_type": "text"
      },
      "source": [
        "in colab this is vreated in the temporary memory..\n",
        "if use in Collab mount the drive\n",
        "An alternative to persist files across colab sessions - mount google drive in colab\n",
        "from google.colab import drive\n",
        "drive.mount('/content/gdrive')\n",
        "we can also use : from google.colab import files\n",
        "uploaded = files.upload()"
      ]
    },
    {
      "cell_type": "code",
      "metadata": {
        "id": "WDWKf1ZgLMnF",
        "colab_type": "code",
        "colab": {}
      },
      "source": [
        "##for what use is it...??\n",
        "pd.read(io.BytesIO(uploaded['demofile2.txt']))"
      ],
      "execution_count": null,
      "outputs": []
    },
    {
      "cell_type": "code",
      "metadata": {
        "id": "sYX1-2H3LVDo",
        "colab_type": "code",
        "colab": {}
      },
      "source": [
        "##input\n",
        "f = open(\"sample_data/california_housing_test.csv\", \"r\")\n",
        "print(f.read())"
      ],
      "execution_count": null,
      "outputs": []
    },
    {
      "cell_type": "code",
      "metadata": {
        "id": "4qLLS3eFN7uG",
        "colab_type": "code",
        "colab": {}
      },
      "source": [
        "##input\n",
        "import pandas as pd\n",
        "df = pd.read_csv (r'/content/sample_data/california_housing_test.csv')\n",
        "print(df['longitude'])\n",
        "print(\"pinting whole\")\n",
        "print(df)"
      ],
      "execution_count": null,
      "outputs": []
    },
    {
      "cell_type": "code",
      "metadata": {
        "id": "JCVJAEe3O006",
        "colab_type": "code",
        "colab": {}
      },
      "source": [
        "##input\n",
        "import csv\n",
        "with open('/content/sample_data/california_housing_test.csv','rt')as f:\n",
        "  data = csv.reader(f)\n",
        "  for row in data:\n",
        "        print(row)"
      ],
      "execution_count": null,
      "outputs": []
    },
    {
      "cell_type": "code",
      "metadata": {
        "id": "c6bs-C_VP0qR",
        "colab_type": "code",
        "colab": {}
      },
      "source": [
        "##input\n",
        "import csv\n",
        "import pandas as pd\n",
        "df = pd.read_csv (r'/content/sample_data/california_housing_test.csv')\n",
        "print(df['longitude'])\n",
        "print(\"complete values are here\")\n",
        "print(df)"
      ],
      "execution_count": null,
      "outputs": []
    },
    {
      "cell_type": "code",
      "metadata": {
        "id": "PDxRC_RZQ0_I",
        "colab_type": "code",
        "colab": {}
      },
      "source": [
        "##input\n",
        "##wrong answer\n",
        "##json\n",
        "import json\n",
        "x=json.loads('/content/sample_data/anscombe.json')\n",
        "print(x)"
      ],
      "execution_count": null,
      "outputs": []
    },
    {
      "cell_type": "markdown",
      "metadata": {
        "id": "BgLUHWLfPMjJ",
        "colab_type": "text"
      },
      "source": [
        "r - read ,a = append w= write mode"
      ]
    },
    {
      "cell_type": "code",
      "metadata": {
        "id": "ish41YA1NG_c",
        "colab_type": "code",
        "colab": {}
      },
      "source": [
        "##input\n",
        "import csv\n",
        "with open('/content/sample_data/mnist_test.csv','rt')as f:\n",
        "  data = csv.reader(f)\n",
        "  for row in data:\n",
        "        print(row)"
      ],
      "execution_count": null,
      "outputs": []
    },
    {
      "cell_type": "code",
      "metadata": {
        "id": "u0JHnitIROOq",
        "colab_type": "code",
        "colab": {
          "base_uri": "https://localhost:8080/",
          "height": 35
        },
        "outputId": "7920e5b0-ca47-4009-9f3e-d5bb61619c71"
      },
      "source": [
        "##input\n",
        "# some JSON:\n",
        "x =  '{ \"name\":\"John\", \"age\":30, \"city\":\"NewYork\"}'\n",
        "\n",
        "\n",
        "# parse x:\n",
        "y = json.loads(x)\n",
        "\n",
        "# the result is aPython dictionary:\n",
        "print(y[\"age\"])"
      ],
      "execution_count": 33,
      "outputs": [
        {
          "output_type": "stream",
          "text": [
            "30\n"
          ],
          "name": "stdout"
        }
      ]
    },
    {
      "cell_type": "code",
      "metadata": {
        "id": "adD1u7OGRgah",
        "colab_type": "code",
        "colab": {
          "base_uri": "https://localhost:8080/",
          "height": 35
        },
        "outputId": "33414454-c329-472f-b450-93745bcab01c"
      },
      "source": [
        "##input\n",
        "##dumps means parsing it into the json\n",
        "##dictionary into the json\n",
        "x = {\n",
        "  \"name\":  \"John\",\n",
        "  \"age\": 30,\n",
        "  \"city\": \"New York\"\n",
        "}\n",
        "\n",
        "#convert into JSON:\n",
        "y = json.dumps(x)\n",
        "\n",
        "# the result is a JSON string:\n",
        "print(y) "
      ],
      "execution_count": 34,
      "outputs": [
        {
          "output_type": "stream",
          "text": [
            "{\"name\": \"John\", \"age\": 30, \"city\": \"New York\"}\n"
          ],
          "name": "stdout"
        }
      ]
    },
    {
      "cell_type": "code",
      "metadata": {
        "id": "V95juK5-T-Q6",
        "colab_type": "code",
        "colab": {
          "base_uri": "https://localhost:8080/",
          "height": 191
        },
        "outputId": "40150273-634a-49e5-dc38-ccf5cfa25316"
      },
      "source": [
        "##input\n",
        "#alternate option using data frames\n",
        "##use index or some suppression in order to delete the last one\n",
        "f = open(\"sample_data/my_empData.csv\",'w')\n",
        "f.write(\"name,age,gender,id\\n\")\n",
        "f.write(\"Joseph Cutler,39,M,198126\\n\")\n",
        "f.write(\"Jean Cutler,38,F,19805\\n\")\n",
        "f.write(\"John Cutler,40,M,19792\\n\")\n",
        "f.write(\"Joyce Cutler,10,F,201020\\n\")\n",
        "f.close()\n",
        "import pandas as pd\n",
        "df= pd.read_csv(\"sample_data/my_empData.csv\")\n",
        "print(df)\n",
        "print(df[\"age\"])\n",
        "\n"
      ],
      "execution_count": 53,
      "outputs": [
        {
          "output_type": "stream",
          "text": [
            "            name  age gender      id\n",
            "0  Joseph Cutler   39      M  198126\n",
            "1    Jean Cutler   38      F   19805\n",
            "2    John Cutler   40      M   19792\n",
            "3   Joyce Cutler   10      F  201020\n",
            "0    39\n",
            "1    38\n",
            "2    40\n",
            "3    10\n",
            "Name: age, dtype: int64\n"
          ],
          "name": "stdout"
        }
      ]
    },
    {
      "cell_type": "code",
      "metadata": {
        "id": "N62sHSMWUbHr",
        "colab_type": "code",
        "colab": {
          "base_uri": "https://localhost:8080/",
          "height": 104
        },
        "outputId": "53e253f6-79bf-4d59-cd43-6c4a77318412"
      },
      "source": [
        "##input\n",
        "#Live Demo \n",
        "##numpy use in pandas\n",
        "#import the pandas library and aliasing as pd\n",
        "import pandas as pd\n",
        "import numpy as np\n",
        "data = np.array(['a','b','c','d'])\n",
        "s = pd.Series(data)\n",
        "print(s)"
      ],
      "execution_count": 36,
      "outputs": [
        {
          "output_type": "stream",
          "text": [
            "0    a\n",
            "1    b\n",
            "2    c\n",
            "3    d\n",
            "dtype: object\n"
          ],
          "name": "stdout"
        }
      ]
    },
    {
      "cell_type": "code",
      "metadata": {
        "id": "U9HooY4-U-aP",
        "colab_type": "code",
        "colab": {
          "base_uri": "https://localhost:8080/",
          "height": 104
        },
        "outputId": "80ae7532-1b7f-47ae-aa27-0e07c0574576"
      },
      "source": [
        "##input\n",
        "##numpy pandas with index\n",
        "import pandas as pd\n",
        "import numpy as np\n",
        "data = np.array(['a','b','c','d'])\n",
        "s = pd.Series(data,index=[100,101,102,103])\n",
        "print(s)"
      ],
      "execution_count": 37,
      "outputs": [
        {
          "output_type": "stream",
          "text": [
            "100    a\n",
            "101    b\n",
            "102    c\n",
            "103    d\n",
            "dtype: object\n"
          ],
          "name": "stdout"
        }
      ]
    },
    {
      "cell_type": "code",
      "metadata": {
        "id": "BZUnuYPfVD2A",
        "colab_type": "code",
        "colab": {
          "base_uri": "https://localhost:8080/",
          "height": 104
        },
        "outputId": "776b618e-7591-4e1a-f643-6499fbdca8ff"
      },
      "source": [
        "##input\n",
        "import pandas as pd\n",
        "import numpy as np\n",
        "data = {'a' : 0., 'b' : 1., 'c' : 2.}\n",
        "s = pd.Series(data,index=['b','c','d','a'])\n",
        "print(s)"
      ],
      "execution_count": 38,
      "outputs": [
        {
          "output_type": "stream",
          "text": [
            "b    1.0\n",
            "c    2.0\n",
            "d    NaN\n",
            "a    0.0\n",
            "dtype: float64\n"
          ],
          "name": "stdout"
        }
      ]
    },
    {
      "cell_type": "code",
      "metadata": {
        "id": "ATAYyoCCVIqm",
        "colab_type": "code",
        "colab": {
          "base_uri": "https://localhost:8080/",
          "height": 121
        },
        "outputId": "c5e820e6-fafc-48a9-8cc1-2d02eeb4d6c5"
      },
      "source": [
        "#input\n",
        "import pandas as pd\n",
        "s = pd.Series([1,2,3,4,5],index = ['a','b','c','d','e'])\n",
        "print(s)"
      ],
      "execution_count": 58,
      "outputs": [
        {
          "output_type": "stream",
          "text": [
            "a    1\n",
            "b    2\n",
            "c    3\n",
            "d    4\n",
            "e    5\n",
            "dtype: int64\n"
          ],
          "name": "stdout"
        }
      ]
    },
    {
      "cell_type": "code",
      "metadata": {
        "id": "Y5XpE3TgVNIL",
        "colab_type": "code",
        "colab": {
          "base_uri": "https://localhost:8080/",
          "height": 87
        },
        "outputId": "609adfe3-5e63-4f4a-d193-cf5170039c1e"
      },
      "source": [
        "##input\n",
        "import pandas as pd\n",
        "s = pd.Series([1,2,3,4,5],index = ['a','b','c','d','e'])\n",
        "#retrieve the first element\n",
        "print(s[0:3])\n",
        "##means 0,1,2 values only"
      ],
      "execution_count": 41,
      "outputs": [
        {
          "output_type": "stream",
          "text": [
            "a    1\n",
            "b    2\n",
            "c    3\n",
            "dtype: int64\n"
          ],
          "name": "stdout"
        }
      ]
    },
    {
      "cell_type": "code",
      "metadata": {
        "id": "pr6vm3vaVilm",
        "colab_type": "code",
        "colab": {
          "base_uri": "https://localhost:8080/",
          "height": 35
        },
        "outputId": "99e698ec-8938-476d-e72d-a0e677a011e3"
      },
      "source": [
        "s = pd.Series([1,2,3,4,5],index = ['a','b','c','d','e'])\n",
        "#retrieve a single element\n",
        "print(s['b'])"
      ],
      "execution_count": 46,
      "outputs": [
        {
          "output_type": "stream",
          "text": [
            "2\n"
          ],
          "name": "stdout"
        }
      ]
    },
    {
      "cell_type": "code",
      "metadata": {
        "id": "23RK7xDLVU1P",
        "colab_type": "code",
        "colab": {
          "base_uri": "https://localhost:8080/",
          "height": 87
        },
        "outputId": "6da95908-ee83-4420-f89b-2968ac8395f4"
      },
      "source": [
        "##input\n",
        "#Live Demo \n",
        "import pandas as pd\n",
        "s = pd.Series([1,2,3,4,5],index = ['a','b','c','d','e'])\n",
        "#retrieve the first three element\n",
        "print(s[:3])\n",
        "##0,1,2 index"
      ],
      "execution_count": 59,
      "outputs": [
        {
          "output_type": "stream",
          "text": [
            "a    1\n",
            "b    2\n",
            "c    3\n",
            "dtype: int64\n"
          ],
          "name": "stdout"
        }
      ]
    },
    {
      "cell_type": "code",
      "metadata": {
        "id": "DDQhokALVbcN",
        "colab_type": "code",
        "colab": {
          "base_uri": "https://localhost:8080/",
          "height": 87
        },
        "outputId": "e337e190-abdd-4fa5-ebe4-bcd3218af732"
      },
      "source": [
        "##input\n",
        "import pandas as pd\n",
        "s = pd.Series([1,2,3,4,5],index = ['a','b','c','d','e'])\n",
        "#retrieve the last three element\n",
        "print(s[-3:])\n",
        "#3,4,5"
      ],
      "execution_count": 44,
      "outputs": [
        {
          "output_type": "stream",
          "text": [
            "c    3\n",
            "d    4\n",
            "e    5\n",
            "dtype: int64\n"
          ],
          "name": "stdout"
        }
      ]
    },
    {
      "cell_type": "code",
      "metadata": {
        "id": "99-AqV6oVnET",
        "colab_type": "code",
        "colab": {
          "base_uri": "https://localhost:8080/",
          "height": 87
        },
        "outputId": "4d930447-6603-4586-8e3b-c4cd6f7eec2f"
      },
      "source": [
        "import pandas as pd\n",
        "s = pd.Series([1,2,3,4,5],index = ['a','b','c','d','e'])\n",
        "\n",
        "#retrieve multiple elements\n",
        "print(s[['a','c','d']])"
      ],
      "execution_count": 47,
      "outputs": [
        {
          "output_type": "stream",
          "text": [
            "a    1\n",
            "c    3\n",
            "d    4\n",
            "dtype: int64\n"
          ],
          "name": "stdout"
        }
      ]
    },
    {
      "cell_type": "code",
      "metadata": {
        "id": "6V4P1NyVV0jm",
        "colab_type": "code",
        "colab": {
          "base_uri": "https://localhost:8080/",
          "height": 35
        },
        "outputId": "32c31a9a-cd0c-4c8c-ef28-0ff45d1e42bf"
      },
      "source": [
        "#Live Demo \n",
        "##check with more examples\n",
        "import pandas as pd\n",
        "\n",
        "print(pd.Timedelta('3 days 24 hours 60 minutes 60 seconds'))"
      ],
      "execution_count": 48,
      "outputs": [
        {
          "output_type": "stream",
          "text": [
            "4 days 01:01:00\n"
          ],
          "name": "stdout"
        }
      ]
    },
    {
      "cell_type": "code",
      "metadata": {
        "id": "d3ptKF-YWaT-",
        "colab_type": "code",
        "colab": {
          "base_uri": "https://localhost:8080/",
          "height": 225
        },
        "outputId": "ad0c6d97-9e2d-4dd1-be35-c11797c5b118"
      },
      "source": [
        "##input\n",
        "s = pd.Series(pd.date_range('2012-1-1', periods=3, freq='D'))\n",
        "print(s)\n",
        "td = pd.Series([ pd.Timedelta(days=i) for i in range(3) ])\n",
        "df = pd.DataFrame(dict(A = s, B = td))\n",
        "print(df)\n",
        "df['C']=df['A']+df['B']\n",
        "df['D']=df['C']+df['B']\n",
        "df['S']=df['A']-df['B']\n",
        "print(df)"
      ],
      "execution_count": 49,
      "outputs": [
        {
          "output_type": "stream",
          "text": [
            "0   2012-01-01\n",
            "1   2012-01-02\n",
            "2   2012-01-03\n",
            "dtype: datetime64[ns]\n",
            "           A      B\n",
            "0 2012-01-01 0 days\n",
            "1 2012-01-02 1 days\n",
            "2 2012-01-03 2 days\n",
            "           A      B          C          D          S\n",
            "0 2012-01-01 0 days 2012-01-01 2012-01-01 2012-01-01\n",
            "1 2012-01-02 1 days 2012-01-03 2012-01-04 2012-01-01\n",
            "2 2012-01-03 2 days 2012-01-05 2012-01-07 2012-01-01\n"
          ],
          "name": "stdout"
        }
      ]
    },
    {
      "cell_type": "code",
      "metadata": {
        "id": "RuWMzXfvZCDD",
        "colab_type": "code",
        "colab": {
          "base_uri": "https://localhost:8080/",
          "height": 225
        },
        "outputId": "b79aeb92-3a90-426c-95d6-a0f566e2af73"
      },
      "source": [
        "##input\n",
        "import pandas as pd\n",
        "\n",
        "s = pd.Series(pd.date_range('2012-1-1', periods=3, freq='D'))\n",
        "print(s)\n",
        "td = pd.Series([ pd.Timedelta(days=i) for i in (10,20,30) ])\n",
        "print(td)\n",
        "df = pd.DataFrame(dict(A = s, B = td))\n",
        "df['C']=df['A']+df['B']\n",
        "print(df)\n",
        "#pip install pandasql should be away rom from code\n",
        "#---once  a time not everytime\n",
        "##is PandaSQL pre-installed on other editors"
      ],
      "execution_count": 50,
      "outputs": [
        {
          "output_type": "stream",
          "text": [
            "0   2012-01-01\n",
            "1   2012-01-02\n",
            "2   2012-01-03\n",
            "dtype: datetime64[ns]\n",
            "0   10 days\n",
            "1   20 days\n",
            "2   30 days\n",
            "dtype: timedelta64[ns]\n",
            "           A       B          C\n",
            "0 2012-01-01 10 days 2012-01-11\n",
            "1 2012-01-02 20 days 2012-01-22\n",
            "2 2012-01-03 30 days 2012-02-02\n"
          ],
          "name": "stdout"
        }
      ]
    },
    {
      "cell_type": "code",
      "metadata": {
        "id": "FiY6AI4HZela",
        "colab_type": "code",
        "colab": {}
      },
      "source": [
        "##input\n",
        "import pandasql\n",
        "import numpy as np\n",
        "df = pd.DataFrame(np.random.randn(10, 4),\n",
        "   index = pd.date_range('1/1/2000', periods=10),\n",
        "   columns = ['A', 'B', 'C', 'D'])\n",
        "pandasql.sqldf(\"SELECT * FROM df LIMIT 20;\", globals())\n",
        "#This is very slow. Returning top 10 rows from a DataFrame with 50,000 \n",
        "#records takes almost a minute\n",
        "#df.head() seems to be much faster\n"
      ],
      "execution_count": null,
      "outputs": []
    },
    {
      "cell_type": "code",
      "metadata": {
        "id": "nzBq6kbeZq5j",
        "colab_type": "code",
        "colab": {}
      },
      "source": [
        "##input\n",
        "import pandasql \n",
        "d = {'one' : pd.Series([1, 2, 3], index=['a', 'b', 'c']),\n",
        "   'two' : pd.Series([1, 2, 3, 4], index=['a', 'b', 'c', 'd'])}\n",
        "\n",
        "df = pd.DataFrame(d)\n",
        "pandasql.sqldf(\"SELECT sum(two) FROM df LIMIT 20;\", globals())"
      ],
      "execution_count": null,
      "outputs": []
    },
    {
      "cell_type": "code",
      "metadata": {
        "id": "-6aA6nKPZ1g0",
        "colab_type": "code",
        "colab": {
          "base_uri": "https://localhost:8080/",
          "height": 374
        },
        "outputId": "ece918a3-648a-4654-b3e3-5dac2cef6895"
      },
      "source": [
        "##input\n",
        "import pandas as pd\n",
        "import numpy as np\n",
        "import pandasql\n",
        "\n",
        "df = pd.DataFrame(np.random.randn(10, 4),\n",
        "   index = pd.date_range('1/1/2000', periods=10),\n",
        "   columns = ['A', 'B', 'C', 'D'])\n",
        "\n",
        "df2 = pd.DataFrame(np.random.randn(10, 4),\n",
        "   index = pd.date_range('1/1/2000', periods=10),\n",
        "   columns = ['A', 'B', 'C', 'D'])\n",
        "\n",
        "\n",
        "jdf1 = pd.DataFrame(np.random.randn(10, 4))\n",
        "jdf2 = pd.DataFrame(np.random.randn(10, 4))\n",
        "#jdf1.join(jdf2)\n",
        "#print(df['A'])\n",
        "cdf = df['A']\n",
        "#print(cdf)\n",
        "df1 = np.arange(0, 30, 2)\n",
        "df2 = np.arange(0, 20, 2)\n",
        "\n",
        "print(df1)\n",
        "pdf1 = pd.DataFrame(df1)\n",
        "print(np.sum(pdf1))\n",
        "gdf=(df.groupby(['A']).mean())\n",
        "print(gdf)\n",
        "   \n",
        "#print(pdf1)\n",
        "r = cdf.rolling(window=2,min_periods=1)"
      ],
      "execution_count": 52,
      "outputs": [
        {
          "output_type": "error",
          "ename": "ModuleNotFoundError",
          "evalue": "ignored",
          "traceback": [
            "\u001b[0;31m---------------------------------------------------------------------------\u001b[0m",
            "\u001b[0;31mModuleNotFoundError\u001b[0m                       Traceback (most recent call last)",
            "\u001b[0;32m<ipython-input-52-6c2465fd47d7>\u001b[0m in \u001b[0;36m<module>\u001b[0;34m()\u001b[0m\n\u001b[1;32m      2\u001b[0m \u001b[0;32mimport\u001b[0m \u001b[0mpandas\u001b[0m \u001b[0;32mas\u001b[0m \u001b[0mpd\u001b[0m\u001b[0;34m\u001b[0m\u001b[0;34m\u001b[0m\u001b[0m\n\u001b[1;32m      3\u001b[0m \u001b[0;32mimport\u001b[0m \u001b[0mnumpy\u001b[0m \u001b[0;32mas\u001b[0m \u001b[0mnp\u001b[0m\u001b[0;34m\u001b[0m\u001b[0;34m\u001b[0m\u001b[0m\n\u001b[0;32m----> 4\u001b[0;31m \u001b[0;32mimport\u001b[0m \u001b[0mpandasql\u001b[0m\u001b[0;34m\u001b[0m\u001b[0;34m\u001b[0m\u001b[0m\n\u001b[0m\u001b[1;32m      5\u001b[0m \u001b[0;34m\u001b[0m\u001b[0m\n\u001b[1;32m      6\u001b[0m df = pd.DataFrame(np.random.randn(10, 4),\n",
            "\u001b[0;31mModuleNotFoundError\u001b[0m: No module named 'pandasql'",
            "",
            "\u001b[0;31m---------------------------------------------------------------------------\u001b[0;32m\nNOTE: If your import is failing due to a missing package, you can\nmanually install dependencies using either !pip or !apt.\n\nTo view examples of installing some common dependencies, click the\n\"Open Examples\" button below.\n\u001b[0;31m---------------------------------------------------------------------------\u001b[0m\n"
          ]
        }
      ]
    }
  ]
}