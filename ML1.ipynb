{
  "nbformat": 4,
  "nbformat_minor": 0,
  "metadata": {
    "colab": {
      "name": "ML1.ipynb",
      "provenance": [],
      "collapsed_sections": [],
      "authorship_tag": "ABX9TyOWTzswoQ3V115QD6nK3byt",
      "include_colab_link": true
    },
    "kernelspec": {
      "name": "python3",
      "display_name": "Python 3"
    }
  },
  "cells": [
    {
      "cell_type": "markdown",
      "metadata": {
        "id": "view-in-github",
        "colab_type": "text"
      },
      "source": [
        "<a href=\"https://colab.research.google.com/github/MAHARAJASINGH/PythonBeginner/blob/master/ML1.ipynb\" target=\"_parent\"><img src=\"https://colab.research.google.com/assets/colab-badge.svg\" alt=\"Open In Colab\"/></a>"
      ]
    },
    {
      "cell_type": "code",
      "metadata": {
        "id": "oEO_iZJifMRx",
        "colab_type": "code",
        "colab": {
          "base_uri": "https://localhost:8080/",
          "height": 187
        },
        "outputId": "f1c72d1a-7cf5-419a-825d-9c9965c30632"
      },
      "source": [
        "##PYTHON IS GIVING algorith scalar to find out the proper algorigm...may be..\n",
        "##algorithm has an api and use it to perform the function\n",
        "##training data and daily data\n",
        "#tensor flow---api available\n",
        "##\n",
        "import pandas as pd\n",
        "#trainDatadf = pd.read_csv('titanic.csv')\n",
        "trainDatadf = pd.read_csv('/content/sample_data/titanic.csv')\n",
        "trainDatadf.head()\n",
        "trainDatadf.tail()\n",
        "trainDatadf.columns.values\n",
        "trainDatadf.dtypes\n",
        "type(trainDatadf.dtypes)\n",
        "trainDatadf.dtypes.index\n",
        "trainDatadf[\"Name\"].head()\n",
        "trainDatadf[\"Name\"][0:4]\n",
        "# Accessing multiple attributes of the object, listing the first 5 names\n",
        "trainDatadf[[\"Name\",\"Sex\"]].head()\n",
        "trainDatadf[[\"Name\",\"Sex\"]][0:5]\n",
        "trainDatadf.describe()\n",
        "len(trainDatadf)\n",
        "trainDatadf.shape\n",
        "# Looping through the dataset and print passenger names\n",
        "for loop in range(4):\n",
        "    print('Passenger Name is',trainDatadf['Name'][loop])\n",
        "# Looping through the dataset and print passenger names\n",
        "for loop in range(4):\n",
        "    print('Passenger Name is %s whose age is %d years old' %(trainDatadf['Name'][loop],trainDatadf['Age'][loop]))\n",
        "allPassengerNameslist = [passengerName for passengerName in trainDatadf['Name']]\n",
        "allPassengerNameslist[0:5]\n",
        "trainDatadf[trainDatadf[\"Age\"].isnull()].head()\n",
        "#trainDatadf[(trainDatadf[\"Age\"].isnull()) & (trainDatadf[\"Sex\"] == \""
      ],
      "execution_count": 2,
      "outputs": [
        {
          "output_type": "stream",
          "text": [
            "Passenger Name is Mr. Owen Harris Braund\n",
            "Passenger Name is Mrs. John Bradley (Florence Briggs Thayer) Cumings\n",
            "Passenger Name is Miss. Laina Heikkinen\n",
            "Passenger Name is Mrs. Jacques Heath (Lily May Peel) Futrelle\n",
            "Passenger Name is Mr. Owen Harris Braund whose age is 22 years old\n",
            "Passenger Name is Mrs. John Bradley (Florence Briggs Thayer) Cumings whose age is 38 years old\n",
            "Passenger Name is Miss. Laina Heikkinen whose age is 26 years old\n",
            "Passenger Name is Mrs. Jacques Heath (Lily May Peel) Futrelle whose age is 35 years old\n"
          ],
          "name": "stdout"
        },
        {
          "output_type": "execute_result",
          "data": {
            "text/html": [
              "<div>\n",
              "<style scoped>\n",
              "    .dataframe tbody tr th:only-of-type {\n",
              "        vertical-align: middle;\n",
              "    }\n",
              "\n",
              "    .dataframe tbody tr th {\n",
              "        vertical-align: top;\n",
              "    }\n",
              "\n",
              "    .dataframe thead th {\n",
              "        text-align: right;\n",
              "    }\n",
              "</style>\n",
              "<table border=\"1\" class=\"dataframe\">\n",
              "  <thead>\n",
              "    <tr style=\"text-align: right;\">\n",
              "      <th></th>\n",
              "      <th>Survived</th>\n",
              "      <th>Pclass</th>\n",
              "      <th>Name</th>\n",
              "      <th>Sex</th>\n",
              "      <th>Age</th>\n",
              "      <th>Siblings/Spouses Aboard</th>\n",
              "      <th>Parents/Children Aboard</th>\n",
              "      <th>Fare</th>\n",
              "    </tr>\n",
              "  </thead>\n",
              "  <tbody>\n",
              "  </tbody>\n",
              "</table>\n",
              "</div>"
            ],
            "text/plain": [
              "Empty DataFrame\n",
              "Columns: [Survived, Pclass, Name, Sex, Age, Siblings/Spouses Aboard, Parents/Children Aboard, Fare]\n",
              "Index: []"
            ]
          },
          "metadata": {
            "tags": []
          },
          "execution_count": 2
        }
      ]
    },
    {
      "cell_type": "markdown",
      "metadata": {
        "id": "tj2V8UJeroNM",
        "colab_type": "text"
      },
      "source": [
        "# Accessing multiple attributes of the object, listing the first 5 names\n",
        "trainDatadf[[\"Name\",\"Sex\"]].head()\n",
        "from Sharada Lakshmanan (internal) to everyone:    8:57 AM\n",
        "trainDatadf[[\"Name\",\"Sex\"]][0:5]\n",
        "from Sharada Lakshmanan (internal) to everyone:    8:58 AM\n",
        "trainDatadf.describe()\n",
        "from Sharada Lakshmanan (internal) to everyone:    8:58 AM\n",
        "len(trainDatadf)\n",
        "from Sharada Lakshmanan (internal) to everyone:    8:59 AM\n",
        "trainDatadf.shape\n",
        "from Sharada Lakshmanan (internal) to everyone:    8:59 AM\n",
        "# Looping through the dataset and print passenger names\n",
        "for loop in range(4):\n",
        "    print('Passenger Name is',trainDatadf['Name'][loop])\n",
        "from Sharada Lakshmanan (internal) to everyone:    8:59 AM\n",
        "# Looping through the dataset and print passenger names\n",
        "for loop in range(4):\n",
        "    print('Passenger Name is %s whose age is %d years old' %(trainDatadf['Name'][loop],trainDatadf['Age'][loop]))"
      ]
    },
    {
      "cell_type": "markdown",
      "metadata": {
        "id": "97FLBLETuN8Q",
        "colab_type": "text"
      },
      "source": [
        "from Sharada Lakshmanan (internal) to everyone:    8:59 AM\n",
        "# Looping through the dataset and print passenger names\n",
        "for loop in range(4):\n",
        "    print('Passenger Name is %s whose age is %d years old' %(trainDatadf['Name'][loop],trainDatadf['Age'][loop]))\n",
        "from Sharada Lakshmanan (internal) to everyone:    9:05 AM\n",
        "allPassengerNameslist = [passengerName for passengerName in trainDatadf['Name']]\n",
        "from Sharada Lakshmanan (internal) to everyone:    9:05 AM\n",
        "allPassengerNameslist[0:5]\n",
        "from Sharada Lakshmanan (internal) to everyone:    9:06 AM\n",
        "trainDatadf[trainDatadf[\"Age\"].isnull()].head()\n",
        "from Sharada Lakshmanan (internal) to everyone:    9:06 AM\n",
        "trainDatadf[(trainDatadf[\"Age\"].isnull()) & (trainDatadf[\"Sex\"] == \"female\")].head()\n",
        "from Sharada Lakshmanan (internal) to everyone:    9:07 AM\n",
        "trainDatadf[(trainDatadf[\"Age\"].isnull()) & (trainDatadf[\"Sex\"] == \"female\") & (trainDatadf[\"Fare\"].isnull())].head()\n",
        "from Sharada Lakshmanan (internal) to everyone:    9:07 AM\n",
        "trainDatadf.groupby(\"Sex\").size().reset_index(name=\"counts\")\n",
        "from Sharada Lakshmanan (internal) to everyone:    9:08 AM\n",
        "trainDatadf.groupby(\"Sex\")[\"Age\"].mean().reset_index(name=\"counts\")\n",
        "from Sharada Lakshmanan (internal) to everyone:    9:09 AM\n",
        "trainDatadf[\"Name\"].head()\n",
        "from Sharada Lakshmanan (internal) to everyone:    9:09 AM\n",
        "trainDatadf[\"Name\"][0]\n",
        "from Sharada Lakshmanan (internal) to everyone:    9:09 AM\n",
        "trainDatadf[\"Name\"][0].split(\",\")\n",
        "from Sharada Lakshmanan (internal) to everyone: "
      ]
    },
    {
      "cell_type": "markdown",
      "metadata": {
        "id": "O6VJuMaquZUh",
        "colab_type": "text"
      },
      "source": [
        "trainDatadf[\"Title\"] = [trainDatadf[\"Name\"][loop].split(\",\")[0].strip().split(\".\")[0] for loop in range(len(trainDatadf))]\n",
        "from Sharada Lakshmanan (internal) to everyone:    9:15 AM\n",
        "trainDatadf.groupby(\"Title\").size()\n",
        "from Sharada Lakshmanan (internal) to everyone:    9:15 AM\n",
        "trainDatadf.groupby(\"Title\").size().reset_index(name=\"counts\")"
      ]
    },
    {
      "cell_type": "code",
      "metadata": {
        "id": "WFYNKX5Pui3-",
        "colab_type": "code",
        "colab": {
          "base_uri": "https://localhost:8080/",
          "height": 202
        },
        "outputId": "23d77ce2-1e4e-4515-b41f-b367a42fddbc"
      },
      "source": [
        "##input\n",
        "import pandas as pd\n",
        "#trainDatadf = pd.read_csv('titanic.csv')\n",
        "trainDatadf = pd.read_csv('/content/sample_data/titanic.csv')\n",
        "trainDatadf.head()\n",
        "trainDatadf.tail()"
      ],
      "execution_count": 3,
      "outputs": [
        {
          "output_type": "execute_result",
          "data": {
            "text/html": [
              "<div>\n",
              "<style scoped>\n",
              "    .dataframe tbody tr th:only-of-type {\n",
              "        vertical-align: middle;\n",
              "    }\n",
              "\n",
              "    .dataframe tbody tr th {\n",
              "        vertical-align: top;\n",
              "    }\n",
              "\n",
              "    .dataframe thead th {\n",
              "        text-align: right;\n",
              "    }\n",
              "</style>\n",
              "<table border=\"1\" class=\"dataframe\">\n",
              "  <thead>\n",
              "    <tr style=\"text-align: right;\">\n",
              "      <th></th>\n",
              "      <th>Survived</th>\n",
              "      <th>Pclass</th>\n",
              "      <th>Name</th>\n",
              "      <th>Sex</th>\n",
              "      <th>Age</th>\n",
              "      <th>Siblings/Spouses Aboard</th>\n",
              "      <th>Parents/Children Aboard</th>\n",
              "      <th>Fare</th>\n",
              "    </tr>\n",
              "  </thead>\n",
              "  <tbody>\n",
              "    <tr>\n",
              "      <th>882</th>\n",
              "      <td>0</td>\n",
              "      <td>2</td>\n",
              "      <td>Rev. Juozas Montvila</td>\n",
              "      <td>male</td>\n",
              "      <td>27.0</td>\n",
              "      <td>0</td>\n",
              "      <td>0</td>\n",
              "      <td>13.00</td>\n",
              "    </tr>\n",
              "    <tr>\n",
              "      <th>883</th>\n",
              "      <td>1</td>\n",
              "      <td>1</td>\n",
              "      <td>Miss. Margaret Edith Graham</td>\n",
              "      <td>female</td>\n",
              "      <td>19.0</td>\n",
              "      <td>0</td>\n",
              "      <td>0</td>\n",
              "      <td>30.00</td>\n",
              "    </tr>\n",
              "    <tr>\n",
              "      <th>884</th>\n",
              "      <td>0</td>\n",
              "      <td>3</td>\n",
              "      <td>Miss. Catherine Helen Johnston</td>\n",
              "      <td>female</td>\n",
              "      <td>7.0</td>\n",
              "      <td>1</td>\n",
              "      <td>2</td>\n",
              "      <td>23.45</td>\n",
              "    </tr>\n",
              "    <tr>\n",
              "      <th>885</th>\n",
              "      <td>1</td>\n",
              "      <td>1</td>\n",
              "      <td>Mr. Karl Howell Behr</td>\n",
              "      <td>male</td>\n",
              "      <td>26.0</td>\n",
              "      <td>0</td>\n",
              "      <td>0</td>\n",
              "      <td>30.00</td>\n",
              "    </tr>\n",
              "    <tr>\n",
              "      <th>886</th>\n",
              "      <td>0</td>\n",
              "      <td>3</td>\n",
              "      <td>Mr. Patrick Dooley</td>\n",
              "      <td>male</td>\n",
              "      <td>32.0</td>\n",
              "      <td>0</td>\n",
              "      <td>0</td>\n",
              "      <td>7.75</td>\n",
              "    </tr>\n",
              "  </tbody>\n",
              "</table>\n",
              "</div>"
            ],
            "text/plain": [
              "     Survived  Pclass  ... Parents/Children Aboard   Fare\n",
              "882         0       2  ...                       0  13.00\n",
              "883         1       1  ...                       0  30.00\n",
              "884         0       3  ...                       2  23.45\n",
              "885         1       1  ...                       0  30.00\n",
              "886         0       3  ...                       0   7.75\n",
              "\n",
              "[5 rows x 8 columns]"
            ]
          },
          "metadata": {
            "tags": []
          },
          "execution_count": 3
        }
      ]
    },
    {
      "cell_type": "markdown",
      "metadata": {
        "id": "A5DLevnTxUhx",
        "colab_type": "text"
      },
      "source": [
        "from Sharada Lakshmanan (internal) to everyone:    9:14 AM\n",
        "[trainDatadf[\"Name\"][loop].split(\",\")[0].strip().split(\".\")[0] for loop in range(len(trainDatadf))][0:5]\n",
        "from Sharada Lakshmanan (internal) to everyone:    9:14 AM\n",
        "trainDatadf[\"Title\"] = [trainDatadf[\"Name\"][loop].split(\",\")[0].strip().split(\".\")[0] for loop in range(len(trainDatadf))]\n",
        "from Sharada Lakshmanan (internal) to everyone:    9:15 AM\n",
        "trainDatadf.groupby(\"Title\").size()\n",
        "from Sharada Lakshmanan (internal) to everyone:    9:15 AM\n",
        "trainDatadf.groupby(\"Title\").size().reset_index(name=\"counts\")\n",
        "from Sharada Lakshmanan (internal) to everyone:    9:15 AM\n",
        "titleDatadf = trainDatadf.groupby(\"Title\").size().reset_index(name=\"counts\")\n",
        "from Sharada Lakshmanan (internal) to everyone:    9:16 AM\n",
        "import seaborn as sns\n",
        "import matplotlib.pyplot as plt\n",
        "%matplotlib inline \n",
        "from Sharada Lakshmanan (internal) to everyone:    9:16 AM\n",
        "titleDatadf.plot.bar(\"Title\",\"counts\")\n",
        "from Sharada Lakshmanan (internal) to everyone:    9:17 AM\n",
        "titleDatadf.sort_values(by=['counts']).plot.bar(\"Title\",\"counts\")\n",
        "from Sharada Lakshmanan (internal) to everyone:    9:17 AM\n",
        "AgeByTitledf = trainDatadf.groupby(\"Title\")[\"Age\"].mean().reset_index(name = \"AverageAge\")\n",
        "from Sharada Lakshmanan (internal) to everyone:    9:18 AM\n",
        "AgeByTitledf.head()\n",
        "from Sharada Lakshmanan (internal) to everyone:    9:19 AM\n",
        "trainDataExtdf = trainDatadf.merge(AgeByTitledf, on = \"Title\", how = \"inner\")\n",
        "from Sharada Lakshmanan (internal) to everyone:    9:19 AM\n",
        "trainDataExtdf.head()\n",
        "from Sharada Lakshmanan (internal) to everyone:    9:20 AM\n",
        "# Update the missing values in the dataset\n",
        "for ind in trainDataExtdf[trainDataExtdf[\"Age\"].isnull()].index:\n",
        "    trainDataExtdf.loc[ind,\"Age\"] = trainDataExtdf.loc[ind,\"AverageAge\"]\n",
        "from Sharada Lakshmanan (internal) to everyone:    9:20 AM\n",
        "trainDataExtdf[\"Title\"].unique()\n",
        "from Sharada Lakshmanan (internal) to everyone:    9:20 AM\n",
        "trainDataExtdf = trainDataExtdf.iloc[:,0:13]\n",
        "from Sharada Lakshmanan (internal) to everyone:    9:20 AM\n",
        "trainDataExtdf[trainDataExtdf[\"Fare\"].isnull()][\"Fare\"].size\n",
        "from Sharada Lakshmanan (internal) to everyone:    9:21 AM\n",
        "trainDataExtdf.drop([\"Fare\"],axis=1,inplace=True)\n",
        "from Sharada Lakshmanan (internal) to everyone:    9:21 AM\n",
        "trainDataExtdf.head()\n",
        "from Sharada Lakshmanan (internal) to everyone:    9:21 AM\n",
        "trainDataExtdf.groupby(\"Sex\").size()\n",
        "from Sharada Lakshmanan (internal) to everyone:    9:22 AM\n",
        "trainDataExtdf[trainDataExtdf[\"Sex\"].isnull()].shape[0]\n",
        "from Sharada Lakshmanan (internal) to everyone:    9:22 AM\n",
        "for ind in trainDataExtdf[trainDataExtdf[\"Sex\"].isnull()].index:\n",
        "    trainDataExtdf.loc[ind,\"Sex\"] = \"S\"\n",
        "from Sharada Lakshmanan (internal) to everyone:    9:23 AM\n",
        "titleDatadf\n",
        "from Sharada Lakshmanan (internal) to everyone:    9:24 AM\n",
        "# Reducing the number of titles, translating Mme, Ms to Miss\n",
        "for ind in trainDataExtdf[trainDataExtdf[\"Title\"] == \"Mme\"].index:\n",
        "    trainDataExtdf.loc[ind,\"Title\"] = \"Miss\"\n",
        "for ind in trainDataExtdf[trainDataExtdf[\"Title\"] == \"Ms\"].index:\n",
        "    trainDataExtdf.loc[ind,\"Title\"] = \"Miss\"\n",
        "for ind in trainDataExtdf[trainDataExtdf[\"Title\"] == \"Mlle\"].index:\n",
        "    trainDataExtdf.loc[ind,\"Title\"] = \"Miss\"\n",
        "from Sharada Lakshmanan (internal) to everyone:    9:24 AM\n",
        "titleOtherSe = trainDataExtdf.groupby(\"Title\").size()<8\n",
        "from Sharada Lakshmanan (internal) to everyone:    9:24 AM\n",
        "titleOtherSe[titleOtherSe == True].index.values\n",
        "from Sharada Lakshmanan (internal) to everyone:    9:24 AM\n",
        "for title in titleOtherSe[titleOtherSe == True].index.values:\n",
        "    trainDataExtdf.loc[trainDataExtdf[\"Title\"] == title, \"Title\"] = \"Others\""
      ]
    },
    {
      "cell_type": "code",
      "metadata": {
        "id": "uHYRXBlqxIVE",
        "colab_type": "code",
        "colab": {}
      },
      "source": [
        "from sklearn.tree import DecisionTreeClassifier\n",
        "from sklearn import preprocessing"
      ],
      "execution_count": 5,
      "outputs": []
    },
    {
      "cell_type": "code",
      "metadata": {
        "id": "zZ8yY1d9xvEk",
        "colab_type": "code",
        "colab": {
          "base_uri": "https://localhost:8080/",
          "height": 201
        },
        "outputId": "77d264eb-1322-4a85-e803-7f3b21df9cdc"
      },
      "source": [
        "le_Sex = preprocessing.LabelEncoder()\n",
        "le_Sex.fit(trainDataExtdf[\"Sex\"].unique())\n",
        "le_Sex.classes_"
      ],
      "execution_count": 6,
      "outputs": [
        {
          "output_type": "error",
          "ename": "NameError",
          "evalue": "ignored",
          "traceback": [
            "\u001b[0;31m---------------------------------------------------------------------------\u001b[0m",
            "\u001b[0;31mNameError\u001b[0m                                 Traceback (most recent call last)",
            "\u001b[0;32m<ipython-input-6-4e3878639fa4>\u001b[0m in \u001b[0;36m<module>\u001b[0;34m()\u001b[0m\n\u001b[1;32m      1\u001b[0m \u001b[0mle_Sex\u001b[0m \u001b[0;34m=\u001b[0m \u001b[0mpreprocessing\u001b[0m\u001b[0;34m.\u001b[0m\u001b[0mLabelEncoder\u001b[0m\u001b[0;34m(\u001b[0m\u001b[0;34m)\u001b[0m\u001b[0;34m\u001b[0m\u001b[0;34m\u001b[0m\u001b[0m\n\u001b[0;32m----> 2\u001b[0;31m \u001b[0mle_Sex\u001b[0m\u001b[0;34m.\u001b[0m\u001b[0mfit\u001b[0m\u001b[0;34m(\u001b[0m\u001b[0mtrainDataExtdf\u001b[0m\u001b[0;34m[\u001b[0m\u001b[0;34m\"Sex\"\u001b[0m\u001b[0;34m]\u001b[0m\u001b[0;34m.\u001b[0m\u001b[0munique\u001b[0m\u001b[0;34m(\u001b[0m\u001b[0;34m)\u001b[0m\u001b[0;34m)\u001b[0m\u001b[0;34m\u001b[0m\u001b[0;34m\u001b[0m\u001b[0m\n\u001b[0m\u001b[1;32m      3\u001b[0m \u001b[0mle_Sex\u001b[0m\u001b[0;34m.\u001b[0m\u001b[0mclasses_\u001b[0m\u001b[0;34m\u001b[0m\u001b[0;34m\u001b[0m\u001b[0m\n",
            "\u001b[0;31mNameError\u001b[0m: name 'trainDataExtdf' is not defined"
          ]
        }
      ]
    },
    {
      "cell_type": "code",
      "metadata": {
        "id": "2fWpRTJjyBif",
        "colab_type": "code",
        "colab": {
          "base_uri": "https://localhost:8080/",
          "height": 166
        },
        "outputId": "37e2cea9-94e9-4a3b-eff2-37475ba4e36f"
      },
      "source": [
        "trainDataExtdf.head()"
      ],
      "execution_count": 7,
      "outputs": [
        {
          "output_type": "error",
          "ename": "NameError",
          "evalue": "ignored",
          "traceback": [
            "\u001b[0;31m---------------------------------------------------------------------------\u001b[0m",
            "\u001b[0;31mNameError\u001b[0m                                 Traceback (most recent call last)",
            "\u001b[0;32m<ipython-input-7-48fde162aea3>\u001b[0m in \u001b[0;36m<module>\u001b[0;34m()\u001b[0m\n\u001b[0;32m----> 1\u001b[0;31m \u001b[0mtrainDataExtdf\u001b[0m\u001b[0;34m.\u001b[0m\u001b[0mhead\u001b[0m\u001b[0;34m(\u001b[0m\u001b[0;34m)\u001b[0m\u001b[0;34m\u001b[0m\u001b[0;34m\u001b[0m\u001b[0m\n\u001b[0m",
            "\u001b[0;31mNameError\u001b[0m: name 'trainDataExtdf' is not defined"
          ]
        }
      ]
    },
    {
      "cell_type": "code",
      "metadata": {
        "id": "VIwrVHOhyFJq",
        "colab_type": "code",
        "colab": {
          "base_uri": "https://localhost:8080/",
          "height": 201
        },
        "outputId": "68d28c26-4255-4ff4-88be-bbc95540b86a"
      },
      "source": [
        "le_Title = preprocessing.LabelEncoder()\n",
        "le_Title.fit(trainDataExtdf[\"Title\"].unique())\n",
        "le_Title.classes_"
      ],
      "execution_count": 8,
      "outputs": [
        {
          "output_type": "error",
          "ename": "NameError",
          "evalue": "ignored",
          "traceback": [
            "\u001b[0;31m---------------------------------------------------------------------------\u001b[0m",
            "\u001b[0;31mNameError\u001b[0m                                 Traceback (most recent call last)",
            "\u001b[0;32m<ipython-input-8-cb5e8c4a061d>\u001b[0m in \u001b[0;36m<module>\u001b[0;34m()\u001b[0m\n\u001b[1;32m      1\u001b[0m \u001b[0mle_Title\u001b[0m \u001b[0;34m=\u001b[0m \u001b[0mpreprocessing\u001b[0m\u001b[0;34m.\u001b[0m\u001b[0mLabelEncoder\u001b[0m\u001b[0;34m(\u001b[0m\u001b[0;34m)\u001b[0m\u001b[0;34m\u001b[0m\u001b[0;34m\u001b[0m\u001b[0m\n\u001b[0;32m----> 2\u001b[0;31m \u001b[0mle_Title\u001b[0m\u001b[0;34m.\u001b[0m\u001b[0mfit\u001b[0m\u001b[0;34m(\u001b[0m\u001b[0mtrainDataExtdf\u001b[0m\u001b[0;34m[\u001b[0m\u001b[0;34m\"Title\"\u001b[0m\u001b[0;34m]\u001b[0m\u001b[0;34m.\u001b[0m\u001b[0munique\u001b[0m\u001b[0;34m(\u001b[0m\u001b[0;34m)\u001b[0m\u001b[0;34m)\u001b[0m\u001b[0;34m\u001b[0m\u001b[0;34m\u001b[0m\u001b[0m\n\u001b[0m\u001b[1;32m      3\u001b[0m \u001b[0mle_Title\u001b[0m\u001b[0;34m.\u001b[0m\u001b[0mclasses_\u001b[0m\u001b[0;34m\u001b[0m\u001b[0;34m\u001b[0m\u001b[0m\n",
            "\u001b[0;31mNameError\u001b[0m: name 'trainDataExtdf' is not defined"
          ]
        }
      ]
    },
    {
      "cell_type": "code",
      "metadata": {
        "id": "BDu-8f4XyIgC",
        "colab_type": "code",
        "colab": {
          "base_uri": "https://localhost:8080/",
          "height": 166
        },
        "outputId": "94397eaf-ad03-4b47-cfc0-e02ec5d67fd2"
      },
      "source": [
        "trainDataExtdf[\"le_Title\"] = le_Title.transform(trainDataExtdf[\"Title\"])"
      ],
      "execution_count": 9,
      "outputs": [
        {
          "output_type": "error",
          "ename": "NameError",
          "evalue": "ignored",
          "traceback": [
            "\u001b[0;31m---------------------------------------------------------------------------\u001b[0m",
            "\u001b[0;31mNameError\u001b[0m                                 Traceback (most recent call last)",
            "\u001b[0;32m<ipython-input-9-c55cae71458a>\u001b[0m in \u001b[0;36m<module>\u001b[0;34m()\u001b[0m\n\u001b[0;32m----> 1\u001b[0;31m \u001b[0mtrainDataExtdf\u001b[0m\u001b[0;34m[\u001b[0m\u001b[0;34m\"le_Title\"\u001b[0m\u001b[0;34m]\u001b[0m \u001b[0;34m=\u001b[0m \u001b[0mle_Title\u001b[0m\u001b[0;34m.\u001b[0m\u001b[0mtransform\u001b[0m\u001b[0;34m(\u001b[0m\u001b[0mtrainDataExtdf\u001b[0m\u001b[0;34m[\u001b[0m\u001b[0;34m\"Title\"\u001b[0m\u001b[0;34m]\u001b[0m\u001b[0;34m)\u001b[0m\u001b[0;34m\u001b[0m\u001b[0;34m\u001b[0m\u001b[0m\n\u001b[0m",
            "\u001b[0;31mNameError\u001b[0m: name 'trainDataExtdf' is not defined"
          ]
        }
      ]
    },
    {
      "cell_type": "code",
      "metadata": {
        "id": "7wECP9QHyRZY",
        "colab_type": "code",
        "colab": {
          "base_uri": "https://localhost:8080/",
          "height": 166
        },
        "outputId": "d0118d68-abc5-44bc-952f-67ca75df46eb"
      },
      "source": [
        "trainDataExtdf.head()"
      ],
      "execution_count": 10,
      "outputs": [
        {
          "output_type": "error",
          "ename": "NameError",
          "evalue": "ignored",
          "traceback": [
            "\u001b[0;31m---------------------------------------------------------------------------\u001b[0m",
            "\u001b[0;31mNameError\u001b[0m                                 Traceback (most recent call last)",
            "\u001b[0;32m<ipython-input-10-48fde162aea3>\u001b[0m in \u001b[0;36m<module>\u001b[0;34m()\u001b[0m\n\u001b[0;32m----> 1\u001b[0;31m \u001b[0mtrainDataExtdf\u001b[0m\u001b[0;34m.\u001b[0m\u001b[0mhead\u001b[0m\u001b[0;34m(\u001b[0m\u001b[0;34m)\u001b[0m\u001b[0;34m\u001b[0m\u001b[0;34m\u001b[0m\u001b[0m\n\u001b[0m",
            "\u001b[0;31mNameError\u001b[0m: name 'trainDataExtdf' is not defined"
          ]
        }
      ]
    },
    {
      "cell_type": "code",
      "metadata": {
        "id": "Ty2ZN7N9yaTo",
        "colab_type": "code",
        "colab": {
          "base_uri": "https://localhost:8080/",
          "height": 166
        },
        "outputId": "6f75bdd6-4eb6-4318-8be2-bc5cfb5d5834"
      },
      "source": [
        "trainDataExtdf[\"le_Nm\"] = le_Emb.transform(trainDataExtdf[\"Name\"])"
      ],
      "execution_count": 11,
      "outputs": [
        {
          "output_type": "error",
          "ename": "NameError",
          "evalue": "ignored",
          "traceback": [
            "\u001b[0;31m---------------------------------------------------------------------------\u001b[0m",
            "\u001b[0;31mNameError\u001b[0m                                 Traceback (most recent call last)",
            "\u001b[0;32m<ipython-input-11-a00190e329a1>\u001b[0m in \u001b[0;36m<module>\u001b[0;34m()\u001b[0m\n\u001b[0;32m----> 1\u001b[0;31m \u001b[0mtrainDataExtdf\u001b[0m\u001b[0;34m[\u001b[0m\u001b[0;34m\"le_Nm\"\u001b[0m\u001b[0;34m]\u001b[0m \u001b[0;34m=\u001b[0m \u001b[0mle_Emb\u001b[0m\u001b[0;34m.\u001b[0m\u001b[0mtransform\u001b[0m\u001b[0;34m(\u001b[0m\u001b[0mtrainDataExtdf\u001b[0m\u001b[0;34m[\u001b[0m\u001b[0;34m\"Name\"\u001b[0m\u001b[0;34m]\u001b[0m\u001b[0;34m)\u001b[0m\u001b[0;34m\u001b[0m\u001b[0;34m\u001b[0m\u001b[0m\n\u001b[0m",
            "\u001b[0;31mNameError\u001b[0m: name 'le_Emb' is not defined"
          ]
        }
      ]
    },
    {
      "cell_type": "code",
      "metadata": {
        "id": "hRDJewRkynUy",
        "colab_type": "code",
        "colab": {
          "base_uri": "https://localhost:8080/",
          "height": 166
        },
        "outputId": "f76463ff-5979-4dd0-a584-44f41c0bd361"
      },
      "source": [
        "trainDataExtdf[[\"Pclass\",\"Age\",\"le_Sex\",\"le_Title\",\"le_Nm\",\"Survived\"]].head()"
      ],
      "execution_count": 12,
      "outputs": [
        {
          "output_type": "error",
          "ename": "NameError",
          "evalue": "ignored",
          "traceback": [
            "\u001b[0;31m---------------------------------------------------------------------------\u001b[0m",
            "\u001b[0;31mNameError\u001b[0m                                 Traceback (most recent call last)",
            "\u001b[0;32m<ipython-input-12-8ef533aba874>\u001b[0m in \u001b[0;36m<module>\u001b[0;34m()\u001b[0m\n\u001b[0;32m----> 1\u001b[0;31m \u001b[0mtrainDataExtdf\u001b[0m\u001b[0;34m[\u001b[0m\u001b[0;34m[\u001b[0m\u001b[0;34m\"Pclass\"\u001b[0m\u001b[0;34m,\u001b[0m\u001b[0;34m\"Age\"\u001b[0m\u001b[0;34m,\u001b[0m\u001b[0;34m\"le_Sex\"\u001b[0m\u001b[0;34m,\u001b[0m\u001b[0;34m\"le_Title\"\u001b[0m\u001b[0;34m,\u001b[0m\u001b[0;34m\"le_Nm\"\u001b[0m\u001b[0;34m,\u001b[0m\u001b[0;34m\"Survived\"\u001b[0m\u001b[0;34m]\u001b[0m\u001b[0;34m]\u001b[0m\u001b[0;34m.\u001b[0m\u001b[0mhead\u001b[0m\u001b[0;34m(\u001b[0m\u001b[0;34m)\u001b[0m\u001b[0;34m\u001b[0m\u001b[0;34m\u001b[0m\u001b[0m\n\u001b[0m",
            "\u001b[0;31mNameError\u001b[0m: name 'trainDataExtdf' is not defined"
          ]
        }
      ]
    },
    {
      "cell_type": "code",
      "metadata": {
        "id": "d2kUyNb2ysXi",
        "colab_type": "code",
        "colab": {
          "base_uri": "https://localhost:8080/",
          "height": 166
        },
        "outputId": "b56e8be1-b34a-4693-a610-49f6d128f507"
      },
      "source": [
        "trainDataExtSubsetdf = trainDataExtdf[[\"Pclass\",\"Age\",\"le_Sex\",\"le_Title\",\"le_Nm\",\"Survived\"]]"
      ],
      "execution_count": 13,
      "outputs": [
        {
          "output_type": "error",
          "ename": "NameError",
          "evalue": "ignored",
          "traceback": [
            "\u001b[0;31m---------------------------------------------------------------------------\u001b[0m",
            "\u001b[0;31mNameError\u001b[0m                                 Traceback (most recent call last)",
            "\u001b[0;32m<ipython-input-13-6197a3af5d48>\u001b[0m in \u001b[0;36m<module>\u001b[0;34m()\u001b[0m\n\u001b[0;32m----> 1\u001b[0;31m \u001b[0mtrainDataExtSubsetdf\u001b[0m \u001b[0;34m=\u001b[0m \u001b[0mtrainDataExtdf\u001b[0m\u001b[0;34m[\u001b[0m\u001b[0;34m[\u001b[0m\u001b[0;34m\"Pclass\"\u001b[0m\u001b[0;34m,\u001b[0m\u001b[0;34m\"Age\"\u001b[0m\u001b[0;34m,\u001b[0m\u001b[0;34m\"le_Sex\"\u001b[0m\u001b[0;34m,\u001b[0m\u001b[0;34m\"le_Title\"\u001b[0m\u001b[0;34m,\u001b[0m\u001b[0;34m\"le_Nm\"\u001b[0m\u001b[0;34m,\u001b[0m\u001b[0;34m\"Survived\"\u001b[0m\u001b[0;34m]\u001b[0m\u001b[0;34m]\u001b[0m\u001b[0;34m\u001b[0m\u001b[0;34m\u001b[0m\u001b[0m\n\u001b[0m",
            "\u001b[0;31mNameError\u001b[0m: name 'trainDataExtdf' is not defined"
          ]
        }
      ]
    },
    {
      "cell_type": "code",
      "metadata": {
        "id": "Qy5N1voqyvM-",
        "colab_type": "code",
        "colab": {
          "base_uri": "https://localhost:8080/",
          "height": 166
        },
        "outputId": "afb3430c-12a5-494b-9f88-34dc55db3d1d"
      },
      "source": [
        "trainDataExtSubsetdf.head()"
      ],
      "execution_count": 14,
      "outputs": [
        {
          "output_type": "error",
          "ename": "NameError",
          "evalue": "ignored",
          "traceback": [
            "\u001b[0;31m---------------------------------------------------------------------------\u001b[0m",
            "\u001b[0;31mNameError\u001b[0m                                 Traceback (most recent call last)",
            "\u001b[0;32m<ipython-input-14-dc82cc9fc075>\u001b[0m in \u001b[0;36m<module>\u001b[0;34m()\u001b[0m\n\u001b[0;32m----> 1\u001b[0;31m \u001b[0mtrainDataExtSubsetdf\u001b[0m\u001b[0;34m.\u001b[0m\u001b[0mhead\u001b[0m\u001b[0;34m(\u001b[0m\u001b[0;34m)\u001b[0m\u001b[0;34m\u001b[0m\u001b[0;34m\u001b[0m\u001b[0m\n\u001b[0m",
            "\u001b[0;31mNameError\u001b[0m: name 'trainDataExtSubsetdf' is not defined"
          ]
        }
      ]
    },
    {
      "cell_type": "code",
      "metadata": {
        "id": "G9NLrU9FzCex",
        "colab_type": "code",
        "colab": {
          "base_uri": "https://localhost:8080/",
          "height": 166
        },
        "outputId": "a81ec95e-d5b7-4ee3-e3c4-ed629355bf81"
      },
      "source": [
        "featureNamesarr = trainDataExtSubsetdf.columns.difference(['PassengerId','Survived']).values"
      ],
      "execution_count": 15,
      "outputs": [
        {
          "output_type": "error",
          "ename": "NameError",
          "evalue": "ignored",
          "traceback": [
            "\u001b[0;31m---------------------------------------------------------------------------\u001b[0m",
            "\u001b[0;31mNameError\u001b[0m                                 Traceback (most recent call last)",
            "\u001b[0;32m<ipython-input-15-345fb93f2cdf>\u001b[0m in \u001b[0;36m<module>\u001b[0;34m()\u001b[0m\n\u001b[0;32m----> 1\u001b[0;31m \u001b[0mfeatureNamesarr\u001b[0m \u001b[0;34m=\u001b[0m \u001b[0mtrainDataExtSubsetdf\u001b[0m\u001b[0;34m.\u001b[0m\u001b[0mcolumns\u001b[0m\u001b[0;34m.\u001b[0m\u001b[0mdifference\u001b[0m\u001b[0;34m(\u001b[0m\u001b[0;34m[\u001b[0m\u001b[0;34m'PassengerId'\u001b[0m\u001b[0;34m,\u001b[0m\u001b[0;34m'Survived'\u001b[0m\u001b[0;34m]\u001b[0m\u001b[0;34m)\u001b[0m\u001b[0;34m.\u001b[0m\u001b[0mvalues\u001b[0m\u001b[0;34m\u001b[0m\u001b[0;34m\u001b[0m\u001b[0m\n\u001b[0m",
            "\u001b[0;31mNameError\u001b[0m: name 'trainDataExtSubsetdf' is not defined"
          ]
        }
      ]
    },
    {
      "cell_type": "code",
      "metadata": {
        "id": "ijh5zD9IzO9Z",
        "colab_type": "code",
        "colab": {
          "base_uri": "https://localhost:8080/",
          "height": 183
        },
        "outputId": "5c0359fd-6937-4e7b-f31b-03a5d9dc2c80"
      },
      "source": [
        "xTrain = trainDataExtSubsetdf[featureNamesarr].values\n",
        "yTrain = trainDataExtSubsetdf[\"Survived\"].values"
      ],
      "execution_count": 16,
      "outputs": [
        {
          "output_type": "error",
          "ename": "NameError",
          "evalue": "ignored",
          "traceback": [
            "\u001b[0;31m---------------------------------------------------------------------------\u001b[0m",
            "\u001b[0;31mNameError\u001b[0m                                 Traceback (most recent call last)",
            "\u001b[0;32m<ipython-input-16-2d1f19ce542a>\u001b[0m in \u001b[0;36m<module>\u001b[0;34m()\u001b[0m\n\u001b[0;32m----> 1\u001b[0;31m \u001b[0mxTrain\u001b[0m \u001b[0;34m=\u001b[0m \u001b[0mtrainDataExtSubsetdf\u001b[0m\u001b[0;34m[\u001b[0m\u001b[0mfeatureNamesarr\u001b[0m\u001b[0;34m]\u001b[0m\u001b[0;34m.\u001b[0m\u001b[0mvalues\u001b[0m\u001b[0;34m\u001b[0m\u001b[0;34m\u001b[0m\u001b[0m\n\u001b[0m\u001b[1;32m      2\u001b[0m \u001b[0myTrain\u001b[0m \u001b[0;34m=\u001b[0m \u001b[0mtrainDataExtSubsetdf\u001b[0m\u001b[0;34m[\u001b[0m\u001b[0;34m\"Survived\"\u001b[0m\u001b[0;34m]\u001b[0m\u001b[0;34m.\u001b[0m\u001b[0mvalues\u001b[0m\u001b[0;34m\u001b[0m\u001b[0;34m\u001b[0m\u001b[0m\n",
            "\u001b[0;31mNameError\u001b[0m: name 'trainDataExtSubsetdf' is not defined"
          ]
        }
      ]
    },
    {
      "cell_type": "code",
      "metadata": {
        "id": "z-swjidtzlG_",
        "colab_type": "code",
        "colab": {}
      },
      "source": [
        "from sklearn.ensemble import ExtraTreesClassifier"
      ],
      "execution_count": 18,
      "outputs": []
    },
    {
      "cell_type": "code",
      "metadata": {
        "id": "lIliUSodzoE9",
        "colab_type": "code",
        "colab": {
          "base_uri": "https://localhost:8080/",
          "height": 201
        },
        "outputId": "1da9894a-2145-49d2-b754-a178b7c5b04a"
      },
      "source": [
        "clf = ExtraTreesClassifier()\n",
        "clfRet = clf.fit(xTrain, yTrain)\n",
        "clfRet.feature_importances_"
      ],
      "execution_count": 19,
      "outputs": [
        {
          "output_type": "error",
          "ename": "NameError",
          "evalue": "ignored",
          "traceback": [
            "\u001b[0;31m---------------------------------------------------------------------------\u001b[0m",
            "\u001b[0;31mNameError\u001b[0m                                 Traceback (most recent call last)",
            "\u001b[0;32m<ipython-input-19-294c46e7f1ac>\u001b[0m in \u001b[0;36m<module>\u001b[0;34m()\u001b[0m\n\u001b[1;32m      1\u001b[0m \u001b[0mclf\u001b[0m \u001b[0;34m=\u001b[0m \u001b[0mExtraTreesClassifier\u001b[0m\u001b[0;34m(\u001b[0m\u001b[0;34m)\u001b[0m\u001b[0;34m\u001b[0m\u001b[0;34m\u001b[0m\u001b[0m\n\u001b[0;32m----> 2\u001b[0;31m \u001b[0mclfRet\u001b[0m \u001b[0;34m=\u001b[0m \u001b[0mclf\u001b[0m\u001b[0;34m.\u001b[0m\u001b[0mfit\u001b[0m\u001b[0;34m(\u001b[0m\u001b[0mxTrain\u001b[0m\u001b[0;34m,\u001b[0m \u001b[0myTrain\u001b[0m\u001b[0;34m)\u001b[0m\u001b[0;34m\u001b[0m\u001b[0;34m\u001b[0m\u001b[0m\n\u001b[0m\u001b[1;32m      3\u001b[0m \u001b[0mclfRet\u001b[0m\u001b[0;34m.\u001b[0m\u001b[0mfeature_importances_\u001b[0m\u001b[0;34m\u001b[0m\u001b[0;34m\u001b[0m\u001b[0m\n",
            "\u001b[0;31mNameError\u001b[0m: name 'xTrain' is not defined"
          ]
        }
      ]
    },
    {
      "cell_type": "code",
      "metadata": {
        "id": "8RTVZOS3zxGP",
        "colab_type": "code",
        "colab": {
          "base_uri": "https://localhost:8080/",
          "height": 201
        },
        "outputId": "a8c4d5de-686b-4f7c-e6db-ae65466f0dbb"
      },
      "source": [
        "featureMatrixdf = pd.DataFrame({'FeatureName':featureNamesarr,'FeatureScore':clfRet.feature_importances_})\n",
        "featureMatrixdf=featureMatrixdf.sort_values(by=['FeatureScore'])\n",
        "featureMatrixdf.plot.bar('FeatureName','FeatureScore')"
      ],
      "execution_count": 20,
      "outputs": [
        {
          "output_type": "error",
          "ename": "NameError",
          "evalue": "ignored",
          "traceback": [
            "\u001b[0;31m---------------------------------------------------------------------------\u001b[0m",
            "\u001b[0;31mNameError\u001b[0m                                 Traceback (most recent call last)",
            "\u001b[0;32m<ipython-input-20-fb7d2522c83f>\u001b[0m in \u001b[0;36m<module>\u001b[0;34m()\u001b[0m\n\u001b[0;32m----> 1\u001b[0;31m \u001b[0mfeatureMatrixdf\u001b[0m \u001b[0;34m=\u001b[0m \u001b[0mpd\u001b[0m\u001b[0;34m.\u001b[0m\u001b[0mDataFrame\u001b[0m\u001b[0;34m(\u001b[0m\u001b[0;34m{\u001b[0m\u001b[0;34m'FeatureName'\u001b[0m\u001b[0;34m:\u001b[0m\u001b[0mfeatureNamesarr\u001b[0m\u001b[0;34m,\u001b[0m\u001b[0;34m'FeatureScore'\u001b[0m\u001b[0;34m:\u001b[0m\u001b[0mclfRet\u001b[0m\u001b[0;34m.\u001b[0m\u001b[0mfeature_importances_\u001b[0m\u001b[0;34m}\u001b[0m\u001b[0;34m)\u001b[0m\u001b[0;34m\u001b[0m\u001b[0;34m\u001b[0m\u001b[0m\n\u001b[0m\u001b[1;32m      2\u001b[0m \u001b[0mfeatureMatrixdf\u001b[0m\u001b[0;34m=\u001b[0m\u001b[0mfeatureMatrixdf\u001b[0m\u001b[0;34m.\u001b[0m\u001b[0msort_values\u001b[0m\u001b[0;34m(\u001b[0m\u001b[0mby\u001b[0m\u001b[0;34m=\u001b[0m\u001b[0;34m[\u001b[0m\u001b[0;34m'FeatureScore'\u001b[0m\u001b[0;34m]\u001b[0m\u001b[0;34m)\u001b[0m\u001b[0;34m\u001b[0m\u001b[0;34m\u001b[0m\u001b[0m\n\u001b[1;32m      3\u001b[0m \u001b[0mfeatureMatrixdf\u001b[0m\u001b[0;34m.\u001b[0m\u001b[0mplot\u001b[0m\u001b[0;34m.\u001b[0m\u001b[0mbar\u001b[0m\u001b[0;34m(\u001b[0m\u001b[0;34m'FeatureName'\u001b[0m\u001b[0;34m,\u001b[0m\u001b[0;34m'FeatureScore'\u001b[0m\u001b[0;34m)\u001b[0m\u001b[0;34m\u001b[0m\u001b[0;34m\u001b[0m\u001b[0m\n",
            "\u001b[0;31mNameError\u001b[0m: name 'featureNamesarr' is not defined"
          ]
        }
      ]
    },
    {
      "cell_type": "code",
      "metadata": {
        "id": "upAarfCN0MAs",
        "colab_type": "code",
        "colab": {
          "base_uri": "https://localhost:8080/",
          "height": 201
        },
        "outputId": "54e9dbf2-c466-461d-e8f5-0678855b3026"
      },
      "source": [
        "##input\n",
        "from sklearn.feature_selection import SelectKBest\n",
        "import numpy as np\n",
        "from sklearn.feature_selection import chi2\n",
        "kBestSelector = SelectKBest(chi2, k='all')\n",
        "xTrain_Features = kBestSelector.fit(xTrain,yTrain) "
      ],
      "execution_count": 21,
      "outputs": [
        {
          "output_type": "error",
          "ename": "NameError",
          "evalue": "ignored",
          "traceback": [
            "\u001b[0;31m---------------------------------------------------------------------------\u001b[0m",
            "\u001b[0;31mNameError\u001b[0m                                 Traceback (most recent call last)",
            "\u001b[0;32m<ipython-input-21-30224fc4d3f2>\u001b[0m in \u001b[0;36m<module>\u001b[0;34m()\u001b[0m\n\u001b[1;32m      4\u001b[0m \u001b[0;32mfrom\u001b[0m \u001b[0msklearn\u001b[0m\u001b[0;34m.\u001b[0m\u001b[0mfeature_selection\u001b[0m \u001b[0;32mimport\u001b[0m \u001b[0mchi2\u001b[0m\u001b[0;34m\u001b[0m\u001b[0;34m\u001b[0m\u001b[0m\n\u001b[1;32m      5\u001b[0m \u001b[0mkBestSelector\u001b[0m \u001b[0;34m=\u001b[0m \u001b[0mSelectKBest\u001b[0m\u001b[0;34m(\u001b[0m\u001b[0mchi2\u001b[0m\u001b[0;34m,\u001b[0m \u001b[0mk\u001b[0m\u001b[0;34m=\u001b[0m\u001b[0;34m'all'\u001b[0m\u001b[0;34m)\u001b[0m\u001b[0;34m\u001b[0m\u001b[0;34m\u001b[0m\u001b[0m\n\u001b[0;32m----> 6\u001b[0;31m \u001b[0mxTrain_Features\u001b[0m \u001b[0;34m=\u001b[0m \u001b[0mkBestSelector\u001b[0m\u001b[0;34m.\u001b[0m\u001b[0mfit\u001b[0m\u001b[0;34m(\u001b[0m\u001b[0mxTrain\u001b[0m\u001b[0;34m,\u001b[0m\u001b[0myTrain\u001b[0m\u001b[0;34m)\u001b[0m\u001b[0;34m\u001b[0m\u001b[0;34m\u001b[0m\u001b[0m\n\u001b[0m",
            "\u001b[0;31mNameError\u001b[0m: name 'xTrain' is not defined"
          ]
        }
      ]
    },
    {
      "cell_type": "code",
      "metadata": {
        "id": "gIWtzUJf0nBF",
        "colab_type": "code",
        "colab": {
          "base_uri": "https://localhost:8080/",
          "height": 235
        },
        "outputId": "73ba35f9-f757-44d0-bccd-fda412905bc3"
      },
      "source": [
        "featureMatrixdf_chi2 = pd.DataFrame({'FeatureName':featureNamesarr,\n",
        "                                     'chi2_pvalues':xTrain_Features.pvalues_,\n",
        "                                     'chi2_Scores':np.log(xTrain_Features.scores_)})\n",
        "featureMatrixdf_chi2_Sorted=featureMatrixdf_chi2.sort_values(by=['chi2_Scores'],ascending=False)\n",
        "featureMatrixdf_chi2_Sorted[-featureMatrixdf_chi2_Sorted['chi2_Scores'].isnull()].plot.bar('FeatureName','chi2_Scores')"
      ],
      "execution_count": 22,
      "outputs": [
        {
          "output_type": "error",
          "ename": "NameError",
          "evalue": "ignored",
          "traceback": [
            "\u001b[0;31m---------------------------------------------------------------------------\u001b[0m",
            "\u001b[0;31mNameError\u001b[0m                                 Traceback (most recent call last)",
            "\u001b[0;32m<ipython-input-22-a8e4ff182f7a>\u001b[0m in \u001b[0;36m<module>\u001b[0;34m()\u001b[0m\n\u001b[0;32m----> 1\u001b[0;31m featureMatrixdf_chi2 = pd.DataFrame({'FeatureName':featureNamesarr,\n\u001b[0m\u001b[1;32m      2\u001b[0m                                      \u001b[0;34m'chi2_pvalues'\u001b[0m\u001b[0;34m:\u001b[0m\u001b[0mxTrain_Features\u001b[0m\u001b[0;34m.\u001b[0m\u001b[0mpvalues_\u001b[0m\u001b[0;34m,\u001b[0m\u001b[0;34m\u001b[0m\u001b[0;34m\u001b[0m\u001b[0m\n\u001b[1;32m      3\u001b[0m                                      'chi2_Scores':np.log(xTrain_Features.scores_)})\n\u001b[1;32m      4\u001b[0m \u001b[0mfeatureMatrixdf_chi2_Sorted\u001b[0m\u001b[0;34m=\u001b[0m\u001b[0mfeatureMatrixdf_chi2\u001b[0m\u001b[0;34m.\u001b[0m\u001b[0msort_values\u001b[0m\u001b[0;34m(\u001b[0m\u001b[0mby\u001b[0m\u001b[0;34m=\u001b[0m\u001b[0;34m[\u001b[0m\u001b[0;34m'chi2_Scores'\u001b[0m\u001b[0;34m]\u001b[0m\u001b[0;34m,\u001b[0m\u001b[0mascending\u001b[0m\u001b[0;34m=\u001b[0m\u001b[0;32mFalse\u001b[0m\u001b[0;34m)\u001b[0m\u001b[0;34m\u001b[0m\u001b[0;34m\u001b[0m\u001b[0m\n\u001b[1;32m      5\u001b[0m \u001b[0mfeatureMatrixdf_chi2_Sorted\u001b[0m\u001b[0;34m[\u001b[0m\u001b[0;34m-\u001b[0m\u001b[0mfeatureMatrixdf_chi2_Sorted\u001b[0m\u001b[0;34m[\u001b[0m\u001b[0;34m'chi2_Scores'\u001b[0m\u001b[0;34m]\u001b[0m\u001b[0;34m.\u001b[0m\u001b[0misnull\u001b[0m\u001b[0;34m(\u001b[0m\u001b[0;34m)\u001b[0m\u001b[0;34m]\u001b[0m\u001b[0;34m.\u001b[0m\u001b[0mplot\u001b[0m\u001b[0;34m.\u001b[0m\u001b[0mbar\u001b[0m\u001b[0;34m(\u001b[0m\u001b[0;34m'FeatureName'\u001b[0m\u001b[0;34m,\u001b[0m\u001b[0;34m'chi2_Scores'\u001b[0m\u001b[0;34m)\u001b[0m\u001b[0;34m\u001b[0m\u001b[0;34m\u001b[0m\u001b[0m\n",
            "\u001b[0;31mNameError\u001b[0m: name 'featureNamesarr' is not defined"
          ]
        }
      ]
    }
  ]
}