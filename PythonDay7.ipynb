{
  "nbformat": 4,
  "nbformat_minor": 0,
  "metadata": {
    "colab": {
      "name": "PythonDay7.ipynb",
      "provenance": [],
      "collapsed_sections": [],
      "authorship_tag": "ABX9TyOWFNVu40T5wqz+C9mh9wbS",
      "include_colab_link": true
    },
    "kernelspec": {
      "name": "python3",
      "display_name": "Python 3"
    }
  },
  "cells": [
    {
      "cell_type": "markdown",
      "metadata": {
        "id": "view-in-github",
        "colab_type": "text"
      },
      "source": [
        "<a href=\"https://colab.research.google.com/github/MAHARAJASINGH/PythonBeginner/blob/master/PythonDay7.ipynb\" target=\"_parent\"><img src=\"https://colab.research.google.com/assets/colab-badge.svg\" alt=\"Open In Colab\"/></a>"
      ]
    },
    {
      "cell_type": "code",
      "metadata": {
        "id": "oR8VitwMuloh",
        "colab_type": "code",
        "colab": {
          "base_uri": "https://localhost:8080/",
          "height": 35
        },
        "outputId": "d09510c2-915d-4cc7-daa6-3882e3d28ee2"
      },
      "source": [
        "##input\n",
        "##reverse of list\n",
        "nums = [10, 20, 30, 40, 50, 60, 70, 80, 90]\n",
        "nums[::-1]"
      ],
      "execution_count": 1,
      "outputs": [
        {
          "output_type": "execute_result",
          "data": {
            "text/plain": [
              "[90, 80, 70, 60, 50, 40, 30, 20, 10]"
            ]
          },
          "metadata": {
            "tags": []
          },
          "execution_count": 1
        }
      ]
    },
    {
      "cell_type": "markdown",
      "metadata": {
        "id": "DYdcry7_urIz",
        "colab_type": "text"
      },
      "source": [
        "#And if we don’t want to include some elements at the end, we can also add the stop parameter:\n",
        "nums[1:-3:2]"
      ]
    },
    {
      "cell_type": "code",
      "metadata": {
        "id": "hNsd1tRxvGnd",
        "colab_type": "code",
        "colab": {
          "base_uri": "https://localhost:8080/",
          "height": 225
        },
        "outputId": "c4389b1b-ebc3-4421-e5ec-9125cbeb1b42"
      },
      "source": [
        "##shallow copy---when u make changes in one copy will not affect the other copy\n",
        "##deep copy ----will affect the other copy as well....\n",
        "##input\n",
        "##start from last second element\n",
        "nums = [10, 20, 30, 40, 50, 60, 70, 80, 90]\n",
        "print(nums[::-1])\n",
        "print(nums[-2::-1])\n",
        "print(nums[-2:1:-1])\n",
        "print(nums[1:-3:2])\n",
        "print(nums[2:-3:4])\n",
        "print(nums[2:-3:4])\n",
        "print(nums[len(nums) - 1] or nums[-1])##last element\n",
        "print(nums[-1::])\n",
        "print(nums[-1])\n",
        "print(nums[8:])\n",
        "print(nums[len(nums)-2:len(nums)-1:1])\n",
        "print (nums[-1:])"
      ],
      "execution_count": 17,
      "outputs": [
        {
          "output_type": "stream",
          "text": [
            "[90, 80, 70, 60, 50, 40, 30, 20, 10]\n",
            "[80, 70, 60, 50, 40, 30, 20, 10]\n",
            "[80, 70, 60, 50, 40, 30]\n",
            "[20, 40, 60]\n",
            "[30]\n",
            "[30]\n",
            "90\n",
            "[90]\n",
            "90\n",
            "[90]\n",
            "[80]\n",
            "[90]\n"
          ],
          "name": "stdout"
        }
      ]
    },
    {
      "cell_type": "code",
      "metadata": {
        "id": "aoJY0MsAw5Vv",
        "colab_type": "code",
        "colab": {
          "base_uri": "https://localhost:8080/",
          "height": 131
        },
        "outputId": "f3f7d123-1511-4889-ef23-a2aa90f50321"
      },
      "source": [
        "##input\n",
        "nums = [10, 20, 30, 40, 50, 60, 70, 80, 90]\n",
        "nums_copy = nums[:]\n",
        "print('before update',nums_copy)\n",
        "nums_copy[0] = 33\n",
        "print(nums_copy)\n",
        "#[33, 20, 30, 40, 50, 60, 70, 80, 90]\n",
        "print(nums)\n",
        "#[10, 20, 30, 40, 50, 60, 70, 80, 90]"
      ],
      "execution_count": 7,
      "outputs": [
        {
          "output_type": "error",
          "ename": "IndentationError",
          "evalue": "ignored",
          "traceback": [
            "\u001b[0;36m  File \u001b[0;32m\"<ipython-input-7-3e13ae83cc32>\"\u001b[0;36m, line \u001b[0;32m2\u001b[0m\n\u001b[0;31m    nums = [10, 20, 30, 40, 50, 60, 70, 80, 90]\u001b[0m\n\u001b[0m    ^\u001b[0m\n\u001b[0;31mIndentationError\u001b[0m\u001b[0;31m:\u001b[0m unexpected indent\n"
          ]
        }
      ]
    },
    {
      "cell_type": "code",
      "metadata": {
        "id": "YCC0I4pyzUKG",
        "colab_type": "code",
        "colab": {
          "base_uri": "https://localhost:8080/",
          "height": 87
        },
        "outputId": "b9c0eda0-5aa8-488a-9839-dfecbb66c66c"
      },
      "source": [
        "##input\n",
        "#slicing and copying\n",
        "##i think it is just the opp...shallow copy will share same reference\n",
        "nums = [10, 20, 30, 40, 50, 60, 70, 80, 90]\n",
        "first_five = nums[0:5]\n",
        "print(nums[0:5])\n",
        "first_five[2] = 3\n",
        "print(first_five[2])\n",
        "print(first_five)\n",
        "#[10, 20, 3, 40, 50]\n",
        "print(nums)"
      ],
      "execution_count": 19,
      "outputs": [
        {
          "output_type": "stream",
          "text": [
            "[10, 20, 30, 40, 50]\n",
            "3\n",
            "[10, 20, 3, 40, 50]\n",
            "[10, 20, 30, 40, 50, 60, 70, 80, 90]\n"
          ],
          "name": "stdout"
        }
      ]
    },
    {
      "cell_type": "code",
      "metadata": {
        "id": "VNoDIIxq0Ga_",
        "colab_type": "code",
        "colab": {
          "base_uri": "https://localhost:8080/",
          "height": 69
        },
        "outputId": "022da388-6cdb-4dc4-b884-31d6ff4ea3ae"
      },
      "source": [
        "##input\n",
        "nums = [10, 20, 30, 40, 50, 60, 70, 80, 90]\n",
        "nums_copy = nums[:]##all elements\n",
        "print('before update',nums_copy)\n",
        "nums_copy[0] = 33\n",
        "nums_copy[3] = 53\n",
        "print(nums_copy)\n",
        "#[33, 20, 30, 40, 50, 60, 70, 80, 90]\n",
        "print(nums)\n",
        "#[10, 20, 30, 40, 50, 60, 70, 80, 90]"
      ],
      "execution_count": 22,
      "outputs": [
        {
          "output_type": "stream",
          "text": [
            "before update [10, 20, 30, 40, 50, 60, 70, 80, 90]\n",
            "[33, 20, 30, 53, 50, 60, 70, 80, 90]\n",
            "[10, 20, 30, 40, 50, 60, 70, 80, 90]\n"
          ],
          "name": "stdout"
        }
      ]
    },
    {
      "cell_type": "code",
      "metadata": {
        "id": "sWRij7JG1kOJ",
        "colab_type": "code",
        "colab": {
          "base_uri": "https://localhost:8080/",
          "height": 52
        },
        "outputId": "73c56ecc-0812-41a0-913c-36d58837d2e8"
      },
      "source": [
        "##input\n",
        "##not getting it  :(\n",
        "#slice function\n",
        "five_items_after_second = slice(2,3 + 5)\n",
        "##why this plus is used for\n",
        "nums = [10, 20, 30, 40, 50, 60, 70, 80, 90]\n",
        "colors = ['red', 'green', 'blue', 'yellow', 'white', 'black', 'silver']\n",
        "print(nums[five_items_after_second])\n",
        "#[30, 40, 50, 60, 70]\n",
        "print(colors[five_items_after_second])\n",
        "#['blue', 'yellow', 'white', 'black', 'silver']"
      ],
      "execution_count": 30,
      "outputs": [
        {
          "output_type": "stream",
          "text": [
            "[30, 40, 50, 60, 70, 80]\n",
            "['blue', 'yellow', 'white', 'black', 'silver']\n"
          ],
          "name": "stdout"
        }
      ]
    },
    {
      "cell_type": "code",
      "metadata": {
        "id": "ckKeiUXj3QH0",
        "colab_type": "code",
        "colab": {
          "base_uri": "https://localhost:8080/",
          "height": 131
        },
        "outputId": "0571e8ad-37c2-48a1-f430-408bd96ad2fc"
      },
      "source": [
        "##input\n",
        "Init signature: slice(self, /, *args, **kwargs)\n",
        "Docstring:     \n",
        "slice(stop)\n",
        "slice(start, stop[, step])\n",
        "Create a slice object.  This is used for extended slicing (e.g. a[0:10:2]).\n",
        "Type:           type\n",
        "Subclasses:"
      ],
      "execution_count": 31,
      "outputs": [
        {
          "output_type": "error",
          "ename": "SyntaxError",
          "evalue": "ignored",
          "traceback": [
            "\u001b[0;36m  File \u001b[0;32m\"<ipython-input-31-89527993c1e5>\"\u001b[0;36m, line \u001b[0;32m2\u001b[0m\n\u001b[0;31m    Init signature: slice(self, /, *args, **kwargs)\u001b[0m\n\u001b[0m                 ^\u001b[0m\n\u001b[0;31mSyntaxError\u001b[0m\u001b[0;31m:\u001b[0m invalid syntax\n"
          ]
        }
      ]
    },
    {
      "cell_type": "code",
      "metadata": {
        "id": "QsE1lNUl3jHO",
        "colab_type": "code",
        "colab": {
          "base_uri": "https://localhost:8080/",
          "height": 69
        },
        "outputId": "6b81de28-6d0c-45a5-a0ea-0f35d4a67dab"
      },
      "source": [
        "### importing copy module \n",
        "# importing copy module \n",
        "import copy \n",
        "  \n",
        "# initializing list 1  \n",
        "li1 = [1, 2, [3,5], 4] \n",
        "  \n",
        "  \n",
        "# using copy for shallow copy   \n",
        "li2 = copy.copy(li1)  \n",
        "  \n",
        "# using deepcopy for deepcopy   \n",
        "li3 = copy.deepcopy(li1) \n",
        "li2[0] = 7\n",
        "li3[0] = 8\n",
        "print(li1)\n",
        "print(li2)\n",
        "print(li3)\n"
      ],
      "execution_count": 33,
      "outputs": [
        {
          "output_type": "stream",
          "text": [
            "[1, 2, [3, 5], 4]\n",
            "[7, 2, [3, 5], 4]\n",
            "[8, 2, [3, 5], 4]\n"
          ],
          "name": "stdout"
        }
      ]
    },
    {
      "cell_type": "markdown",
      "metadata": {
        "id": "6CoDRdMH32p6",
        "colab_type": "text"
      },
      "source": [
        "in both shallow and deep copy, the original is not getting affected\n",
        "from Prasad Josyula (internal) to everyone:\n",
        "it appears, in shallow it does"
      ]
    },
    {
      "cell_type": "code",
      "metadata": {
        "id": "5UabjvEc33oz",
        "colab_type": "code",
        "colab": {
          "base_uri": "https://localhost:8080/",
          "height": 35
        },
        "outputId": "0853ba93-dd56-426f-9bcf-250b08987f07"
      },
      "source": [
        "##input\n",
        "marks = [70, 60, 40, 80 , 90, 95, 38, 87]\n",
        "marks.sort()\n",
        "marks[-5:][::-1]"
      ],
      "execution_count": 34,
      "outputs": [
        {
          "output_type": "execute_result",
          "data": {
            "text/plain": [
              "[95, 90, 87, 80, 70]"
            ]
          },
          "metadata": {
            "tags": []
          },
          "execution_count": 34
        }
      ]
    },
    {
      "cell_type": "code",
      "metadata": {
        "id": "R9A0wsaF3_sE",
        "colab_type": "code",
        "colab": {
          "base_uri": "https://localhost:8080/",
          "height": 139
        },
        "outputId": "a289e3ed-4cc7-4bb0-b0d4-980d6f1fc07c"
      },
      "source": [
        "##input\n",
        "import numpy as np\n",
        "users = ['Cat','Dog','Camel','Donkey','Cow','Squirrel','Rabbit']\n",
        "marks = [80,90,78,100,24,67,99,56]\n",
        "#sortedMarks = np.sort(marks)\n",
        "sortIndex = np.argsort(marks)\n",
        "#print(sortedMarks[-1:1:-1])\n",
        "print(sortIndex[-1:1:-1])\n",
        "for indx in sortIndex[-1:1:-1]:\n",
        "    print(users[indx]+\":\"+str(marks[indx]))"
      ],
      "execution_count": 35,
      "outputs": [
        {
          "output_type": "stream",
          "text": [
            "[3 6 1 0 2 5]\n",
            "Donkey:100\n",
            "Rabbit:99\n",
            "Dog:90\n",
            "Cat:80\n",
            "Camel:78\n",
            "Squirrel:67\n"
          ],
          "name": "stdout"
        }
      ]
    },
    {
      "cell_type": "markdown",
      "metadata": {
        "id": "wGMakhn04Iax",
        "colab_type": "text"
      },
      "source": [
        "from Ashutosh to everyone:\n",
        "@662942 - what does sortIndex = np.argsort(marks) doing ?\n",
        "from 662942 to everyone:\n",
        "it will give the index of the array for sorted elements.\n",
        "instead the values them selves"
      ]
    },
    {
      "cell_type": "code",
      "metadata": {
        "id": "ht_G2lCS4JTm",
        "colab_type": "code",
        "colab": {
          "base_uri": "https://localhost:8080/",
          "height": 52
        },
        "outputId": "685cbaeb-88d8-4997-fc45-51c64ce8007f"
      },
      "source": [
        "##input\n",
        "nums = [10, 20, 30, 40, 50, 60, 70, 80, 90]\n",
        "all_but_two_last = slice(None, -2)\n",
        "print(nums[all_but_two_last])\n",
        "#[10, 20, 30, 40, 50, 60, 70]\n",
        "reversed = slice(None, None, -1)\n",
        "nums[reversed]\n",
        "#[90, 80, 70, 60, 50, 40, 30, 20, 10]"
      ],
      "execution_count": 36,
      "outputs": [
        {
          "output_type": "stream",
          "text": [
            "[10, 20, 30, 40, 50, 60, 70]\n"
          ],
          "name": "stdout"
        },
        {
          "output_type": "execute_result",
          "data": {
            "text/plain": [
              "[90, 80, 70, 60, 50, 40, 30, 20, 10]"
            ]
          },
          "metadata": {
            "tags": []
          },
          "execution_count": 36
        }
      ]
    },
    {
      "cell_type": "code",
      "metadata": {
        "id": "-Gh9JVd04gxl",
        "colab_type": "code",
        "colab": {
          "base_uri": "https://localhost:8080/",
          "height": 35
        },
        "outputId": "9b60fc84-7ee3-450f-c296-28197b58a414"
      },
      "source": [
        "##input\n",
        "nums = [10, 20, 30, 40, 50, 60, 70, 80, 90]\n",
        "nums[:4] = [1,2,3,4]\n",
        "nums\n",
        "#[1, 2, 3, 4, 50, 60, 70, 80, 90]"
      ],
      "execution_count": 37,
      "outputs": [
        {
          "output_type": "execute_result",
          "data": {
            "text/plain": [
              "[1, 2, 3, 4, 50, 60, 70, 80, 90]"
            ]
          },
          "metadata": {
            "tags": []
          },
          "execution_count": 37
        }
      ]
    },
    {
      "cell_type": "code",
      "metadata": {
        "id": "5-5W3TwN52XV",
        "colab_type": "code",
        "colab": {
          "base_uri": "https://localhost:8080/",
          "height": 35
        },
        "outputId": "db42e4d8-23cf-42c4-e6b3-3d24ce493caa"
      },
      "source": [
        "##input\n",
        "##input\n",
        "nums = [10, 20, 30, 40, 50, 60, 70, 80, 90]\n",
        "nums[::1] = [1,1,1,1]\n",
        "nums\n",
        "#[1, 2, 3, 4, 50, 60, 70, 80, 90]"
      ],
      "execution_count": 40,
      "outputs": [
        {
          "output_type": "execute_result",
          "data": {
            "text/plain": [
              "[1, 1, 1, 1]"
            ]
          },
          "metadata": {
            "tags": []
          },
          "execution_count": 40
        }
      ]
    },
    {
      "cell_type": "code",
      "metadata": {
        "id": "q27QY1o-7VK2",
        "colab_type": "code",
        "colab": {
          "base_uri": "https://localhost:8080/",
          "height": 235
        },
        "outputId": "d7181414-f349-4abd-8559-cc97957fd976"
      },
      "source": [
        "##input\n",
        "##input\n",
        "nums = [10, 20, 30, 40, 50, 60, 70, 80, 90]\n",
        "nums[::2] = [1,1,1,1]\n",
        "nums\n",
        "#[1, 2, 3, 4, 50, 60, 70, 80, 90]"
      ],
      "execution_count": 41,
      "outputs": [
        {
          "output_type": "error",
          "ename": "ValueError",
          "evalue": "ignored",
          "traceback": [
            "\u001b[0;31m---------------------------------------------------------------------------\u001b[0m",
            "\u001b[0;31mValueError\u001b[0m                                Traceback (most recent call last)",
            "\u001b[0;32m<ipython-input-41-c514397b86f0>\u001b[0m in \u001b[0;36m<module>\u001b[0;34m()\u001b[0m\n\u001b[1;32m      2\u001b[0m \u001b[0;31m##input\u001b[0m\u001b[0;34m\u001b[0m\u001b[0;34m\u001b[0m\u001b[0;34m\u001b[0m\u001b[0m\n\u001b[1;32m      3\u001b[0m \u001b[0mnums\u001b[0m \u001b[0;34m=\u001b[0m \u001b[0;34m[\u001b[0m\u001b[0;36m10\u001b[0m\u001b[0;34m,\u001b[0m \u001b[0;36m20\u001b[0m\u001b[0;34m,\u001b[0m \u001b[0;36m30\u001b[0m\u001b[0;34m,\u001b[0m \u001b[0;36m40\u001b[0m\u001b[0;34m,\u001b[0m \u001b[0;36m50\u001b[0m\u001b[0;34m,\u001b[0m \u001b[0;36m60\u001b[0m\u001b[0;34m,\u001b[0m \u001b[0;36m70\u001b[0m\u001b[0;34m,\u001b[0m \u001b[0;36m80\u001b[0m\u001b[0;34m,\u001b[0m \u001b[0;36m90\u001b[0m\u001b[0;34m]\u001b[0m\u001b[0;34m\u001b[0m\u001b[0;34m\u001b[0m\u001b[0m\n\u001b[0;32m----> 4\u001b[0;31m \u001b[0mnums\u001b[0m\u001b[0;34m[\u001b[0m\u001b[0;34m:\u001b[0m\u001b[0;34m:\u001b[0m\u001b[0;36m2\u001b[0m\u001b[0;34m]\u001b[0m \u001b[0;34m=\u001b[0m \u001b[0;34m[\u001b[0m\u001b[0;36m1\u001b[0m\u001b[0;34m,\u001b[0m\u001b[0;36m1\u001b[0m\u001b[0;34m,\u001b[0m\u001b[0;36m1\u001b[0m\u001b[0;34m,\u001b[0m\u001b[0;36m1\u001b[0m\u001b[0;34m]\u001b[0m\u001b[0;34m\u001b[0m\u001b[0;34m\u001b[0m\u001b[0m\n\u001b[0m\u001b[1;32m      5\u001b[0m \u001b[0mnums\u001b[0m\u001b[0;34m\u001b[0m\u001b[0;34m\u001b[0m\u001b[0m\n\u001b[1;32m      6\u001b[0m \u001b[0;31m#[1, 2, 3, 4, 50, 60, 70, 80, 90]\u001b[0m\u001b[0;34m\u001b[0m\u001b[0;34m\u001b[0m\u001b[0;34m\u001b[0m\u001b[0m\n",
            "\u001b[0;31mValueError\u001b[0m: attempt to assign sequence of size 4 to extended slice of size 5"
          ]
        }
      ]
    },
    {
      "cell_type": "code",
      "metadata": {
        "id": "EfiOKCQL7hBa",
        "colab_type": "code",
        "colab": {
          "base_uri": "https://localhost:8080/",
          "height": 35
        },
        "outputId": "30653a87-f452-446b-8924-701b8084f768"
      },
      "source": [
        "##input\n",
        "nums = [10, 20, 30, 40, 50, 60, 70, 80, 90]\n",
        "del nums[3:7]\n",
        "nums"
      ],
      "execution_count": 42,
      "outputs": [
        {
          "output_type": "execute_result",
          "data": {
            "text/plain": [
              "[10, 20, 30, 80, 90]"
            ]
          },
          "metadata": {
            "tags": []
          },
          "execution_count": 42
        }
      ]
    },
    {
      "cell_type": "code",
      "metadata": {
        "id": "b6AuKHrI7n8h",
        "colab_type": "code",
        "colab": {
          "base_uri": "https://localhost:8080/",
          "height": 35
        },
        "outputId": "cb289699-39b0-4b79-d9f0-758766327f6c"
      },
      "source": [
        "##input\n",
        "nums = [10, 20, 30, 40, 50, 60, 70, 80, 90]\n",
        "del nums[::2]\n",
        "nums"
      ],
      "execution_count": 43,
      "outputs": [
        {
          "output_type": "execute_result",
          "data": {
            "text/plain": [
              "[20, 40, 60, 80]"
            ]
          },
          "metadata": {
            "tags": []
          },
          "execution_count": 43
        }
      ]
    },
    {
      "cell_type": "markdown",
      "metadata": {
        "id": "EjEQZ2XV8A67",
        "colab_type": "text"
      },
      "source": [
        "in use of pandas---for data frames also used"
      ]
    },
    {
      "cell_type": "code",
      "metadata": {
        "id": "MYOJvUlo8FIA",
        "colab_type": "code",
        "colab": {
          "base_uri": "https://localhost:8080/",
          "height": 156
        },
        "outputId": "a592c4fe-2b0e-495f-b4f0-b27793312f9d"
      },
      "source": [
        "##input\n",
        "import pandas as pd\n",
        "\n",
        "df = pd.DataFrame()\n",
        "\n",
        "names = ['Gandolf','Gimli','Frodo','Legolas','Bilbo']\n",
        "types = ['Wizard','Dwarf','Hobbit','Elf','Hobbit']\n",
        "magic = [10, 1, 4, 6, 4]\n",
        "aggression = [7, 10, 2, 5, 1]\n",
        "stealth = [8, 2, 5, 10, 5]\n",
        "\n",
        "\n",
        "df['names'] = names\n",
        "df['type'] = types\n",
        "df['magic_power'] = magic\n",
        "df['aggression'] = aggression\n",
        "df['stealth'] = stealth\n",
        "#print(df)\n",
        "df2 = df['aggression'] > 2\n",
        "print(df[df2])\n",
        "\n",
        "mask = (df['magic_power'] > 3) & (df['aggression'] < 5)\n",
        "print ('Mask:')\n",
        "#print (mask) # notice mask is a 'series'; a one dimensial DataFrame\n",
        "# when passing a Boolean series to a dataframe we select the appropriate rows\n",
        "filtered_data = df[mask] \n",
        "print (filtered_data)"
      ],
      "execution_count": 44,
      "outputs": [
        {
          "output_type": "stream",
          "text": [
            "     names    type  magic_power  aggression  stealth\n",
            "0  Gandolf  Wizard           10           7        8\n",
            "1    Gimli   Dwarf            1          10        2\n",
            "3  Legolas     Elf            6           5       10\n",
            "Mask:\n",
            "   names    type  magic_power  aggression  stealth\n",
            "2  Frodo  Hobbit            4           2        5\n",
            "4  Bilbo  Hobbit            4           1        5\n"
          ],
          "name": "stdout"
        }
      ]
    }
  ]
}