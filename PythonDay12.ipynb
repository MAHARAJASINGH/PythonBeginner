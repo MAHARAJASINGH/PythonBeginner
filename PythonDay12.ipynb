{
  "nbformat": 4,
  "nbformat_minor": 0,
  "metadata": {
    "colab": {
      "name": "PythonDay12.ipynb",
      "provenance": [],
      "collapsed_sections": [],
      "authorship_tag": "ABX9TyND4lQVph2cTbsSTm2sxq23",
      "include_colab_link": true
    },
    "kernelspec": {
      "name": "python3",
      "display_name": "Python 3"
    }
  },
  "cells": [
    {
      "cell_type": "markdown",
      "metadata": {
        "id": "view-in-github",
        "colab_type": "text"
      },
      "source": [
        "<a href=\"https://colab.research.google.com/github/MAHARAJASINGH/PythonBeginner/blob/master/PythonDay12.ipynb\" target=\"_parent\"><img src=\"https://colab.research.google.com/assets/colab-badge.svg\" alt=\"Open In Colab\"/></a>"
      ]
    },
    {
      "cell_type": "code",
      "metadata": {
        "id": "32dZ-xNozb_H",
        "colab_type": "code",
        "colab": {
          "base_uri": "https://localhost:8080/",
          "height": 243
        },
        "outputId": "fa62526d-13dd-45df-f8e1-5b33d54092e0"
      },
      "source": [
        "##learn apply function in dataframe\n",
        "##input\n",
        "##df.describe\n",
        "##df.info can also used or summary will give also the metadata information\n",
        "import pandas as pd\n",
        "import numpy as np\n",
        "d = {\n",
        "   'Age':pd.Series([25,26,25,23,30,29,23,34,40,30,51,46]),\n",
        "   'Rating':pd.Series([4.23,3.24,3.98,2.56,3.20,4.6,3.8,3.78,2.98,4.80,4.10,3.65])\n",
        "}\n",
        "#print(d)\n",
        "df = pd.DataFrame(d)\n",
        "print(df)\n",
        "#print(df.apply(np.mean,axis=1))\n",
        "#print(df.apply(np.mean,axis=0))\n",
        "#print(df.apply(np.mean))"
      ],
      "execution_count": 8,
      "outputs": [
        {
          "output_type": "stream",
          "text": [
            "0     14.615\n",
            "1     14.620\n",
            "2     14.490\n",
            "3     12.780\n",
            "4     16.600\n",
            "5     16.800\n",
            "6     13.400\n",
            "7     18.890\n",
            "8     21.490\n",
            "9     17.400\n",
            "10    27.550\n",
            "11    24.825\n",
            "dtype: float64\n"
          ],
          "name": "stdout"
        }
      ]
    },
    {
      "cell_type": "code",
      "metadata": {
        "id": "lnWXq1gm0OW2",
        "colab_type": "code",
        "colab": {
          "base_uri": "https://localhost:8080/",
          "height": 225
        },
        "outputId": "ffdfb676-e209-4da7-bfdb-a5f694fa5f0c"
      },
      "source": [
        "##describe info\n",
        "import pandas as pd\n",
        "import numpy as np\n",
        "exam_data  = {'name': ['Anastasia', 'Dima', 'Katherine', 'James', 'Emily', 'Michael', 'Matthew', 'Laura', 'Kevin', 'Jonas'],\n",
        "        'score': [12.5, 9, 16.5, np.nan, 9, 20, 14.5, np.nan, 8, 19],\n",
        "        'attempts': [1, 3, 2, 3, 2, 3, 1, 1, 2, 1],\n",
        "        'qualify': ['yes', 'no', 'yes', 'no', 'no', 'yes', 'yes', 'no', 'no', 'yes']}\n",
        "labels = ['a', 'b', 'c', 'd', 'e', 'f', 'g', 'h', 'i', 'j']\n",
        "df = pd.DataFrame(exam_data , index=labels)\n",
        "#print(df)\n",
        "#print(\"Summary of the basic information about this DataFrame and its data:\")\n",
        "#print(df.info())"
      ],
      "execution_count": 5,
      "outputs": [
        {
          "output_type": "stream",
          "text": [
            "<class 'pandas.core.frame.DataFrame'>\n",
            "Index: 10 entries, a to j\n",
            "Data columns (total 4 columns):\n",
            " #   Column    Non-Null Count  Dtype  \n",
            "---  ------    --------------  -----  \n",
            " 0   name      10 non-null     object \n",
            " 1   score     8 non-null      float64\n",
            " 2   attempts  10 non-null     int64  \n",
            " 3   qualify   10 non-null     object \n",
            "dtypes: float64(1), int64(1), object(2)\n",
            "memory usage: 400.0+ bytes\n",
            "None\n"
          ],
          "name": "stdout"
        }
      ]
    },
    {
      "cell_type": "code",
      "metadata": {
        "id": "N_mbTaFL42sv",
        "colab_type": "code",
        "colab": {
          "base_uri": "https://localhost:8080/",
          "height": 295
        },
        "outputId": "995aec1e-5308-4ca0-cf15-7afce19b392e"
      },
      "source": [
        "##input\n",
        "import pandas as pd\n",
        "s = pd.Series(pd.date_range('2012-1-1', periods=3, freq='D'))\n",
        "print(s)\n",
        "td = pd.Series([ pd.Timedelta(days=i) for i in range(3) ])\n",
        "##timedelta we use here so that date adjustment can be done with it\n",
        "##0,1,2 days\n",
        "df = pd.DataFrame(dict(A = s, B = td))\n",
        "print(df['B'])\n",
        "print(df)\n",
        "df['C']=df['A']+df['B']\n",
        "df['D']=df['C']+df['B']\n",
        "df['S']=df['A']-df['B']\n",
        "print(df)\n",
        "##interesting fact.. if you use 2 plots one after the other it overlaps on the graph.. \n",
        "##the outliers will be displayed as a dot\n",
        "#say you have one value as 2.8 in this data set in one of the columns it will be shown as a dot"
      ],
      "execution_count": 8,
      "outputs": [
        {
          "output_type": "stream",
          "text": [
            "0   2012-01-01\n",
            "1   2012-01-02\n",
            "2   2012-01-03\n",
            "dtype: datetime64[ns]\n",
            "0   0 days\n",
            "1   1 days\n",
            "2   2 days\n",
            "Name: B, dtype: timedelta64[ns]\n",
            "           A      B\n",
            "0 2012-01-01 0 days\n",
            "1 2012-01-02 1 days\n",
            "2 2012-01-03 2 days\n",
            "           A      B          C          D          S\n",
            "0 2012-01-01 0 days 2012-01-01 2012-01-01 2012-01-01\n",
            "1 2012-01-02 1 days 2012-01-03 2012-01-04 2012-01-01\n",
            "2 2012-01-03 2 days 2012-01-05 2012-01-07 2012-01-01\n"
          ],
          "name": "stdout"
        }
      ]
    },
    {
      "cell_type": "code",
      "metadata": {
        "id": "o_v5BTJU0-e-",
        "colab_type": "code",
        "colab": {
          "base_uri": "https://localhost:8080/",
          "height": 258
        },
        "outputId": "66b7aadd-edf6-4cfa-f1ad-7c03ec6dc565"
      },
      "source": [
        "##input\n",
        "##default index is 0,1,2,3 -->in the dataframes\n",
        "df_ = pd.DataFrame({'x': [2, 4, np.nan, 8]})\n",
        "print(df_)\n",
        "#print(df_.mean())\n",
        "#print(df_.mean(skipna=True))\n",
        "df_.fillna(value=0)\n",
        "#df_.interpolate()###currently it is analysin by itself\n",
        "#df_.dropna()"
      ],
      "execution_count": 13,
      "outputs": [
        {
          "output_type": "stream",
          "text": [
            "     x\n",
            "0  2.0\n",
            "1  4.0\n",
            "2  NaN\n",
            "3  8.0\n"
          ],
          "name": "stdout"
        },
        {
          "output_type": "execute_result",
          "data": {
            "text/html": [
              "<div>\n",
              "<style scoped>\n",
              "    .dataframe tbody tr th:only-of-type {\n",
              "        vertical-align: middle;\n",
              "    }\n",
              "\n",
              "    .dataframe tbody tr th {\n",
              "        vertical-align: top;\n",
              "    }\n",
              "\n",
              "    .dataframe thead th {\n",
              "        text-align: right;\n",
              "    }\n",
              "</style>\n",
              "<table border=\"1\" class=\"dataframe\">\n",
              "  <thead>\n",
              "    <tr style=\"text-align: right;\">\n",
              "      <th></th>\n",
              "      <th>x</th>\n",
              "    </tr>\n",
              "  </thead>\n",
              "  <tbody>\n",
              "    <tr>\n",
              "      <th>0</th>\n",
              "      <td>2.0</td>\n",
              "    </tr>\n",
              "    <tr>\n",
              "      <th>1</th>\n",
              "      <td>4.0</td>\n",
              "    </tr>\n",
              "    <tr>\n",
              "      <th>2</th>\n",
              "      <td>6.0</td>\n",
              "    </tr>\n",
              "    <tr>\n",
              "      <th>3</th>\n",
              "      <td>8.0</td>\n",
              "    </tr>\n",
              "  </tbody>\n",
              "</table>\n",
              "</div>"
            ],
            "text/plain": [
              "     x\n",
              "0  2.0\n",
              "1  4.0\n",
              "2  6.0\n",
              "3  8.0"
            ]
          },
          "metadata": {
            "tags": []
          },
          "execution_count": 13
        }
      ]
    },
    {
      "cell_type": "markdown",
      "metadata": {
        "id": "j55ga1rL2SId",
        "colab_type": "text"
      },
      "source": [
        "interpolate by default uses ‘linear’ which Ignore the index and treat the values as equally spaced. This is the only method supported on MultiIndexes."
      ]
    },
    {
      "cell_type": "code",
      "metadata": {
        "id": "n3TantUK2Ug1",
        "colab_type": "code",
        "colab": {
          "base_uri": "https://localhost:8080/",
          "height": 173
        },
        "outputId": "67eb158e-fd36-4e50-bc8e-5e999aea8a52"
      },
      "source": [
        "##URL Scrapping\n",
        "import requests##what this is doing..?\n",
        "import numpy as np \n",
        "import pandas as pd \n",
        "import re##what this is doing..?\n",
        "import nltk ##what this is doing...?\n",
        "import matplotlib.pyplot as plt\n",
        "download_url = \"https://raw.githubusercontent.com/fivethirtyeight/data/master/nba-elo/nbaallelo.csv\"\n",
        "target_csv_path = \"nba_all_elo.csv\"\n",
        "response = requests.get(download_url)\n",
        "response.raise_for_status()    # Check that the request was successful\n",
        "with open(target_csv_path, \"wb\") as f:\n",
        "    f.write(response.content)\n",
        "print(\"Download ready.\")\n",
        "test = pd.read_csv(download_url)\n",
        "print(test.head())\n",
        "test.plot(kind='bar')"
      ],
      "execution_count": null,
      "outputs": [
        {
          "output_type": "stream",
          "text": [
            "Download ready.\n",
            "   gameorder       game_id lg_id  ...  game_result  forecast notes\n",
            "0          1  194611010TRH   NBA  ...            L  0.640065   NaN\n",
            "1          1  194611010TRH   NBA  ...            W  0.359935   NaN\n",
            "2          2  194611020CHS   NBA  ...            W  0.631101   NaN\n",
            "3          2  194611020CHS   NBA  ...            L  0.368899   NaN\n",
            "4          3  194611020DTF   NBA  ...            L  0.640065   NaN\n",
            "\n",
            "[5 rows x 23 columns]\n"
          ],
          "name": "stdout"
        }
      ]
    },
    {
      "cell_type": "code",
      "metadata": {
        "id": "ghDJooDL21VG",
        "colab_type": "code",
        "colab": {}
      },
      "source": [
        "##"
      ],
      "execution_count": null,
      "outputs": []
    },
    {
      "cell_type": "code",
      "metadata": {
        "id": "vlP2FaEH21x8",
        "colab_type": "code",
        "colab": {}
      },
      "source": [
        "##date range datasets\n",
        "#yearly report\n",
        "s = pd.Series(pd.date_range('2012-1-1', periods=3, freq='M'))\n",
        "print(s)\n",
        "td = pd.Series([ pd.Timedelta(days=i) for i in range(3) ])\n",
        "print(td)\n",
        "df = pd.DataFrame(dict(A = s, B = td))\n",
        "print(df)"
      ],
      "execution_count": null,
      "outputs": []
    },
    {
      "cell_type": "markdown",
      "metadata": {
        "id": "zZhGcD7u3sWz",
        "colab_type": "text"
      },
      "source": [
        "##pd.timedelta is used for adjusting the time and the date"
      ]
    },
    {
      "cell_type": "code",
      "metadata": {
        "id": "FSTTbal73Aug",
        "colab_type": "code",
        "colab": {}
      },
      "source": [
        "#input\n",
        "#Live Demo \n",
        "import pandas as pd\n",
        "s = pd.Series(pd.date_range('2012-1-1', periods=3, freq='Y'))\n",
        "print(s)\n",
        "td = pd.Series([ pd.Timedelta(days=i) for i in range(3) ])\n",
        "print(td)\n",
        "df = pd.DataFrame(dict(A = s, B = td))\n",
        "print(df)"
      ],
      "execution_count": null,
      "outputs": []
    },
    {
      "cell_type": "code",
      "metadata": {
        "id": "HUgBXrJ630K_",
        "colab_type": "code",
        "colab": {}
      },
      "source": [
        "##input\n",
        "import pandas as pd\n",
        "s = pd.Series(pd.date_range('2012-1-1', periods=3, freq='D'))\n",
        "print(s)\n",
        "td = pd.Series([ pd.Timedelta(days=i) for i in (10,20,30) ])\n",
        "print(td)\n",
        "df = pd.DataFrame(dict(A = s, B = td))\n",
        "df['C']=df['A']+df['B']\n",
        "print(df)"
      ],
      "execution_count": null,
      "outputs": []
    },
    {
      "cell_type": "code",
      "metadata": {
        "id": "u893I-Cq5pQ6",
        "colab_type": "code",
        "colab": {
          "base_uri": "https://localhost:8080/",
          "height": 1000
        },
        "outputId": "114f7548-8123-43cc-f853-3cd066d2429e"
      },
      "source": [
        "##input\n",
        "import pandas as pd\n",
        "url = \"https://raw.githubusercontent.com/kolaveridi/kaggle-Twitter-US-Airline-Sentiment-/master/Tweets.csv\"\n",
        "tips=pd.read_csv(url)\n",
        "print(tips.info())\n",
        "print(tips.head())\n",
        "print(tips['tweet_id'])\n",
        "print(tips.shape)\n",
        "tips.describe()"
      ],
      "execution_count": 6,
      "outputs": [
        {
          "output_type": "stream",
          "text": [
            "<class 'pandas.core.frame.DataFrame'>\n",
            "RangeIndex: 14640 entries, 0 to 14639\n",
            "Data columns (total 15 columns):\n",
            " #   Column                        Non-Null Count  Dtype  \n",
            "---  ------                        --------------  -----  \n",
            " 0   tweet_id                      14640 non-null  int64  \n",
            " 1   airline_sentiment             14640 non-null  object \n",
            " 2   airline_sentiment_confidence  14640 non-null  float64\n",
            " 3   negativereason                9178 non-null   object \n",
            " 4   negativereason_confidence     10522 non-null  float64\n",
            " 5   airline                       14640 non-null  object \n",
            " 6   airline_sentiment_gold        40 non-null     object \n",
            " 7   name                          14640 non-null  object \n",
            " 8   negativereason_gold           32 non-null     object \n",
            " 9   retweet_count                 14640 non-null  int64  \n",
            " 10  text                          14640 non-null  object \n",
            " 11  tweet_coord                   1019 non-null   object \n",
            " 12  tweet_created                 14640 non-null  object \n",
            " 13  tweet_location                9907 non-null   object \n",
            " 14  user_timezone                 9820 non-null   object \n",
            "dtypes: float64(2), int64(2), object(11)\n",
            "memory usage: 1.7+ MB\n",
            "None\n",
            "             tweet_id  ...               user_timezone\n",
            "0  570306133677760513  ...  Eastern Time (US & Canada)\n",
            "1  570301130888122368  ...  Pacific Time (US & Canada)\n",
            "2  570301083672813571  ...  Central Time (US & Canada)\n",
            "3  570301031407624196  ...  Pacific Time (US & Canada)\n",
            "4  570300817074462722  ...  Pacific Time (US & Canada)\n",
            "\n",
            "[5 rows x 15 columns]\n",
            "0        570306133677760513\n",
            "1        570301130888122368\n",
            "2        570301083672813571\n",
            "3        570301031407624196\n",
            "4        570300817074462722\n",
            "                ...        \n",
            "14635    569587686496825344\n",
            "14636    569587371693355008\n",
            "14637    569587242672398336\n",
            "14638    569587188687634433\n",
            "14639    569587140490866689\n",
            "Name: tweet_id, Length: 14640, dtype: int64\n",
            "(14640, 15)\n"
          ],
          "name": "stdout"
        },
        {
          "output_type": "execute_result",
          "data": {
            "text/html": [
              "<div>\n",
              "<style scoped>\n",
              "    .dataframe tbody tr th:only-of-type {\n",
              "        vertical-align: middle;\n",
              "    }\n",
              "\n",
              "    .dataframe tbody tr th {\n",
              "        vertical-align: top;\n",
              "    }\n",
              "\n",
              "    .dataframe thead th {\n",
              "        text-align: right;\n",
              "    }\n",
              "</style>\n",
              "<table border=\"1\" class=\"dataframe\">\n",
              "  <thead>\n",
              "    <tr style=\"text-align: right;\">\n",
              "      <th></th>\n",
              "      <th>tweet_id</th>\n",
              "      <th>airline_sentiment_confidence</th>\n",
              "      <th>negativereason_confidence</th>\n",
              "      <th>retweet_count</th>\n",
              "    </tr>\n",
              "  </thead>\n",
              "  <tbody>\n",
              "    <tr>\n",
              "      <th>count</th>\n",
              "      <td>1.464000e+04</td>\n",
              "      <td>14640.000000</td>\n",
              "      <td>10522.000000</td>\n",
              "      <td>14640.000000</td>\n",
              "    </tr>\n",
              "    <tr>\n",
              "      <th>mean</th>\n",
              "      <td>5.692184e+17</td>\n",
              "      <td>0.900169</td>\n",
              "      <td>0.638298</td>\n",
              "      <td>0.082650</td>\n",
              "    </tr>\n",
              "    <tr>\n",
              "      <th>std</th>\n",
              "      <td>7.791112e+14</td>\n",
              "      <td>0.162830</td>\n",
              "      <td>0.330440</td>\n",
              "      <td>0.745778</td>\n",
              "    </tr>\n",
              "    <tr>\n",
              "      <th>min</th>\n",
              "      <td>5.675883e+17</td>\n",
              "      <td>0.335000</td>\n",
              "      <td>0.000000</td>\n",
              "      <td>0.000000</td>\n",
              "    </tr>\n",
              "    <tr>\n",
              "      <th>25%</th>\n",
              "      <td>5.685592e+17</td>\n",
              "      <td>0.692300</td>\n",
              "      <td>0.360600</td>\n",
              "      <td>0.000000</td>\n",
              "    </tr>\n",
              "    <tr>\n",
              "      <th>50%</th>\n",
              "      <td>5.694779e+17</td>\n",
              "      <td>1.000000</td>\n",
              "      <td>0.670600</td>\n",
              "      <td>0.000000</td>\n",
              "    </tr>\n",
              "    <tr>\n",
              "      <th>75%</th>\n",
              "      <td>5.698905e+17</td>\n",
              "      <td>1.000000</td>\n",
              "      <td>1.000000</td>\n",
              "      <td>0.000000</td>\n",
              "    </tr>\n",
              "    <tr>\n",
              "      <th>max</th>\n",
              "      <td>5.703106e+17</td>\n",
              "      <td>1.000000</td>\n",
              "      <td>1.000000</td>\n",
              "      <td>44.000000</td>\n",
              "    </tr>\n",
              "  </tbody>\n",
              "</table>\n",
              "</div>"
            ],
            "text/plain": [
              "           tweet_id  ...  retweet_count\n",
              "count  1.464000e+04  ...   14640.000000\n",
              "mean   5.692184e+17  ...       0.082650\n",
              "std    7.791112e+14  ...       0.745778\n",
              "min    5.675883e+17  ...       0.000000\n",
              "25%    5.685592e+17  ...       0.000000\n",
              "50%    5.694779e+17  ...       0.000000\n",
              "75%    5.698905e+17  ...       0.000000\n",
              "max    5.703106e+17  ...      44.000000\n",
              "\n",
              "[8 rows x 4 columns]"
            ]
          },
          "metadata": {
            "tags": []
          },
          "execution_count": 6
        }
      ]
    },
    {
      "cell_type": "code",
      "metadata": {
        "id": "dbLEARLj7ehu",
        "colab_type": "code",
        "colab": {
          "base_uri": "https://localhost:8080/",
          "height": 639
        },
        "outputId": "85448d17-e433-4064-ef75-a739586a1ec5"
      },
      "source": [
        "##map plot in python\n",
        "##input\n",
        "# plotting graphs for your data\n",
        "##mathematically plot \n",
        "import matplotlib.pyplot as plt\n",
        "import pandas as pd\n",
        "df = pd.DataFrame(np.random.randn(10,4),columns=['col1','col2','col3','col4'])\n",
        "print(df)\n",
        "plt.hist(df)\n",
        "plt.pairplot(df)"
      ],
      "execution_count": 18,
      "outputs": [
        {
          "output_type": "stream",
          "text": [
            "       col1      col2      col3      col4\n",
            "0  0.357920 -1.414548 -1.340231 -0.250639\n",
            "1  0.290791  0.878009  1.458267  0.988455\n",
            "2 -0.657584  0.062638  0.665331 -1.206524\n",
            "3  0.305774  0.745417 -0.299042  0.538847\n",
            "4 -1.029244  0.979965 -1.940978  0.752889\n",
            "5 -1.527447 -0.042280  2.087098 -0.809169\n",
            "6  0.079953  1.388492 -0.850853  0.564265\n",
            "7 -0.971434  0.549873 -0.451265 -0.126072\n",
            "8  1.234029 -0.045628  0.410581  0.128170\n",
            "9  1.807877 -0.384194  0.090318  0.410607\n"
          ],
          "name": "stdout"
        },
        {
          "output_type": "error",
          "ename": "AttributeError",
          "evalue": "ignored",
          "traceback": [
            "\u001b[0;31m---------------------------------------------------------------------------\u001b[0m",
            "\u001b[0;31mAttributeError\u001b[0m                            Traceback (most recent call last)",
            "\u001b[0;32m<ipython-input-18-553890c72ff0>\u001b[0m in \u001b[0;36m<module>\u001b[0;34m()\u001b[0m\n\u001b[1;32m      8\u001b[0m \u001b[0mprint\u001b[0m\u001b[0;34m(\u001b[0m\u001b[0mdf\u001b[0m\u001b[0;34m)\u001b[0m\u001b[0;34m\u001b[0m\u001b[0;34m\u001b[0m\u001b[0m\n\u001b[1;32m      9\u001b[0m \u001b[0mplt\u001b[0m\u001b[0;34m.\u001b[0m\u001b[0mhist\u001b[0m\u001b[0;34m(\u001b[0m\u001b[0mdf\u001b[0m\u001b[0;34m)\u001b[0m\u001b[0;34m\u001b[0m\u001b[0;34m\u001b[0m\u001b[0m\n\u001b[0;32m---> 10\u001b[0;31m \u001b[0mplt\u001b[0m\u001b[0;34m.\u001b[0m\u001b[0mpairplot\u001b[0m\u001b[0;34m(\u001b[0m\u001b[0mdf\u001b[0m\u001b[0;34m)\u001b[0m\u001b[0;34m\u001b[0m\u001b[0;34m\u001b[0m\u001b[0m\n\u001b[0m",
            "\u001b[0;31mAttributeError\u001b[0m: module 'matplotlib.pyplot' has no attribute 'pairplot'"
          ]
        },
        {
          "output_type": "display_data",
          "data": {
            "image/png": "[encoded data removed]",
            "text/plain": [
              "<Figure size 432x288 with 1 Axes>"
            ]
          },
          "metadata": {
            "tags": [],
            "needs_background": "light"
          }
        }
      ]
    },
    {
      "cell_type": "code",
      "metadata": {
        "id": "NvP10y9C99Y4",
        "colab_type": "code",
        "colab": {
          "base_uri": "https://localhost:8080/",
          "height": 456
        },
        "outputId": "3fcc9e06-a40e-4d95-ccc4-4a6a8a16dd11"
      },
      "source": [
        "##input\n",
        "import seaborn as sns\n",
        "import numpy as np\n",
        "import pandas as pd\n",
        "import matplotlib.pyplot as plt\n",
        "np.random.seed(1234)\n",
        "df = pd.DataFrame(np.random.randn(10, 4),\n",
        "                  columns=['Col1', 'Col2', 'Col3', 'Col4'])\n",
        "print(df)\n",
        "boxplot = df.boxplot(column=['Col1', 'Col2', 'Col3','Col4'])\n",
        "#plt.scatter(df['Col1'],df['Col2'])\n",
        "#plt.hist(df['Col3'])\n",
        "#sns.pairplot(df)"
      ],
      "execution_count": 20,
      "outputs": [
        {
          "output_type": "stream",
          "text": [
            "       Col1      Col2      Col3      Col4\n",
            "0  0.471435 -1.190976  1.432707 -0.312652\n",
            "1 -0.720589  0.887163  0.859588 -0.636524\n",
            "2  0.015696 -2.242685  1.150036  0.991946\n",
            "3  0.953324 -2.021255 -0.334077  0.002118\n",
            "4  0.405453  0.289092  1.321158 -1.546906\n",
            "5 -0.202646 -0.655969  0.193421  0.553439\n",
            "6  1.318152 -0.469305  0.675554 -1.817027\n",
            "7 -0.183109  1.058969 -0.397840  0.337438\n",
            "8  1.047579  1.045938  0.863717 -0.122092\n",
            "9  0.124713 -0.322795  0.841675  2.390961\n"
          ],
          "name": "stdout"
        },
        {
          "output_type": "display_data",
          "data": {
            "image/png": "[encoded data removed]",
            "text/plain": [
              "<Figure size 432x288 with 1 Axes>"
            ]
          },
          "metadata": {
            "tags": [],
            "needs_background": "light"
          }
        }
      ]
    },
    {
      "cell_type": "code",
      "metadata": {
        "id": "451eWoRd7qMo",
        "colab_type": "code",
        "colab": {}
      },
      "source": [
        "import matplotlib.pyplot as plt"
      ],
      "execution_count": 16,
      "outputs": []
    },
    {
      "cell_type": "code",
      "metadata": {
        "id": "O6Q6r3pj-fug",
        "colab_type": "code",
        "colab": {
          "base_uri": "https://localhost:8080/",
          "height": 283
        },
        "outputId": "aafd8d93-abce-4301-c966-92a09756ab58"
      },
      "source": [
        "import matplotlib.pyplot as plt\n",
        "from scipy.stats \n",
        "import skew\n",
        "\n",
        "x = [1,1,2,3,3,5,7,8,9,10,\n",
        "     10,11,11,13,13,15,16,17,18,18,\n",
        "     18,19,20,21,21,23,24,24,25,25,\n",
        "     25,25,26,26,26,27,27,27,27,27,\n",
        "     29,30,30,31,33,34,34,34,35,36,\n",
        "     36,37,37,38,38,39,40,41,41,42,\n",
        "     43,44,45,45,46,47,48,48,49,50,\n",
        "     51,52,53,54,55,55,56,57,58,60,\n",
        "     61,63,64,65,66,68,70,71,72,74,\n",
        "     75,77,81,83,84,87,89,90,90,91\n",
        "     ]\n",
        "ht = [10,20,30,40]\n",
        "wt = [50,60,70,80]\n",
        "plt.style.use('ggplot')\n",
        "#plt.hist(ht)\n",
        "#plt.hist(wt)\n",
        "#plt.hist(x, bins=10)\n",
        "plt.hist(x)\n",
        "plt.show()\n",
        "print(skew(x))"
      ],
      "execution_count": 22,
      "outputs": [
        {
          "output_type": "display_data",
          "data": {
            "image/png": "[encoded data removed]",
            "text/plain": [
              "<Figure size 432x288 with 1 Axes>"
            ]
          },
          "metadata": {
            "tags": []
          }
        },
        {
          "output_type": "stream",
          "text": [
            "0.4575278444409153\n"
          ],
          "name": "stdout"
        }
      ]
    },
    {
      "cell_type": "markdown",
      "metadata": {
        "id": "WwLYAm8n_NE0",
        "colab_type": "text"
      },
      "source": [
        "In statistics, skewness is a measure of the asymmetry of the probability distribution of a random variable about its mean. In other words, skewness tells you the amount and direction of skew (departure from horizontal symmetry). The skewness value can be positive or negative, or even undefined."
      ]
    },
    {
      "cell_type": "code",
      "metadata": {
        "id": "Ifc8Clhy_OqR",
        "colab_type": "code",
        "colab": {
          "base_uri": "https://localhost:8080/",
          "height": 265
        },
        "outputId": "a647b529-efd3-4c4a-cb7b-84c01b6b55b2"
      },
      "source": [
        "##input\n",
        "import numpy as np\n",
        "import matplotlib.mlab as mlab\n",
        "import matplotlib.pyplot as plt\n",
        "x = [21,22,23,4,5,6,77,8,9,10,31,32,33,34,35,36,37,18,49,50,100]\n",
        "num_bins = 5\n",
        "n, bins, patches = plt.hist(x, num_bins, facecolor='blue', alpha=0.5)\n",
        "plt.hist(x, facecolor='blue', alpha=0.5)\n",
        "plt.show()"
      ],
      "execution_count": 23,
      "outputs": [
        {
          "output_type": "display_data",
          "data": {
            "image/png": "[encoded data removed]",
            "text/plain": [
              "<Figure size 432x288 with 1 Axes>"
            ]
          },
          "metadata": {
            "tags": []
          }
        }
      ]
    }
  ]
}