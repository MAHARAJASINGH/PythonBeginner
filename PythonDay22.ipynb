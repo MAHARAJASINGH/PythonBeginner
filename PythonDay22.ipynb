{
  "nbformat": 4,
  "nbformat_minor": 0,
  "metadata": {
    "colab": {
      "name": "PythonDay22.ipynb",
      "provenance": [],
      "authorship_tag": "ABX9TyOdWLtTfb8QiAyEvEH/IH5s",
      "include_colab_link": true
    },
    "kernelspec": {
      "name": "python3",
      "display_name": "Python 3"
    }
  },
  "cells": [
    {
      "cell_type": "markdown",
      "metadata": {
        "id": "view-in-github",
        "colab_type": "text"
      },
      "source": [
        "<a href=\"https://colab.research.google.com/github/MAHARAJASINGH/PythonBeginner/blob/master/PythonDay22.ipynb\" target=\"_parent\"><img src=\"https://colab.research.google.com/assets/colab-badge.svg\" alt=\"Open In Colab\"/></a>"
      ]
    },
    {
      "cell_type": "code",
      "metadata": {
        "id": "uqpWdroC1ysH",
        "colab_type": "code",
        "colab": {
          "base_uri": "https://localhost:8080/",
          "height": 331
        },
        "outputId": "df9a31d1-80c4-4bc9-820d-aaf9d5027796"
      },
      "source": [
        "##input\n",
        "##crosstab example\n",
        "import pandas as pd\n",
        "df = pd.DataFrame({'Sex': ['M', 'M', 'F', 'M', 'F', 'F', 'M', 'M', 'F', 'F'], \n",
        "               'Age': [20, 19, 17, 35, 22, 22, 12, 15, 17, 22],\n",
        "               'Heart Disease': ['Y', 'N', 'Y', 'N', 'N', 'Y', 'N', 'Y', 'N', 'Y']})\n",
        "print (df)\n",
        "pd.crosstab(df['Sex'], df['Heart Disease'])\n",
        "#pd.crosstab(df[\"Sex\"],df['Heart Disease']).apply(lambda r: r/len(df), axis=1)"
      ],
      "execution_count": 9,
      "outputs": [
        {
          "output_type": "stream",
          "text": [
            "  Sex  Age Heart Disease\n",
            "0   M   20             Y\n",
            "1   M   19             N\n",
            "2   F   17             Y\n",
            "3   M   35             N\n",
            "4   F   22             N\n",
            "5   F   22             Y\n",
            "6   M   12             N\n",
            "7   M   15             Y\n",
            "8   F   17             N\n",
            "9   F   22             Y\n"
          ],
          "name": "stdout"
        },
        {
          "output_type": "execute_result",
          "data": {
            "text/html": [
              "<div>\n",
              "<style scoped>\n",
              "    .dataframe tbody tr th:only-of-type {\n",
              "        vertical-align: middle;\n",
              "    }\n",
              "\n",
              "    .dataframe tbody tr th {\n",
              "        vertical-align: top;\n",
              "    }\n",
              "\n",
              "    .dataframe thead th {\n",
              "        text-align: right;\n",
              "    }\n",
              "</style>\n",
              "<table border=\"1\" class=\"dataframe\">\n",
              "  <thead>\n",
              "    <tr style=\"text-align: right;\">\n",
              "      <th>Heart Disease</th>\n",
              "      <th>N</th>\n",
              "      <th>Y</th>\n",
              "    </tr>\n",
              "    <tr>\n",
              "      <th>Sex</th>\n",
              "      <th></th>\n",
              "      <th></th>\n",
              "    </tr>\n",
              "  </thead>\n",
              "  <tbody>\n",
              "    <tr>\n",
              "      <th>F</th>\n",
              "      <td>2</td>\n",
              "      <td>3</td>\n",
              "    </tr>\n",
              "    <tr>\n",
              "      <th>M</th>\n",
              "      <td>3</td>\n",
              "      <td>2</td>\n",
              "    </tr>\n",
              "  </tbody>\n",
              "</table>\n",
              "</div>"
            ],
            "text/plain": [
              "Heart Disease  N  Y\n",
              "Sex                \n",
              "F              2  3\n",
              "M              3  2"
            ]
          },
          "metadata": {
            "tags": []
          },
          "execution_count": 9
        }
      ]
    },
    {
      "cell_type": "code",
      "metadata": {
        "id": "duQQGZF2RBDt",
        "colab_type": "code",
        "colab": {
          "base_uri": "https://localhost:8080/",
          "height": 373
        },
        "outputId": "6f74ab1d-54f1-46a0-a44f-a8811e7f1e9d"
      },
      "source": [
        "##stacked chart\n",
        "##stacked chart is a good visualisation tech for cross tab\n",
        "import numpy as np \n",
        "import pandas as pd\n",
        "import seaborn as sns\n",
        "import matplotlib.pyplot as plt\n",
        "n = 500\n",
        "mark = np.random.choice([True,False], n)\n",
        "periods = np.random.choice(['BASELINE','WEEK 12', 'WEEK 24', 'WEEK 4'], n)\n",
        "df = pd.DataFrame({'mark':mark,'period':periods})\n",
        "ct = pd.crosstab(df.period, df.mark)\n",
        "ct.plot.bar(stacked=True)\n",
        "plt.legend(title='mark')\n",
        "plt.show()"
      ],
      "execution_count": 4,
      "outputs": [
        {
          "output_type": "stream",
          "text": [
            "/usr/local/lib/python3.6/dist-packages/statsmodels/tools/_testing.py:19: FutureWarning: pandas.util.testing is deprecated. Use the functions in the public API at pandas.testing instead.\n",
            "  import pandas.util.testing as tm\n"
          ],
          "name": "stderr"
        },
        {
          "output_type": "display_data",
          "data": {
            "image/png": "[encoded data removed]",
            "text/plain": [
              "<Figure size 432x288 with 1 Axes>"
            ]
          },
          "metadata": {
            "tags": [],
            "needs_background": "light"
          }
        }
      ]
    }
  ]
}