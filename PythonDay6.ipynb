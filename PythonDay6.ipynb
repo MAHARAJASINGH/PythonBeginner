{
  "nbformat": 4,
  "nbformat_minor": 0,
  "metadata": {
    "colab": {
      "name": "PythonDay6.ipynb",
      "provenance": [],
      "collapsed_sections": [],
      "authorship_tag": "ABX9TyMDM9vKg4c4YWhO3N0I4TxR",
      "include_colab_link": true
    },
    "kernelspec": {
      "name": "python3",
      "display_name": "Python 3"
    }
  },
  "cells": [
    {
      "cell_type": "markdown",
      "metadata": {
        "id": "view-in-github",
        "colab_type": "text"
      },
      "source": [
        "<a href=\"https://colab.research.google.com/github/MAHARAJASINGH/PythonBeginner/blob/master/PythonDay6.ipynb\" target=\"_parent\"><img src=\"https://colab.research.google.com/assets/colab-badge.svg\" alt=\"Open In Colab\"/></a>"
      ]
    },
    {
      "cell_type": "code",
      "metadata": {
        "id": "RLeV-iCpikpU",
        "colab_type": "code",
        "colab": {
          "base_uri": "https://localhost:8080/",
          "height": 52
        },
        "outputId": "e2b1a97c-0dba-4327-c223-5efd983db993"
      },
      "source": [
        "##left little bit\n",
        "##input\n",
        "# python code to demonstrate summation  \n",
        "# using reduce() and accumulate() \n",
        "  \n",
        "# importing itertools for accumulate() \n",
        "import itertools \n",
        "  \n",
        "# importing functools for reduce() \n",
        "import functools \n",
        "  \n",
        "# initializing list  \n",
        "lis = [ 1, 3, 4, 10, 4 ] \n",
        "  \n",
        "# priting summation using accumulate() \n",
        "print (\"The summation of list using accumulate is :\",end=\"\") \n",
        "print (list(itertools.accumulate(lis,lambda x,y : x+y)))\n",
        "##print (list(itertools.accumulate(lambda x,y : x+y,lis))) \n",
        "  \n",
        "# priting summation using reduce() \n",
        "print (\"The summation of list using reduce is :\",end=\"\") \n",
        "print (functools.reduce(lambda x,y:x+y,lis))"
      ],
      "execution_count": 10,
      "outputs": [
        {
          "output_type": "stream",
          "text": [
            "The summation of list using accumulate is :[1, 4, 8, 18, 22]\n",
            "The summation of list using reduce is :22\n"
          ],
          "name": "stdout"
        }
      ]
    },
    {
      "cell_type": "code",
      "metadata": {
        "id": "7MEAzfYajo9o",
        "colab_type": "code",
        "colab": {
          "base_uri": "https://localhost:8080/",
          "height": 69
        },
        "outputId": "a41d2bc7-4bb3-4a78-8088-4ba1bcf4cff8"
      },
      "source": [
        "##use of code as well\n",
        "a = [[1, 2, 3, 4], [5, 6], [7, 8, 9]]\n",
        "for row in a:\n",
        "    for elem in row:\n",
        "        print(elem, end=' ')\n",
        "    print() ##for blnk row it can be\n",
        "    ##when we don't know the length of arry then we use range function\n",
        "    "
      ],
      "execution_count": 2,
      "outputs": [
        {
          "output_type": "stream",
          "text": [
            "1 2 3 4 \n",
            "5 6 \n",
            "7 8 9 \n"
          ],
          "name": "stdout"
        }
      ]
    },
    {
      "cell_type": "code",
      "metadata": {
        "id": "xCmrPwBClBhr",
        "colab_type": "code",
        "colab": {
          "base_uri": "https://localhost:8080/",
          "height": 87
        },
        "outputId": "035e2995-77dc-494b-9019-43c1b26d8437"
      },
      "source": [
        "##input\n",
        "a = [[1, 2, 3, 4], [5, 6,7,8], [7, 8, 9,10],[1,2,3]]\n",
        "for i in range(len(a)):\n",
        "    for j in range(len(a[i])):\n",
        "        print(a[i][j], end=' ')\n",
        "    print()"
      ],
      "execution_count": 3,
      "outputs": [
        {
          "output_type": "stream",
          "text": [
            "1 2 3 4 \n",
            "5 6 7 8 \n",
            "7 8 9 10 \n",
            "1 2 3 \n"
          ],
          "name": "stdout"
        }
      ]
    },
    {
      "cell_type": "code",
      "metadata": {
        "id": "5E5uxX9TlM9A",
        "colab_type": "code",
        "colab": {
          "base_uri": "https://localhost:8080/",
          "height": 104
        },
        "outputId": "ac824efe-9640-4273-cf91-af7ba6a1ac55"
      },
      "source": [
        "##input\n",
        "print(a)\n",
        "for row in a:\n",
        "    print(' '.join([str(elem) for elem in row]))"
      ],
      "execution_count": 4,
      "outputs": [
        {
          "output_type": "stream",
          "text": [
            "[[1, 2, 3, 4], [5, 6, 7, 8], [7, 8, 9, 10], [1, 2, 3]]\n",
            "1 2 3 4\n",
            "5 6 7 8\n",
            "7 8 9 10\n",
            "1 2 3\n"
          ],
          "name": "stdout"
        }
      ]
    },
    {
      "cell_type": "code",
      "metadata": {
        "id": "7JcGU7JPltPW",
        "colab_type": "code",
        "colab": {
          "base_uri": "https://localhost:8080/",
          "height": 87
        },
        "outputId": "2c0093e6-13db-417b-a0f7-32f8a03119cb"
      },
      "source": [
        "##input\n",
        "a = [[1, 2, 3, 4], [5, 6,7,8], [7, 8, 9,10],[1,2,3]]\n",
        "for i in range(len(a)):\n",
        "    for j in range(len(a[i])):\n",
        "        print(a[i][j], end=' ')\n",
        "    print()"
      ],
      "execution_count": 5,
      "outputs": [
        {
          "output_type": "stream",
          "text": [
            "1 2 3 4 \n",
            "5 6 7 8 \n",
            "7 8 9 10 \n",
            "1 2 3 \n"
          ],
          "name": "stdout"
        }
      ]
    },
    {
      "cell_type": "code",
      "metadata": {
        "id": "A38lFUrkl1Yw",
        "colab_type": "code",
        "colab": {
          "base_uri": "https://localhost:8080/",
          "height": 35
        },
        "outputId": "96de5ef4-21b3-432e-83af-ae4895ef5c61"
      },
      "source": [
        "##input\n",
        "a = [[1, 2, 3, 4], [5, 6], [7, 8, 9]]\n",
        "s = 0\n",
        "for row in a:\n",
        "    for elem in row:\n",
        "        s += elem\n",
        "print(s)"
      ],
      "execution_count": 6,
      "outputs": [
        {
          "output_type": "stream",
          "text": [
            "45\n"
          ],
          "name": "stdout"
        }
      ]
    },
    {
      "cell_type": "code",
      "metadata": {
        "id": "_rX3ssvhl7EV",
        "colab_type": "code",
        "colab": {
          "base_uri": "https://localhost:8080/",
          "height": 121
        },
        "outputId": "6040582a-f013-416d-aa7d-e22fed7094a6"
      },
      "source": [
        "##input\n",
        "#working with arrays\n",
        "a = [[1,2,3],[4,5,6]]\n",
        "print(a[0])\n",
        "print(a[1][2])\n",
        "b=a[1]\n",
        "print(b)\n",
        "a[0][2]=7\n",
        "print(a)\n",
        "b[2]=9\n",
        "print(b)\n",
        "print(len(a))"
      ],
      "execution_count": 7,
      "outputs": [
        {
          "output_type": "stream",
          "text": [
            "[1, 2, 3]\n",
            "6\n",
            "[4, 5, 6]\n",
            "[[1, 2, 7], [4, 5, 6]]\n",
            "[4, 5, 9]\n",
            "2\n"
          ],
          "name": "stdout"
        }
      ]
    },
    {
      "cell_type": "code",
      "metadata": {
        "id": "r2dmdl4NoECm",
        "colab_type": "code",
        "colab": {
          "base_uri": "https://localhost:8080/",
          "height": 69
        },
        "outputId": "92a519f4-b260-4734-935a-5727defa20f1"
      },
      "source": [
        "##input\n",
        "#Iteration through list\n",
        "print(a)\n",
        "for row in a:\n",
        "    print('$'.join([str(elem) for elem in row]))\n",
        "    ##join means concat two elements with the character\n",
        "    ##"
      ],
      "execution_count": 8,
      "outputs": [
        {
          "output_type": "stream",
          "text": [
            "[[1, 2, 7], [4, 5, 9]]\n",
            "1$2$7\n",
            "4$5$9\n"
          ],
          "name": "stdout"
        }
      ]
    },
    {
      "cell_type": "code",
      "metadata": {
        "id": "9CpgBEQbp6uj",
        "colab_type": "code",
        "colab": {
          "base_uri": "https://localhost:8080/",
          "height": 35
        },
        "outputId": "34f85721-af50-414b-cf5d-d74a428a161a"
      },
      "source": [
        "print(a)"
      ],
      "execution_count": 13,
      "outputs": [
        {
          "output_type": "stream",
          "text": [
            "[[1, 0, 0, 0], [2, 1, 0, 0], [2, 2, 1, 0], [2, 2, 2, 1]]\n"
          ],
          "name": "stdout"
        }
      ]
    },
    {
      "cell_type": "code",
      "metadata": {
        "id": "CXUpT6TGqB_d",
        "colab_type": "code",
        "colab": {
          "base_uri": "https://localhost:8080/",
          "height": 52
        },
        "outputId": "2ee7b668-05d7-4369-f7d2-cf151a7a9d97"
      },
      "source": [
        "print(b)\n",
        "print(a)\n",
        "#print(c)\n",
        "#print(d)"
      ],
      "execution_count": 18,
      "outputs": [
        {
          "output_type": "stream",
          "text": [
            "[4, 5, 9]\n",
            "[[1, 0, 0, 0], [2, 1, 0, 0], [2, 2, 1, 0], [2, 2, 2, 1]]\n"
          ],
          "name": "stdout"
        }
      ]
    },
    {
      "cell_type": "code",
      "metadata": {
        "id": "uXtiy4NYpdYv",
        "colab_type": "code",
        "colab": {
          "base_uri": "https://localhost:8080/",
          "height": 381
        },
        "outputId": "c3ef932f-a320-4361-ee6a-9e88aaacfd66"
      },
      "source": [
        "##input\n",
        "##flow with the join\n",
        "n = 4\n",
        "a = [[0] * n for i in range(n)]\n",
        "for i in range(n):\n",
        "    for j in range(n):\n",
        "        if i < j:\n",
        "            a[i][j] = 0\n",
        "        elif i > j:\n",
        "            a[i][j] = 2\n",
        "        else:\n",
        "            a[i][j] = 1\n",
        "for row in a:\n",
        "    print(' '.join([str(elem) for elem in row]))\n",
        "\n",
        "for row in a:\n",
        "  for elem in row:\n",
        "    print(' '.join(str(elem)))\n",
        "print ('xx'.join('yy'))"
      ],
      "execution_count": 12,
      "outputs": [
        {
          "output_type": "stream",
          "text": [
            "1 0 0 0\n",
            "2 1 0 0\n",
            "2 2 1 0\n",
            "2 2 2 1\n",
            "1\n",
            "0\n",
            "0\n",
            "0\n",
            "2\n",
            "1\n",
            "0\n",
            "0\n",
            "2\n",
            "2\n",
            "1\n",
            "0\n",
            "2\n",
            "2\n",
            "2\n",
            "1\n",
            "yxxy\n"
          ],
          "name": "stdout"
        }
      ]
    },
    {
      "cell_type": "markdown",
      "metadata": {
        "id": "Sjema2-Jqkx6",
        "colab_type": "text"
      },
      "source": [
        "THis prints lists with a variable number of nested lists\n",
        "from Shaunak Guha Thakurata (internal) to everyone:\n",
        "a = [[1, 2, 3, 4], [5, 6], [7, 8, 9,[10,11,12]]]\n",
        "def sumlist(listToSum):\n",
        "  return reduce(lambda x,y:(sumlist(x) if isinstance(x,list) else x)+(sumlist(y) if isinstance(y,list) else y),listToSum)\n",
        "print(sumlist(a))\n",
        "from Shaunak Guha Thakurata (internal) to everyone:\n",
        "No nest loops. Used recursion and lambda instead"
      ]
    },
    {
      "cell_type": "code",
      "metadata": {
        "id": "xRDeuWFRqm4J",
        "colab_type": "code",
        "colab": {
          "base_uri": "https://localhost:8080/",
          "height": 260
        },
        "outputId": "f7e44ffd-d00f-4f0d-e59a-1d472734d8a0"
      },
      "source": [
        "##input\n",
        "##dynamic creation of array\n",
        "\n",
        "for i in range(7):print(i) \n",
        "[[1 for j in range(4)] for i in range(7)]"
      ],
      "execution_count": 19,
      "outputs": [
        {
          "output_type": "stream",
          "text": [
            "0\n",
            "1\n",
            "2\n",
            "3\n",
            "4\n",
            "5\n",
            "6\n"
          ],
          "name": "stdout"
        },
        {
          "output_type": "execute_result",
          "data": {
            "text/plain": [
              "[[1, 1, 1, 1],\n",
              " [1, 1, 1, 1],\n",
              " [1, 1, 1, 1],\n",
              " [1, 1, 1, 1],\n",
              " [1, 1, 1, 1],\n",
              " [1, 1, 1, 1],\n",
              " [1, 1, 1, 1]]"
            ]
          },
          "metadata": {
            "tags": []
          },
          "execution_count": 19
        }
      ]
    },
    {
      "cell_type": "code",
      "metadata": {
        "id": "Hm47NaEpr7qJ",
        "colab_type": "code",
        "colab": {
          "base_uri": "https://localhost:8080/",
          "height": 35
        },
        "outputId": "1cfa838c-d914-4e8c-82ac-36d1ba722bc9"
      },
      "source": [
        "##input\n",
        "[[i * j for j in range(4)] for i in range(3)]"
      ],
      "execution_count": 20,
      "outputs": [
        {
          "output_type": "execute_result",
          "data": {
            "text/plain": [
              "[[0, 0, 0, 0], [0, 1, 2, 3], [0, 2, 4, 6]]"
            ]
          },
          "metadata": {
            "tags": []
          },
          "execution_count": 20
        }
      ]
    },
    {
      "cell_type": "code",
      "metadata": {
        "id": "ghEI1UWGr-WY",
        "colab_type": "code",
        "colab": {
          "base_uri": "https://localhost:8080/",
          "height": 35
        },
        "outputId": "6cd9068c-c0d0-4277-ff20-9a8d41098604"
      },
      "source": [
        "##input\n",
        "[[i + j for j in range(4)] for i in range(3)]"
      ],
      "execution_count": 21,
      "outputs": [
        {
          "output_type": "execute_result",
          "data": {
            "text/plain": [
              "[[0, 1, 2, 3], [1, 2, 3, 4], [2, 3, 4, 5]]"
            ]
          },
          "metadata": {
            "tags": []
          },
          "execution_count": 21
        }
      ]
    },
    {
      "cell_type": "code",
      "metadata": {
        "id": "-7etJ0PfsbvZ",
        "colab_type": "code",
        "colab": {
          "base_uri": "https://localhost:8080/",
          "height": 35
        },
        "outputId": "93a0a23f-a9c8-4add-c9a2-cbe123373301"
      },
      "source": [
        "##input\n",
        "[[i + j for j in range(4)] for i in range(3)]"
      ],
      "execution_count": 22,
      "outputs": [
        {
          "output_type": "execute_result",
          "data": {
            "text/plain": [
              "[[0, 1, 2, 3], [1, 2, 3, 4], [2, 3, 4, 5]]"
            ]
          },
          "metadata": {
            "tags": []
          },
          "execution_count": 22
        }
      ]
    },
    {
      "cell_type": "code",
      "metadata": {
        "id": "mN_7lUDNsfZh",
        "colab_type": "code",
        "colab": {
          "base_uri": "https://localhost:8080/",
          "height": 312
        },
        "outputId": "64ec1a7c-a288-4d9d-c3a5-ba7575aa536e"
      },
      "source": [
        "##input\n",
        "print(a)\n",
        "for i in range(0, 4):\n",
        "  for j in range(0,4):\n",
        "    print(a[i][j])\n",
        "    ##single dimensional array\n",
        "    ##you're right ... a=range(4) is a single dimensional array"
      ],
      "execution_count": 23,
      "outputs": [
        {
          "output_type": "stream",
          "text": [
            "[[1, 0, 0, 0], [2, 1, 0, 0], [2, 2, 1, 0], [2, 2, 2, 1]]\n",
            "1\n",
            "0\n",
            "0\n",
            "0\n",
            "2\n",
            "1\n",
            "0\n",
            "0\n",
            "2\n",
            "2\n",
            "1\n",
            "0\n",
            "2\n",
            "2\n",
            "2\n",
            "1\n"
          ],
          "name": "stdout"
        }
      ]
    },
    {
      "cell_type": "code",
      "metadata": {
        "id": "9GC0gfjcuQ6C",
        "colab_type": "code",
        "colab": {
          "base_uri": "https://localhost:8080/",
          "height": 347
        },
        "outputId": "1a0fcec2-44c7-464e-e5f6-bf72ac0bc6ee"
      },
      "source": [
        "##input\n",
        "print(n)\n",
        "for i in range(n):\n",
        "    for j in range(n):\n",
        "        if i < j:\n",
        "            a[i][j] = 0\n",
        "        elif i > j:\n",
        "            a[i][j] = 2\n",
        "        else:\n",
        "            a[i][j] = 1\n",
        "print(a)\n",
        "for i in range(0, 4):\n",
        "  for j in range(0,4):\n",
        "    print(a[i][j])\n",
        "\n",
        "print(a)"
      ],
      "execution_count": 24,
      "outputs": [
        {
          "output_type": "stream",
          "text": [
            "4\n",
            "[[1, 0, 0, 0], [2, 1, 0, 0], [2, 2, 1, 0], [2, 2, 2, 1]]\n",
            "1\n",
            "0\n",
            "0\n",
            "0\n",
            "2\n",
            "1\n",
            "0\n",
            "0\n",
            "2\n",
            "2\n",
            "1\n",
            "0\n",
            "2\n",
            "2\n",
            "2\n",
            "1\n",
            "[[1, 0, 0, 0], [2, 1, 0, 0], [2, 2, 1, 0], [2, 2, 2, 1]]\n"
          ],
          "name": "stdout"
        }
      ]
    },
    {
      "cell_type": "code",
      "metadata": {
        "id": "Hyfkw1RbulrY",
        "colab_type": "code",
        "colab": {
          "base_uri": "https://localhost:8080/",
          "height": 35
        },
        "outputId": "3b51587b-4f20-4ac1-d216-b498fa2d1822"
      },
      "source": [
        "print(n)"
      ],
      "execution_count": 25,
      "outputs": [
        {
          "output_type": "stream",
          "text": [
            "4\n"
          ],
          "name": "stdout"
        }
      ]
    },
    {
      "cell_type": "code",
      "metadata": {
        "id": "PcjwipkJvpD0",
        "colab_type": "code",
        "colab": {}
      },
      "source": [
        "###numpy.zeros(16).reshape(4,4)"
      ],
      "execution_count": null,
      "outputs": []
    },
    {
      "cell_type": "code",
      "metadata": {
        "id": "p9A9MuF6vrNC",
        "colab_type": "code",
        "colab": {
          "base_uri": "https://localhost:8080/",
          "height": 87
        },
        "outputId": "9ab25834-5faf-42ea-80cb-2f8aeda4d97b"
      },
      "source": [
        "##input slicing example\n",
        "#array slicing\n",
        "##it appears like ... starting from [2]nd element upto the [7]th, get every 2nd element \n",
        "##the 3 parameters are start, end and how you want to slice\n",
        "###array slicing\n",
        "import numpy as np\n",
        "a = np.arange(10)\n",
        "print(a)\n",
        "s = slice(2,7,2) # First parameter is lower index, second is the upper index, 3rd parameter is how many slicing\n",
        "print(a[s])\n",
        "import numpy as np \n",
        "a = np.arange(10) \n",
        "print(a)\n",
        "s = slice(2,7,2) \n",
        "print(a[s])"
      ],
      "execution_count": 30,
      "outputs": [
        {
          "output_type": "stream",
          "text": [
            "[0 1 2 3 4 5 6 7 8 9]\n",
            "[2 4 6]\n",
            "[0 1 2 3 4 5 6 7 8 9]\n",
            "[2 4 6]\n"
          ],
          "name": "stdout"
        }
      ]
    },
    {
      "cell_type": "code",
      "metadata": {
        "id": "3lgx0lEAxbP3",
        "colab_type": "code",
        "colab": {
          "base_uri": "https://localhost:8080/",
          "height": 52
        },
        "outputId": "f133dd7a-fd72-4430-d960-e5ce47365524"
      },
      "source": [
        "\n",
        "import numpy as np \n",
        "a = np.arange(10) \n",
        "print(a)\n",
        "print(a[2:])"
      ],
      "execution_count": 31,
      "outputs": [
        {
          "output_type": "stream",
          "text": [
            "[0 1 2 3 4 5 6 7 8 9]\n",
            "[2 3 4 5 6 7 8 9]\n"
          ],
          "name": "stdout"
        }
      ]
    },
    {
      "cell_type": "code",
      "metadata": {
        "id": "ZjvVqojJzrfe",
        "colab_type": "code",
        "colab": {
          "base_uri": "https://localhost:8080/",
          "height": 201
        },
        "outputId": "dada897f-d19c-419d-877e-f4c3c2c371c9"
      },
      "source": [
        "##input\n",
        "for i in range(n):\n",
        "    for j in range(n):\n",
        "        if i < j:\n",
        "            a[i][j] = 0\n",
        "        elif i > j:\n",
        "            a[i][j] = 2\n",
        "        else:\n",
        "            a[i][j] = 1"
      ],
      "execution_count": 32,
      "outputs": [
        {
          "output_type": "error",
          "ename": "TypeError",
          "evalue": "ignored",
          "traceback": [
            "\u001b[0;31m---------------------------------------------------------------------------\u001b[0m",
            "\u001b[0;31mTypeError\u001b[0m                                 Traceback (most recent call last)",
            "\u001b[0;32m<ipython-input-32-751925c841b0>\u001b[0m in \u001b[0;36m<module>\u001b[0;34m()\u001b[0m\n\u001b[1;32m      7\u001b[0m             \u001b[0ma\u001b[0m\u001b[0;34m[\u001b[0m\u001b[0mi\u001b[0m\u001b[0;34m]\u001b[0m\u001b[0;34m[\u001b[0m\u001b[0mj\u001b[0m\u001b[0;34m]\u001b[0m \u001b[0;34m=\u001b[0m \u001b[0;36m2\u001b[0m\u001b[0;34m\u001b[0m\u001b[0;34m\u001b[0m\u001b[0m\n\u001b[1;32m      8\u001b[0m         \u001b[0;32melse\u001b[0m\u001b[0;34m:\u001b[0m\u001b[0;34m\u001b[0m\u001b[0;34m\u001b[0m\u001b[0m\n\u001b[0;32m----> 9\u001b[0;31m             \u001b[0ma\u001b[0m\u001b[0;34m[\u001b[0m\u001b[0mi\u001b[0m\u001b[0;34m]\u001b[0m\u001b[0;34m[\u001b[0m\u001b[0mj\u001b[0m\u001b[0;34m]\u001b[0m \u001b[0;34m=\u001b[0m \u001b[0;36m1\u001b[0m\u001b[0;34m\u001b[0m\u001b[0;34m\u001b[0m\u001b[0m\n\u001b[0m",
            "\u001b[0;31mTypeError\u001b[0m: 'numpy.int64' object does not support item assignment"
          ]
        }
      ]
    },
    {
      "cell_type": "markdown",
      "metadata": {
        "id": "SqzFqho5z_vp",
        "colab_type": "text"
      },
      "source": [
        "#7/8/2020 take a list of student marks, create a parent mark, create 3 lists using filter conditions using a criteria of above 80, above 60, below 40\n",
        "Use reduce and create a grade for each list/student"
      ]
    },
    {
      "cell_type": "code",
      "metadata": {
        "id": "IOFoamF60BWI",
        "colab_type": "code",
        "colab": {}
      },
      "source": [
        "##input\n",
        "n=4\n",
        "a = [[0] * n for i in range(n)] "
      ],
      "execution_count": 34,
      "outputs": []
    }
  ]
}