{
  "nbformat": 4,
  "nbformat_minor": 0,
  "metadata": {
    "colab": {
      "name": "PythonDay9.ipynb",
      "provenance": [],
      "collapsed_sections": [],
      "authorship_tag": "ABX9TyNFeDQiv9gAz0FIhb782pOD",
      "include_colab_link": true
    },
    "kernelspec": {
      "name": "python3",
      "display_name": "Python 3"
    }
  },
  "cells": [
    {
      "cell_type": "markdown",
      "metadata": {
        "id": "view-in-github",
        "colab_type": "text"
      },
      "source": [
        "<a href=\"https://colab.research.google.com/github/MAHARAJASINGH/PythonBeginner/blob/master/PythonDay9.ipynb\" target=\"_parent\"><img src=\"https://colab.research.google.com/assets/colab-badge.svg\" alt=\"Open In Colab\"/></a>"
      ]
    },
    {
      "cell_type": "code",
      "metadata": {
        "id": "Xh83OTchWqCr",
        "colab_type": "code",
        "colab": {
          "base_uri": "https://localhost:8080/",
          "height": 104
        },
        "outputId": "58ac0e65-1ac5-42ae-dab8-4c3573bbf2e3"
      },
      "source": [
        "##what is the difference between pd.merge and pd.concat?\n",
        "##pd. merge can take DataFrame s as its argument, and is used to combine two DataFrame s with same columns or index,\n",
        "# which can't be done with pd. concat since it will show the repeated column in the DataFrame.\n",
        "# Whereas join can be used to join two DataFrame s with different indices.\n",
        "#I guess the merge is more if column level where as concat for coming entire df with equal dimensions\n",
        "#merge appears to be closer to the SQL style joins\n",
        "s1 = pd.Series(['a', 'b'])\n",
        "s2 = pd.Series(['c', 'd'])\n",
        "pd.concat([s1, s2])\n",
        "pd.concat([s1, s2], ignore_index=True)\n",
        "pd.concat([s1, s2], keys=['s1', 's2'])\n",
        "pd.concat([s1, s2], keys=['s1', 's2'],\n",
        "names=['Series name', 'Row ID'])\n",
        "df1 = pd.DataFrame([['a', 1], ['b', 2]],\n",
        "                    columns=['letter', 'number'])\n",
        "df2 = pd.DataFrame([['c', 3], ['d', 4]],\n",
        "                   columns=['letter', 'number'])\n",
        "#pd.concat([df1, df2])\n",
        "df3 = pd.DataFrame([['c', 3, 'cat'], ['d', 4, 'dog']],\n",
        "                    columns=['letter', 'number', 'animal'])\n",
        "#print(df3)\n",
        "#pd.concat([df1, df3], join=\"inner\")\n",
        "df4 = pd.DataFrame([['bird', 'polly'], ['monkey', 'george']],\n",
        "                   columns=['animal', 'name'])\n",
        "print(pd.concat([df3, df4], join=\"inner\"))\n",
        "#pd.concat([df1, df4], axis=1)\n",
        "df5 = pd.DataFrame([1], index=['a'])\n",
        "df6 = pd.DataFrame([2], index=['a'])\n",
        "#pd.concat([df5, df6])"
      ],
      "execution_count": 11,
      "outputs": [
        {
          "output_type": "stream",
          "text": [
            "   animal\n",
            "0     cat\n",
            "1     dog\n",
            "0    bird\n",
            "1  monkey\n"
          ],
          "name": "stdout"
        }
      ]
    },
    {
      "cell_type": "code",
      "metadata": {
        "id": "djvqRZRpb2DJ",
        "colab_type": "code",
        "colab": {
          "base_uri": "https://localhost:8080/",
          "height": 171
        },
        "outputId": "b65db22e-63ec-474b-80de-d467bca5df52"
      },
      "source": [
        "##input\n",
        "#ps.sqldf(\"select df1.*,df2.* from df1 inner join df2 on df1.a = df2.d\",globals())\n",
        "#ps.sqldf(\"select df1.*,df2.* from df2 left outer join df1 on df1.a = df2.d\",globals())\n",
        "left = pd.DataFrame({'a': [1, 2, 3, 6,8], 'left_val': ['a', 'b', 'c','d','e']})\n",
        "right = pd.DataFrame({'a': [1, 2, 5, 7],\n",
        "                       'right_val': [1, 2, 8, 10]})\n",
        "pd.merge_asof(right,left)\n",
        "#pd.merge_asof(left, right, on='a')\n",
        "#pd.merge_asof(left, right, on='a', allow_exact_matches=True)\n",
        "#pd.merge_asof(left, right, on='a', allow_exact_matches= False)\n",
        "#pd.merge_asof(left, right, on='a', direction='forward')\n",
        "#pd.merge_asof(left, right, on='a', direction='nearest')"
      ],
      "execution_count": 9,
      "outputs": [
        {
          "output_type": "execute_result",
          "data": {
            "text/html": [
              "<div>\n",
              "<style scoped>\n",
              "    .dataframe tbody tr th:only-of-type {\n",
              "        vertical-align: middle;\n",
              "    }\n",
              "\n",
              "    .dataframe tbody tr th {\n",
              "        vertical-align: top;\n",
              "    }\n",
              "\n",
              "    .dataframe thead th {\n",
              "        text-align: right;\n",
              "    }\n",
              "</style>\n",
              "<table border=\"1\" class=\"dataframe\">\n",
              "  <thead>\n",
              "    <tr style=\"text-align: right;\">\n",
              "      <th></th>\n",
              "      <th>a</th>\n",
              "      <th>right_val</th>\n",
              "      <th>left_val</th>\n",
              "    </tr>\n",
              "  </thead>\n",
              "  <tbody>\n",
              "    <tr>\n",
              "      <th>0</th>\n",
              "      <td>1</td>\n",
              "      <td>1</td>\n",
              "      <td>a</td>\n",
              "    </tr>\n",
              "    <tr>\n",
              "      <th>1</th>\n",
              "      <td>2</td>\n",
              "      <td>2</td>\n",
              "      <td>b</td>\n",
              "    </tr>\n",
              "    <tr>\n",
              "      <th>2</th>\n",
              "      <td>5</td>\n",
              "      <td>8</td>\n",
              "      <td>c</td>\n",
              "    </tr>\n",
              "    <tr>\n",
              "      <th>3</th>\n",
              "      <td>7</td>\n",
              "      <td>10</td>\n",
              "      <td>d</td>\n",
              "    </tr>\n",
              "  </tbody>\n",
              "</table>\n",
              "</div>"
            ],
            "text/plain": [
              "   a  right_val left_val\n",
              "0  1          1        a\n",
              "1  2          2        b\n",
              "2  5          8        c\n",
              "3  7         10        d"
            ]
          },
          "metadata": {
            "tags": []
          },
          "execution_count": 9
        }
      ]
    },
    {
      "cell_type": "code",
      "metadata": {
        "id": "OvXlZc_MeuoK",
        "colab_type": "code",
        "colab": {
          "base_uri": "https://localhost:8080/",
          "height": 141
        },
        "outputId": "77445bc3-a370-447f-f6d8-5b1ffddd9854"
      },
      "source": [
        "#input\n",
        "left = pd.DataFrame({'a': [1, 2, 3, 6,8], 'left_val': ['a', 'b', 'c','d','e']})\n",
        "right = pd.DataFrame({'a': [1, 2, 3, 7],\n",
        "                       'right_val': [1, 2, 8, 10]})\n",
        "pd.merge(left,right)\n",
        "#pd.merge_asof(right,left)\n",
        "#pd.merge_asof(left, right, on='a')\n",
        "#pd.merge_asof(left, right, on='a', allow_exact_matches=True)\n",
        "#pd.merge_asof(left, right, on='a', allow_exact_matches= False)\n",
        "#pd.merge_asof(left, right, on='a', direction='forward')\n",
        "#pd.merge_asof(left, right, on='a', direction='nearest')"
      ],
      "execution_count": 10,
      "outputs": [
        {
          "output_type": "execute_result",
          "data": {
            "text/html": [
              "<div>\n",
              "<style scoped>\n",
              "    .dataframe tbody tr th:only-of-type {\n",
              "        vertical-align: middle;\n",
              "    }\n",
              "\n",
              "    .dataframe tbody tr th {\n",
              "        vertical-align: top;\n",
              "    }\n",
              "\n",
              "    .dataframe thead th {\n",
              "        text-align: right;\n",
              "    }\n",
              "</style>\n",
              "<table border=\"1\" class=\"dataframe\">\n",
              "  <thead>\n",
              "    <tr style=\"text-align: right;\">\n",
              "      <th></th>\n",
              "      <th>a</th>\n",
              "      <th>left_val</th>\n",
              "      <th>right_val</th>\n",
              "    </tr>\n",
              "  </thead>\n",
              "  <tbody>\n",
              "    <tr>\n",
              "      <th>0</th>\n",
              "      <td>1</td>\n",
              "      <td>a</td>\n",
              "      <td>1</td>\n",
              "    </tr>\n",
              "    <tr>\n",
              "      <th>1</th>\n",
              "      <td>2</td>\n",
              "      <td>b</td>\n",
              "      <td>2</td>\n",
              "    </tr>\n",
              "    <tr>\n",
              "      <th>2</th>\n",
              "      <td>3</td>\n",
              "      <td>c</td>\n",
              "      <td>8</td>\n",
              "    </tr>\n",
              "  </tbody>\n",
              "</table>\n",
              "</div>"
            ],
            "text/plain": [
              "   a left_val  right_val\n",
              "0  1        a          1\n",
              "1  2        b          2\n",
              "2  3        c          8"
            ]
          },
          "metadata": {
            "tags": []
          },
          "execution_count": 10
        }
      ]
    },
    {
      "cell_type": "code",
      "metadata": {
        "id": "9PPcYtCTgqZh",
        "colab_type": "code",
        "colab": {
          "base_uri": "https://localhost:8080/",
          "height": 225
        },
        "outputId": "1df964dc-e463-4454-a1e2-036036a55453"
      },
      "source": [
        "##input\n",
        "df = pd.DataFrame({\"A\":[12, 4, 5, None, 1],  \n",
        "                   \"B\":[7, 2, 54, 3, None],  \n",
        "                   \"C\":[20, 16, 11, 3, 8],  \n",
        "                   \"D\":[14, 3, None, 2, 6]})  \n",
        "  \n",
        "# Create the index \n",
        "index_ = ['Row_1', 'Row_2', 'Row_3', 'Row_4', 'Row_5'] \n",
        "  \n",
        "# Set the index \n",
        "df.index = index_ \n",
        "  \n",
        "# Print the DataFrame \n",
        "print(df) \n",
        "print(df.sort_values(by=['B','A'], ascending=True))"
      ],
      "execution_count": 13,
      "outputs": [
        {
          "output_type": "stream",
          "text": [
            "          A     B   C     D\n",
            "Row_1  12.0   7.0  20  14.0\n",
            "Row_2   4.0   2.0  16   3.0\n",
            "Row_3   5.0  54.0  11   NaN\n",
            "Row_4   NaN   3.0   3   2.0\n",
            "Row_5   1.0   NaN   8   6.0\n",
            "          A     B   C     D\n",
            "Row_2   4.0   2.0  16   3.0\n",
            "Row_4   NaN   3.0   3   2.0\n",
            "Row_1  12.0   7.0  20  14.0\n",
            "Row_3   5.0  54.0  11   NaN\n",
            "Row_5   1.0   NaN   8   6.0\n"
          ],
          "name": "stdout"
        }
      ]
    },
    {
      "cell_type": "code",
      "metadata": {
        "id": "GFLQMYfOhisg",
        "colab_type": "code",
        "colab": {
          "base_uri": "https://localhost:8080/",
          "height": 52
        },
        "outputId": "de1def54-6eea-46b3-a271-50875375de9e"
      },
      "source": [
        "##input\n",
        "import pandas as pd \n",
        "  \n",
        "# Creating the DataFrame \n",
        "df = pd.DataFrame({\"A\":[12, 4, 5, None, 1],  \n",
        "                   \"B\":[7, 2, 54, 3, None],  \n",
        "                   \"C\":[20, 16, 11, 3, 8],  \n",
        "                   \"D\":[14, 3, None, 2, 6]})  \n",
        "  \n",
        "# Create the index \n",
        "index_ = ['Row_1', 'Row_2', 'Row_3', 'Row_4', 'Row_5'] \n",
        "  \n",
        "# Set the index \n",
        "df.index = index_ \n",
        "  \n",
        "# Print the DataFrame \n",
        "#print(df) \n",
        "#print(df.sort_values(by=['B','A'], ascending=True))\n",
        "filter_ = df['A'] >= 5\n",
        "#print(df[filter_])\n",
        "print(df[(df['A'] >= 5) & (df['B'] >= 11)])"
      ],
      "execution_count": 14,
      "outputs": [
        {
          "output_type": "stream",
          "text": [
            "         A     B   C   D\n",
            "Row_3  5.0  54.0  11 NaN\n"
          ],
          "name": "stdout"
        }
      ]
    },
    {
      "cell_type": "code",
      "metadata": {
        "id": "r6fbWVZhh8vj",
        "colab_type": "code",
        "colab": {
          "base_uri": "https://localhost:8080/",
          "height": 225
        },
        "outputId": "5caa3af8-58c2-4322-c8b5-408989283957"
      },
      "source": [
        "##dataframes with where condition\n",
        "import pandas as pd \n",
        "  \n",
        "# Creating the DataFrame \n",
        "df = pd.DataFrame({\"A\":[12, 4, 5, None, 1],  \n",
        "                   \"B\":[7, 2, 54, 3, None],  \n",
        "                   \"C\":[20, 16, 11, 3, 8],  \n",
        "                   \"D\":[14, 3, None, 2, 6]})  \n",
        "  \n",
        "# Create the index \n",
        "index_ = ['Row_1', 'Row_2', 'Row_3', 'Row_4', 'Row_5'] \n",
        "  \n",
        "# Set the index \n",
        "df.index = index_ \n",
        "  \n",
        "# Print the DataFrame \n",
        "#print(df) \n",
        "#print(df.sort_values(by=['B','A'], ascending=True))\n",
        "filter_ = df['A'] >= 5\n",
        "#print(df[filter_])\n",
        "#print(df[(df['A'] >= 5) & (df['B'] >= 11)])\n",
        "dfk=df['A'].where(cond=df['A'] >= 5)\n",
        "print(dfk)\n",
        "print(filter_)"
      ],
      "execution_count": 17,
      "outputs": [
        {
          "output_type": "stream",
          "text": [
            "Row_1    12.0\n",
            "Row_2     NaN\n",
            "Row_3     5.0\n",
            "Row_4     NaN\n",
            "Row_5     NaN\n",
            "Name: A, dtype: float64\n",
            "Row_1     True\n",
            "Row_2    False\n",
            "Row_3     True\n",
            "Row_4    False\n",
            "Row_5    False\n",
            "Name: A, dtype: bool\n"
          ],
          "name": "stdout"
        }
      ]
    },
    {
      "cell_type": "code",
      "metadata": {
        "id": "LCoYJOoqiwjQ",
        "colab_type": "code",
        "colab": {
          "base_uri": "https://localhost:8080/",
          "height": 191
        },
        "outputId": "c9cbfa2e-a97c-4d84-b4d0-d64921b0d456"
      },
      "source": [
        "##input\n",
        "import pandas as pd \n",
        "  \n",
        "# Creating the DataFrame \n",
        "df = pd.DataFrame({\"A\":[12, 4, 5, None, 1],  \n",
        "                   \"B\":[7, 2, 54, 3, None],  \n",
        "                   \"C\":[20, 16, 11, 3, 8],  \n",
        "                   \"D\":[14, 3, None, 2, 6]})  \n",
        "  \n",
        "# Create the index \n",
        "index_ = ['Row_1', 'Row_2', 'Row_3', 'Row_4', 'Row_5'] \n",
        "  \n",
        "# Set the index \n",
        "df.index = index_ \n",
        "  \n",
        "# Print the DataFrame \n",
        "#print(df) \n",
        "#print(df.sort_values(by=['B','A'], ascending=True))\n",
        "filter_ = df['A'] >= 5\n",
        "#print(df[filter_])\n",
        "#print(df[(df['A'] >= 5) & (df['B'] >= 11)])\n",
        "dfk=df['A'].where(cond=df['A'] >= 5)\n",
        "#print(dfk)\n",
        "for index, row in df.head(n=2).iterrows():\n",
        "     #print(index, row)\n",
        "     print(row)"
      ],
      "execution_count": 18,
      "outputs": [
        {
          "output_type": "stream",
          "text": [
            "A    12.0\n",
            "B     7.0\n",
            "C    20.0\n",
            "D    14.0\n",
            "Name: Row_1, dtype: float64\n",
            "A     4.0\n",
            "B     2.0\n",
            "C    16.0\n",
            "D     3.0\n",
            "Name: Row_2, dtype: float64\n"
          ],
          "name": "stdout"
        }
      ]
    },
    {
      "cell_type": "code",
      "metadata": {
        "id": "RIDtwqQOi6uY",
        "colab_type": "code",
        "colab": {
          "base_uri": "https://localhost:8080/",
          "height": 210
        },
        "outputId": "3522dee4-cb6b-472f-c12e-8efe4302fe8c"
      },
      "source": [
        "##filling the na value\n",
        "import numpy as np\n",
        "df_ = pd.DataFrame({'x': [1, 2, np.nan, 4]})\n",
        "print(df_.mean())\n",
        "print(df_.mean(skipna=False))\n",
        "df_.fillna(value=0)\n",
        "df_.interpolate()\n",
        "df_.dropna()"
      ],
      "execution_count": 20,
      "outputs": [
        {
          "output_type": "stream",
          "text": [
            "x    2.333333\n",
            "dtype: float64\n",
            "x   NaN\n",
            "dtype: float64\n"
          ],
          "name": "stdout"
        },
        {
          "output_type": "execute_result",
          "data": {
            "text/html": [
              "<div>\n",
              "<style scoped>\n",
              "    .dataframe tbody tr th:only-of-type {\n",
              "        vertical-align: middle;\n",
              "    }\n",
              "\n",
              "    .dataframe tbody tr th {\n",
              "        vertical-align: top;\n",
              "    }\n",
              "\n",
              "    .dataframe thead th {\n",
              "        text-align: right;\n",
              "    }\n",
              "</style>\n",
              "<table border=\"1\" class=\"dataframe\">\n",
              "  <thead>\n",
              "    <tr style=\"text-align: right;\">\n",
              "      <th></th>\n",
              "      <th>x</th>\n",
              "    </tr>\n",
              "  </thead>\n",
              "  <tbody>\n",
              "    <tr>\n",
              "      <th>0</th>\n",
              "      <td>1.0</td>\n",
              "    </tr>\n",
              "    <tr>\n",
              "      <th>1</th>\n",
              "      <td>2.0</td>\n",
              "    </tr>\n",
              "    <tr>\n",
              "      <th>3</th>\n",
              "      <td>4.0</td>\n",
              "    </tr>\n",
              "  </tbody>\n",
              "</table>\n",
              "</div>"
            ],
            "text/plain": [
              "     x\n",
              "0  1.0\n",
              "1  2.0\n",
              "3  4.0"
            ]
          },
          "metadata": {
            "tags": []
          },
          "execution_count": 20
        }
      ]
    }
  ]
}